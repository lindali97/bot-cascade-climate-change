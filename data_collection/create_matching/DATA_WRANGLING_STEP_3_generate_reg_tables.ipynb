{
 "cells": [
  {
   "cell_type": "code",
   "execution_count": null,
   "id": "869b45bf-5389-487c-88e7-ac2697f1419d",
   "metadata": {},
   "outputs": [],
   "source": [
    "import pandas as pd\n",
    "import numpy as np\n",
    "import matplotlib.pyplot as plt\n",
    "import seaborn as sns\n",
    "import nltk\n",
    "import re\n",
    "\n",
    "from tqdm import tqdm\n",
    "from collections import defaultdict, Counter\n",
    "from html import unescape\n",
    "#import fasttext\n",
    "\n",
    "#Note: please refer to Model set 2- fixed effect - daily/10 day aggregation for current tables."
   ]
  },
  {
   "cell_type": "markdown",
   "id": "ddaf76ec-58a4-447b-9639-7572ed7a7f59",
   "metadata": {
    "tags": []
   },
   "source": [
    "## Sentiment Classification"
   ]
  },
  {
   "cell_type": "code",
   "execution_count": null,
   "id": "2476d756-c6e4-4d4a-a822-05bde79dec30",
   "metadata": {},
   "outputs": [],
   "source": [
    "#Use Existing tool for pilot & building pipeline\n",
    "from vaderSentiment.vaderSentiment import SentimentIntensityAnalyzer"
   ]
  },
  {
   "cell_type": "code",
   "execution_count": null,
   "id": "9213cdf3-aab7-41dd-981d-fc745fc356f7",
   "metadata": {},
   "outputs": [],
   "source": [
    "sid_obj = SentimentIntensityAnalyzer()"
   ]
  },
  {
   "cell_type": "code",
   "execution_count": null,
   "id": "50e76ead-5191-48be-a818-0e43733898ec",
   "metadata": {},
   "outputs": [],
   "source": [
    "def get_sentiment(text):\n",
    "    try:\n",
    "        sentiment_dict = sid_obj.polarity_scores(text)\n",
    "        return sentiment_dict['compound']\n",
    "    except:\n",
    "        return None"
   ]
  },
  {
   "cell_type": "code",
   "execution_count": null,
   "id": "dd71d0fe-35b6-4237-8597-fb62f3936660",
   "metadata": {},
   "outputs": [],
   "source": [
    "#Getting matched users\n",
    "#matched_user = \"./xr_sample_aggregated.csv\"\n",
    "#matched_nobot = \"./xr_matching_aggregated.csv\"\n",
    "\n",
    "#matched_user = \"./0422_rf_edition/user_aggregated.csv\"\n",
    "#matched_nobot = \"./0422_rf_edition/matching_aggregated.csv\"\n",
    "\n",
    "#matched_user = \"./xgb_matching/user_aggregated_xgb.csv\"\n",
    "#matched_nobot = \"./xgb_matching/matching_aggregated_xgb.csv\""
   ]
  },
  {
   "cell_type": "code",
   "execution_count": null,
   "id": "5578d292-0fe4-4adf-aca4-fc6e690bc274",
   "metadata": {},
   "outputs": [],
   "source": [
    "matched_user = \"user_aggregated_0.5.csv\"\n",
    "matched_nobot = \"sample_botometer_0.5.csv\""
   ]
  },
  {
   "cell_type": "code",
   "execution_count": null,
   "id": "3a4bd319-47df-4072-801c-e33d756efcd4",
   "metadata": {},
   "outputs": [],
   "source": [
    "df = pd.read_csv(matched_user)\n",
    "df_matched = pd.read_csv(matched_nobot)"
   ]
  },
  {
   "cell_type": "code",
   "execution_count": null,
   "id": "b0dcc5dd-647e-4e1e-b675-9d36ab72e070",
   "metadata": {},
   "outputs": [],
   "source": [
    "# Get user-level aggregation \n",
    "df['time_gap_unified'] = pd.to_timedelta(df.time_gap)\n",
    "df = df[df.time_gap_unified != \"0 days\"]\n",
    "\n",
    "df['after'] = [1 if round(i.total_seconds()) > 0 else 0 for i in df.time_gap_unified]\n",
    "df['after_timegap'] = [round(i.total_seconds()/86400) for i in df.time_gap_unified] #get daily aggregation\n",
    "\n",
    "df_matched['time_gap_unified'] = pd.to_timedelta(df_matched.time_gap)\n",
    "df_matched = df_matched[df_matched.time_gap_unified != \"0 days\"]\n",
    "df_matched['after'] = [1 if round(i.total_seconds()) > 0 else 0 for i in df_matched.time_gap_unified]\n",
    "df_matched['after_timegap'] = [round(i.total_seconds()/86400) for i in df_matched.time_gap_unified]\n"
   ]
  },
  {
   "cell_type": "code",
   "execution_count": null,
   "id": "c4f9271d-4c94-41dc-b6a6-7692b5c3a9ab",
   "metadata": {},
   "outputs": [],
   "source": [
    "bot_probs = pd.read_csv(\"./0422_rf_edition/xr_users_classified_0704_four_methods_wprob.csv\") #user profile data\n",
    "bot_replies = pd.read_csv(\"./bot_interaction_tweet_updated_botometer_0.5.csv\") #users and their reply to bots\n",
    "#bot_original_text = pd.read_csv(\"./botometer/bot_original_tweet_updated_botometer.csv\") #the original tweets of bots...note this is quite a limited sample.\n",
    "matched_users = pd.read_csv(\"./botometer/xr2019_user_matched_fifths_botometer_available_0.5.csv\")"
   ]
  },
  {
   "cell_type": "code",
   "execution_count": null,
   "id": "feee5e1e-8791-4037-ab6b-714b0a555c8d",
   "metadata": {},
   "outputs": [],
   "source": [
    "bot_probs.columns"
   ]
  },
  {
   "cell_type": "markdown",
   "id": "f387fdc6-f493-4213-9925-551f1af1ff5f",
   "metadata": {
    "tags": []
   },
   "source": [
    "#### generate table on users/matched users bot prob."
   ]
  },
  {
   "cell_type": "code",
   "execution_count": null,
   "id": "7e477da2-ec37-4615-9f56-171ade6984f5",
   "metadata": {},
   "outputs": [],
   "source": [
    "bot_probs_to_merge = [\"id\", \"is_bot_rf20_prob\", \"is_bot_rf20\", \"is_bot_dl_rough\", \"is_bot_dl_prob\",\n",
    "                                          \"is_bot_xgb\", \"is_bot_xgb_prob\",\"is_bot_botometer_prob\",  'astroturf_display_english', 'fake_follower_display_english',\n",
    "       'financial_display_english', 'other_display_english',\n",
    "       'overall_display_english', 'self_declared_display_english',\n",
    "       'spammer_display_english']"
   ]
  },
  {
   "cell_type": "code",
   "execution_count": null,
   "id": "14e12b86-32c4-496e-a049-ebf1a7b13c30",
   "metadata": {},
   "outputs": [],
   "source": [
    "users_and_matched = matched_users[[\"uid\", \"matched_uid\"]]\n",
    "\n",
    "users_and_matched = users_and_matched.merge(bot_probs[bot_probs_to_merge], left_on = \"uid\", right_on = \"id\", how = 'inner',copy = False,\n",
    "                               suffixes = (\"\", \"_humans\"))\n",
    "users_and_matched = users_and_matched.merge(bot_probs[bot_probs_to_merge], left_on = \"matched_uid\", right_on = \"id\", how = 'inner',copy = False,\n",
    "                               suffixes = (\"\", \"_matched\"))"
   ]
  },
  {
   "cell_type": "code",
   "execution_count": null,
   "id": "f757e9f3-a22d-44f0-a673-2b2d251462e1",
   "metadata": {},
   "outputs": [],
   "source": [
    "users_and_matched.columns"
   ]
  },
  {
   "cell_type": "code",
   "execution_count": null,
   "id": "77ccb146-40ab-4f55-9725-2eab69ee17c3",
   "metadata": {},
   "outputs": [],
   "source": [
    "users_and_matched.drop(columns = ['id', \"id_matched\"], inplace = True)\n",
    "users_and_matched.columns =  ['uid', 'matched_uid', 'RF_bot_prob_user','RF_bot_pred_user',\n",
    "       'DL_bot_pred_user',\"DL_bot_prob_user\" , 'XGB_bot_pred_user', 'XGB_bot_prob_user',\n",
    "                              \"BOTOMETER_bot_prob_user\",\n",
    "        'RF_bot_prob_matched', 'RF_bot_pred_matched',\n",
    "       'DL_bot_pred_matched', 'DL_bot_prob_matched', 'XGB_bot_pred_matched', 'XGB_bot_prob_matched',\n",
    "                             \"BOTOMETER_bot_prob_matched\", 'astroturf_display_user', 'fake_follower_display_user',\n",
    "       'financial_display_user', 'other_display_user',\n",
    "       'overall_display_user', 'self_declared_display_user',\n",
    "       'spammer_display_user',\n",
    "                             'astroturf_display_matched', 'fake_follower_display_matched',\n",
    "       'financial_display_matched', 'other_display_matched',\n",
    "       'overall_display_matched', 'self_declared_display_matched',\n",
    "       'spammer_display_matched']"
   ]
  },
  {
   "cell_type": "code",
   "execution_count": null,
   "id": "38a5957b-1dcf-4a58-9d11-aa1048d5b04c",
   "metadata": {},
   "outputs": [],
   "source": [
    "#users_and_matched.to_csv(\"./ctrls/RF_based_user_and_matched_bot_prob.csv\", index = False)\n",
    "#users_and_matched.to_csv(\"./ctrls/DL_based_user_and_matched_bot_prob.csv\", index = False)\n",
    "#users_and_matched.to_csv(\"./ctrls/XGB_based_user_and_matched_bot_prob.csv\", index = False)"
   ]
  },
  {
   "cell_type": "code",
   "execution_count": null,
   "id": "cfec8e81-3293-4c7f-bc7f-a8d3d391c25b",
   "metadata": {},
   "outputs": [],
   "source": [
    "users_and_matched.to_csv(\"./botometer_ctrl_table/BOTOMETER_based_user_and_matched_bot_prob_0.5.csv\", index = False)"
   ]
  },
  {
   "cell_type": "markdown",
   "id": "6c2f9fb7-0dcf-4f78-82ed-bd0c64e49883",
   "metadata": {
    "tags": []
   },
   "source": [
    "#### Generate other ctrls"
   ]
  },
  {
   "cell_type": "code",
   "execution_count": null,
   "id": "bda1cb8a-8dc7-4d84-8da4-3cf429cc5bce",
   "metadata": {},
   "outputs": [],
   "source": [
    "bot_replies.shape[0]"
   ]
  },
  {
   "cell_type": "code",
   "execution_count": null,
   "id": "4e4650d8-504f-4e6a-bedf-fff8b838ead2",
   "metadata": {},
   "outputs": [],
   "source": [
    "bot_replies.columns"
   ]
  },
  {
   "cell_type": "code",
   "execution_count": null,
   "id": "20d73d92-fd96-4fcc-94c8-34e7bfa4fb9f",
   "metadata": {},
   "outputs": [],
   "source": [
    "bot_replies['created_at_dt'] = pd.to_datetime(bot_replies.created_at, infer_datetime_format=True)"
   ]
  },
  {
   "cell_type": "code",
   "execution_count": null,
   "id": "ea0698fd-5f85-4087-9032-134c05c5dc0a",
   "metadata": {},
   "outputs": [],
   "source": [
    "bot_replies = bot_replies.merge(bot_probs[bot_probs_to_merge], left_on = \"in_reply_to_user_id\", right_on = \"id\", how = 'inner',copy = False,\n",
    "                               suffixes = (\"\", \"_y\"))\n",
    "\n",
    "bot_replies = bot_replies.merge(bot_probs[bot_probs_to_merge], left_on = \"author_id\", right_on = \"id\", how = 'inner',copy = False,\n",
    "                               suffixes = (\"\", \"_original_human\"))"
   ]
  },
  {
   "cell_type": "code",
   "execution_count": null,
   "id": "340e10c4-e95d-488c-9040-09d329df5efd",
   "metadata": {},
   "outputs": [],
   "source": [
    "import math\n",
    "all_text = list(bot_replies.text)\n",
    "sentiment_score = [get_sentiment(i) for i in all_text]\n",
    "bot_replies['interaction_senti'] = sentiment_score\n",
    "bot_replies['interaction_senti_category'] = [1 if i > 0.05 else -1 if i < -0.05 else 0 for i in sentiment_score]\n",
    "\n",
    "bot_all_text = list(bot_replies.original_text)\n",
    "bot_sentiment_score = [get_sentiment(i) for i in bot_all_text]\n",
    "bot_replies['bot_senti'] = bot_sentiment_score\n",
    "bot_replies['bot_senti_category'] = [None if i==None else 1 if i > 0.05 else -1 if i < -0.05 else 0 for i in bot_sentiment_score]\n"
   ]
  },
  {
   "cell_type": "code",
   "execution_count": null,
   "id": "982aadb2-3298-41ae-acf9-069d4ec53c1b",
   "metadata": {},
   "outputs": [],
   "source": [
    "# Get whether if it is a cascade\n",
    "topic_cascade = pd.read_csv(\"topic_time_burstiness.csv\")\n",
    "topic_cascade['created_at_hr'] = [pd.to_datetime(i) for i in topic_cascade.created_at_dt]"
   ]
  },
  {
   "cell_type": "code",
   "execution_count": null,
   "id": "f65777ae-8709-4b42-bfac-e1c7455c7f55",
   "metadata": {},
   "outputs": [],
   "source": [
    "bot_replies['created_at_hr'] = [pd.to_datetime(i).floor('H').to_pydatetime() for i in bot_replies.created_at_dt]"
   ]
  },
  {
   "cell_type": "code",
   "execution_count": null,
   "id": "86f24b31-f491-4a16-b2c6-c32c1475c4b1",
   "metadata": {},
   "outputs": [],
   "source": [
    "bot_replies = bot_replies.merge(topic_cascade[[\"created_at_hr\", \"topic\", \"burstiness\", \"cascade\", \"pos_num\"]], \n",
    "                  on = ['created_at_hr', \"topic\"], how = 'left')"
   ]
  },
  {
   "cell_type": "code",
   "execution_count": null,
   "id": "94652aee-da25-4d15-b0db-a4139bf53527",
   "metadata": {},
   "outputs": [],
   "source": [
    "# Get control vars: number of interactions, sentiment of the interaction\n",
    "#ctrls = ['text', 'senti', \"senti_category\",'retweet_count','reply_count', \n",
    "#         'like_count', 'quote_count', 'topic', \"burstiness\", \"cascade\", \"pos_num\", \"is_bot_rf20_y\", \"is_bot_rf20_prob\"]#,\"is_bot_dl_prob\"]\n",
    "user_ctrl = bot_replies.groupby(by = 'author_id').agg({\"text\":\"count\", \n",
    "                                                           \"bot_senti\":\"mean\", \n",
    "                                                       \"interaction_senti\":\"mean\",\n",
    "                                                            'retweet_count_original':\"sum\", \n",
    "                                                       'like_count_original':\"sum\",\n",
    "                                                      'retweet_count_interaction':\"sum\", \n",
    "                                                       'like_count_interaction':\"sum\",\n",
    "                                                               'topic': 'first',\n",
    "                                                               \"burstiness\":\"first\",\n",
    "                                                               \"cascade\":\"first\", \"pos_num\":\"first\",\n",
    "                                                              \"is_bot_rf20\":\"first\",\n",
    "                                                               \"is_bot_rf20_prob\":\"mean\",\n",
    "                                                              \"is_bot_dl_rough\":\"first\",\n",
    "                                                               \"is_bot_dl_prob\":\"mean\",\n",
    "                                                              \"is_bot_xgb\":\"first\",\n",
    "                                                               \"is_bot_xgb_prob\":\"mean\",\n",
    "                                                              \"is_bot_botometer_prob\":\"mean\",\n",
    "                                                       'astroturf_display_english':\"first\", \n",
    "                                                       'fake_follower_display_english':\"first\",\n",
    "                                                        'financial_display_english':\"first\", 'other_display_english':\"first\",\n",
    "                                                       'overall_display_english':\"first\", 'self_declared_display_english':\"first\",\n",
    "                                                           'spammer_display_english':\"first\",\n",
    "                                                              'is_bot_rf20_prob_original_human':\"first\",\n",
    "                                                              'is_bot_rf20_original_human':\"first\", \n",
    "                                                              'is_bot_dl_rough_original_human':\"first\",\n",
    "                                                              'is_bot_dl_prob_original_human':\"first\", \n",
    "                                                              'is_bot_xgb_original_human':\"first\",\n",
    "                                                              'is_bot_xgb_prob_original_human':\"first\",\n",
    "                                                        'is_bot_botometer_prob_original_human':\"first\",\n",
    "                                                        'astroturf_display_english_original_human':\"first\",\n",
    "                                                       'fake_follower_display_english_original_human':\"first\",\n",
    "                                                       'financial_display_english_original_human':\"first\",\n",
    "                                                       'other_display_english_original_human':\"first\",\n",
    "                                                       'overall_display_english_original_human':\"first\",\n",
    "                                                       'self_declared_display_english_original_human':\"first\",\n",
    "                                                       'spammer_display_english_original_human':\"first\"\n",
    "                                                             }).reset_index()\n"
   ]
  },
  {
   "cell_type": "code",
   "execution_count": null,
   "id": "1f012250-d2f6-458b-ba50-016633888273",
   "metadata": {},
   "outputs": [],
   "source": [
    "user_ctrl.columns = ['author_id', 'interaction_times','bot_senti', 'interaction_senti', \n",
    "                     'retweet_count_original', 'like_count_original',  'retweet_count_interaction', 'like_count_interaction',\n",
    "                      'topic', 'burstiness',\n",
    "       'cascade', 'pos_num', 'RF_bot_pred_bot', 'RF_bot_prob_bot',\n",
    "       'DL_bot_pred_bot', 'DL_bot_prob_bot', 'XGB_bot_pred_bot', 'XGB_bot_prob_bot',\n",
    "                     \"BOTOMETER_bot_prob_bot\", \"astroturf_score_bot\", \"fake_follower_score_bot\", \"financial_score_bot\", \"other_score_bot\",\n",
    "                     \"overall_score_bot\", \"self_declared_score_bot\", \"spammer_score_bot\",\n",
    "        'RF_bot_prob_user', 'RF_bot_pred_bot_user',\n",
    "       'DL_bot_pred_user', 'DL_bot_prob_user', 'XGB_bot_pred_user', 'XGB_bot_prob_user', \"BOTOMETER_bot_prob_user\",  \n",
    "                     \"astroturf_score_human\", \"fake_follower_score_human\", \"financial_score_human\", \"other_score_human\",\n",
    "                     \"overall_score_human\", \"self_declared_score_human\", \"spammer_score_human\",]"
   ]
  },
  {
   "cell_type": "code",
   "execution_count": null,
   "id": "43cad52e-483f-484b-88bb-3038f7b4ee14",
   "metadata": {},
   "outputs": [],
   "source": [
    "user_ctrl['retweet_log_original'] = [np.log(x+1) for x in user_ctrl.retweet_count_original]\n",
    "user_ctrl['like_log_original'] = [np.log(x+1) for x in user_ctrl.like_count_original]\n",
    "user_ctrl['without_like_original'] = [0 if i != 0 else 1 for i in user_ctrl.like_count_original]\n",
    "\n",
    "user_ctrl['retweet_log_interaction'] = [np.log(x+1) for x in user_ctrl.retweet_count_interaction]\n",
    "user_ctrl['like_log_interaction'] = [np.log(x+1) for x in user_ctrl.like_count_interaction]\n",
    "user_ctrl['without_like_interaction'] = [0 if i != 0 else 1 for i in user_ctrl.like_count_interaction]"
   ]
  },
  {
   "cell_type": "code",
   "execution_count": null,
   "id": "5bd20f81-5b3a-44fa-9273-90cedb5aff14",
   "metadata": {},
   "outputs": [],
   "source": [
    "user_ctrl['few_like_original'] = [1 if i <=6 else 0 for i in user_ctrl.like_count_original]\n",
    "user_ctrl['few_like_interaction'] = [1 if i <=6 else 0 for i in user_ctrl.like_count_interaction]\n",
    "user_ctrl['frequent_interact'] = [1 if i>=5 else 0 for i in user_ctrl.interaction_times]"
   ]
  },
  {
   "cell_type": "code",
   "execution_count": null,
   "id": "317115f2-8cb4-469a-ac7d-7b212ac4cbcb",
   "metadata": {},
   "outputs": [],
   "source": [
    "#user_ctrl.to_csv(\"./ctrls/RF_based_user_and_bot_prob_and_ctrls.csv\", index = False)\n",
    "#user_ctrl.to_csv(\"./ctrls/DL_based_user_and_bot_prob_and_ctrls.csv\", index = False)\n",
    "#user_ctrl.to_csv(\"./ctrls/XGB_based_user_and_bot_prob_and_ctrls.csv\", index = False)"
   ]
  },
  {
   "cell_type": "code",
   "execution_count": null,
   "id": "c64510e1-5609-422f-813c-1d5528fa4039",
   "metadata": {},
   "outputs": [],
   "source": [
    "user_ctrl.to_csv(\"./botometer_ctrl_table/BOTOMETER_based_user_and_bot_prob_and_ctrls_0.5.csv\", index = False)"
   ]
  },
  {
   "cell_type": "markdown",
   "id": "ad24fd27-2047-4d69-9dc9-5e96b719123b",
   "metadata": {},
   "source": [
    "## Generate reg tables"
   ]
  },
  {
   "cell_type": "code",
   "execution_count": null,
   "id": "4552cb29-09ae-4d3a-a922-134b75262a60",
   "metadata": {},
   "outputs": [],
   "source": [
    "df_did2_retweet = df[df.referenced_tweets_0_type == \"retweeted\"]\n",
    "df_did2_retweet = df_did2_retweet.groupby(['author_id', 'after_timegap']).agg({\"senti\":'size'\n",
    "                                                         }).reset_index()\n",
    "df_did2_retweet.columns = ['author_id_', \"after_timegap_\", \"retweet_size\"] # generate activity on RTs\n",
    "\n",
    "df_did2_reply = df[df.referenced_tweets_0_type == \"replied_to\"]\n",
    "df_did2_reply = df_did2_reply.groupby(['author_id', 'after_timegap']).agg({\"senti\":'size'\n",
    "                                                         }).reset_index()\n",
    "df_did2_reply.columns = ['author_id_', \"after_timegap_\", \"reply_size\"] # generate activity on replies"
   ]
  },
  {
   "cell_type": "code",
   "execution_count": null,
   "id": "e93c3720-9714-42d8-9077-ca2bd5a37bec",
   "metadata": {},
   "outputs": [],
   "source": [
    "import math \n",
    "df_did2 = df.groupby(['author_id', 'after_timegap']).agg({\"senti\":['mean','size'], 'senti_category':'mean',\n",
    "                                                         }).reset_index()\n",
    "df_did2.columns = [\"_\".join(a) for a in df_did2.columns.to_flat_index()]\n",
    "df_did2 = df_did2.merge(df_did2_retweet, on = [\"author_id_\", \"after_timegap_\"],how = \"left\", copy = False)\n",
    "df_did2 = df_did2.merge(df_did2_reply, on = [\"author_id_\", \"after_timegap_\"],how = \"left\", copy = False)\n",
    "\n",
    "df_did2['bot_interaction'] = 1\n",
    "shifted = df_did2[['author_id_','senti_mean']].groupby(\"author_id_\").shift(2)\n",
    "df_did2['senti_mean_t2'] = shifted.senti_mean\n",
    "df_did2[['reply_size', 'retweet_size']] = df_did2[['reply_size', 'retweet_size']].fillna(0)\n",
    "\n",
    "\n",
    "matched_did2 = df_matched.groupby(['author_id', 'after_timegap']).agg({\"senti\":['mean','size'], 'senti_category':'mean'}).reset_index()\n",
    "matched_did2.columns = [\"_\".join(a) for a in matched_did2.columns.to_flat_index()]\n",
    "matched_did2['bot_interaction'] = 0\n",
    "shifted_match = matched_did2[['author_id_','senti_mean']].groupby(\"author_id_\").shift(2)\n",
    "matched_did2['senti_mean_t2'] = shifted_match.senti_mean\n",
    "\n",
    "matched_did2 = matched_did2.merge(matched_users[[\"user\", \"matched_user\"]], how = 'left', left_on = \"author_id_\", right_on = \"matched_user\", copy = False)\n",
    "#matched_did2 = matched_did2.merge(user_ctrl, how = 'inner', left_on = \"user\", right_on = \"author_id\", copy = False)\n",
    "matched_did2['sample_uid'] = matched_did2.user\n",
    "#matched_did2.drop(columns = ['user','matched_user', 'author_id'], inplace = True)\n",
    "\n",
    "\n",
    "df_did2 = df_did2.merge(matched_users[[\"user\", \"matched_user\"]], how = 'left', left_on = \"author_id_\", right_on = \"user\", copy = False)\n",
    "#df_did2 = df_did2.merge(user_ctrl, how = 'inner', left_on = \"author_id_\", right_on = \"author_id\", copy = False)\n",
    "df_did2['sample_uid'] = None\n",
    "#df_did2.drop(columns = ['user','matched_user','author_id'], inplace = True)\n",
    "\n",
    "df_did2 = pd.concat([df_did2,matched_did2])\n",
    "\n",
    "df_did2['log_daily_tweet'] = [np.log(i) for i in df_did2.senti_size]\n",
    "df_did2['senti_abs'] = [abs(i) for i in df_did2.senti_mean]\n",
    "df_did2['senti_abs_t2'] = [abs(i) for i in df_did2.senti_mean_t2]\n",
    "\n",
    "df_did2['tg1'] = df_did2.after_timegap_ * df_did2.bot_interaction\n",
    "df_did2['senti_abs_sqrt'] = [math.sqrt(abs(i)) for i in df_did2.senti_abs]\n",
    "df_did2['senti_abs_sqrt_t2'] = [abs(i) for i in df_did2.senti_abs_t2]\n"
   ]
  },
  {
   "cell_type": "code",
   "execution_count": null,
   "id": "f819a261-dc97-4a34-807d-e606e166219d",
   "metadata": {},
   "outputs": [],
   "source": [
    "df_did2['after_10days'] = [1 if (i > 0 and i <= 10) else 0 for i in df_did2.after_timegap_]\n",
    "df_did2['after_20days'] = [1 if (i > 10 and i <= 20) else 0 for i in df_did2.after_timegap_]\n",
    "df_did2['after_30days'] = [1 if i > 20 else 0 for i in df_did2.after_timegap_]\n"
   ]
  },
  {
   "cell_type": "code",
   "execution_count": null,
   "id": "02abceeb-aecf-409d-a4b1-cd1a5b0bb63e",
   "metadata": {},
   "outputs": [],
   "source": [
    "# 10-day gap based interaction terms\n",
    "df_did2['tg1_10days'] = df_did2.after_10days * df_did2.bot_interaction\n",
    "df_did2['tg1_20days'] = df_did2.after_20days * df_did2.bot_interaction\n",
    "df_did2['tg1_30days'] = df_did2.after_30days * df_did2.bot_interaction"
   ]
  },
  {
   "cell_type": "code",
   "execution_count": null,
   "id": "5a256a60-fdf3-44dc-98c0-75845d94ecfd",
   "metadata": {},
   "outputs": [],
   "source": [
    "#df_did2.to_csv(\"./ctrls/RF_table_for_reg_no_ctrls.csv\", index = False)\n",
    "#df_did2.to_csv(\"./ctrls/DL_table_for_reg_no_ctrls.csv\", index = False)\n",
    "df_did2.to_csv(\"./ctrls/XGB_table_for_reg_no_ctrls.csv\", index = False)"
   ]
  },
  {
   "cell_type": "code",
   "execution_count": null,
   "id": "1a970f1e-81d5-4122-9311-ab0a661886e9",
   "metadata": {},
   "outputs": [],
   "source": [
    "df_did2.to_csv(\"./botometer_ctrl_table/BOTOMETER_table_for_reg_no_ctrls_0.5.csv\", index = False)"
   ]
  },
  {
   "cell_type": "code",
   "execution_count": null,
   "id": "65471193-4c11-42b2-898e-98c154719d74",
   "metadata": {},
   "outputs": [],
   "source": [
    "df_did2.to_csv(\"./botometer_ctrl_table/BOTOMETER_table_for_reg_with_ctrls_0.5.csv\", index = False)"
   ]
  },
  {
   "cell_type": "code",
   "execution_count": null,
   "id": "32318f8c-c3e3-4e60-b27a-c64f83334919",
   "metadata": {},
   "outputs": [],
   "source": []
  }
 ],
 "metadata": {
  "kernelspec": {
   "display_name": "Python 3",
   "language": "python",
   "name": "python3"
  },
  "language_info": {
   "codemirror_mode": {
    "name": "ipython",
    "version": 3
   },
   "file_extension": ".py",
   "mimetype": "text/x-python",
   "name": "python",
   "nbconvert_exporter": "python",
   "pygments_lexer": "ipython3",
   "version": "3.9.13"
  }
 },
 "nbformat": 4,
 "nbformat_minor": 5
}
