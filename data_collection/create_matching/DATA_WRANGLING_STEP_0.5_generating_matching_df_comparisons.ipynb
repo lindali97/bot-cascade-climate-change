{
 "cells": [
  {
   "cell_type": "code",
   "execution_count": 1,
   "id": "419d9abf-41c1-44a1-9ce8-662aeb6a3251",
   "metadata": {},
   "outputs": [],
   "source": [
    "import pandas as pd\n",
    "import numpy as np\n",
    "from datetime import datetime, timedelta\n",
    "import time\n",
    "from scipy.spatial import distance"
   ]
  },
  {
   "cell_type": "code",
   "execution_count": 2,
   "id": "3090e5db-323a-4ab5-b398-df142a2c71f7",
   "metadata": {},
   "outputs": [],
   "source": [
    "import matplotlib.pyplot as plt"
   ]
  },
  {
   "cell_type": "code",
   "execution_count": 3,
   "id": "299448a5-e2d9-4f1f-9c01-8d79a7700d89",
   "metadata": {},
   "outputs": [],
   "source": [
    "user_path = \"./0422_rf_edition/xr_users_classified_0422_wprob.csv\"\n",
    "user_prob_path = \"./0422_rf_edition/xr_users_classified_0704_four_methods_wprob.csv\"\n",
    "tweet_path = \"tweet_table_xr_2019_0621_fixed.csv\"\n",
    "tweet_topic_modelled = \"./NLP/text_classified.csv\""
   ]
  },
  {
   "cell_type": "code",
   "execution_count": null,
   "id": "6d2a6e8f-72d8-4ce6-b132-1cd10c183802",
   "metadata": {},
   "outputs": [],
   "source": []
  },
  {
   "cell_type": "code",
   "execution_count": null,
   "id": "c54930dc-85f4-4b98-8e6b-e174c346a2de",
   "metadata": {},
   "outputs": [],
   "source": [
    "bot_classification_col = \"is_bot_botometer\"\n",
    "suffix = \"_botometer_0.5\""
   ]
  },
  {
   "cell_type": "markdown",
   "id": "c92b9609-bc94-47bf-998f-e9ac09439217",
   "metadata": {
    "tags": []
   },
   "source": [
    "## Generate users w/ bot interaction"
   ]
  },
  {
   "cell_type": "markdown",
   "id": "7235a3ab-1be4-4609-b782-bfd282db52ac",
   "metadata": {},
   "source": [
    "### Filtering communications"
   ]
  },
  {
   "cell_type": "code",
   "execution_count": 5,
   "id": "61e958e9-c2d4-4c2f-ac76-9ef8e83d6297",
   "metadata": {},
   "outputs": [
    {
     "name": "stderr",
     "output_type": "stream",
     "text": [
      "/tmp/ipykernel_203268/1195143438.py:4: DtypeWarning: Columns (46) have mixed types. Specify dtype option on import or set low_memory=False.\n",
      "  df = pd.read_csv(tweet_path)\n"
     ]
    }
   ],
   "source": [
    "#Preprocessing\n",
    "users = pd.read_csv(user_path, lineterminator='\\n')\n",
    "users_prob = pd.read_csv(user_prob_path, lineterminator='\\n')\n",
    "df = pd.read_csv(tweet_path)\n",
    "tweet_classified = pd.read_csv(tweet_topic_modelled, lineterminator='\\n')"
   ]
  },
  {
   "cell_type": "code",
   "execution_count": 6,
   "id": "e4d09a29-3c34-4ec7-a598-d1e8533ddaf9",
   "metadata": {},
   "outputs": [],
   "source": [
    "users = users.merge(users_prob[[\"id\",\"is_bot_xgb\",\"is_bot_xgb_prob\",\"is_bot_botometer_prob\"]], on = \"id\", how = \"left\")"
   ]
  },
  {
   "cell_type": "code",
   "execution_count": 7,
   "id": "9b10cd90-0eb3-4447-a7cb-d9de37a9fe6e",
   "metadata": {},
   "outputs": [],
   "source": [
    "#Filtering out tweet not related to XR like iphone sellers\n",
    "df = df[~df[\"text\"].str.contains(\"(?i)iphone\")]\n",
    "df = df[~df[\"text\"].str.contains(\"(?i)phone\")]\n",
    "df = df[~df[\"text\"].str.contains(\"(?i)max\")]\n",
    "df = df[~df[\"text\"].str.contains(\"(?i)11\")]\n",
    "df = df[~df[\"text\"].str.contains(\"(?i)vr\")]\n",
    "df = df[~df[\"text\"].str.contains(\"(?i)xpel\")]\n",
    "df = df[~df[\"text\"].str.contains(\"(?i)tint\")]\n",
    "#text = df[\"text\"]"
   ]
  },
  {
   "cell_type": "code",
   "execution_count": 8,
   "id": "030e531f-6ad6-4e40-afd0-d1d10b2006e9",
   "metadata": {},
   "outputs": [],
   "source": [
    "df_original = df.copy() # keep a copy for further analysis"
   ]
  },
  {
   "cell_type": "code",
   "execution_count": 9,
   "id": "91dcee9b-2d6e-43bf-a982-6158480fe729",
   "metadata": {},
   "outputs": [
    {
     "name": "stderr",
     "output_type": "stream",
     "text": [
      "/tmp/ipykernel_203268/1608327253.py:1: UserWarning: The argument 'infer_datetime_format' is deprecated and will be removed in a future version. A strict version of it is now the default, see https://pandas.pydata.org/pdeps/0004-consistent-to-datetime-parsing.html. You can safely remove this argument.\n",
      "  df['created_at_dt'] = pd.to_datetime(df.created_at, infer_datetime_format=True)\n",
      "/tmp/ipykernel_203268/1608327253.py:2: UserWarning: The argument 'infer_datetime_format' is deprecated and will be removed in a future version. A strict version of it is now the default, see https://pandas.pydata.org/pdeps/0004-consistent-to-datetime-parsing.html. You can safely remove this argument.\n",
      "  users['created_at_dt'] = pd.to_datetime(users.created_at, infer_datetime_format=True)\n",
      "/tmp/ipykernel_203268/1608327253.py:2: UserWarning: Could not infer format, so each element will be parsed individually, falling back to `dateutil`. To ensure parsing is consistent and as-expected, please specify a format.\n",
      "  users['created_at_dt'] = pd.to_datetime(users.created_at, infer_datetime_format=True)\n"
     ]
    }
   ],
   "source": [
    "df['created_at_dt'] = pd.to_datetime(df.created_at, infer_datetime_format=True)\n",
    "users['created_at_dt'] = pd.to_datetime(users.created_at, infer_datetime_format=True)"
   ]
  },
  {
   "cell_type": "code",
   "execution_count": 10,
   "id": "4871e80a-d291-48be-a4e0-1bf3213874e6",
   "metadata": {},
   "outputs": [],
   "source": [
    "prob_col = \"is_bot_botometer_prob\""
   ]
  },
  {
   "cell_type": "code",
   "execution_count": 11,
   "id": "1790d137-0af3-4655-a447-3a4709fb3ba6",
   "metadata": {},
   "outputs": [],
   "source": [
    "df = df.merge(users[[prob_col,'id']], how = 'left', left_on = 'author_id', right_on = 'id', copy = False)"
   ]
  },
  {
   "cell_type": "code",
   "execution_count": 12,
   "id": "29209532-4674-4cb9-99dc-fde8ac9dd444",
   "metadata": {},
   "outputs": [],
   "source": [
    "df.dropna(subset = [prob_col], inplace = True)"
   ]
  },
  {
   "cell_type": "code",
   "execution_count": 13,
   "id": "2106ca12-8330-4629-99b0-0d4bde7b0311",
   "metadata": {},
   "outputs": [],
   "source": [
    "def filtering_interactions(prob_col, threshold, df):\n",
    "    df = df[df.referenced_tweets_0_type != \"retweeted\"]\n",
    "    bot_classification_col = \"_\".join(prob_col.split(\"_\")[:-1])\n",
    "    \n",
    "    df = df.merge(tweet_classified, how = 'left', left_on = \"text\", right_on = \"text\", copy = False)\n",
    "\n",
    "    df_comm = df.merge(users[[prob_col, 'id']], how = 'left', left_on = 'in_reply_to_user_id', right_on = 'id', suffixes=('', '_reply'))\n",
    "    #print(df_comm.columns)\n",
    "    df_comm[bot_classification_col] = [1 if i>threshold else 0 for i in df_comm[prob_col]]\n",
    "    df_comm[bot_classification_col+\"_reply\"] = [1 if i>threshold else 0 for i in df_comm[prob_col+\"_reply\"]]\n",
    "    reply_df = df_comm[(df_comm[bot_classification_col+\"_reply\"] == 1) & (df_comm[bot_classification_col] == 0)]\n",
    "    return reply_df, df_comm\n",
    "\n",
    "def generate_matching(reply_df, original_df, threshold, prob_col = \"is_bot_botometer_prob\"):\n",
    "    reply_df_short = reply_df[[\"author_id\", \"conversation_id\", \"created_at\"]]\n",
    "    \n",
    "    bot_classification_col = \"_\".join(prob_col.split(\"_\")[:-1])\n",
    "    original_df[bot_classification_col] = [1 if i>threshold else 0 for i in original_df[prob_col]]\n",
    "    \n",
    "    original_df = original_df[(original_df[bot_classification_col] == 0) & (original_df.referenced_tweets_0_type != \"replied_to\")]\n",
    "    #reply_df_short['created_at_dt'] = pd.to_datetime(reply_df_short.created_at, infer_datetime_format=True)\n",
    "    original_df['created_at_rough'] = [i[:-9] for i in original_df.created_at]\n",
    "    reply_df_short['created_at_rough'] = [i[:-9] for i in reply_df_short.created_at]\n",
    "    matched_records = original_df.merge(reply_df_short, how = 'right', on = \"created_at_rough\", copy = False)\n",
    "    matched_records = matched_records[matched_records.author_id_x != matched_records.author_id_y]\n",
    "    matched_uids = matched_records[[\"author_id_x\", \"author_id_y\", \"created_at_x\",\"created_at_y\"]]\n",
    "    matched_uids.columns = ['matched_user', \"user\", \"interaction_matched\", \"interaction\"]\n",
    "    return matched_uids"
   ]
  },
  {
   "cell_type": "code",
   "execution_count": 15,
   "id": "00d33e2e-4cd0-4f35-96c7-a483d07a8d05",
   "metadata": {},
   "outputs": [],
   "source": [
    "thresholds = [i/100 for i in range(0,90,5)]"
   ]
  },
  {
   "cell_type": "code",
   "execution_count": null,
   "id": "9e09136d-06db-45b3-af71-8312af488719",
   "metadata": {},
   "outputs": [],
   "source": [
    "bot_pct = []\n",
    "num_users = []\n",
    "total_user_records = []\n",
    "num_for_matching = []\n",
    "total_for_matching_records = []\n",
    "for threshold in thresholds:\n",
    "    bot_pct.append(sum([1 if i>threshold else 0 for i in users[\"is_bot_botometer_prob\"]])/users.shape[0])\n",
    "    reply_df = filtering_interactions(\"is_bot_botometer_prob\", threshold, df)[0]\n",
    "    matched_df = generate_matching(reply_df, df, threshold)\n",
    "    num_users.append(len(set(reply_df.author_id)))\n",
    "    total_user_records.append(reply_df.shape[0])\n",
    "    num_for_matching.append(len(set(matched_df.matched_user)))\n",
    "    total_for_matching_records.append(matched_df.shape[0])"
   ]
  },
  {
   "cell_type": "code",
   "execution_count": 19,
   "id": "d07b297a-2357-4830-b9ba-3607d47f93a6",
   "metadata": {},
   "outputs": [
    {
     "data": {
      "text/plain": [
       "[0.891566265060241,\n",
       " 0.891566265060241,\n",
       " 0.891566265060241,\n",
       " 0.891566265060241,\n",
       " 0.891566265060241,\n",
       " 0.8587614897279086,\n",
       " 0.7904786318526386,\n",
       " 0.7300179441168931,\n",
       " 0.5734939759036145,\n",
       " 0.5278060570549676,\n",
       " 0.5075841359358406,\n",
       " 0.4701138902113011,\n",
       " 0.4365693778152122,\n",
       " 0.39055187314607975,\n",
       " 0.3490606804116161,\n",
       " 0.28936170212765955,\n",
       " 0.09645878346211594,\n",
       " 0.03368367085362727]"
      ]
     },
     "execution_count": 19,
     "metadata": {},
     "output_type": "execute_result"
    }
   ],
   "source": [
    "bot_pct"
   ]
  },
  {
   "cell_type": "code",
   "execution_count": 23,
   "id": "2527e33c-df13-4457-939b-80a213063262",
   "metadata": {},
   "outputs": [
    {
     "data": {
      "image/png": "[encoded data removed]",
      "text/plain": [
       "<Figure size 640x480 with 1 Axes>"
      ]
     },
     "metadata": {},
     "output_type": "display_data"
    }
   ],
   "source": [
    "human_pct = [1-i for i in bot_pct]\n",
    "color_map = [\"#fc2720\", \"#1170aa\"]\n",
    "plt.stackplot(thresholds,bot_pct,human_pct, colors = color_map)\n",
    "plt.ylabel('% of bots identified',fontsize = 14)\n",
    "plt.xlabel('Thresholds',fontsize = 14)\n",
    "plt.xlim(0,0.85)\n",
    "plt.ylim(0,1)\n",
    "plt.text(0.1, 0.2, 'Bots', fontsize=16, color='white')\n",
    "plt.text(0.7, 0.9, 'Humans', fontsize=16, color='white')\n",
    "plt.tight_layout()\n",
    "plt.savefig(\"./botometer_based_svg/bot_pct_by_threshold_all.png\")"
   ]
  },
  {
   "cell_type": "code",
   "execution_count": 21,
   "id": "3993cc47-b6d8-41da-aacb-20a0b0f5ae9f",
   "metadata": {},
   "outputs": [
    {
     "data": {
      "image/png": "[encoded data removed]",
      "text/plain": [
       "<Figure size 900x700 with 4 Axes>"
      ]
     },
     "metadata": {},
     "output_type": "display_data"
    }
   ],
   "source": [
    "import seaborn as sns\n",
    "sns.set_style(\"white\")\n",
    "fig, axs = plt.subplots(2, 2, figsize = (9,7), sharex = True)\n",
    "\n",
    "# Plot the subfigures\n",
    "axs[0, 0].plot(thresholds,num_users, color = \"#fc7d0b\")\n",
    "axs[0, 0].set_ylabel('Number of users',fontsize = 14)\n",
    "axs[0, 1].plot(thresholds,num_for_matching, color = \"#57606c\")\n",
    "axs[0, 1].set_ylabel('Number of potential matching users',fontsize = 14)\n",
    "axs[1, 0].plot(thresholds,total_user_records, color = \"#fc7d0b\")\n",
    "axs[1, 0].set_ylabel('Sample records',fontsize = 14)\n",
    "\n",
    "axs[1, 1].plot(thresholds,total_for_matching_records, color = \"#57606c\")\n",
    "axs[1, 1].set_ylabel('Potential matching user records',fontsize = 14)\n",
    "fig.text(0.5, 0.001, 'Probability threshold', ha='center',fontsize = 18)\n",
    "\n",
    "# Adjust spacing between subplots\n",
    "plt.tight_layout()\n",
    "\n",
    "# Show the plot\n",
    "#plt.show()\n",
    "plt.savefig(\"./botometer_based_svg/num_users_by_threshold_0,5.png\")"
   ]
  },
  {
   "cell_type": "code",
   "execution_count": 22,
   "id": "b699cede-9b73-4e8a-afff-4794733e5e32",
   "metadata": {},
   "outputs": [
    {
     "name": "stderr",
     "output_type": "stream",
     "text": [
      "/tmp/ipykernel_5776/1472611243.py:22: SettingWithCopyWarning: \n",
      "A value is trying to be set on a copy of a slice from a DataFrame.\n",
      "Try using .loc[row_indexer,col_indexer] = value instead\n",
      "\n",
      "See the caveats in the documentation: https://pandas.pydata.org/pandas-docs/stable/user_guide/indexing.html#returning-a-view-versus-a-copy\n",
      "  original_df['created_at_rough'] = [i[:-9] for i in original_df.created_at]\n",
      "/tmp/ipykernel_5776/1472611243.py:23: SettingWithCopyWarning: \n",
      "A value is trying to be set on a copy of a slice from a DataFrame.\n",
      "Try using .loc[row_indexer,col_indexer] = value instead\n",
      "\n",
      "See the caveats in the documentation: https://pandas.pydata.org/pandas-docs/stable/user_guide/indexing.html#returning-a-view-versus-a-copy\n",
      "  reply_df_short['created_at_rough'] = [i[:-9] for i in reply_df_short.created_at]\n"
     ]
    }
   ],
   "source": [
    "reply_df,df_comm = filtering_interactions(\"is_bot_botometer_prob\", 0.5, df)\n",
    "potential_matched = generate_matching(reply_df, df, 0.5)"
   ]
  },
  {
   "cell_type": "code",
   "execution_count": 23,
   "id": "f4b937e9-86fa-421f-99ef-56dccb0c7183",
   "metadata": {},
   "outputs": [
    {
     "data": {
      "text/plain": [
       "31                1373638237\n",
       "62                3054589951\n",
       "101               2434032380\n",
       "133               1107264246\n",
       "150               1620962233\n",
       "                ...         \n",
       "42401     851134347998625794\n",
       "42420             2281786801\n",
       "42492               91564001\n",
       "42509             2357434362\n",
       "42512    1149280708701110272\n",
       "Name: author_id, Length: 2339, dtype: int64"
      ]
     },
     "execution_count": 23,
     "metadata": {},
     "output_type": "execute_result"
    }
   ],
   "source": [
    "reply_df.author_id"
   ]
  },
  {
   "cell_type": "code",
   "execution_count": 24,
   "id": "f9ad1b63-cfa8-40a6-8ad1-99207a30285d",
   "metadata": {},
   "outputs": [
    {
     "data": {
      "text/html": [
       "<div>\n",
       "<style scoped>\n",
       "    .dataframe tbody tr th:only-of-type {\n",
       "        vertical-align: middle;\n",
       "    }\n",
       "\n",
       "    .dataframe tbody tr th {\n",
       "        vertical-align: top;\n",
       "    }\n",
       "\n",
       "    .dataframe thead th {\n",
       "        text-align: right;\n",
       "    }\n",
       "</style>\n",
       "<table border=\"1\" class=\"dataframe\">\n",
       "  <thead>\n",
       "    <tr style=\"text-align: right;\">\n",
       "      <th></th>\n",
       "      <th>text</th>\n",
       "      <th>conversation_id</th>\n",
       "      <th>author_id</th>\n",
       "      <th>id_x</th>\n",
       "      <th>created_at</th>\n",
       "      <th>public_metrics_retweet_count</th>\n",
       "      <th>public_metrics_reply_count</th>\n",
       "      <th>public_metrics_like_count</th>\n",
       "      <th>public_metrics_quote_count</th>\n",
       "      <th>possibly_sensitive</th>\n",
       "      <th>...</th>\n",
       "      <th>referenced_tweets_1_id</th>\n",
       "      <th>referenced_tweets_1_id_hydrate_author_id</th>\n",
       "      <th>created_at_dt</th>\n",
       "      <th>is_bot_botometer_prob</th>\n",
       "      <th>id_y</th>\n",
       "      <th>is_bot_botometer</th>\n",
       "      <th>topic</th>\n",
       "      <th>is_bot_botometer_prob_reply</th>\n",
       "      <th>id</th>\n",
       "      <th>is_bot_botometer_reply</th>\n",
       "    </tr>\n",
       "  </thead>\n",
       "  <tbody>\n",
       "    <tr>\n",
       "      <th>22893</th>\n",
       "      <td>@XR_NYC Didn't buy anything today, but I do se...</td>\n",
       "      <td>1200436460509421574</td>\n",
       "      <td>2059811</td>\n",
       "      <td>1200612972122390528</td>\n",
       "      <td>2019-11-30T03:10:13.000Z</td>\n",
       "      <td>0</td>\n",
       "      <td>1</td>\n",
       "      <td>1</td>\n",
       "      <td>0</td>\n",
       "      <td>False</td>\n",
       "      <td>...</td>\n",
       "      <td>NaN</td>\n",
       "      <td>NaN</td>\n",
       "      <td>2019-11-30 03:10:13+00:00</td>\n",
       "      <td>0.306188</td>\n",
       "      <td>2059811.0</td>\n",
       "      <td>0</td>\n",
       "      <td>7.0</td>\n",
       "      <td>0.766877</td>\n",
       "      <td>1.081287e+18</td>\n",
       "      <td>1</td>\n",
       "    </tr>\n",
       "  </tbody>\n",
       "</table>\n",
       "<p>1 rows × 57 columns</p>\n",
       "</div>"
      ],
      "text/plain": [
       "                                                    text      conversation_id  \\\n",
       "22893  @XR_NYC Didn't buy anything today, but I do se...  1200436460509421574   \n",
       "\n",
       "       author_id                 id_x                created_at  \\\n",
       "22893    2059811  1200612972122390528  2019-11-30T03:10:13.000Z   \n",
       "\n",
       "       public_metrics_retweet_count  public_metrics_reply_count  \\\n",
       "22893                             0                           1   \n",
       "\n",
       "       public_metrics_like_count  public_metrics_quote_count  \\\n",
       "22893                          1                           0   \n",
       "\n",
       "       possibly_sensitive  ...  referenced_tweets_1_id  \\\n",
       "22893               False  ...                     NaN   \n",
       "\n",
       "      referenced_tweets_1_id_hydrate_author_id             created_at_dt  \\\n",
       "22893                                      NaN 2019-11-30 03:10:13+00:00   \n",
       "\n",
       "       is_bot_botometer_prob       id_y  is_bot_botometer  topic  \\\n",
       "22893               0.306188  2059811.0                 0    7.0   \n",
       "\n",
       "       is_bot_botometer_prob_reply            id  is_bot_botometer_reply  \n",
       "22893                     0.766877  1.081287e+18                       1  \n",
       "\n",
       "[1 rows x 57 columns]"
      ]
     },
     "execution_count": 24,
     "metadata": {},
     "output_type": "execute_result"
    }
   ],
   "source": [
    "reply_df[reply_df.author_id == 2059811]"
   ]
  },
  {
   "cell_type": "code",
   "execution_count": 25,
   "id": "305b686b-1e15-48a0-b0a7-7a9fb64ef36b",
   "metadata": {},
   "outputs": [],
   "source": [
    "potential_matched = potential_matched.drop_duplicates(subset = ['matched_user'])"
   ]
  },
  {
   "cell_type": "code",
   "execution_count": 26,
   "id": "b75a2600-6199-4976-a97f-2226f082d834",
   "metadata": {},
   "outputs": [
    {
     "data": {
      "text/plain": [
       "1099"
      ]
     },
     "execution_count": 26,
     "metadata": {},
     "output_type": "execute_result"
    }
   ],
   "source": [
    "len(set(potential_matched.user))"
   ]
  },
  {
   "cell_type": "code",
   "execution_count": 28,
   "id": "dc98b022-b8f3-4505-81d1-ae2da4438ab3",
   "metadata": {},
   "outputs": [],
   "source": [
    "reply_df.to_csv(f\"./botometer/xr2019_user_reply_bots{suffix}.csv\", index = False)\n",
    "df_comm.to_csv(f'./botometer/df_comm_edges{suffix}.csv', index = False)\n",
    "potential_matched.to_csv(f\"./botometer/xr2019_user_matched_rough{suffix}.csv\", index = False)"
   ]
  },
  {
   "cell_type": "code",
   "execution_count": 29,
   "id": "eff95300-e19b-4b37-b497-35476c6e4582",
   "metadata": {},
   "outputs": [],
   "source": [
    "bot_post_id = [i if i is not None else j for i,j in zip(reply_df.referenced_tweets_0_id, reply_df.referenced_tweets_1_id)]\n",
    "bot_post_id = [str(int(i)) for i in bot_post_id if str(i) != \"nan\"] # Saving the ids of bot posts"
   ]
  },
  {
   "cell_type": "code",
   "execution_count": 31,
   "id": "d7f38793-6a52-4577-be04-0848dc92a707",
   "metadata": {},
   "outputs": [],
   "source": [
    "with open('./botometer/bot_conversation_id_0.5.txt', 'w') as f:\n",
    "    for line in bot_post_id:\n",
    "        f.write(str(line))\n",
    "        f.write('\\n')"
   ]
  },
  {
   "cell_type": "markdown",
   "id": "c9b7972a-ce60-40be-a708-ec2b72ceb1d2",
   "metadata": {},
   "source": [
    "## Creating table for data collection"
   ]
  },
  {
   "cell_type": "code",
   "execution_count": 32,
   "id": "2c47e49c-6c42-4327-8f03-f27a4fa40549",
   "metadata": {},
   "outputs": [
    {
     "name": "stderr",
     "output_type": "stream",
     "text": [
      "/tmp/ipykernel_5776/4257656431.py:6: UserWarning: The argument 'infer_datetime_format' is deprecated and will be removed in a future version. A strict version of it is now the default, see https://pandas.pydata.org/pdeps/0004-consistent-to-datetime-parsing.html. You can safely remove this argument.\n",
      "  user_time['user_created_at'] = pd.to_datetime(user_time.user_created_at, infer_datetime_format=True)\n",
      "/tmp/ipykernel_5776/4257656431.py:6: UserWarning: Could not infer format, so each element will be parsed individually, falling back to `dateutil`. To ensure parsing is consistent and as-expected, please specify a format.\n",
      "  user_time['user_created_at'] = pd.to_datetime(user_time.user_created_at, infer_datetime_format=True)\n",
      "/tmp/ipykernel_5776/4257656431.py:7: UserWarning: The argument 'infer_datetime_format' is deprecated and will be removed in a future version. A strict version of it is now the default, see https://pandas.pydata.org/pdeps/0004-consistent-to-datetime-parsing.html. You can safely remove this argument.\n",
      "  user_time['interaction_at'] = pd.to_datetime(user_time.interaction_at, infer_datetime_format=True)\n"
     ]
    }
   ],
   "source": [
    "# Calculate the 60 day time range before & after interaction for data collection\n",
    "user_time = users.merge(reply_df[[\"author_id\", \"created_at\", \"text\"]], how = 'inner', left_on = \"id\", right_on = \"author_id\", copy = False)\n",
    "user_time = user_time[['author_id','created_at_x', 'created_at_y', 'text']]\n",
    "user_time.columns = ['author_id', 'user_created_at', 'interaction_at', 'text']\n",
    "user_time = user_time.drop_duplicates(subset = ['author_id'])\n",
    "user_time['user_created_at'] = pd.to_datetime(user_time.user_created_at, infer_datetime_format=True)\n",
    "user_time['interaction_at'] = pd.to_datetime(user_time.interaction_at, infer_datetime_format=True)\n",
    "time_window = timedelta(days = 30)\n",
    "user_time['time_start'] = user_time.interaction_at - time_window\n",
    "user_time['time_end'] = user_time.interaction_at + time_window"
   ]
  },
  {
   "cell_type": "code",
   "execution_count": 33,
   "id": "5c6051cc-a95e-4ade-803c-7b30db32f3f4",
   "metadata": {},
   "outputs": [],
   "source": [
    "user_time['time_start_str'] = [i.strftime(\"%Y-%m-%dT%H:%M:%SZ\") for i in user_time.time_start]\n",
    "user_time['time_end_str'] = [i.strftime(\"%Y-%m-%dT%H:%M:%SZ\") for i in user_time.time_end]"
   ]
  },
  {
   "cell_type": "code",
   "execution_count": 34,
   "id": "cb8dc50c-0091-4aac-88ac-cb995f9e5dfb",
   "metadata": {},
   "outputs": [],
   "source": [
    "user_time.to_csv(f\"./botometer/matching_user_data_collection_xr2019{suffix}.csv\", index = False)"
   ]
  },
  {
   "cell_type": "markdown",
   "id": "6c84d0c3-b07f-4d4c-bba4-7aeb08b90a1d",
   "metadata": {},
   "source": [
    "## Filtering by eculid"
   ]
  },
  {
   "cell_type": "code",
   "execution_count": 35,
   "id": "b06df87d-12c2-440b-90f2-bf5420ae745d",
   "metadata": {},
   "outputs": [],
   "source": [
    "users = users[users.created_at != \"0\"]\n",
    "#users.dropna(subset = ['created_at'], inplace = True)\n",
    "#users['created_at_dt'] = pd.to_datetime(users.created_at, format = \"%a %b %d %H:%M:%S +0000 %Y \", errors = 'coerce')"
   ]
  },
  {
   "cell_type": "code",
   "execution_count": 36,
   "id": "8f6a1160-6cac-43ed-847d-379d50c63601",
   "metadata": {},
   "outputs": [],
   "source": [
    "potential_matched = potential_matched.drop_duplicates(subset = ['matched_user'])\n",
    "euclid = pd.DataFrame(columns = ['uid', \"matched_uid\", \"euclid\"])\n",
    "cols = ['statuses_count', 'followers_count', 'friends_count',\n",
    "       'favourites_count', 'listed_count', 'followers_growth', 'friends_growth', 'favourites_growth',\n",
    "       'listed_growth', 'follower_friend_ratio']\n"
   ]
  },
  {
   "cell_type": "code",
   "execution_count": null,
   "id": "f4429c4f-350d-43e8-9743-f95e8aff6820",
   "metadata": {},
   "outputs": [],
   "source": [
    "uids = []\n",
    "matched_user = []\n",
    "eculid = []\n",
    "for i in range(potential_matched.shape[0]):\n",
    "    uid = potential_matched.iloc[i].user\n",
    "    matched_uid = potential_matched.iloc[i].matched_user\n",
    "    user_info = users[users.id == uid][cols]\n",
    "    matched_info = users[users.id == matched_uid][cols]\n",
    "    if user_info.shape[0] == 1 and matched_info.shape[0] == 1:\n",
    "        user_info = [np.log(float(i)+1) for i in list(user_info.T.iloc[:,0])]\n",
    "\n",
    "        matched_info = [np.log(float(i) + 1) for i in list(matched_info.T.iloc[:,0])]\n",
    "\n",
    "        X = np.vstack([user_info, matched_info])\n",
    "        euclidean_ = distance.pdist(X)[0]\n",
    "        uids.append(uid)\n",
    "        eculid.append(euclidean_)\n",
    "        matched_user.append(matched_uid)\n",
    "    else:\n",
    "        pass\n",
    "\n"
   ]
  },
  {
   "cell_type": "code",
   "execution_count": 38,
   "id": "398edf22-25a5-4f69-9e66-7fcc7dd27360",
   "metadata": {},
   "outputs": [],
   "source": [
    "eculid_df = pd.DataFrame()\n",
    "eculid_df['uid'] = uids\n",
    "eculid_df['eculid'] = eculid\n",
    "eculid_df['matched_uid'] = matched_user"
   ]
  },
  {
   "cell_type": "code",
   "execution_count": 39,
   "id": "b40b39be-8d47-4e43-8640-72890de5ef6d",
   "metadata": {},
   "outputs": [],
   "source": [
    "eculid_df.sort_values(by = ['uid', 'eculid'], ascending = [True, False], inplace = True)"
   ]
  },
  {
   "cell_type": "code",
   "execution_count": 40,
   "id": "c1362bca-0b24-4c6d-825a-55251fc9bc15",
   "metadata": {},
   "outputs": [
    {
     "name": "stderr",
     "output_type": "stream",
     "text": [
      "/tmp/ipykernel_5776/2322026377.py:3: UserWarning: The argument 'infer_datetime_format' is deprecated and will be removed in a future version. A strict version of it is now the default, see https://pandas.pydata.org/pdeps/0004-consistent-to-datetime-parsing.html. You can safely remove this argument.\n",
      "  matched_with_euclid['interaction_matched'] = pd.to_datetime(matched_with_euclid.interaction_matched, infer_datetime_format=True)\n"
     ]
    }
   ],
   "source": [
    "matched_with_euclid = eculid_df.merge(potential_matched, right_on = 'matched_user', left_on = 'matched_uid', how = 'left', copy = False)\n",
    "matched_with_euclid.dropna(subset = ['matched_user'], inplace = True)\n",
    "matched_with_euclid['interaction_matched'] = pd.to_datetime(matched_with_euclid.interaction_matched, infer_datetime_format=True)\n",
    "time_window = timedelta(days = 30)\n",
    "matched_with_euclid['time_start'] = matched_with_euclid.interaction_matched - time_window\n",
    "matched_with_euclid['time_end'] = matched_with_euclid.interaction_matched + time_window\n",
    "matched_with_euclid.to_csv(f\"./botometer/xr2019_user_matched_with_euclid{suffix}.csv\", index = False)"
   ]
  },
  {
   "cell_type": "code",
   "execution_count": null,
   "id": "a9d118d8-99a8-4980-87f8-34623791249e",
   "metadata": {},
   "outputs": [],
   "source": [
    "# Getting first best match\n",
    "firsts = matched_with_euclid.drop_duplicates(subset=['uid'], keep='first')\n",
    "firsts['time_start'] = pd.to_datetime(firsts.time_start, infer_datetime_format=True)\n",
    "firsts['time_end'] = pd.to_datetime(firsts.time_end, infer_datetime_format=True)\n",
    "firsts['time_start_str'] = [i.strftime(\"%Y-%m-%dT%H:%M:%SZ\") for i in seconds.time_start]\n",
    "firsts['time_end_str'] = [i.strftime(\"%Y-%m-%dT%H:%M:%SZ\") for i in seconds.time_end]\n",
    "firsts.to_csv(f\"./xr2019_user_matched_firsts{suffix}.csv\", index = False)"
   ]
  },
  {
   "cell_type": "code",
   "execution_count": 41,
   "id": "5fa54e07-6f46-4725-b2c4-a3feecf03f6d",
   "metadata": {},
   "outputs": [
    {
     "name": "stderr",
     "output_type": "stream",
     "text": [
      "/tmp/ipykernel_5776/2001993493.py:3: SettingWithCopyWarning: \n",
      "A value is trying to be set on a copy of a slice from a DataFrame.\n",
      "Try using .loc[row_indexer,col_indexer] = value instead\n",
      "\n",
      "See the caveats in the documentation: https://pandas.pydata.org/pandas-docs/stable/user_guide/indexing.html#returning-a-view-versus-a-copy\n",
      "  seconds['uid'] = [str(int(i)) for i in seconds.uid]\n",
      "/tmp/ipykernel_5776/2001993493.py:4: SettingWithCopyWarning: \n",
      "A value is trying to be set on a copy of a slice from a DataFrame.\n",
      "Try using .loc[row_indexer,col_indexer] = value instead\n",
      "\n",
      "See the caveats in the documentation: https://pandas.pydata.org/pandas-docs/stable/user_guide/indexing.html#returning-a-view-versus-a-copy\n",
      "  seconds['matched_uid'] = [str(int(i)) for i in seconds.matched_uid]\n",
      "/tmp/ipykernel_5776/2001993493.py:5: SettingWithCopyWarning: \n",
      "A value is trying to be set on a copy of a slice from a DataFrame.\n",
      "Try using .loc[row_indexer,col_indexer] = value instead\n",
      "\n",
      "See the caveats in the documentation: https://pandas.pydata.org/pandas-docs/stable/user_guide/indexing.html#returning-a-view-versus-a-copy\n",
      "  seconds['matched_user'] = [str(int(i)) for i in seconds.matched_user]\n",
      "/tmp/ipykernel_5776/2001993493.py:6: UserWarning: The argument 'infer_datetime_format' is deprecated and will be removed in a future version. A strict version of it is now the default, see https://pandas.pydata.org/pdeps/0004-consistent-to-datetime-parsing.html. You can safely remove this argument.\n",
      "  seconds['time_start'] = pd.to_datetime(seconds.time_start, infer_datetime_format=True)\n",
      "/tmp/ipykernel_5776/2001993493.py:6: SettingWithCopyWarning: \n",
      "A value is trying to be set on a copy of a slice from a DataFrame.\n",
      "Try using .loc[row_indexer,col_indexer] = value instead\n",
      "\n",
      "See the caveats in the documentation: https://pandas.pydata.org/pandas-docs/stable/user_guide/indexing.html#returning-a-view-versus-a-copy\n",
      "  seconds['time_start'] = pd.to_datetime(seconds.time_start, infer_datetime_format=True)\n",
      "/tmp/ipykernel_5776/2001993493.py:7: UserWarning: The argument 'infer_datetime_format' is deprecated and will be removed in a future version. A strict version of it is now the default, see https://pandas.pydata.org/pdeps/0004-consistent-to-datetime-parsing.html. You can safely remove this argument.\n",
      "  seconds['time_end'] = pd.to_datetime(seconds.time_end, infer_datetime_format=True)\n",
      "/tmp/ipykernel_5776/2001993493.py:7: SettingWithCopyWarning: \n",
      "A value is trying to be set on a copy of a slice from a DataFrame.\n",
      "Try using .loc[row_indexer,col_indexer] = value instead\n",
      "\n",
      "See the caveats in the documentation: https://pandas.pydata.org/pandas-docs/stable/user_guide/indexing.html#returning-a-view-versus-a-copy\n",
      "  seconds['time_end'] = pd.to_datetime(seconds.time_end, infer_datetime_format=True)\n",
      "/tmp/ipykernel_5776/2001993493.py:8: SettingWithCopyWarning: \n",
      "A value is trying to be set on a copy of a slice from a DataFrame.\n",
      "Try using .loc[row_indexer,col_indexer] = value instead\n",
      "\n",
      "See the caveats in the documentation: https://pandas.pydata.org/pandas-docs/stable/user_guide/indexing.html#returning-a-view-versus-a-copy\n",
      "  seconds['time_start_str'] = [i.strftime(\"%Y-%m-%dT%H:%M:%SZ\") for i in seconds.time_start]\n",
      "/tmp/ipykernel_5776/2001993493.py:9: SettingWithCopyWarning: \n",
      "A value is trying to be set on a copy of a slice from a DataFrame.\n",
      "Try using .loc[row_indexer,col_indexer] = value instead\n",
      "\n",
      "See the caveats in the documentation: https://pandas.pydata.org/pandas-docs/stable/user_guide/indexing.html#returning-a-view-versus-a-copy\n",
      "  seconds['time_end_str'] = [i.strftime(\"%Y-%m-%dT%H:%M:%SZ\") for i in seconds.time_end]\n"
     ]
    }
   ],
   "source": [
    "## Getting second best match\n",
    "seconds = matched_with_euclid.groupby('uid').head(2)\n",
    "seconds['uid'] = [str(int(i)) for i in seconds.uid]\n",
    "seconds['matched_uid'] = [str(int(i)) for i in seconds.matched_uid]\n",
    "seconds['matched_user'] = [str(int(i)) for i in seconds.matched_user]\n",
    "seconds['time_start'] = pd.to_datetime(seconds.time_start, infer_datetime_format=True)\n",
    "seconds['time_end'] = pd.to_datetime(seconds.time_end, infer_datetime_format=True)\n",
    "seconds['time_start_str'] = [i.strftime(\"%Y-%m-%dT%H:%M:%SZ\") for i in seconds.time_start]\n",
    "seconds['time_end_str'] = [i.strftime(\"%Y-%m-%dT%H:%M:%SZ\") for i in seconds.time_end]\n",
    "seconds.to_csv(f\"./botometer/xr2019_user_matched_fifths{suffix}.csv\", index = False)"
   ]
  },
  {
   "cell_type": "markdown",
   "id": "500dfac1-d22e-4bc6-a158-f9e3d6224d23",
   "metadata": {},
   "source": [
    "## bot original stuff"
   ]
  },
  {
   "cell_type": "code",
   "execution_count": 54,
   "id": "eaf0ab4c-871b-4d68-86ce-b4a051c1c1f7",
   "metadata": {},
   "outputs": [],
   "source": [
    "def load_token(textfile):\n",
    "    try:\n",
    "        with open(textfile, 'r') as file:\n",
    "            auth = file.readlines()\n",
    "            keys = []\n",
    "            for i in auth:\n",
    "                i = str(i).strip()\n",
    "                keys.append(i)\n",
    "        return keys\n",
    "    except EnvironmentError:\n",
    "        print('Error loading access token from file')"
   ]
  },
  {
   "cell_type": "code",
   "execution_count": 56,
   "id": "4f7d9f8a-a4ee-415c-857f-cceb6c4f38af",
   "metadata": {},
   "outputs": [],
   "source": [
    "conversation = load_token(\"./botometer/bot_conversation_id_0.5.txt\")"
   ]
  },
  {
   "cell_type": "code",
   "execution_count": 57,
   "id": "ee9ff8b7-9c84-4c35-9da6-ebdf37cbbd16",
   "metadata": {},
   "outputs": [
    {
     "name": "stderr",
     "output_type": "stream",
     "text": [
      "/tmp/ipykernel_5776/4130662692.py:1: DtypeWarning: Columns (46) have mixed types. Specify dtype option on import or set low_memory=False.\n",
      "  all_tweets = pd.read_csv(tweet_path)\n"
     ]
    }
   ],
   "source": [
    "all_tweets = pd.read_csv(tweet_path)"
   ]
  },
  {
   "cell_type": "code",
   "execution_count": 58,
   "id": "34bd5a6d-53be-4d00-83d9-acd9c6637f18",
   "metadata": {},
   "outputs": [],
   "source": [
    "conversation = [int(i) for i in conversation]"
   ]
  },
  {
   "cell_type": "code",
   "execution_count": 59,
   "id": "e0b558c8-da75-403b-99b3-7b79154974c0",
   "metadata": {},
   "outputs": [],
   "source": [
    "bot_original_tweet = all_tweets.merge(pd.DataFrame({\"id\":conversation}),on=\"id\")"
   ]
  },
  {
   "cell_type": "code",
   "execution_count": 60,
   "id": "8b3fafe2-390b-4dbd-81bc-2d08c4c4738b",
   "metadata": {},
   "outputs": [
    {
     "data": {
      "text/plain": [
       "285"
      ]
     },
     "execution_count": 60,
     "metadata": {},
     "output_type": "execute_result"
    }
   ],
   "source": [
    "bot_original_tweet.shape[0]"
   ]
  },
  {
   "cell_type": "code",
   "execution_count": 61,
   "id": "0b7d2980-259a-42ad-8761-a2bd2441385a",
   "metadata": {},
   "outputs": [
    {
     "data": {
      "text/html": [
       "<div>\n",
       "<style scoped>\n",
       "    .dataframe tbody tr th:only-of-type {\n",
       "        vertical-align: middle;\n",
       "    }\n",
       "\n",
       "    .dataframe tbody tr th {\n",
       "        vertical-align: top;\n",
       "    }\n",
       "\n",
       "    .dataframe thead th {\n",
       "        text-align: right;\n",
       "    }\n",
       "</style>\n",
       "<table border=\"1\" class=\"dataframe\">\n",
       "  <thead>\n",
       "    <tr style=\"text-align: right;\">\n",
       "      <th></th>\n",
       "      <th>text</th>\n",
       "      <th>conversation_id</th>\n",
       "      <th>author_id</th>\n",
       "      <th>id</th>\n",
       "      <th>created_at</th>\n",
       "      <th>public_metrics_retweet_count</th>\n",
       "      <th>public_metrics_reply_count</th>\n",
       "      <th>public_metrics_like_count</th>\n",
       "      <th>public_metrics_quote_count</th>\n",
       "      <th>possibly_sensitive</th>\n",
       "      <th>...</th>\n",
       "      <th>in_reply_to_user_id_hydrate_location</th>\n",
       "      <th>referenced_tweets_0_id_hydrate_geo_place_id</th>\n",
       "      <th>conversation_id_hydrate_referenced_tweets_0_type</th>\n",
       "      <th>conversation_id_hydrate_referenced_tweets_0_id</th>\n",
       "      <th>geo_place_id</th>\n",
       "      <th>conversation_id_hydrate_geo_place_id</th>\n",
       "      <th>id_hydrate_geo_place_id</th>\n",
       "      <th>referenced_tweets_1_type</th>\n",
       "      <th>referenced_tweets_1_id</th>\n",
       "      <th>referenced_tweets_1_id_hydrate_author_id</th>\n",
       "    </tr>\n",
       "  </thead>\n",
       "  <tbody>\n",
       "    <tr>\n",
       "      <th>0</th>\n",
       "      <td>Eyewitness: @SkyAndyHughes spent two months em...</td>\n",
       "      <td>1195273621780025344</td>\n",
       "      <td>7587032</td>\n",
       "      <td>1195273621780025344</td>\n",
       "      <td>2019-11-15T09:33:33.000Z</td>\n",
       "      <td>13</td>\n",
       "      <td>17</td>\n",
       "      <td>24</td>\n",
       "      <td>6</td>\n",
       "      <td>False</td>\n",
       "      <td>...</td>\n",
       "      <td>NaN</td>\n",
       "      <td>NaN</td>\n",
       "      <td>NaN</td>\n",
       "      <td>NaN</td>\n",
       "      <td>NaN</td>\n",
       "      <td>NaN</td>\n",
       "      <td>NaN</td>\n",
       "      <td>NaN</td>\n",
       "      <td>NaN</td>\n",
       "      <td>NaN</td>\n",
       "    </tr>\n",
       "    <tr>\n",
       "      <th>1</th>\n",
       "      <td>Just wanted to give a shout out and #ff to the...</td>\n",
       "      <td>1195274542442258432</td>\n",
       "      <td>216692192</td>\n",
       "      <td>1195274542442258432</td>\n",
       "      <td>2019-11-15T09:37:12.000Z</td>\n",
       "      <td>12</td>\n",
       "      <td>1</td>\n",
       "      <td>24</td>\n",
       "      <td>1</td>\n",
       "      <td>False</td>\n",
       "      <td>...</td>\n",
       "      <td>NaN</td>\n",
       "      <td>NaN</td>\n",
       "      <td>NaN</td>\n",
       "      <td>NaN</td>\n",
       "      <td>NaN</td>\n",
       "      <td>NaN</td>\n",
       "      <td>NaN</td>\n",
       "      <td>NaN</td>\n",
       "      <td>NaN</td>\n",
       "      <td>NaN</td>\n",
       "    </tr>\n",
       "    <tr>\n",
       "      <th>2</th>\n",
       "      <td>Went to the Luton Airport expansion consultati...</td>\n",
       "      <td>1195315133708455936</td>\n",
       "      <td>914488810616082432</td>\n",
       "      <td>1195315133708455936</td>\n",
       "      <td>2019-11-15T12:18:30.000Z</td>\n",
       "      <td>1</td>\n",
       "      <td>1</td>\n",
       "      <td>2</td>\n",
       "      <td>0</td>\n",
       "      <td>False</td>\n",
       "      <td>...</td>\n",
       "      <td>NaN</td>\n",
       "      <td>NaN</td>\n",
       "      <td>NaN</td>\n",
       "      <td>NaN</td>\n",
       "      <td>NaN</td>\n",
       "      <td>NaN</td>\n",
       "      <td>NaN</td>\n",
       "      <td>NaN</td>\n",
       "      <td>NaN</td>\n",
       "      <td>NaN</td>\n",
       "    </tr>\n",
       "    <tr>\n",
       "      <th>3</th>\n",
       "      <td>@AnneNotley1 @JackMilln @DoctorsXr @Scientists...</td>\n",
       "      <td>1195373744941944832</td>\n",
       "      <td>229016226</td>\n",
       "      <td>1195378001552297984</td>\n",
       "      <td>2019-11-15T16:28:19.000Z</td>\n",
       "      <td>0</td>\n",
       "      <td>2</td>\n",
       "      <td>6</td>\n",
       "      <td>0</td>\n",
       "      <td>False</td>\n",
       "      <td>...</td>\n",
       "      <td>NaN</td>\n",
       "      <td>NaN</td>\n",
       "      <td>NaN</td>\n",
       "      <td>NaN</td>\n",
       "      <td>NaN</td>\n",
       "      <td>NaN</td>\n",
       "      <td>NaN</td>\n",
       "      <td>NaN</td>\n",
       "      <td>NaN</td>\n",
       "      <td>NaN</td>\n",
       "    </tr>\n",
       "    <tr>\n",
       "      <th>4</th>\n",
       "      <td>‘It’s our aim to polarise the public' - Roman ...</td>\n",
       "      <td>1195415231352233984</td>\n",
       "      <td>7587032</td>\n",
       "      <td>1195415231352233984</td>\n",
       "      <td>2019-11-15T18:56:15.000Z</td>\n",
       "      <td>8</td>\n",
       "      <td>37</td>\n",
       "      <td>19</td>\n",
       "      <td>3</td>\n",
       "      <td>False</td>\n",
       "      <td>...</td>\n",
       "      <td>NaN</td>\n",
       "      <td>NaN</td>\n",
       "      <td>NaN</td>\n",
       "      <td>NaN</td>\n",
       "      <td>NaN</td>\n",
       "      <td>NaN</td>\n",
       "      <td>NaN</td>\n",
       "      <td>NaN</td>\n",
       "      <td>NaN</td>\n",
       "      <td>NaN</td>\n",
       "    </tr>\n",
       "    <tr>\n",
       "      <th>...</th>\n",
       "      <td>...</td>\n",
       "      <td>...</td>\n",
       "      <td>...</td>\n",
       "      <td>...</td>\n",
       "      <td>...</td>\n",
       "      <td>...</td>\n",
       "      <td>...</td>\n",
       "      <td>...</td>\n",
       "      <td>...</td>\n",
       "      <td>...</td>\n",
       "      <td>...</td>\n",
       "      <td>...</td>\n",
       "      <td>...</td>\n",
       "      <td>...</td>\n",
       "      <td>...</td>\n",
       "      <td>...</td>\n",
       "      <td>...</td>\n",
       "      <td>...</td>\n",
       "      <td>...</td>\n",
       "      <td>...</td>\n",
       "      <td>...</td>\n",
       "    </tr>\n",
       "    <tr>\n",
       "      <th>280</th>\n",
       "      <td>@technobaboo @alfredo_xr Exactly.  Some logic ...</td>\n",
       "      <td>1205143583797530627</td>\n",
       "      <td>70596949</td>\n",
       "      <td>1205158583874310144</td>\n",
       "      <td>2019-12-12T16:12:51.000Z</td>\n",
       "      <td>0</td>\n",
       "      <td>1</td>\n",
       "      <td>3</td>\n",
       "      <td>0</td>\n",
       "      <td>False</td>\n",
       "      <td>...</td>\n",
       "      <td>NaN</td>\n",
       "      <td>NaN</td>\n",
       "      <td>NaN</td>\n",
       "      <td>NaN</td>\n",
       "      <td>NaN</td>\n",
       "      <td>NaN</td>\n",
       "      <td>NaN</td>\n",
       "      <td>NaN</td>\n",
       "      <td>NaN</td>\n",
       "      <td>NaN</td>\n",
       "    </tr>\n",
       "    <tr>\n",
       "      <th>281</th>\n",
       "      <td>@EditorScribble @xr_seq It's not even 8am yet ...</td>\n",
       "      <td>1205242144933302272</td>\n",
       "      <td>473714282</td>\n",
       "      <td>1205245354641215488</td>\n",
       "      <td>2019-12-12T21:57:39.000Z</td>\n",
       "      <td>0</td>\n",
       "      <td>1</td>\n",
       "      <td>1</td>\n",
       "      <td>1</td>\n",
       "      <td>False</td>\n",
       "      <td>...</td>\n",
       "      <td>NaN</td>\n",
       "      <td>NaN</td>\n",
       "      <td>NaN</td>\n",
       "      <td>NaN</td>\n",
       "      <td>NaN</td>\n",
       "      <td>NaN</td>\n",
       "      <td>NaN</td>\n",
       "      <td>NaN</td>\n",
       "      <td>NaN</td>\n",
       "      <td>NaN</td>\n",
       "    </tr>\n",
       "    <tr>\n",
       "      <th>282</th>\n",
       "      <td>@EditorScribble @xr_seq I love that 150+ peopl...</td>\n",
       "      <td>1205242144933302272</td>\n",
       "      <td>473714282</td>\n",
       "      <td>1205248322874691584</td>\n",
       "      <td>2019-12-12T22:09:27.000Z</td>\n",
       "      <td>0</td>\n",
       "      <td>1</td>\n",
       "      <td>1</td>\n",
       "      <td>0</td>\n",
       "      <td>False</td>\n",
       "      <td>...</td>\n",
       "      <td>NaN</td>\n",
       "      <td>NaN</td>\n",
       "      <td>NaN</td>\n",
       "      <td>NaN</td>\n",
       "      <td>NaN</td>\n",
       "      <td>NaN</td>\n",
       "      <td>NaN</td>\n",
       "      <td>NaN</td>\n",
       "      <td>NaN</td>\n",
       "      <td>NaN</td>\n",
       "    </tr>\n",
       "    <tr>\n",
       "      <th>283</th>\n",
       "      <td>@XR_CrazedBear @malechk_ @Callux Hahahahaha ch...</td>\n",
       "      <td>1205246535484751875</td>\n",
       "      <td>2156634053</td>\n",
       "      <td>1205251920564277248</td>\n",
       "      <td>2019-12-12T22:23:45.000Z</td>\n",
       "      <td>0</td>\n",
       "      <td>6</td>\n",
       "      <td>90</td>\n",
       "      <td>0</td>\n",
       "      <td>False</td>\n",
       "      <td>...</td>\n",
       "      <td>NaN</td>\n",
       "      <td>NaN</td>\n",
       "      <td>NaN</td>\n",
       "      <td>NaN</td>\n",
       "      <td>NaN</td>\n",
       "      <td>NaN</td>\n",
       "      <td>NaN</td>\n",
       "      <td>NaN</td>\n",
       "      <td>NaN</td>\n",
       "      <td>NaN</td>\n",
       "    </tr>\n",
       "    <tr>\n",
       "      <th>284</th>\n",
       "      <td>@MaxLGarrett @TomoriTime @XR_CrazedBear @malec...</td>\n",
       "      <td>1205246535484751875</td>\n",
       "      <td>815930710154420229</td>\n",
       "      <td>1205253366198214656</td>\n",
       "      <td>2019-12-12T22:29:29.000Z</td>\n",
       "      <td>0</td>\n",
       "      <td>1</td>\n",
       "      <td>8</td>\n",
       "      <td>0</td>\n",
       "      <td>False</td>\n",
       "      <td>...</td>\n",
       "      <td>NaN</td>\n",
       "      <td>NaN</td>\n",
       "      <td>NaN</td>\n",
       "      <td>NaN</td>\n",
       "      <td>NaN</td>\n",
       "      <td>NaN</td>\n",
       "      <td>NaN</td>\n",
       "      <td>NaN</td>\n",
       "      <td>NaN</td>\n",
       "      <td>NaN</td>\n",
       "    </tr>\n",
       "  </tbody>\n",
       "</table>\n",
       "<p>285 rows × 49 columns</p>\n",
       "</div>"
      ],
      "text/plain": [
       "                                                  text      conversation_id  \\\n",
       "0    Eyewitness: @SkyAndyHughes spent two months em...  1195273621780025344   \n",
       "1    Just wanted to give a shout out and #ff to the...  1195274542442258432   \n",
       "2    Went to the Luton Airport expansion consultati...  1195315133708455936   \n",
       "3    @AnneNotley1 @JackMilln @DoctorsXr @Scientists...  1195373744941944832   \n",
       "4    ‘It’s our aim to polarise the public' - Roman ...  1195415231352233984   \n",
       "..                                                 ...                  ...   \n",
       "280  @technobaboo @alfredo_xr Exactly.  Some logic ...  1205143583797530627   \n",
       "281  @EditorScribble @xr_seq It's not even 8am yet ...  1205242144933302272   \n",
       "282  @EditorScribble @xr_seq I love that 150+ peopl...  1205242144933302272   \n",
       "283  @XR_CrazedBear @malechk_ @Callux Hahahahaha ch...  1205246535484751875   \n",
       "284  @MaxLGarrett @TomoriTime @XR_CrazedBear @malec...  1205246535484751875   \n",
       "\n",
       "              author_id                   id                created_at  \\\n",
       "0               7587032  1195273621780025344  2019-11-15T09:33:33.000Z   \n",
       "1             216692192  1195274542442258432  2019-11-15T09:37:12.000Z   \n",
       "2    914488810616082432  1195315133708455936  2019-11-15T12:18:30.000Z   \n",
       "3             229016226  1195378001552297984  2019-11-15T16:28:19.000Z   \n",
       "4               7587032  1195415231352233984  2019-11-15T18:56:15.000Z   \n",
       "..                  ...                  ...                       ...   \n",
       "280            70596949  1205158583874310144  2019-12-12T16:12:51.000Z   \n",
       "281           473714282  1205245354641215488  2019-12-12T21:57:39.000Z   \n",
       "282           473714282  1205248322874691584  2019-12-12T22:09:27.000Z   \n",
       "283          2156634053  1205251920564277248  2019-12-12T22:23:45.000Z   \n",
       "284  815930710154420229  1205253366198214656  2019-12-12T22:29:29.000Z   \n",
       "\n",
       "     public_metrics_retweet_count  public_metrics_reply_count  \\\n",
       "0                              13                          17   \n",
       "1                              12                           1   \n",
       "2                               1                           1   \n",
       "3                               0                           2   \n",
       "4                               8                          37   \n",
       "..                            ...                         ...   \n",
       "280                             0                           1   \n",
       "281                             0                           1   \n",
       "282                             0                           1   \n",
       "283                             0                           6   \n",
       "284                             0                           1   \n",
       "\n",
       "     public_metrics_like_count  public_metrics_quote_count  \\\n",
       "0                           24                           6   \n",
       "1                           24                           1   \n",
       "2                            2                           0   \n",
       "3                            6                           0   \n",
       "4                           19                           3   \n",
       "..                         ...                         ...   \n",
       "280                          3                           0   \n",
       "281                          1                           1   \n",
       "282                          1                           0   \n",
       "283                         90                           0   \n",
       "284                          8                           0   \n",
       "\n",
       "     possibly_sensitive  ...  in_reply_to_user_id_hydrate_location  \\\n",
       "0                 False  ...                                   NaN   \n",
       "1                 False  ...                                   NaN   \n",
       "2                 False  ...                                   NaN   \n",
       "3                 False  ...                                   NaN   \n",
       "4                 False  ...                                   NaN   \n",
       "..                  ...  ...                                   ...   \n",
       "280               False  ...                                   NaN   \n",
       "281               False  ...                                   NaN   \n",
       "282               False  ...                                   NaN   \n",
       "283               False  ...                                   NaN   \n",
       "284               False  ...                                   NaN   \n",
       "\n",
       "    referenced_tweets_0_id_hydrate_geo_place_id  \\\n",
       "0                                           NaN   \n",
       "1                                           NaN   \n",
       "2                                           NaN   \n",
       "3                                           NaN   \n",
       "4                                           NaN   \n",
       "..                                          ...   \n",
       "280                                         NaN   \n",
       "281                                         NaN   \n",
       "282                                         NaN   \n",
       "283                                         NaN   \n",
       "284                                         NaN   \n",
       "\n",
       "     conversation_id_hydrate_referenced_tweets_0_type  \\\n",
       "0                                                 NaN   \n",
       "1                                                 NaN   \n",
       "2                                                 NaN   \n",
       "3                                                 NaN   \n",
       "4                                                 NaN   \n",
       "..                                                ...   \n",
       "280                                               NaN   \n",
       "281                                               NaN   \n",
       "282                                               NaN   \n",
       "283                                               NaN   \n",
       "284                                               NaN   \n",
       "\n",
       "     conversation_id_hydrate_referenced_tweets_0_id  geo_place_id  \\\n",
       "0                                               NaN           NaN   \n",
       "1                                               NaN           NaN   \n",
       "2                                               NaN           NaN   \n",
       "3                                               NaN           NaN   \n",
       "4                                               NaN           NaN   \n",
       "..                                              ...           ...   \n",
       "280                                             NaN           NaN   \n",
       "281                                             NaN           NaN   \n",
       "282                                             NaN           NaN   \n",
       "283                                             NaN           NaN   \n",
       "284                                             NaN           NaN   \n",
       "\n",
       "     conversation_id_hydrate_geo_place_id  id_hydrate_geo_place_id  \\\n",
       "0                                     NaN                      NaN   \n",
       "1                                     NaN                      NaN   \n",
       "2                                     NaN                      NaN   \n",
       "3                                     NaN                      NaN   \n",
       "4                                     NaN                      NaN   \n",
       "..                                    ...                      ...   \n",
       "280                                   NaN                      NaN   \n",
       "281                                   NaN                      NaN   \n",
       "282                                   NaN                      NaN   \n",
       "283                                   NaN                      NaN   \n",
       "284                                   NaN                      NaN   \n",
       "\n",
       "     referenced_tweets_1_type  referenced_tweets_1_id  \\\n",
       "0                         NaN                     NaN   \n",
       "1                         NaN                     NaN   \n",
       "2                         NaN                     NaN   \n",
       "3                         NaN                     NaN   \n",
       "4                         NaN                     NaN   \n",
       "..                        ...                     ...   \n",
       "280                       NaN                     NaN   \n",
       "281                       NaN                     NaN   \n",
       "282                       NaN                     NaN   \n",
       "283                       NaN                     NaN   \n",
       "284                       NaN                     NaN   \n",
       "\n",
       "     referenced_tweets_1_id_hydrate_author_id  \n",
       "0                                         NaN  \n",
       "1                                         NaN  \n",
       "2                                         NaN  \n",
       "3                                         NaN  \n",
       "4                                         NaN  \n",
       "..                                        ...  \n",
       "280                                       NaN  \n",
       "281                                       NaN  \n",
       "282                                       NaN  \n",
       "283                                       NaN  \n",
       "284                                       NaN  \n",
       "\n",
       "[285 rows x 49 columns]"
      ]
     },
     "execution_count": 61,
     "metadata": {},
     "output_type": "execute_result"
    }
   ],
   "source": [
    "bot_original_tweet"
   ]
  },
  {
   "cell_type": "code",
   "execution_count": null,
   "id": "5e87fd27-e2e4-4fd1-ab96-2a83418ccd80",
   "metadata": {},
   "outputs": [],
   "source": []
  }
 ],
 "metadata": {
  "kernelspec": {
   "display_name": "Python 3",
   "language": "python",
   "name": "python3"
  },
  "language_info": {
   "codemirror_mode": {
    "name": "ipython",
    "version": 3
   },
   "file_extension": ".py",
   "mimetype": "text/x-python",
   "name": "python",
   "nbconvert_exporter": "python",
   "pygments_lexer": "ipython3",
   "version": "3.9.13"
  }
 },
 "nbformat": 4,
 "nbformat_minor": 5
}
