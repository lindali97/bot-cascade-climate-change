{
 "cells": [
  {
   "cell_type": "code",
   "execution_count": null,
   "id": "173cd5b2",
   "metadata": {},
   "outputs": [],
   "source": [
    "import pandas as pd"
   ]
  },
  {
   "cell_type": "code",
   "execution_count": null,
   "id": "b572f830",
   "metadata": {},
   "outputs": [],
   "source": [
    "pwd"
   ]
  },
  {
   "cell_type": "code",
   "execution_count": null,
   "id": "03137f90",
   "metadata": {},
   "outputs": [],
   "source": [
    "p_in=\"../reg_table_with_ctrls_bot_prob/\""
   ]
  },
  {
   "cell_type": "code",
   "execution_count": null,
   "id": "4ab9751f",
   "metadata": {},
   "outputs": [],
   "source": [
    "df=pd.read_csv(p_in+\"xr_users_classified_0704_four_methods_wprob.csv\")"
   ]
  },
  {
   "cell_type": "code",
   "execution_count": null,
   "id": "c5e20f0d",
   "metadata": {},
   "outputs": [],
   "source": [
    "df.columns"
   ]
  },
  {
   "cell_type": "code",
   "execution_count": null,
   "id": "f7446a26",
   "metadata": {},
   "outputs": [],
   "source": [
    "df[[\"is_bot_dl_prob\",'is_bot_xgb_prob',\n",
    "   'is_bot_rf20_prob','is_bot_botometer_prob']].hist()"
   ]
  },
  {
   "cell_type": "code",
   "execution_count": null,
   "id": "6ea45b5e",
   "metadata": {},
   "outputs": [],
   "source": [
    "df[[\"is_bot_dl_prob\",'is_bot_xgb_prob',\n",
    "   'is_bot_rf20_prob','is_bot_botometer_prob']].corr('spearman')"
   ]
  },
  {
   "cell_type": "code",
   "execution_count": null,
   "id": "9dffca97",
   "metadata": {},
   "outputs": [],
   "source": [
    "df['botot_binary_07']=df[\"is_bot_botometer_prob\"].apply(lambda x: 1 if x>=0.75 else 0)"
   ]
  },
  {
   "cell_type": "code",
   "execution_count": null,
   "id": "230adda5",
   "metadata": {},
   "outputs": [],
   "source": [
    "df['botot_binary_07'].value_counts()"
   ]
  },
  {
   "cell_type": "code",
   "execution_count": null,
   "id": "10fb7d90",
   "metadata": {},
   "outputs": [],
   "source": [
    "pd.crosstab(df['is_bot_xgb'],df['botot_binary_07'])"
   ]
  },
  {
   "cell_type": "code",
   "execution_count": null,
   "id": "a73b6d0d",
   "metadata": {},
   "outputs": [],
   "source": [
    "df[[\"is_bot_dl_rough\",'is_bot_xgb',\n",
    "   'is_bot_rf20','botot_binary_07']].corr('spearman')"
   ]
  },
  {
   "cell_type": "code",
   "execution_count": null,
   "id": "214fb1f3",
   "metadata": {},
   "outputs": [],
   "source": [
    "df[[\"RF_bot_prob_user\",\"DL_bot_prob_user\",'XGB_bot_prob_user','BOTOMETER_bot_prob_user']].corr('spearman')"
   ]
  },
  {
   "cell_type": "code",
   "execution_count": null,
   "id": "f6cb1e7c",
   "metadata": {},
   "outputs": [],
   "source": []
  },
  {
   "cell_type": "code",
   "execution_count": null,
   "id": "3b0d6718",
   "metadata": {},
   "outputs": [],
   "source": [
    "df[[\"RF_bot_prob_matched\",\"DL_bot_prob_matched\",'XGB_bot_prob_matched','BOTOMETER_bot_prob_matched']].corr('spearman')"
   ]
  },
  {
   "cell_type": "code",
   "execution_count": null,
   "id": "dded860f",
   "metadata": {},
   "outputs": [],
   "source": [
    "df['BOTOMETER_bot_prob_user'].hist()"
   ]
  },
  {
   "cell_type": "code",
   "execution_count": null,
   "id": "c7d5f26c",
   "metadata": {},
   "outputs": [],
   "source": [
    "all_users=pd.read_csv(\"/Users/vorsi/Dropbox/bot and agenda-setting/codes and data/botometer/all_bots_0704.csv\")"
   ]
  },
  {
   "cell_type": "code",
   "execution_count": null,
   "id": "3a52586d",
   "metadata": {},
   "outputs": [],
   "source": [
    "all_users['english'].median()"
   ]
  },
  {
   "cell_type": "code",
   "execution_count": null,
   "id": "c86df2dc",
   "metadata": {},
   "outputs": [],
   "source": [
    "all_users['universal'].hist()"
   ]
  },
  {
   "cell_type": "code",
   "execution_count": null,
   "id": "7383b2e1",
   "metadata": {},
   "outputs": [],
   "source": [
    "all_users['english'].hist()"
   ]
  },
  {
   "cell_type": "code",
   "execution_count": null,
   "id": "11fa0e2c",
   "metadata": {},
   "outputs": [],
   "source": [
    "res=[]\n",
    "for i in [0.5,0.6,0.7,0.75,0.8,0.865, 0.9, 0.95]:\n",
    "    print(i)\n",
    "    res.append(len(all_users[all_users['english']>i]))"
   ]
  },
  {
   "cell_type": "code",
   "execution_count": null,
   "id": "18c9b842",
   "metadata": {},
   "outputs": [],
   "source": [
    "import matplotlib.pyplot as plt\n",
    "plt.plot([0.5,0.6,0.7,0.75,0.8,0.865, 0.9, 0.95],res)"
   ]
  },
  {
   "cell_type": "code",
   "execution_count": null,
   "id": "dd83a8f0",
   "metadata": {},
   "outputs": [],
   "source": [
    "len(all_users[all_users['english']<0.8])"
   ]
  },
  {
   "cell_type": "code",
   "execution_count": null,
   "id": "453826a8",
   "metadata": {},
   "outputs": [],
   "source": [
    "all_users[]"
   ]
  },
  {
   "cell_type": "code",
   "execution_count": null,
   "id": "5dd92509",
   "metadata": {},
   "outputs": [],
   "source": []
  }
 ],
 "metadata": {
  "kernelspec": {
   "display_name": "Python 3",
   "language": "python",
   "name": "python3"
  },
  "language_info": {
   "codemirror_mode": {
    "name": "ipython",
    "version": 3
   },
   "file_extension": ".py",
   "mimetype": "text/x-python",
   "name": "python",
   "nbconvert_exporter": "python",
   "pygments_lexer": "ipython3",
   "version": "3.9.13"
  }
 },
 "nbformat": 4,
 "nbformat_minor": 5
}
