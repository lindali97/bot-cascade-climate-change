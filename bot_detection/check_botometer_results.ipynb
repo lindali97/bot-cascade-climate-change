{
 "cells": [
  {
   "cell_type": "code",
   "execution_count": 1,
   "id": "173cd5b2",
   "metadata": {},
   "outputs": [],
   "source": [
    "import pandas as pd"
   ]
  },
  {
   "cell_type": "code",
   "execution_count": 2,
   "id": "b572f830",
   "metadata": {},
   "outputs": [
    {
     "data": {
      "text/plain": [
       "'/Users/vorsi/Dropbox/bot and agenda-setting/codes and data/orsi'"
      ]
     },
     "execution_count": 2,
     "metadata": {},
     "output_type": "execute_result"
    }
   ],
   "source": [
    "pwd"
   ]
  },
  {
   "cell_type": "code",
   "execution_count": 4,
   "id": "03137f90",
   "metadata": {},
   "outputs": [],
   "source": [
    "p_in=\"../reg_table_with_ctrls_bot_prob/\""
   ]
  },
  {
   "cell_type": "code",
   "execution_count": 61,
   "id": "4ab9751f",
   "metadata": {},
   "outputs": [],
   "source": [
    "df=pd.read_csv(p_in+\"xr_users_classified_0704_four_methods_wprob.csv\")"
   ]
  },
  {
   "cell_type": "code",
   "execution_count": 63,
   "id": "c5e20f0d",
   "metadata": {},
   "outputs": [
    {
     "data": {
      "text/plain": [
       "Index(['screen_name', 'id', 'is_bot_dl_rough', 'is_bot_dl_prob', 'is_bot_rf20',\n",
       "       'is_bot_rf20_prob', 'is_bot_xgb', 'is_bot_xgb_prob', 'link_to_url',\n",
       "       'is_bot_botometer_prob', 'is_bot_botometer_prob_universal',\n",
       "       'astroturf_display_english', 'fake_follower_display_english',\n",
       "       'financial_display_english', 'other_display_english',\n",
       "       'overall_display_english', 'self_declared_display_english',\n",
       "       'spammer_display_english', 'astroturf_display_universal',\n",
       "       'fake_follower_display_universal', 'financial_display_universal',\n",
       "       'other_display_universal', 'overall_display_universal',\n",
       "       'self_declared_display_universal', 'spammer_display_universal',\n",
       "       'astroturf', 'fake_follower', 'financial', 'other', 'overall',\n",
       "       'self_declared', 'spammer', 'astroturf_raw_universal',\n",
       "       'fake_follower_raw_universal', 'financial_raw_universal',\n",
       "       'other_raw_universal', 'overall_raw_universal',\n",
       "       'self_declared_raw_universal', 'spammer_raw_universal',\n",
       "       'is_bot_botometer_binary'],\n",
       "      dtype='object')"
      ]
     },
     "execution_count": 63,
     "metadata": {},
     "output_type": "execute_result"
    }
   ],
   "source": [
    "df.columns"
   ]
  },
  {
   "cell_type": "code",
   "execution_count": 65,
   "id": "f7446a26",
   "metadata": {},
   "outputs": [
    {
     "data": {
      "text/plain": [
       "array([[<Axes: title={'center': 'is_bot_dl_prob'}>,\n",
       "        <Axes: title={'center': 'is_bot_xgb_prob'}>],\n",
       "       [<Axes: title={'center': 'is_bot_rf20_prob'}>,\n",
       "        <Axes: title={'center': 'is_bot_botometer_prob'}>]], dtype=object)"
      ]
     },
     "execution_count": 65,
     "metadata": {},
     "output_type": "execute_result"
    },
    {
     "data": {
      "image/png": "[encoded data removed]",
      "text/plain": [
       "<Figure size 432x288 with 4 Axes>"
      ]
     },
     "metadata": {
      "needs_background": "light"
     },
     "output_type": "display_data"
    }
   ],
   "source": [
    "df[[\"is_bot_dl_prob\",'is_bot_xgb_prob',\n",
    "   'is_bot_rf20_prob','is_bot_botometer_prob']].hist()"
   ]
  },
  {
   "cell_type": "code",
   "execution_count": 66,
   "id": "6ea45b5e",
   "metadata": {},
   "outputs": [
    {
     "data": {
      "text/html": [
       "<div>\n",
       "<style scoped>\n",
       "    .dataframe tbody tr th:only-of-type {\n",
       "        vertical-align: middle;\n",
       "    }\n",
       "\n",
       "    .dataframe tbody tr th {\n",
       "        vertical-align: top;\n",
       "    }\n",
       "\n",
       "    .dataframe thead th {\n",
       "        text-align: right;\n",
       "    }\n",
       "</style>\n",
       "<table border=\"1\" class=\"dataframe\">\n",
       "  <thead>\n",
       "    <tr style=\"text-align: right;\">\n",
       "      <th></th>\n",
       "      <th>is_bot_dl_prob</th>\n",
       "      <th>is_bot_xgb_prob</th>\n",
       "      <th>is_bot_rf20_prob</th>\n",
       "      <th>is_bot_botometer_prob</th>\n",
       "    </tr>\n",
       "  </thead>\n",
       "  <tbody>\n",
       "    <tr>\n",
       "      <th>is_bot_dl_prob</th>\n",
       "      <td>1.000000</td>\n",
       "      <td>0.150202</td>\n",
       "      <td>0.307551</td>\n",
       "      <td>-0.176059</td>\n",
       "    </tr>\n",
       "    <tr>\n",
       "      <th>is_bot_xgb_prob</th>\n",
       "      <td>0.150202</td>\n",
       "      <td>1.000000</td>\n",
       "      <td>0.736934</td>\n",
       "      <td>0.238211</td>\n",
       "    </tr>\n",
       "    <tr>\n",
       "      <th>is_bot_rf20_prob</th>\n",
       "      <td>0.307551</td>\n",
       "      <td>0.736934</td>\n",
       "      <td>1.000000</td>\n",
       "      <td>0.145223</td>\n",
       "    </tr>\n",
       "    <tr>\n",
       "      <th>is_bot_botometer_prob</th>\n",
       "      <td>-0.176059</td>\n",
       "      <td>0.238211</td>\n",
       "      <td>0.145223</td>\n",
       "      <td>1.000000</td>\n",
       "    </tr>\n",
       "  </tbody>\n",
       "</table>\n",
       "</div>"
      ],
      "text/plain": [
       "                       is_bot_dl_prob  is_bot_xgb_prob  is_bot_rf20_prob   \n",
       "is_bot_dl_prob               1.000000         0.150202          0.307551  \\\n",
       "is_bot_xgb_prob              0.150202         1.000000          0.736934   \n",
       "is_bot_rf20_prob             0.307551         0.736934          1.000000   \n",
       "is_bot_botometer_prob       -0.176059         0.238211          0.145223   \n",
       "\n",
       "                       is_bot_botometer_prob  \n",
       "is_bot_dl_prob                     -0.176059  \n",
       "is_bot_xgb_prob                     0.238211  \n",
       "is_bot_rf20_prob                    0.145223  \n",
       "is_bot_botometer_prob               1.000000  "
      ]
     },
     "execution_count": 66,
     "metadata": {},
     "output_type": "execute_result"
    }
   ],
   "source": [
    "df[[\"is_bot_dl_prob\",'is_bot_xgb_prob',\n",
    "   'is_bot_rf20_prob','is_bot_botometer_prob']].corr('spearman')"
   ]
  },
  {
   "cell_type": "code",
   "execution_count": 88,
   "id": "9dffca97",
   "metadata": {},
   "outputs": [],
   "source": [
    "df['botot_binary_07']=df[\"is_bot_botometer_prob\"].apply(lambda x: 1 if x>=0.75 else 0)"
   ]
  },
  {
   "cell_type": "code",
   "execution_count": 89,
   "id": "230adda5",
   "metadata": {},
   "outputs": [
    {
     "data": {
      "text/plain": [
       "botot_binary_07\n",
       "0    97027\n",
       "1    39508\n",
       "Name: count, dtype: int64"
      ]
     },
     "execution_count": 89,
     "metadata": {},
     "output_type": "execute_result"
    }
   ],
   "source": [
    "df['botot_binary_07'].value_counts()"
   ]
  },
  {
   "cell_type": "code",
   "execution_count": 90,
   "id": "10fb7d90",
   "metadata": {},
   "outputs": [
    {
     "data": {
      "text/html": [
       "<div>\n",
       "<style scoped>\n",
       "    .dataframe tbody tr th:only-of-type {\n",
       "        vertical-align: middle;\n",
       "    }\n",
       "\n",
       "    .dataframe tbody tr th {\n",
       "        vertical-align: top;\n",
       "    }\n",
       "\n",
       "    .dataframe thead th {\n",
       "        text-align: right;\n",
       "    }\n",
       "</style>\n",
       "<table border=\"1\" class=\"dataframe\">\n",
       "  <thead>\n",
       "    <tr style=\"text-align: right;\">\n",
       "      <th>botot_binary_07</th>\n",
       "      <th>0</th>\n",
       "      <th>1</th>\n",
       "    </tr>\n",
       "    <tr>\n",
       "      <th>is_bot_xgb</th>\n",
       "      <th></th>\n",
       "      <th></th>\n",
       "    </tr>\n",
       "  </thead>\n",
       "  <tbody>\n",
       "    <tr>\n",
       "      <th>0</th>\n",
       "      <td>87591</td>\n",
       "      <td>28398</td>\n",
       "    </tr>\n",
       "    <tr>\n",
       "      <th>1</th>\n",
       "      <td>9436</td>\n",
       "      <td>11110</td>\n",
       "    </tr>\n",
       "  </tbody>\n",
       "</table>\n",
       "</div>"
      ],
      "text/plain": [
       "botot_binary_07      0      1\n",
       "is_bot_xgb                   \n",
       "0                87591  28398\n",
       "1                 9436  11110"
      ]
     },
     "execution_count": 90,
     "metadata": {},
     "output_type": "execute_result"
    }
   ],
   "source": [
    "pd.crosstab(df['is_bot_xgb'],df['botot_binary_07'])"
   ]
  },
  {
   "cell_type": "code",
   "execution_count": 86,
   "id": "a73b6d0d",
   "metadata": {},
   "outputs": [
    {
     "data": {
      "text/html": [
       "<div>\n",
       "<style scoped>\n",
       "    .dataframe tbody tr th:only-of-type {\n",
       "        vertical-align: middle;\n",
       "    }\n",
       "\n",
       "    .dataframe tbody tr th {\n",
       "        vertical-align: top;\n",
       "    }\n",
       "\n",
       "    .dataframe thead th {\n",
       "        text-align: right;\n",
       "    }\n",
       "</style>\n",
       "<table border=\"1\" class=\"dataframe\">\n",
       "  <thead>\n",
       "    <tr style=\"text-align: right;\">\n",
       "      <th></th>\n",
       "      <th>is_bot_dl_rough</th>\n",
       "      <th>is_bot_xgb</th>\n",
       "      <th>is_bot_rf20</th>\n",
       "      <th>botot_binary_07</th>\n",
       "    </tr>\n",
       "  </thead>\n",
       "  <tbody>\n",
       "    <tr>\n",
       "      <th>is_bot_dl_rough</th>\n",
       "      <td>1.000000</td>\n",
       "      <td>-0.035592</td>\n",
       "      <td>0.254411</td>\n",
       "      <td>-0.191667</td>\n",
       "    </tr>\n",
       "    <tr>\n",
       "      <th>is_bot_xgb</th>\n",
       "      <td>-0.035592</td>\n",
       "      <td>1.000000</td>\n",
       "      <td>0.344552</td>\n",
       "      <td>0.227686</td>\n",
       "    </tr>\n",
       "    <tr>\n",
       "      <th>is_bot_rf20</th>\n",
       "      <td>0.254411</td>\n",
       "      <td>0.344552</td>\n",
       "      <td>1.000000</td>\n",
       "      <td>0.065894</td>\n",
       "    </tr>\n",
       "    <tr>\n",
       "      <th>botot_binary_07</th>\n",
       "      <td>-0.191667</td>\n",
       "      <td>0.227686</td>\n",
       "      <td>0.065894</td>\n",
       "      <td>1.000000</td>\n",
       "    </tr>\n",
       "  </tbody>\n",
       "</table>\n",
       "</div>"
      ],
      "text/plain": [
       "                 is_bot_dl_rough  is_bot_xgb  is_bot_rf20  botot_binary_07\n",
       "is_bot_dl_rough         1.000000   -0.035592     0.254411        -0.191667\n",
       "is_bot_xgb             -0.035592    1.000000     0.344552         0.227686\n",
       "is_bot_rf20             0.254411    0.344552     1.000000         0.065894\n",
       "botot_binary_07        -0.191667    0.227686     0.065894         1.000000"
      ]
     },
     "execution_count": 86,
     "metadata": {},
     "output_type": "execute_result"
    }
   ],
   "source": [
    "df[[\"is_bot_dl_rough\",'is_bot_xgb',\n",
    "   'is_bot_rf20','botot_binary_07']].corr('spearman')"
   ]
  },
  {
   "cell_type": "code",
   "execution_count": 13,
   "id": "214fb1f3",
   "metadata": {},
   "outputs": [
    {
     "data": {
      "text/html": [
       "<div>\n",
       "<style scoped>\n",
       "    .dataframe tbody tr th:only-of-type {\n",
       "        vertical-align: middle;\n",
       "    }\n",
       "\n",
       "    .dataframe tbody tr th {\n",
       "        vertical-align: top;\n",
       "    }\n",
       "\n",
       "    .dataframe thead th {\n",
       "        text-align: right;\n",
       "    }\n",
       "</style>\n",
       "<table border=\"1\" class=\"dataframe\">\n",
       "  <thead>\n",
       "    <tr style=\"text-align: right;\">\n",
       "      <th></th>\n",
       "      <th>RF_bot_prob_user</th>\n",
       "      <th>DL_bot_prob_user</th>\n",
       "      <th>XGB_bot_prob_user</th>\n",
       "      <th>BOTOMETER_bot_prob_user</th>\n",
       "    </tr>\n",
       "  </thead>\n",
       "  <tbody>\n",
       "    <tr>\n",
       "      <th>RF_bot_prob_user</th>\n",
       "      <td>1.000000</td>\n",
       "      <td>0.207068</td>\n",
       "      <td>0.372441</td>\n",
       "      <td>0.075239</td>\n",
       "    </tr>\n",
       "    <tr>\n",
       "      <th>DL_bot_prob_user</th>\n",
       "      <td>0.207068</td>\n",
       "      <td>1.000000</td>\n",
       "      <td>-0.056883</td>\n",
       "      <td>-0.145520</td>\n",
       "    </tr>\n",
       "    <tr>\n",
       "      <th>XGB_bot_prob_user</th>\n",
       "      <td>0.372441</td>\n",
       "      <td>-0.056883</td>\n",
       "      <td>1.000000</td>\n",
       "      <td>0.256460</td>\n",
       "    </tr>\n",
       "    <tr>\n",
       "      <th>BOTOMETER_bot_prob_user</th>\n",
       "      <td>0.075239</td>\n",
       "      <td>-0.145520</td>\n",
       "      <td>0.256460</td>\n",
       "      <td>1.000000</td>\n",
       "    </tr>\n",
       "  </tbody>\n",
       "</table>\n",
       "</div>"
      ],
      "text/plain": [
       "                         RF_bot_prob_user  DL_bot_prob_user   \n",
       "RF_bot_prob_user                 1.000000          0.207068  \\\n",
       "DL_bot_prob_user                 0.207068          1.000000   \n",
       "XGB_bot_prob_user                0.372441         -0.056883   \n",
       "BOTOMETER_bot_prob_user          0.075239         -0.145520   \n",
       "\n",
       "                         XGB_bot_prob_user  BOTOMETER_bot_prob_user  \n",
       "RF_bot_prob_user                  0.372441                 0.075239  \n",
       "DL_bot_prob_user                 -0.056883                -0.145520  \n",
       "XGB_bot_prob_user                 1.000000                 0.256460  \n",
       "BOTOMETER_bot_prob_user           0.256460                 1.000000  "
      ]
     },
     "execution_count": 13,
     "metadata": {},
     "output_type": "execute_result"
    }
   ],
   "source": [
    "df[[\"RF_bot_prob_user\",\"DL_bot_prob_user\",'XGB_bot_prob_user','BOTOMETER_bot_prob_user']].corr('spearman')"
   ]
  },
  {
   "cell_type": "code",
   "execution_count": null,
   "id": "f6cb1e7c",
   "metadata": {},
   "outputs": [],
   "source": []
  },
  {
   "cell_type": "code",
   "execution_count": 14,
   "id": "3b0d6718",
   "metadata": {},
   "outputs": [
    {
     "data": {
      "text/html": [
       "<div>\n",
       "<style scoped>\n",
       "    .dataframe tbody tr th:only-of-type {\n",
       "        vertical-align: middle;\n",
       "    }\n",
       "\n",
       "    .dataframe tbody tr th {\n",
       "        vertical-align: top;\n",
       "    }\n",
       "\n",
       "    .dataframe thead th {\n",
       "        text-align: right;\n",
       "    }\n",
       "</style>\n",
       "<table border=\"1\" class=\"dataframe\">\n",
       "  <thead>\n",
       "    <tr style=\"text-align: right;\">\n",
       "      <th></th>\n",
       "      <th>RF_bot_prob_matched</th>\n",
       "      <th>DL_bot_prob_matched</th>\n",
       "      <th>XGB_bot_prob_matched</th>\n",
       "      <th>BOTOMETER_bot_prob_matched</th>\n",
       "    </tr>\n",
       "  </thead>\n",
       "  <tbody>\n",
       "    <tr>\n",
       "      <th>RF_bot_prob_matched</th>\n",
       "      <td>1.000000</td>\n",
       "      <td>0.255342</td>\n",
       "      <td>0.666104</td>\n",
       "      <td>-0.059809</td>\n",
       "    </tr>\n",
       "    <tr>\n",
       "      <th>DL_bot_prob_matched</th>\n",
       "      <td>0.255342</td>\n",
       "      <td>1.000000</td>\n",
       "      <td>0.197121</td>\n",
       "      <td>-0.209249</td>\n",
       "    </tr>\n",
       "    <tr>\n",
       "      <th>XGB_bot_prob_matched</th>\n",
       "      <td>0.666104</td>\n",
       "      <td>0.197121</td>\n",
       "      <td>1.000000</td>\n",
       "      <td>0.101951</td>\n",
       "    </tr>\n",
       "    <tr>\n",
       "      <th>BOTOMETER_bot_prob_matched</th>\n",
       "      <td>-0.059809</td>\n",
       "      <td>-0.209249</td>\n",
       "      <td>0.101951</td>\n",
       "      <td>1.000000</td>\n",
       "    </tr>\n",
       "  </tbody>\n",
       "</table>\n",
       "</div>"
      ],
      "text/plain": [
       "                            RF_bot_prob_matched  DL_bot_prob_matched   \n",
       "RF_bot_prob_matched                    1.000000             0.255342  \\\n",
       "DL_bot_prob_matched                    0.255342             1.000000   \n",
       "XGB_bot_prob_matched                   0.666104             0.197121   \n",
       "BOTOMETER_bot_prob_matched            -0.059809            -0.209249   \n",
       "\n",
       "                            XGB_bot_prob_matched  BOTOMETER_bot_prob_matched  \n",
       "RF_bot_prob_matched                     0.666104                   -0.059809  \n",
       "DL_bot_prob_matched                     0.197121                   -0.209249  \n",
       "XGB_bot_prob_matched                    1.000000                    0.101951  \n",
       "BOTOMETER_bot_prob_matched              0.101951                    1.000000  "
      ]
     },
     "execution_count": 14,
     "metadata": {},
     "output_type": "execute_result"
    }
   ],
   "source": [
    "df[[\"RF_bot_prob_matched\",\"DL_bot_prob_matched\",'XGB_bot_prob_matched','BOTOMETER_bot_prob_matched']].corr('spearman')"
   ]
  },
  {
   "cell_type": "code",
   "execution_count": 15,
   "id": "dded860f",
   "metadata": {},
   "outputs": [
    {
     "name": "stderr",
     "output_type": "stream",
     "text": [
      "\n",
      "Bad key text.latex.preview in file /Users/vorsi/opt/anaconda3/lib/python3.8/site-packages/matplotlib/mpl-data/stylelib/_classic_test.mplstyle, line 123 ('text.latex.preview : False')\n",
      "You probably need to get an updated matplotlibrc file from\n",
      "https://github.com/matplotlib/matplotlib/blob/v3.7.1/matplotlibrc.template\n",
      "or from the matplotlib source distribution\n",
      "\n",
      "Bad key mathtext.fallback_to_cm in file /Users/vorsi/opt/anaconda3/lib/python3.8/site-packages/matplotlib/mpl-data/stylelib/_classic_test.mplstyle, line 155 ('mathtext.fallback_to_cm : True  # When True, use symbols from the Computer Modern')\n",
      "You probably need to get an updated matplotlibrc file from\n",
      "https://github.com/matplotlib/matplotlib/blob/v3.7.1/matplotlibrc.template\n",
      "or from the matplotlib source distribution\n",
      "\n",
      "Bad key savefig.jpeg_quality in file /Users/vorsi/opt/anaconda3/lib/python3.8/site-packages/matplotlib/mpl-data/stylelib/_classic_test.mplstyle, line 418 ('savefig.jpeg_quality: 95       # when a jpeg is saved, the default quality parameter.')\n",
      "You probably need to get an updated matplotlibrc file from\n",
      "https://github.com/matplotlib/matplotlib/blob/v3.7.1/matplotlibrc.template\n",
      "or from the matplotlib source distribution\n",
      "\n",
      "Bad key keymap.all_axes in file /Users/vorsi/opt/anaconda3/lib/python3.8/site-packages/matplotlib/mpl-data/stylelib/_classic_test.mplstyle, line 466 ('keymap.all_axes : a                 # enable all axes')\n",
      "You probably need to get an updated matplotlibrc file from\n",
      "https://github.com/matplotlib/matplotlib/blob/v3.7.1/matplotlibrc.template\n",
      "or from the matplotlib source distribution\n",
      "\n",
      "Bad key animation.avconv_path in file /Users/vorsi/opt/anaconda3/lib/python3.8/site-packages/matplotlib/mpl-data/stylelib/_classic_test.mplstyle, line 477 ('animation.avconv_path: avconv     # Path to avconv binary. Without full path')\n",
      "You probably need to get an updated matplotlibrc file from\n",
      "https://github.com/matplotlib/matplotlib/blob/v3.7.1/matplotlibrc.template\n",
      "or from the matplotlib source distribution\n",
      "\n",
      "Bad key animation.avconv_args in file /Users/vorsi/opt/anaconda3/lib/python3.8/site-packages/matplotlib/mpl-data/stylelib/_classic_test.mplstyle, line 479 ('animation.avconv_args:            # Additional arguments to pass to avconv')\n",
      "You probably need to get an updated matplotlibrc file from\n",
      "https://github.com/matplotlib/matplotlib/blob/v3.7.1/matplotlibrc.template\n",
      "or from the matplotlib source distribution\n"
     ]
    },
    {
     "data": {
      "text/plain": [
       "<Axes: >"
      ]
     },
     "execution_count": 15,
     "metadata": {},
     "output_type": "execute_result"
    },
    {
     "data": {
      "image/png": "[encoded data removed]",
      "text/plain": [
       "<Figure size 432x288 with 1 Axes>"
      ]
     },
     "metadata": {
      "needs_background": "light"
     },
     "output_type": "display_data"
    }
   ],
   "source": [
    "df['BOTOMETER_bot_prob_user'].hist()"
   ]
  },
  {
   "cell_type": "code",
   "execution_count": 16,
   "id": "c7d5f26c",
   "metadata": {},
   "outputs": [],
   "source": [
    "all_users=pd.read_csv(\"/Users/vorsi/Dropbox/bot and agenda-setting/codes and data/botometer/all_bots_0704.csv\")"
   ]
  },
  {
   "cell_type": "code",
   "execution_count": 24,
   "id": "3a52586d",
   "metadata": {},
   "outputs": [
    {
     "data": {
      "text/plain": [
       "0.5539725719744064"
      ]
     },
     "execution_count": 24,
     "metadata": {},
     "output_type": "execute_result"
    }
   ],
   "source": [
    "all_users['english'].median()"
   ]
  },
  {
   "cell_type": "code",
   "execution_count": 20,
   "id": "c86df2dc",
   "metadata": {},
   "outputs": [
    {
     "data": {
      "text/plain": [
       "<Axes: >"
      ]
     },
     "execution_count": 20,
     "metadata": {},
     "output_type": "execute_result"
    },
    {
     "data": {
      "image/png": "[encoded data removed]",
      "text/plain": [
       "<Figure size 432x288 with 1 Axes>"
      ]
     },
     "metadata": {
      "needs_background": "light"
     },
     "output_type": "display_data"
    }
   ],
   "source": [
    "all_users['universal'].hist()"
   ]
  },
  {
   "cell_type": "code",
   "execution_count": 38,
   "id": "7383b2e1",
   "metadata": {},
   "outputs": [
    {
     "data": {
      "text/plain": [
       "<Axes: >"
      ]
     },
     "execution_count": 38,
     "metadata": {},
     "output_type": "execute_result"
    },
    {
     "data": {
      "image/png": "[encoded data removed]",
      "text/plain": [
       "<Figure size 432x288 with 1 Axes>"
      ]
     },
     "metadata": {
      "needs_background": "light"
     },
     "output_type": "display_data"
    }
   ],
   "source": [
    "all_users['english'].hist()"
   ]
  },
  {
   "cell_type": "code",
   "execution_count": 58,
   "id": "11fa0e2c",
   "metadata": {},
   "outputs": [
    {
     "name": "stdout",
     "output_type": "stream",
     "text": [
      "0.5\n",
      "0.6\n",
      "0.7\n",
      "0.75\n",
      "0.8\n",
      "0.865\n",
      "0.9\n",
      "0.95\n"
     ]
    }
   ],
   "source": [
    "res=[]\n",
    "for i in [0.5,0.6,0.7,0.75,0.8,0.865, 0.9, 0.95]:\n",
    "    print(i)\n",
    "    res.append(len(all_users[all_users['english']>i]))"
   ]
  },
  {
   "cell_type": "code",
   "execution_count": 60,
   "id": "18c9b842",
   "metadata": {},
   "outputs": [
    {
     "data": {
      "text/plain": [
       "[<matplotlib.lines.Line2D at 0x7fa52353b940>]"
      ]
     },
     "execution_count": 60,
     "metadata": {},
     "output_type": "execute_result"
    },
    {
     "data": {
      "image/png": "[encoded data removed]",
      "text/plain": [
       "<Figure size 432x288 with 1 Axes>"
      ]
     },
     "metadata": {
      "needs_background": "light"
     },
     "output_type": "display_data"
    }
   ],
   "source": [
    "import matplotlib.pyplot as plt\n",
    "plt.plot([0.5,0.6,0.7,0.75,0.8,0.865, 0.9, 0.95],res)"
   ]
  },
  {
   "cell_type": "code",
   "execution_count": 48,
   "id": "dd83a8f0",
   "metadata": {},
   "outputs": [
    {
     "data": {
      "text/plain": [
       "111454"
      ]
     },
     "execution_count": 48,
     "metadata": {},
     "output_type": "execute_result"
    }
   ],
   "source": [
    "len(all_users[all_users['english']<0.8])"
   ]
  },
  {
   "cell_type": "code",
   "execution_count": 25,
   "id": "453826a8",
   "metadata": {},
   "outputs": [
    {
     "data": {
      "text/plain": [
       "Index(['Unnamed: 0', 'id_str', 'screen_name', 'majority_lang', 'english',\n",
       "       'universal', 'astroturf_display_english',\n",
       "       'fake_follower_display_english', 'financial_display_english',\n",
       "       'other_display_english', 'overall_display_english',\n",
       "       'self_declared_display_english', 'spammer_display_english',\n",
       "       'astroturf_display_universal', 'fake_follower_display_universal',\n",
       "       'financial_display_universal', 'other_display_universal',\n",
       "       'overall_display_universal', 'self_declared_display_universal',\n",
       "       'spammer_display_universal', 'astroturf', 'fake_follower', 'financial',\n",
       "       'other', 'overall', 'self_declared', 'spammer',\n",
       "       'astroturf_raw_universal', 'fake_follower_raw_universal',\n",
       "       'financial_raw_universal', 'other_raw_universal',\n",
       "       'overall_raw_universal', 'self_declared_raw_universal',\n",
       "       'spammer_raw_universal'],\n",
       "      dtype='object')"
      ]
     },
     "execution_count": 25,
     "metadata": {},
     "output_type": "execute_result"
    }
   ],
   "source": [
    "all_users[]"
   ]
  },
  {
   "cell_type": "code",
   "execution_count": null,
   "id": "5dd92509",
   "metadata": {},
   "outputs": [],
   "source": []
  }
 ],
 "metadata": {
  "kernelspec": {
   "display_name": "Python 3",
   "language": "python",
   "name": "python3"
  },
  "language_info": {
   "codemirror_mode": {
    "name": "ipython",
    "version": 3
   },
   "file_extension": ".py",
   "mimetype": "text/x-python",
   "name": "python",
   "nbconvert_exporter": "python",
   "pygments_lexer": "ipython3",
   "version": "3.8.8"
  }
 },
 "nbformat": 4,
 "nbformat_minor": 5
}
