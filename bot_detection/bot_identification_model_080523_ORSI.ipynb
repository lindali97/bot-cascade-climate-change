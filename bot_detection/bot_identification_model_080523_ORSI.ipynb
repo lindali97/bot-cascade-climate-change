{
 "cells": [
  {
   "cell_type": "code",
   "execution_count": 1,
   "id": "bbdfe27a-520e-48b2-8820-ed21de54b3a4",
   "metadata": {},
   "outputs": [
    {
     "name": "stderr",
     "output_type": "stream",
     "text": [
      "\n",
      "Bad key text.latex.preview in file /Users/vorsi/opt/anaconda3/lib/python3.8/site-packages/matplotlib/mpl-data/stylelib/_classic_test.mplstyle, line 123 ('text.latex.preview : False')\n",
      "You probably need to get an updated matplotlibrc file from\n",
      "https://github.com/matplotlib/matplotlib/blob/v3.7.1/matplotlibrc.template\n",
      "or from the matplotlib source distribution\n",
      "\n",
      "Bad key mathtext.fallback_to_cm in file /Users/vorsi/opt/anaconda3/lib/python3.8/site-packages/matplotlib/mpl-data/stylelib/_classic_test.mplstyle, line 155 ('mathtext.fallback_to_cm : True  # When True, use symbols from the Computer Modern')\n",
      "You probably need to get an updated matplotlibrc file from\n",
      "https://github.com/matplotlib/matplotlib/blob/v3.7.1/matplotlibrc.template\n",
      "or from the matplotlib source distribution\n",
      "\n",
      "Bad key savefig.jpeg_quality in file /Users/vorsi/opt/anaconda3/lib/python3.8/site-packages/matplotlib/mpl-data/stylelib/_classic_test.mplstyle, line 418 ('savefig.jpeg_quality: 95       # when a jpeg is saved, the default quality parameter.')\n",
      "You probably need to get an updated matplotlibrc file from\n",
      "https://github.com/matplotlib/matplotlib/blob/v3.7.1/matplotlibrc.template\n",
      "or from the matplotlib source distribution\n",
      "\n",
      "Bad key keymap.all_axes in file /Users/vorsi/opt/anaconda3/lib/python3.8/site-packages/matplotlib/mpl-data/stylelib/_classic_test.mplstyle, line 466 ('keymap.all_axes : a                 # enable all axes')\n",
      "You probably need to get an updated matplotlibrc file from\n",
      "https://github.com/matplotlib/matplotlib/blob/v3.7.1/matplotlibrc.template\n",
      "or from the matplotlib source distribution\n",
      "\n",
      "Bad key animation.avconv_path in file /Users/vorsi/opt/anaconda3/lib/python3.8/site-packages/matplotlib/mpl-data/stylelib/_classic_test.mplstyle, line 477 ('animation.avconv_path: avconv     # Path to avconv binary. Without full path')\n",
      "You probably need to get an updated matplotlibrc file from\n",
      "https://github.com/matplotlib/matplotlib/blob/v3.7.1/matplotlibrc.template\n",
      "or from the matplotlib source distribution\n",
      "\n",
      "Bad key animation.avconv_args in file /Users/vorsi/opt/anaconda3/lib/python3.8/site-packages/matplotlib/mpl-data/stylelib/_classic_test.mplstyle, line 479 ('animation.avconv_args:            # Additional arguments to pass to avconv')\n",
      "You probably need to get an updated matplotlibrc file from\n",
      "https://github.com/matplotlib/matplotlib/blob/v3.7.1/matplotlibrc.template\n",
      "or from the matplotlib source distribution\n"
     ]
    }
   ],
   "source": [
    "import pandas as pd\n",
    "import numpy as np\n",
    "import json\n",
    "import re\n",
    "import os\n",
    "from datetime import datetime\n",
    "\n",
    "import matplotlib.pyplot as plt\n",
    "import seaborn as sns"
   ]
  },
  {
   "cell_type": "code",
   "execution_count": 2,
   "id": "92eb2354",
   "metadata": {},
   "outputs": [],
   "source": [
    "from sklearn.model_selection import train_test_split"
   ]
  },
  {
   "cell_type": "code",
   "execution_count": 3,
   "id": "56fcc275-6242-46dd-ae03-24303cfc40b9",
   "metadata": {},
   "outputs": [],
   "source": [
    "import sklearn\n",
    "#from sklearn import *\n",
    "from sklearn.feature_extraction.text import CountVectorizer, TfidfVectorizer\n",
    "from sklearn.ensemble import RandomForestClassifier\n",
    "from sklearn.pipeline import Pipeline\n",
    "from nltk.tokenize import TweetTokenizer\n",
    "from sklearn.svm import SVC\n",
    "from sklearn.linear_model import LogisticRegression\n",
    "from sklearn.model_selection import RandomizedSearchCV\n",
    "from sklearn.model_selection import GridSearchCV\n",
    "\n",
    "\n",
    "import joblib\n",
    "from sklearn.preprocessing import StandardScaler\n",
    "\n",
    "from sklearn.metrics import roc_curve\n",
    "from sklearn.metrics import roc_auc_score\n",
    "\n",
    "#import tensorflow as tf\n",
    "#from keras.models import Sequential\n",
    "#from keras.layers import Dense\n",
    "#from keras.layers import Dropout\n",
    "#from keras.layers import Flatten\n",
    "#from keras.metrics import *\n",
    "#import keras"
   ]
  },
  {
   "cell_type": "code",
   "execution_count": 4,
   "id": "4926a2b1-5db4-4df2-9926-facadcba45ed",
   "metadata": {},
   "outputs": [],
   "source": [
    "from sklearn.inspection import permutation_importance\n",
    "import rfpimp\n",
    "#from eli5.sklearn import PermutationImportance"
   ]
  },
  {
   "cell_type": "code",
   "execution_count": 5,
   "id": "b7c36707-0157-40ec-ae12-cb2397ff0efc",
   "metadata": {},
   "outputs": [],
   "source": [
    "import pandas as pd"
   ]
  },
  {
   "cell_type": "code",
   "execution_count": 6,
   "id": "a964073a-b5ca-40b0-be2b-97df0684de61",
   "metadata": {},
   "outputs": [],
   "source": [
    "%matplotlib inline"
   ]
  },
  {
   "cell_type": "code",
   "execution_count": 7,
   "id": "c6969afa",
   "metadata": {},
   "outputs": [],
   "source": [
    "p_in=\"/Users/vorsi/Dropbox/bot and agenda-setting/codes and data/bot_identification_code_and_data/\""
   ]
  },
  {
   "cell_type": "code",
   "execution_count": 8,
   "id": "6108a0aa",
   "metadata": {},
   "outputs": [],
   "source": [
    "#pd.read_json(p_in+\"training_set/Twibot-20/dev.json\")"
   ]
  },
  {
   "cell_type": "markdown",
   "id": "f381f844-9f6c-4d63-b38e-83a5a7918cb7",
   "metadata": {
    "tags": []
   },
   "source": [
    "### Data preprocessing"
   ]
  },
  {
   "cell_type": "code",
   "execution_count": null,
   "id": "5c027b29-0371-4c04-9f27-5aab445fb38e",
   "metadata": {},
   "outputs": [],
   "source": [
    "# Reading in json training set & data preprocessing\n",
    "def json_unifier(file_path, is_bot = None):\n",
    "    with open(file_path) as f:\n",
    "        file = json.loads(f.read())\n",
    "        key_to_extract = list(file[0].keys())[1]\n",
    "        user_dict_list = [i[key_to_extract] for i in file]\n",
    "    df = pd.DataFrame(user_dict_list)\n",
    "    if is_bot is not None:\n",
    "        df['is_bot'] = is_bot\n",
    "    elif file_path != \"./training_set/Twibot-20/train.json\":\n",
    "        identification_path = file_path.replace(\"_tweets.json\", \".tsv\")\n",
    "        tag_df = pd.read_csv(identification_path, sep='\\t', names = ['id','is_bot'])\n",
    "        tag_df['is_bot'] = [1.0 if i == \"bot\" else 0.0 for i in list(tag_df['is_bot'])]\n",
    "        df = pd.merge(df,tag_df,left_on='id',right_on='id', copy = False, suffixes=(None, '_y'))\n",
    "        #df['is_bot'] = df[\"is_bot_y\"]\n",
    "        #df.drop(labels = [\"id_y\", \"is_bot_y\"], axis = 1)\n",
    "        #print(df)\n",
    "    else:\n",
    "        with open(file_path) as f:\n",
    "            file = json.loads(f.read())\n",
    "            key_to_extract_new = list(file[0].keys())[5]\n",
    "            is_bot = [int(i[key_to_extract_new]) for i in file]\n",
    "        df['is_bot'] = is_bot\n",
    "    return df\n",
    "\n",
    "training_set_paths = {p_in+\"training_set/Twibot-20/train.json\":None,\n",
    "                     p_in+\"training_set/verified-2019_tweets.json\":0,\n",
    "                     p_in+\"training_set/vendor-purchased-2019_tweets.json\":1,\n",
    "                     p_in+\"training_set/political-bots-2019_tweets.json\":1,\n",
    "                     p_in+\"training_set/cresci-rtbust-2019_tweets.json\":None,\n",
    "                      p_in+\"training_set/botometer-feedback-2019_tweets.json\":None,\n",
    "                     p_in+\"training_set/botwiki-2019/botwiki-2019_tweets.json\":1\n",
    "                     }\n",
    "all_df = pd.DataFrame()\n",
    "for file,is_bot in training_set_paths.items():\n",
    "    #print(is_bot)\n",
    "    training_df = json_unifier(file, is_bot)\n",
    "    all_df = pd.concat([all_df, pd.DataFrame([training_df])], ignore_index=True)\n",
    "    #all_df = all_df.append(training_df,ignore_index = True)\n"
   ]
  },
  {
   "cell_type": "code",
   "execution_count": 11,
   "id": "7e24407b",
   "metadata": {},
   "outputs": [
    {
     "data": {
      "text/html": [
       "<div>\n",
       "<style scoped>\n",
       "    .dataframe tbody tr th:only-of-type {\n",
       "        vertical-align: middle;\n",
       "    }\n",
       "\n",
       "    .dataframe tbody tr th {\n",
       "        vertical-align: top;\n",
       "    }\n",
       "\n",
       "    .dataframe thead th {\n",
       "        text-align: right;\n",
       "    }\n",
       "</style>\n",
       "<table border=\"1\" class=\"dataframe\">\n",
       "  <thead>\n",
       "    <tr style=\"text-align: right;\">\n",
       "      <th></th>\n",
       "      <th>id</th>\n",
       "      <th>id_str</th>\n",
       "      <th>name</th>\n",
       "      <th>screen_name</th>\n",
       "      <th>location</th>\n",
       "      <th>profile_location</th>\n",
       "      <th>description</th>\n",
       "      <th>url</th>\n",
       "      <th>entities</th>\n",
       "      <th>protected</th>\n",
       "      <th>...</th>\n",
       "      <th>profile_image_url_https</th>\n",
       "      <th>profile_link_color</th>\n",
       "      <th>profile_sidebar_border_color</th>\n",
       "      <th>profile_sidebar_fill_color</th>\n",
       "      <th>profile_text_color</th>\n",
       "      <th>profile_use_background_image</th>\n",
       "      <th>has_extended_profile</th>\n",
       "      <th>default_profile</th>\n",
       "      <th>default_profile_image</th>\n",
       "      <th>is_bot</th>\n",
       "    </tr>\n",
       "  </thead>\n",
       "  <tbody>\n",
       "  </tbody>\n",
       "</table>\n",
       "<p>0 rows × 39 columns</p>\n",
       "</div>"
      ],
      "text/plain": [
       "Empty DataFrame\n",
       "Columns: [id, id_str, name, screen_name, location, profile_location, description, url, entities, protected, followers_count, friends_count, listed_count, created_at, favourites_count, utc_offset, time_zone, geo_enabled, verified, statuses_count, lang, contributors_enabled, is_translator, is_translation_enabled, profile_background_color, profile_background_image_url, profile_background_image_url_https, profile_background_tile, profile_image_url, profile_image_url_https, profile_link_color, profile_sidebar_border_color, profile_sidebar_fill_color, profile_text_color, profile_use_background_image, has_extended_profile, default_profile, default_profile_image, is_bot]\n",
       "Index: []\n",
       "\n",
       "[0 rows x 39 columns]"
      ]
     },
     "execution_count": 11,
     "metadata": {},
     "output_type": "execute_result"
    }
   ],
   "source": [
    "training_df"
   ]
  },
  {
   "cell_type": "code",
   "execution_count": 48,
   "id": "3e67c2bf-3ece-4fed-a48a-f2e3489db416",
   "metadata": {},
   "outputs": [],
   "source": [
    "file_path = \"./training_set/Twibot-20/train.json\"\n",
    "is_bot = None"
   ]
  },
  {
   "cell_type": "code",
   "execution_count": 49,
   "id": "104b0335-3b56-40d4-bb9a-3b6f9a35aba6",
   "metadata": {},
   "outputs": [],
   "source": [
    "# read in csv files\n",
    "delete_list = ['timestamp', 'crawled_at', 'updated', 'test_set_1','test_set_2']\n",
    "def csv_unifier(file_path, is_bot = None):\n",
    "    df = pd.read_csv(file_path)\n",
    "    column_list = list(df.columns)\n",
    "    column_list = [i for i in column_list if i not in delete_list]\n",
    "    df = df[column_list]\n",
    "    if is_bot is not None:\n",
    "        df['is_bot'] = is_bot\n",
    "    return df\n",
    "\n",
    "csv_set_paths = {\"./training_set/users_real.csv\":0,\n",
    "            \"./training_set/users.csv\":1,\n",
    "            \"./training_set/users_fake_follower.csv\":1,\n",
    "                 \"./training_set/users_socialbot.csv\":1\n",
    "                }\n",
    "for file, is_bot in csv_set_paths.items():\n",
    "    training_df = csv_unifier(file, is_bot)\n",
    "    all_df = all_df.append(training_df, ignore_index = True)\n"
   ]
  },
  {
   "cell_type": "code",
   "execution_count": 51,
   "id": "00d6f63f",
   "metadata": {},
   "outputs": [
    {
     "data": {
      "text/html": [
       "<div>\n",
       "<style scoped>\n",
       "    .dataframe tbody tr th:only-of-type {\n",
       "        vertical-align: middle;\n",
       "    }\n",
       "\n",
       "    .dataframe tbody tr th {\n",
       "        vertical-align: top;\n",
       "    }\n",
       "\n",
       "    .dataframe thead th {\n",
       "        text-align: right;\n",
       "    }\n",
       "</style>\n",
       "<table border=\"1\" class=\"dataframe\">\n",
       "  <thead>\n",
       "    <tr style=\"text-align: right;\">\n",
       "      <th></th>\n",
       "      <th>id</th>\n",
       "      <th>id_str</th>\n",
       "      <th>name</th>\n",
       "      <th>screen_name</th>\n",
       "      <th>location</th>\n",
       "      <th>profile_location</th>\n",
       "      <th>description</th>\n",
       "      <th>url</th>\n",
       "      <th>entities</th>\n",
       "      <th>protected</th>\n",
       "      <th>...</th>\n",
       "      <th>profile_use_background_image</th>\n",
       "      <th>has_extended_profile</th>\n",
       "      <th>default_profile</th>\n",
       "      <th>default_profile_image</th>\n",
       "      <th>is_bot</th>\n",
       "      <th>profile_banner_url</th>\n",
       "      <th>following</th>\n",
       "      <th>follow_request_sent</th>\n",
       "      <th>notifications</th>\n",
       "      <th>translator_type</th>\n",
       "    </tr>\n",
       "  </thead>\n",
       "  <tbody>\n",
       "    <tr>\n",
       "      <th>16315</th>\n",
       "      <td>2349367388</td>\n",
       "      <td>NaN</td>\n",
       "      <td>Ruby Porchia</td>\n",
       "      <td>RubyPorchia</td>\n",
       "      <td>NaN</td>\n",
       "      <td>NaN</td>\n",
       "      <td>NaN</td>\n",
       "      <td>NaN</td>\n",
       "      <td>NaN</td>\n",
       "      <td>NaN</td>\n",
       "      <td>...</td>\n",
       "      <td>1</td>\n",
       "      <td>NaN</td>\n",
       "      <td>NaN</td>\n",
       "      <td>NaN</td>\n",
       "      <td>1.0</td>\n",
       "      <td>NaN</td>\n",
       "      <td>NaN</td>\n",
       "      <td>NaN</td>\n",
       "      <td>NaN</td>\n",
       "      <td>NaN</td>\n",
       "    </tr>\n",
       "    <tr>\n",
       "      <th>16316</th>\n",
       "      <td>2391867347</td>\n",
       "      <td>NaN</td>\n",
       "      <td>Masud Thomas</td>\n",
       "      <td>MasudThomas</td>\n",
       "      <td>NaN</td>\n",
       "      <td>NaN</td>\n",
       "      <td>NaN</td>\n",
       "      <td>NaN</td>\n",
       "      <td>NaN</td>\n",
       "      <td>NaN</td>\n",
       "      <td>...</td>\n",
       "      <td>1</td>\n",
       "      <td>NaN</td>\n",
       "      <td>1.0</td>\n",
       "      <td>NaN</td>\n",
       "      <td>1.0</td>\n",
       "      <td>https://pbs.twimg.com/profile_banners/23918673...</td>\n",
       "      <td>NaN</td>\n",
       "      <td>NaN</td>\n",
       "      <td>NaN</td>\n",
       "      <td>NaN</td>\n",
       "    </tr>\n",
       "    <tr>\n",
       "      <th>16317</th>\n",
       "      <td>2357512092</td>\n",
       "      <td>NaN</td>\n",
       "      <td>Rhonda Hoes</td>\n",
       "      <td>RhondaHoes</td>\n",
       "      <td>NaN</td>\n",
       "      <td>NaN</td>\n",
       "      <td>NaN</td>\n",
       "      <td>NaN</td>\n",
       "      <td>NaN</td>\n",
       "      <td>NaN</td>\n",
       "      <td>...</td>\n",
       "      <td>1</td>\n",
       "      <td>NaN</td>\n",
       "      <td>NaN</td>\n",
       "      <td>NaN</td>\n",
       "      <td>1.0</td>\n",
       "      <td>NaN</td>\n",
       "      <td>NaN</td>\n",
       "      <td>NaN</td>\n",
       "      <td>NaN</td>\n",
       "      <td>NaN</td>\n",
       "    </tr>\n",
       "    <tr>\n",
       "      <th>16318</th>\n",
       "      <td>2349689623</td>\n",
       "      <td>NaN</td>\n",
       "      <td>Mae Asif</td>\n",
       "      <td>MaeAsif</td>\n",
       "      <td>NaN</td>\n",
       "      <td>NaN</td>\n",
       "      <td>NaN</td>\n",
       "      <td>NaN</td>\n",
       "      <td>NaN</td>\n",
       "      <td>NaN</td>\n",
       "      <td>...</td>\n",
       "      <td>1</td>\n",
       "      <td>NaN</td>\n",
       "      <td>NaN</td>\n",
       "      <td>NaN</td>\n",
       "      <td>1.0</td>\n",
       "      <td>NaN</td>\n",
       "      <td>NaN</td>\n",
       "      <td>NaN</td>\n",
       "      <td>NaN</td>\n",
       "      <td>NaN</td>\n",
       "    </tr>\n",
       "    <tr>\n",
       "      <th>16319</th>\n",
       "      <td>2357961930</td>\n",
       "      <td>NaN</td>\n",
       "      <td>Yvonne Harpel</td>\n",
       "      <td>YvonneHarpel</td>\n",
       "      <td>NaN</td>\n",
       "      <td>NaN</td>\n",
       "      <td>NaN</td>\n",
       "      <td>NaN</td>\n",
       "      <td>NaN</td>\n",
       "      <td>NaN</td>\n",
       "      <td>...</td>\n",
       "      <td>1</td>\n",
       "      <td>NaN</td>\n",
       "      <td>NaN</td>\n",
       "      <td>NaN</td>\n",
       "      <td>1.0</td>\n",
       "      <td>NaN</td>\n",
       "      <td>NaN</td>\n",
       "      <td>NaN</td>\n",
       "      <td>NaN</td>\n",
       "      <td>NaN</td>\n",
       "    </tr>\n",
       "  </tbody>\n",
       "</table>\n",
       "<p>5 rows × 44 columns</p>\n",
       "</div>"
      ],
      "text/plain": [
       "               id id_str           name   screen_name location  \\\n",
       "16315  2349367388    NaN   Ruby Porchia   RubyPorchia      NaN   \n",
       "16316  2391867347    NaN   Masud Thomas   MasudThomas      NaN   \n",
       "16317  2357512092    NaN    Rhonda Hoes    RhondaHoes      NaN   \n",
       "16318  2349689623    NaN       Mae Asif       MaeAsif      NaN   \n",
       "16319  2357961930    NaN  Yvonne Harpel  YvonneHarpel      NaN   \n",
       "\n",
       "      profile_location description  url entities protected  ...  \\\n",
       "16315              NaN         NaN  NaN      NaN       NaN  ...   \n",
       "16316              NaN         NaN  NaN      NaN       NaN  ...   \n",
       "16317              NaN         NaN  NaN      NaN       NaN  ...   \n",
       "16318              NaN         NaN  NaN      NaN       NaN  ...   \n",
       "16319              NaN         NaN  NaN      NaN       NaN  ...   \n",
       "\n",
       "      profile_use_background_image has_extended_profile default_profile  \\\n",
       "16315                            1                  NaN             NaN   \n",
       "16316                            1                  NaN             1.0   \n",
       "16317                            1                  NaN             NaN   \n",
       "16318                            1                  NaN             NaN   \n",
       "16319                            1                  NaN             NaN   \n",
       "\n",
       "      default_profile_image is_bot  \\\n",
       "16315                   NaN    1.0   \n",
       "16316                   NaN    1.0   \n",
       "16317                   NaN    1.0   \n",
       "16318                   NaN    1.0   \n",
       "16319                   NaN    1.0   \n",
       "\n",
       "                                      profile_banner_url following  \\\n",
       "16315                                                NaN       NaN   \n",
       "16316  https://pbs.twimg.com/profile_banners/23918673...       NaN   \n",
       "16317                                                NaN       NaN   \n",
       "16318                                                NaN       NaN   \n",
       "16319                                                NaN       NaN   \n",
       "\n",
       "      follow_request_sent notifications translator_type  \n",
       "16315                 NaN           NaN             NaN  \n",
       "16316                 NaN           NaN             NaN  \n",
       "16317                 NaN           NaN             NaN  \n",
       "16318                 NaN           NaN             NaN  \n",
       "16319                 NaN           NaN             NaN  \n",
       "\n",
       "[5 rows x 44 columns]"
      ]
     },
     "execution_count": 51,
     "metadata": {},
     "output_type": "execute_result"
    }
   ],
   "source": [
    "all_df.tail()"
   ]
  },
  {
   "cell_type": "code",
   "execution_count": 52,
   "id": "c66eca2d-7eb0-4f1f-95f8-9c54cdec76b6",
   "metadata": {},
   "outputs": [],
   "source": [
    "def generate_features(all_df, create_param = 'created_at'):\n",
    "    created_at_dt = pd.to_datetime(all_df[create_param], format = \"%a %b %d %H:%M:%S +0000 %Y \", errors = 'coerce')\n",
    "    created_at_dt_new = pd.to_datetime(all_df[create_param], format = \"%a %b %d %H:%M:%S +0000 %Y\", errors = 'coerce')\n",
    "    created_at_dt = [created_at_dt_new[i] if pd.isnull(created_at_dt[i]) else created_at_dt[i] for i in range(len(created_at_dt))]\n",
    "    all_df['created_at_dt'] = created_at_dt\n",
    "    all_df['user_age'] = [datetime.now() - i for i in all_df['created_at_dt']]\n",
    "    all_df['user_age'] = [i.total_seconds()//3600 for i in all_df['user_age']]\n",
    "    main_traits = ['statuses_count', 'followers_count', 'friends_count', 'favourites_count', 'listed_count']\n",
    "    derived_traits = ['tweet_freq','followers_growth','friends_growth', 'favourites_growth', 'listed_growth']\n",
    "\n",
    "    for i in range(5):\n",
    "        all_df[main_traits[i]] = [int(k) for k in all_df[main_traits[i]]]\n",
    "        all_df[derived_traits[i]] = all_df[main_traits[i]]/all_df['user_age']\n",
    "\n",
    "    all_df['follower_friend_ratio'] = all_df['followers_count']/(all_df['friends_count'] + 1)\n",
    "    all_df['screen_name_length'] = [len(i) for i in all_df['screen_name']]\n",
    "    all_df['digits_in_screen_name'] = [sum(c.isdigit() for c in i) for i in all_df['screen_name']]\n",
    "    all_df['name_length'] = [len(i) if pd.notnull(i) else 0 for i in all_df['name']]\n",
    "    all_df['digits_in_name'] = [sum(c.isdigit() for c in i) if pd.notnull(i) else 0 for i in all_df['name']]\n",
    "    all_df['description_length'] = [len(i) if pd.notnull(i) else 0 for i in all_df['description']]\n",
    "    return all_df"
   ]
  },
  {
   "cell_type": "code",
   "execution_count": 53,
   "id": "00833463-9864-4de6-9e35-094af300ce22",
   "metadata": {},
   "outputs": [],
   "source": [
    "all_df = generate_features(all_df)"
   ]
  },
  {
   "cell_type": "code",
   "execution_count": 54,
   "id": "ca1182ef-bb19-4ba4-b72a-7caf71aadb64",
   "metadata": {},
   "outputs": [
    {
     "data": {
      "text/html": [
       "<div>\n",
       "<style scoped>\n",
       "    .dataframe tbody tr th:only-of-type {\n",
       "        vertical-align: middle;\n",
       "    }\n",
       "\n",
       "    .dataframe tbody tr th {\n",
       "        vertical-align: top;\n",
       "    }\n",
       "\n",
       "    .dataframe thead th {\n",
       "        text-align: right;\n",
       "    }\n",
       "</style>\n",
       "<table border=\"1\" class=\"dataframe\">\n",
       "  <thead>\n",
       "    <tr style=\"text-align: right;\">\n",
       "      <th></th>\n",
       "      <th>id</th>\n",
       "      <th>id_str</th>\n",
       "      <th>name</th>\n",
       "      <th>screen_name</th>\n",
       "      <th>location</th>\n",
       "      <th>profile_location</th>\n",
       "      <th>description</th>\n",
       "      <th>url</th>\n",
       "      <th>entities</th>\n",
       "      <th>protected</th>\n",
       "      <th>...</th>\n",
       "      <th>followers_growth</th>\n",
       "      <th>friends_growth</th>\n",
       "      <th>favourites_growth</th>\n",
       "      <th>listed_growth</th>\n",
       "      <th>follower_friend_ratio</th>\n",
       "      <th>screen_name_length</th>\n",
       "      <th>digits_in_screen_name</th>\n",
       "      <th>name_length</th>\n",
       "      <th>digits_in_name</th>\n",
       "      <th>description_length</th>\n",
       "    </tr>\n",
       "  </thead>\n",
       "  <tbody>\n",
       "    <tr>\n",
       "      <th>16315</th>\n",
       "      <td>2349367388</td>\n",
       "      <td>NaN</td>\n",
       "      <td>Ruby Porchia</td>\n",
       "      <td>RubyPorchia</td>\n",
       "      <td>NaN</td>\n",
       "      <td>NaN</td>\n",
       "      <td>NaN</td>\n",
       "      <td>NaN</td>\n",
       "      <td>NaN</td>\n",
       "      <td>NaN</td>\n",
       "      <td>...</td>\n",
       "      <td>0.000730</td>\n",
       "      <td>0.006968</td>\n",
       "      <td>0.000000</td>\n",
       "      <td>0.0</td>\n",
       "      <td>0.104610</td>\n",
       "      <td>11</td>\n",
       "      <td>0</td>\n",
       "      <td>12</td>\n",
       "      <td>0</td>\n",
       "      <td>0</td>\n",
       "    </tr>\n",
       "    <tr>\n",
       "      <th>16316</th>\n",
       "      <td>2391867347</td>\n",
       "      <td>NaN</td>\n",
       "      <td>Masud Thomas</td>\n",
       "      <td>MasudThomas</td>\n",
       "      <td>NaN</td>\n",
       "      <td>NaN</td>\n",
       "      <td>NaN</td>\n",
       "      <td>NaN</td>\n",
       "      <td>NaN</td>\n",
       "      <td>NaN</td>\n",
       "      <td>...</td>\n",
       "      <td>0.000075</td>\n",
       "      <td>0.000324</td>\n",
       "      <td>0.000324</td>\n",
       "      <td>0.0</td>\n",
       "      <td>0.222222</td>\n",
       "      <td>11</td>\n",
       "      <td>0</td>\n",
       "      <td>12</td>\n",
       "      <td>0</td>\n",
       "      <td>0</td>\n",
       "    </tr>\n",
       "    <tr>\n",
       "      <th>16317</th>\n",
       "      <td>2357512092</td>\n",
       "      <td>NaN</td>\n",
       "      <td>Rhonda Hoes</td>\n",
       "      <td>RhondaHoes</td>\n",
       "      <td>NaN</td>\n",
       "      <td>NaN</td>\n",
       "      <td>NaN</td>\n",
       "      <td>NaN</td>\n",
       "      <td>NaN</td>\n",
       "      <td>NaN</td>\n",
       "      <td>...</td>\n",
       "      <td>0.000050</td>\n",
       "      <td>0.000409</td>\n",
       "      <td>0.000000</td>\n",
       "      <td>0.0</td>\n",
       "      <td>0.117647</td>\n",
       "      <td>10</td>\n",
       "      <td>0</td>\n",
       "      <td>11</td>\n",
       "      <td>0</td>\n",
       "      <td>0</td>\n",
       "    </tr>\n",
       "    <tr>\n",
       "      <th>16318</th>\n",
       "      <td>2349689623</td>\n",
       "      <td>NaN</td>\n",
       "      <td>Mae Asif</td>\n",
       "      <td>MaeAsif</td>\n",
       "      <td>NaN</td>\n",
       "      <td>NaN</td>\n",
       "      <td>NaN</td>\n",
       "      <td>NaN</td>\n",
       "      <td>NaN</td>\n",
       "      <td>NaN</td>\n",
       "      <td>...</td>\n",
       "      <td>0.001300</td>\n",
       "      <td>0.009692</td>\n",
       "      <td>0.000000</td>\n",
       "      <td>0.0</td>\n",
       "      <td>0.133929</td>\n",
       "      <td>7</td>\n",
       "      <td>0</td>\n",
       "      <td>8</td>\n",
       "      <td>0</td>\n",
       "      <td>0</td>\n",
       "    </tr>\n",
       "    <tr>\n",
       "      <th>16319</th>\n",
       "      <td>2357961930</td>\n",
       "      <td>NaN</td>\n",
       "      <td>Yvonne Harpel</td>\n",
       "      <td>YvonneHarpel</td>\n",
       "      <td>NaN</td>\n",
       "      <td>NaN</td>\n",
       "      <td>NaN</td>\n",
       "      <td>NaN</td>\n",
       "      <td>NaN</td>\n",
       "      <td>NaN</td>\n",
       "      <td>...</td>\n",
       "      <td>0.000074</td>\n",
       "      <td>0.000372</td>\n",
       "      <td>0.000000</td>\n",
       "      <td>0.0</td>\n",
       "      <td>0.193548</td>\n",
       "      <td>12</td>\n",
       "      <td>0</td>\n",
       "      <td>13</td>\n",
       "      <td>0</td>\n",
       "      <td>0</td>\n",
       "    </tr>\n",
       "  </tbody>\n",
       "</table>\n",
       "<p>5 rows × 57 columns</p>\n",
       "</div>"
      ],
      "text/plain": [
       "               id id_str           name   screen_name location  \\\n",
       "16315  2349367388    NaN   Ruby Porchia   RubyPorchia      NaN   \n",
       "16316  2391867347    NaN   Masud Thomas   MasudThomas      NaN   \n",
       "16317  2357512092    NaN    Rhonda Hoes    RhondaHoes      NaN   \n",
       "16318  2349689623    NaN       Mae Asif       MaeAsif      NaN   \n",
       "16319  2357961930    NaN  Yvonne Harpel  YvonneHarpel      NaN   \n",
       "\n",
       "      profile_location description  url entities protected  ...  \\\n",
       "16315              NaN         NaN  NaN      NaN       NaN  ...   \n",
       "16316              NaN         NaN  NaN      NaN       NaN  ...   \n",
       "16317              NaN         NaN  NaN      NaN       NaN  ...   \n",
       "16318              NaN         NaN  NaN      NaN       NaN  ...   \n",
       "16319              NaN         NaN  NaN      NaN       NaN  ...   \n",
       "\n",
       "       followers_growth  friends_growth  favourites_growth listed_growth  \\\n",
       "16315          0.000730        0.006968           0.000000           0.0   \n",
       "16316          0.000075        0.000324           0.000324           0.0   \n",
       "16317          0.000050        0.000409           0.000000           0.0   \n",
       "16318          0.001300        0.009692           0.000000           0.0   \n",
       "16319          0.000074        0.000372           0.000000           0.0   \n",
       "\n",
       "       follower_friend_ratio screen_name_length digits_in_screen_name  \\\n",
       "16315               0.104610                 11                     0   \n",
       "16316               0.222222                 11                     0   \n",
       "16317               0.117647                 10                     0   \n",
       "16318               0.133929                  7                     0   \n",
       "16319               0.193548                 12                     0   \n",
       "\n",
       "      name_length digits_in_name  description_length  \n",
       "16315          12              0                   0  \n",
       "16316          12              0                   0  \n",
       "16317          11              0                   0  \n",
       "16318           8              0                   0  \n",
       "16319          13              0                   0  \n",
       "\n",
       "[5 rows x 57 columns]"
      ]
     },
     "execution_count": 54,
     "metadata": {},
     "output_type": "execute_result"
    }
   ],
   "source": [
    "all_df.tail()"
   ]
  },
  {
   "cell_type": "code",
   "execution_count": 55,
   "id": "9db6dc38",
   "metadata": {},
   "outputs": [
    {
     "data": {
      "text/plain": [
       "16320"
      ]
     },
     "execution_count": 55,
     "metadata": {},
     "output_type": "execute_result"
    }
   ],
   "source": [
    "len(all_df)"
   ]
  },
  {
   "cell_type": "code",
   "execution_count": 57,
   "id": "c57c2790",
   "metadata": {},
   "outputs": [],
   "source": [
    "# I have much smaller sample Counter({0.0: 9813, 1.0: 14785})"
   ]
  },
  {
   "cell_type": "code",
   "execution_count": 56,
   "id": "64eb2798-e6ef-444d-945c-a36d3e2b974d",
   "metadata": {},
   "outputs": [
    {
     "data": {
      "text/plain": [
       "Counter({0.0: 6181, 1.0: 10139})"
      ]
     },
     "execution_count": 56,
     "metadata": {},
     "output_type": "execute_result"
    }
   ],
   "source": [
    "from collections import Counter\n",
    "Counter(all_df.is_bot)"
   ]
  },
  {
   "cell_type": "code",
   "execution_count": 58,
   "id": "c2c98e7d-93af-42d7-8f29-7913a0de4e8c",
   "metadata": {},
   "outputs": [],
   "source": [
    "all_df['user_age'] = [datetime.now() - i for i in all_df['created_at_dt']]\n",
    "all_df['user_age'] = [i.total_seconds()//3600 for i in all_df['user_age']]\n",
    "main_traits = ['statuses_count', 'followers_count', 'friends_count', 'favourites_count', 'listed_count']\n",
    "derived_traits = ['tweet_freq','followers_growth','friends_growth', 'favourites_growth', 'listed_growth']\n",
    "\n",
    "for i in range(5):\n",
    "    all_df[main_traits[i]] = [int(k) for k in all_df[main_traits[i]]]\n",
    "    all_df[derived_traits[i]] = all_df[main_traits[i]]/all_df['user_age']\n",
    "\n",
    "all_df['follower_friend_ratio'] = all_df['followers_count']/(all_df['friends_count'] + 1)\n",
    "all_df['screen_name_length'] = [len(i) for i in all_df['screen_name']]\n",
    "all_df['digits_in_screen_name'] = [sum(c.isdigit() for c in i) for i in all_df['screen_name']]\n",
    "all_df['name_length'] = [len(i) if pd.notnull(i) else 0 for i in all_df['name']]\n",
    "all_df['digits_in_name'] = [sum(c.isdigit() for c in i) if pd.notnull(i) else 0 for i in all_df['name']]\n",
    "all_df['description_length'] = [len(i) if pd.notnull(i) else 0 for i in all_df['description']]"
   ]
  },
  {
   "cell_type": "code",
   "execution_count": 61,
   "id": "c5fcbb7b-f31e-4c60-971d-5eb3416ec546",
   "metadata": {},
   "outputs": [],
   "source": [
    "# (1) statuses count; (2) followers count; (3)\n",
    "#friends count; (4) favorites count; (5) listed count; (6) default profile; (7) geo enabled; (8) profile\n",
    "#use background image; (9) protected; and (10) verified. \n",
    "\n",
    "def get_train_test(df, test_size = 0.3, random_state = 15):\n",
    "    features = ['statuses_count', 'followers_count', \"friends_count\", \"favourites_count\",\"listed_count\",\"default_profile\",\n",
    "               \"geo_enabled\",\"profile_use_background_image\",\n",
    "                \"protected\", \n",
    "                \"verified\",'tweet_freq','followers_growth','friends_growth', 'favourites_growth', 'listed_growth',\n",
    "               'follower_friend_ratio', 'screen_name_length','digits_in_screen_name', \n",
    "               'name_length','digits_in_name', 'description_length']\n",
    "\n",
    "    boolean_features = [\"default_profile\",\"geo_enabled\",\"profile_use_background_image\", \"verified\",\n",
    "                       \"protected\"]\n",
    "    #boolean_features = [\"protected\", \"verified\"]\n",
    "    x_df = df[features]\n",
    "    x_df = x_df.fillna(0.0)\n",
    "    x_df[boolean_features] = x_df[boolean_features].replace(\"True \",1.0)\n",
    "    x_df[boolean_features] = x_df[boolean_features].replace(\"False \",0.0)\n",
    "    x_df = x_df.apply(lambda x: np.asarray(x).astype(np.float32))\n",
    "\n",
    "    y_df = df['is_bot']\n",
    "    xtrain, xtest, ytrain, ytest = train_test_split(x_df, y_df, test_size = test_size, random_state = random_state)\n",
    "    return xtrain, xtest, ytrain, ytest\n",
    "\n",
    "xtrain, xtest, ytrain, ytest = get_train_test(all_df)"
   ]
  },
  {
   "cell_type": "markdown",
   "id": "eed28f3f-1ee5-4f92-a3bd-af9705216c58",
   "metadata": {
    "tags": []
   },
   "source": [
    "### Random forest"
   ]
  },
  {
   "cell_type": "code",
   "execution_count": 62,
   "id": "4a22e73b-1573-4051-89ce-55bb9de14fed",
   "metadata": {},
   "outputs": [],
   "source": [
    "# baseline: botometre\n",
    "rf_cols = ['statuses_count', 'followers_count', \"friends_count\", \"favourites_count\",\"listed_count\",\"default_profile\",\n",
    "               \"geo_enabled\",\"profile_use_background_image\",\n",
    "                \"protected\", \n",
    "                \"verified\"]\n",
    "xtest_rf = xtest[rf_cols]\n",
    "xtrain_rf = xtrain[rf_cols]\n",
    "\n",
    "\n"
   ]
  },
  {
   "cell_type": "code",
   "execution_count": 63,
   "id": "2da20a53-64c3-414d-9d44-9def56db1d8c",
   "metadata": {},
   "outputs": [
    {
     "data": {
      "text/plain": [
       "{'mean_fit_time': array([0.05300808, 0.08923326, 0.13575034, 0.18153634, 0.22461839,\n",
       "        0.26874599, 0.31118498, 0.35676079, 0.41541119, 0.45889173,\n",
       "        0.52248511, 0.55381255, 0.59849977, 0.63970041, 0.67401924,\n",
       "        0.71230631, 0.75367522, 0.81176219, 0.8491365 , 0.88966403]),\n",
       " 'std_fit_time': array([0.01506395, 0.0005969 , 0.00032709, 0.00269403, 0.00265822,\n",
       "        0.00216264, 0.00061259, 0.00159313, 0.00895157, 0.00751322,\n",
       "        0.02569117, 0.03450274, 0.00928209, 0.00946574, 0.00672229,\n",
       "        0.00207016, 0.0058659 , 0.0149461 , 0.00289588, 0.00645145]),\n",
       " 'mean_score_time': array([0.00398693, 0.00498648, 0.00688887, 0.00847373, 0.00978703,\n",
       "        0.01142259, 0.01285887, 0.01456461, 0.01666369, 0.01829424,\n",
       "        0.02043915, 0.02131963, 0.02450638, 0.02569923, 0.02603154,\n",
       "        0.02740645, 0.02912455, 0.03077192, 0.03247037, 0.03373771]),\n",
       " 'std_score_time': array([1.13301039e-03, 2.31810548e-05, 8.19694032e-05, 2.18358235e-04,\n",
       "        1.20404961e-04, 1.19654720e-04, 1.22135208e-04, 1.86243926e-04,\n",
       "        5.31007165e-04, 4.79066420e-04, 1.16745210e-03, 7.42279648e-04,\n",
       "        2.69418656e-03, 2.10656808e-03, 3.88243128e-04, 1.56281587e-04,\n",
       "        4.92759316e-04, 3.97602864e-04, 1.69887223e-04, 2.45633229e-04]),\n",
       " 'param_n_estimators': masked_array(data=[10, 20, 30, 40, 50, 60, 70, 80, 90, 100, 110, 120, 130,\n",
       "                    140, 150, 160, 170, 180, 190, 200],\n",
       "              mask=[False, False, False, False, False, False, False, False,\n",
       "                    False, False, False, False, False, False, False, False,\n",
       "                    False, False, False, False],\n",
       "        fill_value='?',\n",
       "             dtype=object),\n",
       " 'params': [{'n_estimators': 10},\n",
       "  {'n_estimators': 20},\n",
       "  {'n_estimators': 30},\n",
       "  {'n_estimators': 40},\n",
       "  {'n_estimators': 50},\n",
       "  {'n_estimators': 60},\n",
       "  {'n_estimators': 70},\n",
       "  {'n_estimators': 80},\n",
       "  {'n_estimators': 90},\n",
       "  {'n_estimators': 100},\n",
       "  {'n_estimators': 110},\n",
       "  {'n_estimators': 120},\n",
       "  {'n_estimators': 130},\n",
       "  {'n_estimators': 140},\n",
       "  {'n_estimators': 150},\n",
       "  {'n_estimators': 160},\n",
       "  {'n_estimators': 170},\n",
       "  {'n_estimators': 180},\n",
       "  {'n_estimators': 190},\n",
       "  {'n_estimators': 200}],\n",
       " 'split0_test_score': array([0.98078305, 0.98111111, 0.98137576, 0.98115055, 0.98126071,\n",
       "        0.98120136, 0.98147535, 0.98144974, 0.98151926, 0.98156885,\n",
       "        0.98173593, 0.98185464, 0.98180667, 0.98177821, 0.98181154,\n",
       "        0.98174162, 0.98171805, 0.98172374, 0.9817278 , 0.98168065]),\n",
       " 'split1_test_score': array([0.98054131, 0.98101997, 0.98144663, 0.98135683, 0.98123086,\n",
       "        0.98155349, 0.98149417, 0.98153196, 0.98159494, 0.98178267,\n",
       "        0.98187531, 0.98188832, 0.98194602, 0.98188263, 0.98186231,\n",
       "        0.98193911, 0.98181721, 0.98178145, 0.98175626, 0.98175138]),\n",
       " 'split2_test_score': array([0.98298421, 0.98443565, 0.98472333, 0.98498623, 0.98508172,\n",
       "        0.98524466, 0.98521459, 0.98530074, 0.98533487, 0.98536331,\n",
       "        0.98549578, 0.98554942, 0.98566075, 0.98556567, 0.98567945,\n",
       "        0.9857022 , 0.98557461, 0.98552463, 0.98554901, 0.98558396]),\n",
       " 'split3_test_score': array([0.98512845, 0.98546612, 0.98544905, 0.98508904, 0.98527555,\n",
       "        0.98531252, 0.9851443 , 0.98517843, 0.98516055, 0.98516299,\n",
       "        0.98519875, 0.98529871, 0.98529546, 0.9853174 , 0.98537347,\n",
       "        0.98530114, 0.98531902, 0.98530196, 0.98531496, 0.9853109 ]),\n",
       " 'split4_test_score': array([0.98406868, 0.98464308, 0.98500514, 0.98534605, 0.98563   ,\n",
       "        0.98553277, 0.98555962, 0.98565969, 0.98574512, 0.98591679,\n",
       "        0.98605307, 0.98611328, 0.98610026, 0.98609131, 0.98612711,\n",
       "        0.98614094, 0.98607911, 0.98604494, 0.9860604 , 0.98604982]),\n",
       " 'mean_test_score': array([0.98270114, 0.98333519, 0.98359998, 0.98358574, 0.98369577,\n",
       "        0.98376896, 0.98377761, 0.98382411, 0.98387095, 0.98395892,\n",
       "        0.98407177, 0.98414087, 0.98416183, 0.98412704, 0.98417078,\n",
       "        0.984165  , 0.9841016 , 0.98407534, 0.98408168, 0.98407534]),\n",
       " 'std_test_score': array([0.00179923, 0.00188516, 0.0018022 , 0.00190883, 0.00200814,\n",
       "        0.00195817, 0.00187738, 0.00191183, 0.00189891, 0.00188169,\n",
       "        0.00187104, 0.00187168, 0.00188393, 0.00189206, 0.00192067,\n",
       "        0.00191758, 0.00192157, 0.00191187, 0.0019255 , 0.00194095]),\n",
       " 'rank_test_score': array([20, 19, 17, 18, 16, 15, 14, 13, 12, 11, 10,  4,  3,  5,  1,  2,  6,\n",
       "         8,  7,  9], dtype=int32)}"
      ]
     },
     "execution_count": 63,
     "metadata": {},
     "output_type": "execute_result"
    }
   ],
   "source": [
    "rf_test1 = {'n_estimators':[i for i in range(10,201,10)]}\n",
    "rf_search1 = GridSearchCV(estimator = RandomForestClassifier(min_samples_split=100,\n",
    "                                  max_depth=8,max_features='sqrt' ,random_state=10), \n",
    "                       param_grid = rf_test1, scoring='roc_auc',cv=5)\n",
    "rf_search1.fit(xtrain_rf,ytrain)\n",
    "rf_search1.cv_results_\n"
   ]
  },
  {
   "cell_type": "code",
   "execution_count": 65,
   "id": "b125551f",
   "metadata": {},
   "outputs": [
    {
     "data": {
      "text/plain": [
       "RandomForestClassifier(max_depth=8, max_features='sqrt', min_samples_split=100,\n",
       "                       n_estimators=150, random_state=10)"
      ]
     },
     "execution_count": 65,
     "metadata": {},
     "output_type": "execute_result"
    }
   ],
   "source": [
    "#RandomForestClassifier(max_depth=8, min_samples_split=100, n_estimators=180,\n",
    "#                       random_state=10)\n",
    "\n",
    "rf_search1.best_estimator_"
   ]
  },
  {
   "cell_type": "code",
   "execution_count": 55,
   "id": "dea78df6-bbda-4ed1-b317-8e26a04fe5fe",
   "metadata": {},
   "outputs": [
    {
     "data": {
      "text/html": [
       "<style>#sk-container-id-1 {color: black;background-color: white;}#sk-container-id-1 pre{padding: 0;}#sk-container-id-1 div.sk-toggleable {background-color: white;}#sk-container-id-1 label.sk-toggleable__label {cursor: pointer;display: block;width: 100%;margin-bottom: 0;padding: 0.3em;box-sizing: border-box;text-align: center;}#sk-container-id-1 label.sk-toggleable__label-arrow:before {content: \"▸\";float: left;margin-right: 0.25em;color: #696969;}#sk-container-id-1 label.sk-toggleable__label-arrow:hover:before {color: black;}#sk-container-id-1 div.sk-estimator:hover label.sk-toggleable__label-arrow:before {color: black;}#sk-container-id-1 div.sk-toggleable__content {max-height: 0;max-width: 0;overflow: hidden;text-align: left;background-color: #f0f8ff;}#sk-container-id-1 div.sk-toggleable__content pre {margin: 0.2em;color: black;border-radius: 0.25em;background-color: #f0f8ff;}#sk-container-id-1 input.sk-toggleable__control:checked~div.sk-toggleable__content {max-height: 200px;max-width: 100%;overflow: auto;}#sk-container-id-1 input.sk-toggleable__control:checked~label.sk-toggleable__label-arrow:before {content: \"▾\";}#sk-container-id-1 div.sk-estimator input.sk-toggleable__control:checked~label.sk-toggleable__label {background-color: #d4ebff;}#sk-container-id-1 div.sk-label input.sk-toggleable__control:checked~label.sk-toggleable__label {background-color: #d4ebff;}#sk-container-id-1 input.sk-hidden--visually {border: 0;clip: rect(1px 1px 1px 1px);clip: rect(1px, 1px, 1px, 1px);height: 1px;margin: -1px;overflow: hidden;padding: 0;position: absolute;width: 1px;}#sk-container-id-1 div.sk-estimator {font-family: monospace;background-color: #f0f8ff;border: 1px dotted black;border-radius: 0.25em;box-sizing: border-box;margin-bottom: 0.5em;}#sk-container-id-1 div.sk-estimator:hover {background-color: #d4ebff;}#sk-container-id-1 div.sk-parallel-item::after {content: \"\";width: 100%;border-bottom: 1px solid gray;flex-grow: 1;}#sk-container-id-1 div.sk-label:hover label.sk-toggleable__label {background-color: #d4ebff;}#sk-container-id-1 div.sk-serial::before {content: \"\";position: absolute;border-left: 1px solid gray;box-sizing: border-box;top: 0;bottom: 0;left: 50%;z-index: 0;}#sk-container-id-1 div.sk-serial {display: flex;flex-direction: column;align-items: center;background-color: white;padding-right: 0.2em;padding-left: 0.2em;position: relative;}#sk-container-id-1 div.sk-item {position: relative;z-index: 1;}#sk-container-id-1 div.sk-parallel {display: flex;align-items: stretch;justify-content: center;background-color: white;position: relative;}#sk-container-id-1 div.sk-item::before, #sk-container-id-1 div.sk-parallel-item::before {content: \"\";position: absolute;border-left: 1px solid gray;box-sizing: border-box;top: 0;bottom: 0;left: 50%;z-index: -1;}#sk-container-id-1 div.sk-parallel-item {display: flex;flex-direction: column;z-index: 1;position: relative;background-color: white;}#sk-container-id-1 div.sk-parallel-item:first-child::after {align-self: flex-end;width: 50%;}#sk-container-id-1 div.sk-parallel-item:last-child::after {align-self: flex-start;width: 50%;}#sk-container-id-1 div.sk-parallel-item:only-child::after {width: 0;}#sk-container-id-1 div.sk-dashed-wrapped {border: 1px dashed gray;margin: 0 0.4em 0.5em 0.4em;box-sizing: border-box;padding-bottom: 0.4em;background-color: white;}#sk-container-id-1 div.sk-label label {font-family: monospace;font-weight: bold;display: inline-block;line-height: 1.2em;}#sk-container-id-1 div.sk-label-container {text-align: center;}#sk-container-id-1 div.sk-container {/* jupyter's `normalize.less` sets `[hidden] { display: none; }` but bootstrap.min.css set `[hidden] { display: none !important; }` so we also need the `!important` here to be able to override the default hidden behavior on the sphinx rendered scikit-learn.org. See: https://github.com/scikit-learn/scikit-learn/issues/21755 */display: inline-block !important;position: relative;}#sk-container-id-1 div.sk-text-repr-fallback {display: none;}</style><div id=\"sk-container-id-1\" class=\"sk-top-container\"><div class=\"sk-text-repr-fallback\"><pre>RandomForestClassifier(max_depth=8, min_samples_split=100, n_estimators=180,\n",
       "                       random_state=10)</pre><b>In a Jupyter environment, please rerun this cell to show the HTML representation or trust the notebook. <br />On GitHub, the HTML representation is unable to render, please try loading this page with nbviewer.org.</b></div><div class=\"sk-container\" hidden><div class=\"sk-item\"><div class=\"sk-estimator sk-toggleable\"><input class=\"sk-toggleable__control sk-hidden--visually\" id=\"sk-estimator-id-1\" type=\"checkbox\" checked><label for=\"sk-estimator-id-1\" class=\"sk-toggleable__label sk-toggleable__label-arrow\">RandomForestClassifier</label><div class=\"sk-toggleable__content\"><pre>RandomForestClassifier(max_depth=8, min_samples_split=100, n_estimators=180,\n",
       "                       random_state=10)</pre></div></div></div></div></div>"
      ],
      "text/plain": [
       "RandomForestClassifier(max_depth=8, min_samples_split=100, n_estimators=180,\n",
       "                       random_state=10)"
      ]
     },
     "execution_count": 55,
     "metadata": {},
     "output_type": "execute_result"
    }
   ],
   "source": [
    "rf_search1.best_estimator_"
   ]
  },
  {
   "cell_type": "code",
   "execution_count": 71,
   "id": "4376b25c-2b7e-4c1b-a52a-a6cd757a8689",
   "metadata": {},
   "outputs": [
    {
     "data": {
      "text/plain": [
       "RandomForestClassifier(max_depth=18, max_features='sqrt', min_samples_split=100,\n",
       "                       n_estimators=150, random_state=10)"
      ]
     },
     "execution_count": 71,
     "metadata": {},
     "output_type": "execute_result"
    }
   ],
   "source": [
    "rf_search1.best_estimator_"
   ]
  },
  {
   "cell_type": "code",
   "execution_count": 72,
   "id": "8208463e-76aa-4f75-8349-dfb5884d46fe",
   "metadata": {},
   "outputs": [],
   "source": [
    "# Random forest\n",
    "forest = RandomForestClassifier(n_estimators=150,max_depth=18, max_features='sqrt' ,random_state=10)\n",
    "forest.fit(xtrain,ytrain)\n",
    "forest_result = list(forest.predict(xtest))"
   ]
  },
  {
   "cell_type": "code",
   "execution_count": 73,
   "id": "fd3d39f6",
   "metadata": {},
   "outputs": [
    {
     "name": "stdout",
     "output_type": "stream",
     "text": [
      "              precision    recall  f1-score   support\n",
      "\n",
      "         0.0       0.93      0.95      0.94      1838\n",
      "         1.0       0.97      0.96      0.97      3058\n",
      "\n",
      "    accuracy                           0.96      4896\n",
      "   macro avg       0.95      0.96      0.95      4896\n",
      "weighted avg       0.96      0.96      0.96      4896\n",
      "\n"
     ]
    }
   ],
   "source": [
    "print(sklearn.metrics.classification_report(ytest, forest_result))"
   ]
  },
  {
   "cell_type": "code",
   "execution_count": 23,
   "id": "a1132af7-ac17-4a08-b88a-9632bba758eb",
   "metadata": {},
   "outputs": [
    {
     "name": "stdout",
     "output_type": "stream",
     "text": [
      "              precision    recall  f1-score   support\n",
      "\n",
      "         0.0       0.84      0.82      0.83      2886\n",
      "         1.0       0.89      0.90      0.89      4494\n",
      "\n",
      "    accuracy                           0.87      7380\n",
      "   macro avg       0.86      0.86      0.86      7380\n",
      "weighted avg       0.87      0.87      0.87      7380\n",
      "\n"
     ]
    }
   ],
   "source": [
    "#print(sklearn.metrics.classification_report(ytest, forest_result))"
   ]
  },
  {
   "cell_type": "code",
   "execution_count": 74,
   "id": "ded2d8b6-7fa7-4918-81e7-a8d02a90e3e4",
   "metadata": {},
   "outputs": [],
   "source": [
    "forest_10 = RandomForestClassifier(n_estimators=150,max_depth=18, max_features='sqrt' ,random_state=10)\n",
    "forest_10.fit(xtrain_rf,ytrain)\n",
    "forest_10_result = list(forest_10.predict(xtest_rf))"
   ]
  },
  {
   "cell_type": "code",
   "execution_count": 75,
   "id": "2c09e7d2",
   "metadata": {},
   "outputs": [
    {
     "name": "stdout",
     "output_type": "stream",
     "text": [
      "              precision    recall  f1-score   support\n",
      "\n",
      "         0.0       0.93      0.95      0.94      1838\n",
      "         1.0       0.97      0.96      0.96      3058\n",
      "\n",
      "    accuracy                           0.96      4896\n",
      "   macro avg       0.95      0.96      0.95      4896\n",
      "weighted avg       0.96      0.96      0.96      4896\n",
      "\n"
     ]
    }
   ],
   "source": [
    "print(sklearn.metrics.classification_report(ytest, forest_10_result))"
   ]
  },
  {
   "cell_type": "code",
   "execution_count": 25,
   "id": "f5d98731-6c2b-4554-a914-6d67f5c4bb07",
   "metadata": {},
   "outputs": [
    {
     "name": "stdout",
     "output_type": "stream",
     "text": [
      "              precision    recall  f1-score   support\n",
      "\n",
      "         0.0       0.84      0.79      0.82      2886\n",
      "         1.0       0.87      0.91      0.89      4494\n",
      "\n",
      "    accuracy                           0.86      7380\n",
      "   macro avg       0.86      0.85      0.85      7380\n",
      "weighted avg       0.86      0.86      0.86      7380\n",
      "\n"
     ]
    }
   ],
   "source": [
    "print(sklearn.metrics.classification_report(ytest, forest_10_result))"
   ]
  },
  {
   "cell_type": "code",
   "execution_count": 76,
   "id": "cf63c3d3-840e-4b6b-8c3b-869d5f805683",
   "metadata": {},
   "outputs": [
    {
     "ename": "ValueError",
     "evalue": "X has 10 features, but DecisionTreeClassifier is expecting 21 features as input.",
     "output_type": "error",
     "traceback": [
      "\u001b[0;31m---------------------------------------------------------------------------\u001b[0m",
      "\u001b[0;31mValueError\u001b[0m                                Traceback (most recent call last)",
      "\u001b[0;32m<ipython-input-76-b73dd7f70cee>\u001b[0m in \u001b[0;36m<module>\u001b[0;34m\u001b[0m\n\u001b[0;32m----> 1\u001b[0;31m \u001b[0mlr_probs\u001b[0m \u001b[0;34m=\u001b[0m \u001b[0mforest\u001b[0m\u001b[0;34m.\u001b[0m\u001b[0mpredict_proba\u001b[0m\u001b[0;34m(\u001b[0m\u001b[0mxtest_rf\u001b[0m\u001b[0;34m)\u001b[0m\u001b[0;34m\u001b[0m\u001b[0;34m\u001b[0m\u001b[0m\n\u001b[0m\u001b[1;32m      2\u001b[0m \u001b[0mlr_probs\u001b[0m \u001b[0;34m=\u001b[0m \u001b[0mlr_probs\u001b[0m\u001b[0;34m[\u001b[0m\u001b[0;34m:\u001b[0m\u001b[0;34m,\u001b[0m \u001b[0;36m1\u001b[0m\u001b[0;34m]\u001b[0m\u001b[0;34m\u001b[0m\u001b[0;34m\u001b[0m\u001b[0m\n\u001b[1;32m      3\u001b[0m \u001b[0mlr_auc\u001b[0m \u001b[0;34m=\u001b[0m \u001b[0mroc_auc_score\u001b[0m\u001b[0;34m(\u001b[0m\u001b[0mlist\u001b[0m\u001b[0;34m(\u001b[0m\u001b[0mytest\u001b[0m\u001b[0;34m)\u001b[0m\u001b[0;34m,\u001b[0m \u001b[0mlr_probs\u001b[0m\u001b[0;34m)\u001b[0m\u001b[0;34m\u001b[0m\u001b[0;34m\u001b[0m\u001b[0m\n\u001b[1;32m      4\u001b[0m \u001b[0mlr_fpr\u001b[0m\u001b[0;34m,\u001b[0m \u001b[0mlr_tpr\u001b[0m\u001b[0;34m,\u001b[0m \u001b[0m_\u001b[0m \u001b[0;34m=\u001b[0m \u001b[0mroc_curve\u001b[0m\u001b[0;34m(\u001b[0m\u001b[0mlist\u001b[0m\u001b[0;34m(\u001b[0m\u001b[0mytest\u001b[0m\u001b[0;34m)\u001b[0m\u001b[0;34m,\u001b[0m \u001b[0mlr_probs\u001b[0m\u001b[0;34m)\u001b[0m\u001b[0;34m\u001b[0m\u001b[0;34m\u001b[0m\u001b[0m\n\u001b[1;32m      5\u001b[0m \u001b[0mplt\u001b[0m\u001b[0;34m.\u001b[0m\u001b[0mplot\u001b[0m\u001b[0;34m(\u001b[0m\u001b[0mlr_fpr\u001b[0m\u001b[0;34m,\u001b[0m \u001b[0mlr_tpr\u001b[0m\u001b[0;34m)\u001b[0m\u001b[0;34m\u001b[0m\u001b[0;34m\u001b[0m\u001b[0m\n",
      "\u001b[0;32m~/opt/anaconda3/lib/python3.8/site-packages/sklearn/ensemble/_forest.py\u001b[0m in \u001b[0;36mpredict_proba\u001b[0;34m(self, X)\u001b[0m\n\u001b[1;32m    672\u001b[0m         \u001b[0mcheck_is_fitted\u001b[0m\u001b[0;34m(\u001b[0m\u001b[0mself\u001b[0m\u001b[0;34m)\u001b[0m\u001b[0;34m\u001b[0m\u001b[0;34m\u001b[0m\u001b[0m\n\u001b[1;32m    673\u001b[0m         \u001b[0;31m# Check data\u001b[0m\u001b[0;34m\u001b[0m\u001b[0;34m\u001b[0m\u001b[0;34m\u001b[0m\u001b[0m\n\u001b[0;32m--> 674\u001b[0;31m         \u001b[0mX\u001b[0m \u001b[0;34m=\u001b[0m \u001b[0mself\u001b[0m\u001b[0;34m.\u001b[0m\u001b[0m_validate_X_predict\u001b[0m\u001b[0;34m(\u001b[0m\u001b[0mX\u001b[0m\u001b[0;34m)\u001b[0m\u001b[0;34m\u001b[0m\u001b[0;34m\u001b[0m\u001b[0m\n\u001b[0m\u001b[1;32m    675\u001b[0m \u001b[0;34m\u001b[0m\u001b[0m\n\u001b[1;32m    676\u001b[0m         \u001b[0;31m# Assign chunk of trees to jobs\u001b[0m\u001b[0;34m\u001b[0m\u001b[0;34m\u001b[0m\u001b[0;34m\u001b[0m\u001b[0m\n",
      "\u001b[0;32m~/opt/anaconda3/lib/python3.8/site-packages/sklearn/ensemble/_forest.py\u001b[0m in \u001b[0;36m_validate_X_predict\u001b[0;34m(self, X)\u001b[0m\n\u001b[1;32m    420\u001b[0m         \u001b[0mcheck_is_fitted\u001b[0m\u001b[0;34m(\u001b[0m\u001b[0mself\u001b[0m\u001b[0;34m)\u001b[0m\u001b[0;34m\u001b[0m\u001b[0;34m\u001b[0m\u001b[0m\n\u001b[1;32m    421\u001b[0m \u001b[0;34m\u001b[0m\u001b[0m\n\u001b[0;32m--> 422\u001b[0;31m         \u001b[0;32mreturn\u001b[0m \u001b[0mself\u001b[0m\u001b[0;34m.\u001b[0m\u001b[0mestimators_\u001b[0m\u001b[0;34m[\u001b[0m\u001b[0;36m0\u001b[0m\u001b[0;34m]\u001b[0m\u001b[0;34m.\u001b[0m\u001b[0m_validate_X_predict\u001b[0m\u001b[0;34m(\u001b[0m\u001b[0mX\u001b[0m\u001b[0;34m,\u001b[0m \u001b[0mcheck_input\u001b[0m\u001b[0;34m=\u001b[0m\u001b[0;32mTrue\u001b[0m\u001b[0;34m)\u001b[0m\u001b[0;34m\u001b[0m\u001b[0;34m\u001b[0m\u001b[0m\n\u001b[0m\u001b[1;32m    423\u001b[0m \u001b[0;34m\u001b[0m\u001b[0m\n\u001b[1;32m    424\u001b[0m     \u001b[0;34m@\u001b[0m\u001b[0mproperty\u001b[0m\u001b[0;34m\u001b[0m\u001b[0;34m\u001b[0m\u001b[0m\n",
      "\u001b[0;32m~/opt/anaconda3/lib/python3.8/site-packages/sklearn/tree/_classes.py\u001b[0m in \u001b[0;36m_validate_X_predict\u001b[0;34m(self, X, check_input)\u001b[0m\n\u001b[1;32m    400\u001b[0m         \u001b[0;34m\"\"\"Validate the training data on predict (probabilities).\"\"\"\u001b[0m\u001b[0;34m\u001b[0m\u001b[0;34m\u001b[0m\u001b[0m\n\u001b[1;32m    401\u001b[0m         \u001b[0;32mif\u001b[0m \u001b[0mcheck_input\u001b[0m\u001b[0;34m:\u001b[0m\u001b[0;34m\u001b[0m\u001b[0;34m\u001b[0m\u001b[0m\n\u001b[0;32m--> 402\u001b[0;31m             X = self._validate_data(X, dtype=DTYPE, accept_sparse=\"csr\",\n\u001b[0m\u001b[1;32m    403\u001b[0m                                     reset=False)\n\u001b[1;32m    404\u001b[0m             if issparse(X) and (X.indices.dtype != np.intc or\n",
      "\u001b[0;32m~/opt/anaconda3/lib/python3.8/site-packages/sklearn/base.py\u001b[0m in \u001b[0;36m_validate_data\u001b[0;34m(self, X, y, reset, validate_separately, **check_params)\u001b[0m\n\u001b[1;32m    435\u001b[0m \u001b[0;34m\u001b[0m\u001b[0m\n\u001b[1;32m    436\u001b[0m         \u001b[0;32mif\u001b[0m \u001b[0mcheck_params\u001b[0m\u001b[0;34m.\u001b[0m\u001b[0mget\u001b[0m\u001b[0;34m(\u001b[0m\u001b[0;34m'ensure_2d'\u001b[0m\u001b[0;34m,\u001b[0m \u001b[0;32mTrue\u001b[0m\u001b[0;34m)\u001b[0m\u001b[0;34m:\u001b[0m\u001b[0;34m\u001b[0m\u001b[0;34m\u001b[0m\u001b[0m\n\u001b[0;32m--> 437\u001b[0;31m             \u001b[0mself\u001b[0m\u001b[0;34m.\u001b[0m\u001b[0m_check_n_features\u001b[0m\u001b[0;34m(\u001b[0m\u001b[0mX\u001b[0m\u001b[0;34m,\u001b[0m \u001b[0mreset\u001b[0m\u001b[0;34m=\u001b[0m\u001b[0mreset\u001b[0m\u001b[0;34m)\u001b[0m\u001b[0;34m\u001b[0m\u001b[0;34m\u001b[0m\u001b[0m\n\u001b[0m\u001b[1;32m    438\u001b[0m \u001b[0;34m\u001b[0m\u001b[0m\n\u001b[1;32m    439\u001b[0m         \u001b[0;32mreturn\u001b[0m \u001b[0mout\u001b[0m\u001b[0;34m\u001b[0m\u001b[0;34m\u001b[0m\u001b[0m\n",
      "\u001b[0;32m~/opt/anaconda3/lib/python3.8/site-packages/sklearn/base.py\u001b[0m in \u001b[0;36m_check_n_features\u001b[0;34m(self, X, reset)\u001b[0m\n\u001b[1;32m    363\u001b[0m \u001b[0;34m\u001b[0m\u001b[0m\n\u001b[1;32m    364\u001b[0m         \u001b[0;32mif\u001b[0m \u001b[0mn_features\u001b[0m \u001b[0;34m!=\u001b[0m \u001b[0mself\u001b[0m\u001b[0;34m.\u001b[0m\u001b[0mn_features_in_\u001b[0m\u001b[0;34m:\u001b[0m\u001b[0;34m\u001b[0m\u001b[0;34m\u001b[0m\u001b[0m\n\u001b[0;32m--> 365\u001b[0;31m             raise ValueError(\n\u001b[0m\u001b[1;32m    366\u001b[0m                 \u001b[0;34mf\"X has {n_features} features, but {self.__class__.__name__} \"\u001b[0m\u001b[0;34m\u001b[0m\u001b[0;34m\u001b[0m\u001b[0m\n\u001b[1;32m    367\u001b[0m                 f\"is expecting {self.n_features_in_} features as input.\")\n",
      "\u001b[0;31mValueError\u001b[0m: X has 10 features, but DecisionTreeClassifier is expecting 21 features as input."
     ]
    }
   ],
   "source": [
    "lr_probs = forest.predict_proba(xtest_rf)\n",
    "lr_probs = lr_probs[:, 1]\n",
    "lr_auc = roc_auc_score(list(ytest), lr_probs)\n",
    "lr_fpr, lr_tpr, _ = roc_curve(list(ytest), lr_probs)\n",
    "plt.plot(lr_fpr, lr_tpr)"
   ]
  },
  {
   "cell_type": "code",
   "execution_count": 77,
   "id": "e3249fe2-9012-4471-979b-739b3753c68f",
   "metadata": {},
   "outputs": [],
   "source": [
    "# Logistic regression\n",
    "logit = LogisticRegression()\n",
    "logit.fit(xtrain_rf,ytrain)\n",
    "logit_result = list(logit.predict(xtest_rf))"
   ]
  },
  {
   "cell_type": "code",
   "execution_count": 78,
   "id": "abc1d2d3-b32c-4330-9267-ada040ee9969",
   "metadata": {},
   "outputs": [
    {
     "name": "stdout",
     "output_type": "stream",
     "text": [
      "              precision    recall  f1-score   support\n",
      "\n",
      "         0.0       0.91      0.45      0.60      1838\n",
      "         1.0       0.75      0.97      0.85      3058\n",
      "\n",
      "    accuracy                           0.78      4896\n",
      "   macro avg       0.83      0.71      0.72      4896\n",
      "weighted avg       0.81      0.78      0.75      4896\n",
      "\n"
     ]
    }
   ],
   "source": [
    "print(sklearn.metrics.classification_report(ytest,logit_result))"
   ]
  },
  {
   "cell_type": "code",
   "execution_count": null,
   "id": "3edca835-4186-4501-8304-2b60410c7b09",
   "metadata": {},
   "outputs": [],
   "source": []
  },
  {
   "cell_type": "code",
   "execution_count": 67,
   "id": "435bfee1-ec38-4aab-ad89-6c970506c6da",
   "metadata": {},
   "outputs": [
    {
     "data": {
      "text/plain": [
       "['random_forest_model_122022.joblib']"
      ]
     },
     "execution_count": 67,
     "metadata": {},
     "output_type": "execute_result"
    }
   ],
   "source": [
    "joblib.dump(forest, 'random_forest_model_20trait.joblib') \n",
    "joblib.dump(forest_10, 'random_forest_model_20trait.joblib') "
   ]
  },
  {
   "cell_type": "code",
   "execution_count": 77,
   "id": "c441204d-5a10-4695-bf0a-adab20d1e492",
   "metadata": {},
   "outputs": [],
   "source": [
    "#Visualization of metrics\n",
    "# accuracy, percision, recall, f1, sensivity, specificity\n",
    "forest_metric = sklearn.metrics.classification_report(ytest, forest_result,output_dict=True)\n",
    "svm_metric = sklearn.metrics.classification_report(ytest,svm_result,output_dict=True)\n",
    "logit_metric = sklearn.metrics.classification_report(ytest,logit_result,output_dict=True)\n"
   ]
  },
  {
   "cell_type": "code",
   "execution_count": 78,
   "id": "28c6a9c0-4d2b-436f-8cbb-b7a02eb57703",
   "metadata": {},
   "outputs": [
    {
     "name": "stdout",
     "output_type": "stream",
     "text": [
      "{'0.0': {'precision': 0.8392031305585201, 'recall': 0.8173943173943174, 'f1-score': 0.8281551693873969, 'support': 2886}, '1.0': {'precision': 0.884657474283213, 'recall': 0.89942145082332, 'f1-score': 0.8919783736069734, 'support': 4494}, 'accuracy': 0.8673441734417344, 'macro avg': {'precision': 0.8619303024208665, 'recall': 0.8584078841088187, 'f1-score': 0.8600667714971851, 'support': 7380}, 'weighted avg': {'precision': 0.8668822390542884, 'recall': 0.8673441734417344, 'f1-score': 0.8670198685422448, 'support': 7380}}\n",
      "{'0.0': {'precision': 0.797377830750894, 'recall': 0.6954261954261954, 'f1-score': 0.7429205996668518, 'support': 2886}, '1.0': {'precision': 0.8192473781616286, 'recall': 0.8865153538050734, 'f1-score': 0.8515549855722989, 'support': 4494}, 'accuracy': 0.8117886178861788, 'macro avg': {'precision': 0.8083126044562613, 'recall': 0.7909707746156345, 'f1-score': 0.7972377926195753, 'support': 7380}, 'weighted avg': {'precision': 0.8106951405156422, 'recall': 0.8117886178861788, 'f1-score': 0.8090727582385429, 'support': 7380}}\n",
      "{'0.0': {'precision': 0.6422498364944408, 'recall': 0.6805266805266805, 'f1-score': 0.6608344549125169, 'support': 2886}, '1.0': {'precision': 0.7866728366496992, 'recall': 0.7565643079661771, 'f1-score': 0.7713248638838475, 'support': 4494}, 'accuracy': 0.7268292682926829, 'macro avg': {'precision': 0.71446133657207, 'recall': 0.7185454942464289, 'f1-score': 0.7160796593981822, 'support': 7380}, 'weighted avg': {'precision': 0.7301952243938623, 'recall': 0.7268292682926829, 'f1-score': 0.7281168259040018, 'support': 7380}}\n"
     ]
    }
   ],
   "source": [
    "print(forest_metric)\n",
    "print(svm_metric)\n",
    "print(logit_metric)"
   ]
  },
  {
   "cell_type": "code",
   "execution_count": 79,
   "id": "fbf38647-5cbc-4761-adb1-763b77c581ad",
   "metadata": {},
   "outputs": [
    {
     "name": "stderr",
     "output_type": "stream",
     "text": [
      "/tmp/ipykernel_30041/1532899490.py:8: FutureWarning: The frame.append method is deprecated and will be removed from pandas in a future version. Use pandas.concat instead.\n",
      "  df_temp = df_temp.append({\"metric\":\"F1\", \"value\": float(df.iloc[4,2])}, ignore_index = True)\n",
      "/tmp/ipykernel_30041/1532899490.py:10: FutureWarning: The frame.append method is deprecated and will be removed from pandas in a future version. Use pandas.concat instead.\n",
      "  df_metric = df_metric.append(df_temp, ignore_index = True)\n",
      "/tmp/ipykernel_30041/1532899490.py:8: FutureWarning: The frame.append method is deprecated and will be removed from pandas in a future version. Use pandas.concat instead.\n",
      "  df_temp = df_temp.append({\"metric\":\"F1\", \"value\": float(df.iloc[4,2])}, ignore_index = True)\n",
      "/tmp/ipykernel_30041/1532899490.py:10: FutureWarning: The frame.append method is deprecated and will be removed from pandas in a future version. Use pandas.concat instead.\n",
      "  df_metric = df_metric.append(df_temp, ignore_index = True)\n",
      "/tmp/ipykernel_30041/1532899490.py:8: FutureWarning: The frame.append method is deprecated and will be removed from pandas in a future version. Use pandas.concat instead.\n",
      "  df_temp = df_temp.append({\"metric\":\"F1\", \"value\": float(df.iloc[4,2])}, ignore_index = True)\n",
      "/tmp/ipykernel_30041/1532899490.py:10: FutureWarning: The frame.append method is deprecated and will be removed from pandas in a future version. Use pandas.concat instead.\n",
      "  df_metric = df_metric.append(df_temp, ignore_index = True)\n"
     ]
    }
   ],
   "source": [
    "method = ['RF',\"SVM\",\"LOGR\"]\n",
    "df_metric = pd.DataFrame()\n",
    "for index, metrics in enumerate([forest_metric, svm_metric, logit_metric]):\n",
    "    df = pd.DataFrame(metrics).transpose()\n",
    "    df_temp = pd.DataFrame()\n",
    "    df_temp[\"value\"] = df['recall'].iloc[:4]\n",
    "    df_temp['metric'] = ['Specificity','Sensitivity','Balanced Accuracy','Accuracy']\n",
    "    df_temp = df_temp.append({\"metric\":\"F1\", \"value\": float(df.iloc[4,2])}, ignore_index = True)\n",
    "    df_temp['method'] = method[index]\n",
    "    df_metric = df_metric.append(df_temp, ignore_index = True)"
   ]
  },
  {
   "cell_type": "code",
   "execution_count": 80,
   "id": "c9ae629e-e3c7-455a-b562-00fb732b4bcb",
   "metadata": {},
   "outputs": [
    {
     "data": {
      "text/html": [
       "<div>\n",
       "<style scoped>\n",
       "    .dataframe tbody tr th:only-of-type {\n",
       "        vertical-align: middle;\n",
       "    }\n",
       "\n",
       "    .dataframe tbody tr th {\n",
       "        vertical-align: top;\n",
       "    }\n",
       "\n",
       "    .dataframe thead th {\n",
       "        text-align: right;\n",
       "    }\n",
       "</style>\n",
       "<table border=\"1\" class=\"dataframe\">\n",
       "  <thead>\n",
       "    <tr style=\"text-align: right;\">\n",
       "      <th></th>\n",
       "      <th>value</th>\n",
       "      <th>metric</th>\n",
       "      <th>method</th>\n",
       "    </tr>\n",
       "  </thead>\n",
       "  <tbody>\n",
       "    <tr>\n",
       "      <th>0</th>\n",
       "      <td>0.817394</td>\n",
       "      <td>Specificity</td>\n",
       "      <td>RF</td>\n",
       "    </tr>\n",
       "    <tr>\n",
       "      <th>1</th>\n",
       "      <td>0.899421</td>\n",
       "      <td>Sensitivity</td>\n",
       "      <td>RF</td>\n",
       "    </tr>\n",
       "    <tr>\n",
       "      <th>2</th>\n",
       "      <td>0.867344</td>\n",
       "      <td>Balanced Accuracy</td>\n",
       "      <td>RF</td>\n",
       "    </tr>\n",
       "    <tr>\n",
       "      <th>3</th>\n",
       "      <td>0.858408</td>\n",
       "      <td>Accuracy</td>\n",
       "      <td>RF</td>\n",
       "    </tr>\n",
       "    <tr>\n",
       "      <th>4</th>\n",
       "      <td>0.867020</td>\n",
       "      <td>F1</td>\n",
       "      <td>RF</td>\n",
       "    </tr>\n",
       "    <tr>\n",
       "      <th>5</th>\n",
       "      <td>0.695426</td>\n",
       "      <td>Specificity</td>\n",
       "      <td>SVM</td>\n",
       "    </tr>\n",
       "    <tr>\n",
       "      <th>6</th>\n",
       "      <td>0.886515</td>\n",
       "      <td>Sensitivity</td>\n",
       "      <td>SVM</td>\n",
       "    </tr>\n",
       "    <tr>\n",
       "      <th>7</th>\n",
       "      <td>0.811789</td>\n",
       "      <td>Balanced Accuracy</td>\n",
       "      <td>SVM</td>\n",
       "    </tr>\n",
       "    <tr>\n",
       "      <th>8</th>\n",
       "      <td>0.790971</td>\n",
       "      <td>Accuracy</td>\n",
       "      <td>SVM</td>\n",
       "    </tr>\n",
       "    <tr>\n",
       "      <th>9</th>\n",
       "      <td>0.809073</td>\n",
       "      <td>F1</td>\n",
       "      <td>SVM</td>\n",
       "    </tr>\n",
       "    <tr>\n",
       "      <th>10</th>\n",
       "      <td>0.680527</td>\n",
       "      <td>Specificity</td>\n",
       "      <td>LOGR</td>\n",
       "    </tr>\n",
       "    <tr>\n",
       "      <th>11</th>\n",
       "      <td>0.756564</td>\n",
       "      <td>Sensitivity</td>\n",
       "      <td>LOGR</td>\n",
       "    </tr>\n",
       "    <tr>\n",
       "      <th>12</th>\n",
       "      <td>0.726829</td>\n",
       "      <td>Balanced Accuracy</td>\n",
       "      <td>LOGR</td>\n",
       "    </tr>\n",
       "    <tr>\n",
       "      <th>13</th>\n",
       "      <td>0.718545</td>\n",
       "      <td>Accuracy</td>\n",
       "      <td>LOGR</td>\n",
       "    </tr>\n",
       "    <tr>\n",
       "      <th>14</th>\n",
       "      <td>0.728117</td>\n",
       "      <td>F1</td>\n",
       "      <td>LOGR</td>\n",
       "    </tr>\n",
       "  </tbody>\n",
       "</table>\n",
       "</div>"
      ],
      "text/plain": [
       "       value             metric method\n",
       "0   0.817394        Specificity     RF\n",
       "1   0.899421        Sensitivity     RF\n",
       "2   0.867344  Balanced Accuracy     RF\n",
       "3   0.858408           Accuracy     RF\n",
       "4   0.867020                 F1     RF\n",
       "5   0.695426        Specificity    SVM\n",
       "6   0.886515        Sensitivity    SVM\n",
       "7   0.811789  Balanced Accuracy    SVM\n",
       "8   0.790971           Accuracy    SVM\n",
       "9   0.809073                 F1    SVM\n",
       "10  0.680527        Specificity   LOGR\n",
       "11  0.756564        Sensitivity   LOGR\n",
       "12  0.726829  Balanced Accuracy   LOGR\n",
       "13  0.718545           Accuracy   LOGR\n",
       "14  0.728117                 F1   LOGR"
      ]
     },
     "execution_count": 80,
     "metadata": {},
     "output_type": "execute_result"
    }
   ],
   "source": [
    "df_metric"
   ]
  },
  {
   "cell_type": "code",
   "execution_count": 65,
   "id": "5378611c-9155-43a6-bdf1-bb4f7ecfa76f",
   "metadata": {},
   "outputs": [
    {
     "name": "stderr",
     "output_type": "stream",
     "text": [
      "/tmp/ipykernel_278096/807567723.py:4: FutureWarning: The frame.append method is deprecated and will be removed from pandas in a future version. Use pandas.concat instead.\n",
      "  df_metric = df_metric.append(dl_metric, ignore_index = True)\n"
     ]
    }
   ],
   "source": [
    "dl_metric = pd.DataFrame({\"metric\": ['Specificity','Sensitivity','Balanced Accuracy','Accuracy','F1'],\n",
    "                         \"value\":[0.8954,0.8529,0.8911,0.7718, 0.8719]}) # This was what I had before \n",
    "dl_metric['method'] = 'DL'\n",
    "df_metric = df_metric.append(dl_metric, ignore_index = True)"
   ]
  },
  {
   "cell_type": "code",
   "execution_count": 66,
   "id": "7017ad1c-2e8f-4b18-9cb8-41e1d6d85695",
   "metadata": {},
   "outputs": [
    {
     "data": {
      "image/png": "[encoded data removed]",
      "text/plain": [
       "<Figure size 1000x350 with 1 Axes>"
      ]
     },
     "metadata": {},
     "output_type": "display_data"
    }
   ],
   "source": [
    "sns.set_style(\"ticks\")\n",
    "\n",
    "plt.figure(figsize=(10, 3.5))\n",
    "ax = sns.barplot(data=df_metric, x='metric', y='value', hue='method',palette=(\"Paired\"))\n",
    "\n",
    "def change_width(ax, new_value) :\n",
    "    for patch in ax.patches :\n",
    "        current_width = patch.get_width()\n",
    "        diff = current_width - new_value\n",
    "\n",
    "        # we change the bar width\n",
    "        patch.set_width(new_value)\n",
    "\n",
    "        # we recenter the bar\n",
    "        patch.set_x(patch.get_x() + diff * .5)\n",
    "\n",
    "change_width(ax, .18)\n",
    "\n",
    "plt.xlabel(\"\")\n",
    "plt.ylabel(\"Value\",fontsize=16)\n",
    "plt.xticks(fontsize=12)\n",
    "plt.yticks(fontsize=12)\n",
    "plt.grid()\n",
    "ax.legend(bbox_to_anchor=(1.05, 1), loc=2, borderaxespad=0.)\n",
    "plt.tight_layout()\n",
    "#plt.show()\n",
    "#plt.savefig(\"metric_comparsion_updated_20.png\")"
   ]
  },
  {
   "cell_type": "markdown",
   "id": "73746635-46f8-48e4-aecf-9fc8f07b9852",
   "metadata": {
    "tags": []
   },
   "source": [
    "### Testing"
   ]
  },
  {
   "cell_type": "code",
   "execution_count": 51,
   "id": "8589d48c-a03f-4f7e-82a3-865e35cc39d7",
   "metadata": {},
   "outputs": [],
   "source": [
    "#Validating with other training sets\n",
    "def json_unifier(file_path, is_bot = None):\n",
    "    with open(file_path) as f:\n",
    "        file = json.loads(f.read())\n",
    "    df = pd.DataFrame(file)\n",
    "    #print(df)\n",
    "    identification_path = file_path.replace(\"_tweets.json\", \".tsv\")\n",
    "    tag_df = pd.read_csv(identification_path, sep='\\t', names = ['id','is_bot'])\n",
    "    tag_df['is_bot'] = [1.0 if i == \"bot\" else 0.0 for i in list(tag_df['is_bot'])]\n",
    "    df = pd.merge(df,tag_df,left_on='user_id',right_on='id', copy = False, suffixes=(None, '_y'))\n",
    "        #df['is_bot'] = df[\"is_bot_y\"]\n",
    "        #df.drop(labels = [\"id_y\", \"is_bot_y\"], axis = 1)\n",
    "        #print(df)\n",
    "    return df\n"
   ]
  },
  {
   "cell_type": "code",
   "execution_count": 54,
   "id": "5972e2a6-f7bb-4872-8c4f-6183088f2a42",
   "metadata": {},
   "outputs": [
    {
     "data": {
      "text/plain": [
       "Counter({0.0: 8092, 1.0: 42446})"
      ]
     },
     "execution_count": 54,
     "metadata": {},
     "output_type": "execute_result"
    }
   ],
   "source": [
    "Counter(midterm_df.is_bot)"
   ]
  },
  {
   "cell_type": "code",
   "execution_count": 13,
   "id": "b105b7ae-969b-4333-badd-d18a21130e52",
   "metadata": {},
   "outputs": [
    {
     "ename": "JSONDecodeError",
     "evalue": "Extra data: line 1 column 12 (char 11)",
     "output_type": "error",
     "traceback": [
      "\u001b[0;31m---------------------------------------------------------------------------\u001b[0m",
      "\u001b[0;31mJSONDecodeError\u001b[0m                           Traceback (most recent call last)",
      "\u001b[0;32m<ipython-input-13-9ddb8f774323>\u001b[0m in \u001b[0;36m<module>\u001b[0;34m\u001b[0m\n\u001b[0;32m----> 1\u001b[0;31m \u001b[0mmidterm_df\u001b[0m \u001b[0;34m=\u001b[0m \u001b[0mjson_unifier\u001b[0m\u001b[0;34m(\u001b[0m\u001b[0;34m\"./training_set/midterm-2018/midterm-2018.tsv\"\u001b[0m\u001b[0;34m)\u001b[0m\u001b[0;34m\u001b[0m\u001b[0;34m\u001b[0m\u001b[0m\n\u001b[0m\u001b[1;32m      2\u001b[0m \u001b[0mmidterm_df\u001b[0m\u001b[0;34m.\u001b[0m\u001b[0mhead\u001b[0m\u001b[0;34m(\u001b[0m\u001b[0;34m)\u001b[0m\u001b[0;34m\u001b[0m\u001b[0;34m\u001b[0m\u001b[0m\n",
      "\u001b[0;32m<ipython-input-10-8e137547c549>\u001b[0m in \u001b[0;36mjson_unifier\u001b[0;34m(file_path, is_bot)\u001b[0m\n\u001b[1;32m      2\u001b[0m \u001b[0;32mdef\u001b[0m \u001b[0mjson_unifier\u001b[0m\u001b[0;34m(\u001b[0m\u001b[0mfile_path\u001b[0m\u001b[0;34m,\u001b[0m \u001b[0mis_bot\u001b[0m \u001b[0;34m=\u001b[0m \u001b[0;32mNone\u001b[0m\u001b[0;34m)\u001b[0m\u001b[0;34m:\u001b[0m\u001b[0;34m\u001b[0m\u001b[0;34m\u001b[0m\u001b[0m\n\u001b[1;32m      3\u001b[0m     \u001b[0;32mwith\u001b[0m \u001b[0mopen\u001b[0m\u001b[0;34m(\u001b[0m\u001b[0mfile_path\u001b[0m\u001b[0;34m)\u001b[0m \u001b[0;32mas\u001b[0m \u001b[0mf\u001b[0m\u001b[0;34m:\u001b[0m\u001b[0;34m\u001b[0m\u001b[0;34m\u001b[0m\u001b[0m\n\u001b[0;32m----> 4\u001b[0;31m         \u001b[0mfile\u001b[0m \u001b[0;34m=\u001b[0m \u001b[0mjson\u001b[0m\u001b[0;34m.\u001b[0m\u001b[0mloads\u001b[0m\u001b[0;34m(\u001b[0m\u001b[0mf\u001b[0m\u001b[0;34m.\u001b[0m\u001b[0mread\u001b[0m\u001b[0;34m(\u001b[0m\u001b[0;34m)\u001b[0m\u001b[0;34m)\u001b[0m\u001b[0;34m\u001b[0m\u001b[0;34m\u001b[0m\u001b[0m\n\u001b[0m\u001b[1;32m      5\u001b[0m         \u001b[0mkey_to_extract\u001b[0m \u001b[0;34m=\u001b[0m \u001b[0mlist\u001b[0m\u001b[0;34m(\u001b[0m\u001b[0mfile\u001b[0m\u001b[0;34m[\u001b[0m\u001b[0;36m0\u001b[0m\u001b[0;34m]\u001b[0m\u001b[0;34m.\u001b[0m\u001b[0mkeys\u001b[0m\u001b[0;34m(\u001b[0m\u001b[0;34m)\u001b[0m\u001b[0;34m)\u001b[0m\u001b[0;34m[\u001b[0m\u001b[0;36m1\u001b[0m\u001b[0;34m]\u001b[0m\u001b[0;34m\u001b[0m\u001b[0;34m\u001b[0m\u001b[0m\n\u001b[1;32m      6\u001b[0m         \u001b[0muser_dict_list\u001b[0m \u001b[0;34m=\u001b[0m \u001b[0;34m[\u001b[0m\u001b[0mi\u001b[0m\u001b[0;34m[\u001b[0m\u001b[0mkey_to_extract\u001b[0m\u001b[0;34m]\u001b[0m \u001b[0;32mfor\u001b[0m \u001b[0mi\u001b[0m \u001b[0;32min\u001b[0m \u001b[0mfile\u001b[0m\u001b[0;34m]\u001b[0m\u001b[0;34m\u001b[0m\u001b[0;34m\u001b[0m\u001b[0m\n",
      "\u001b[0;32m~/opt/anaconda3/lib/python3.8/json/__init__.py\u001b[0m in \u001b[0;36mloads\u001b[0;34m(s, cls, object_hook, parse_float, parse_int, parse_constant, object_pairs_hook, **kw)\u001b[0m\n\u001b[1;32m    355\u001b[0m             \u001b[0mparse_int\u001b[0m \u001b[0;32mis\u001b[0m \u001b[0;32mNone\u001b[0m \u001b[0;32mand\u001b[0m \u001b[0mparse_float\u001b[0m \u001b[0;32mis\u001b[0m \u001b[0;32mNone\u001b[0m \u001b[0;32mand\u001b[0m\u001b[0;34m\u001b[0m\u001b[0;34m\u001b[0m\u001b[0m\n\u001b[1;32m    356\u001b[0m             parse_constant is None and object_pairs_hook is None and not kw):\n\u001b[0;32m--> 357\u001b[0;31m         \u001b[0;32mreturn\u001b[0m \u001b[0m_default_decoder\u001b[0m\u001b[0;34m.\u001b[0m\u001b[0mdecode\u001b[0m\u001b[0;34m(\u001b[0m\u001b[0ms\u001b[0m\u001b[0;34m)\u001b[0m\u001b[0;34m\u001b[0m\u001b[0;34m\u001b[0m\u001b[0m\n\u001b[0m\u001b[1;32m    358\u001b[0m     \u001b[0;32mif\u001b[0m \u001b[0mcls\u001b[0m \u001b[0;32mis\u001b[0m \u001b[0;32mNone\u001b[0m\u001b[0;34m:\u001b[0m\u001b[0;34m\u001b[0m\u001b[0;34m\u001b[0m\u001b[0m\n\u001b[1;32m    359\u001b[0m         \u001b[0mcls\u001b[0m \u001b[0;34m=\u001b[0m \u001b[0mJSONDecoder\u001b[0m\u001b[0;34m\u001b[0m\u001b[0;34m\u001b[0m\u001b[0m\n",
      "\u001b[0;32m~/opt/anaconda3/lib/python3.8/json/decoder.py\u001b[0m in \u001b[0;36mdecode\u001b[0;34m(self, s, _w)\u001b[0m\n\u001b[1;32m    338\u001b[0m         \u001b[0mend\u001b[0m \u001b[0;34m=\u001b[0m \u001b[0m_w\u001b[0m\u001b[0;34m(\u001b[0m\u001b[0ms\u001b[0m\u001b[0;34m,\u001b[0m \u001b[0mend\u001b[0m\u001b[0;34m)\u001b[0m\u001b[0;34m.\u001b[0m\u001b[0mend\u001b[0m\u001b[0;34m(\u001b[0m\u001b[0;34m)\u001b[0m\u001b[0;34m\u001b[0m\u001b[0;34m\u001b[0m\u001b[0m\n\u001b[1;32m    339\u001b[0m         \u001b[0;32mif\u001b[0m \u001b[0mend\u001b[0m \u001b[0;34m!=\u001b[0m \u001b[0mlen\u001b[0m\u001b[0;34m(\u001b[0m\u001b[0ms\u001b[0m\u001b[0;34m)\u001b[0m\u001b[0;34m:\u001b[0m\u001b[0;34m\u001b[0m\u001b[0;34m\u001b[0m\u001b[0m\n\u001b[0;32m--> 340\u001b[0;31m             \u001b[0;32mraise\u001b[0m \u001b[0mJSONDecodeError\u001b[0m\u001b[0;34m(\u001b[0m\u001b[0;34m\"Extra data\"\u001b[0m\u001b[0;34m,\u001b[0m \u001b[0ms\u001b[0m\u001b[0;34m,\u001b[0m \u001b[0mend\u001b[0m\u001b[0;34m)\u001b[0m\u001b[0;34m\u001b[0m\u001b[0;34m\u001b[0m\u001b[0m\n\u001b[0m\u001b[1;32m    341\u001b[0m         \u001b[0;32mreturn\u001b[0m \u001b[0mobj\u001b[0m\u001b[0;34m\u001b[0m\u001b[0;34m\u001b[0m\u001b[0m\n\u001b[1;32m    342\u001b[0m \u001b[0;34m\u001b[0m\u001b[0m\n",
      "\u001b[0;31mJSONDecodeError\u001b[0m: Extra data: line 1 column 12 (char 11)"
     ]
    }
   ],
   "source": [
    "midterm_df = json_unifier(\"./training_set/midterm-2018/midterm-2018_tweets.json\")\n",
    "midterm_df"
   ]
  },
  {
   "cell_type": "code",
   "execution_count": 55,
   "id": "7f6190af-9ee3-480c-a1e7-19f4bda440af",
   "metadata": {},
   "outputs": [],
   "source": [
    "midterm_df = json_unifier(\"./training_set/midterm-2018/midterm-2018_tweets.json\")\n",
    "midterm_df = generate_features(midterm_df, 'user_created_at')\n",
    "xtrain_us, xtest_us, ytrain_us, ytest_us = get_train_test(midterm_df,test_size = 0.3)"
   ]
  },
  {
   "cell_type": "code",
   "execution_count": 56,
   "id": "ca8b5c6d-688d-4afd-9421-9aaddaa6cf66",
   "metadata": {},
   "outputs": [
    {
     "data": {
      "text/plain": [
       "8092"
      ]
     },
     "execution_count": 56,
     "metadata": {},
     "output_type": "execute_result"
    }
   ],
   "source": [
    "len(midterm_df[midterm_df.is_bot==0])"
   ]
  },
  {
   "cell_type": "code",
   "execution_count": 57,
   "id": "4f9b0ae7-9ba8-49d5-92d2-4daa6d4d721d",
   "metadata": {},
   "outputs": [],
   "source": [
    "forest_result_us = list(forest.predict(xtrain_us))"
   ]
  },
  {
   "cell_type": "code",
   "execution_count": 122,
   "id": "78bc60da-bb69-476f-abbc-58b711fd8255",
   "metadata": {},
   "outputs": [
    {
     "data": {
      "text/plain": [
       "5624"
      ]
     },
     "execution_count": 122,
     "metadata": {},
     "output_type": "execute_result"
    }
   ],
   "source": [
    "len([i for i in ytrain_us if i == 0])"
   ]
  },
  {
   "cell_type": "code",
   "execution_count": 123,
   "id": "f8a54c5b-c58b-4f26-bc4d-114ce71086b6",
   "metadata": {},
   "outputs": [
    {
     "data": {
      "text/plain": [
       "34383"
      ]
     },
     "execution_count": 123,
     "metadata": {},
     "output_type": "execute_result"
    }
   ],
   "source": [
    "len([i for i in forest_result_us if i == 1])"
   ]
  },
  {
   "cell_type": "code",
   "execution_count": 124,
   "id": "c748c178-1a9e-4bac-89da-aa792db0b85e",
   "metadata": {},
   "outputs": [
    {
     "name": "stdout",
     "output_type": "stream",
     "text": [
      "              precision    recall  f1-score   support\n",
      "\n",
      "         0.0       0.99      0.17      0.30      5624\n",
      "         1.0       0.86      1.00      0.93     29752\n",
      "\n",
      "    accuracy                           0.87     35376\n",
      "   macro avg       0.93      0.59      0.61     35376\n",
      "weighted avg       0.88      0.87      0.83     35376\n",
      "\n"
     ]
    }
   ],
   "source": [
    "print(sklearn.metrics.classification_report(ytrain_us, forest_result_us))"
   ]
  },
  {
   "cell_type": "code",
   "execution_count": 58,
   "id": "7324c1be-1cc0-46b2-be6c-b5a5c9f988b7",
   "metadata": {},
   "outputs": [
    {
     "name": "stdout",
     "output_type": "stream",
     "text": [
      "553/553 [==============================] - 1s 2ms/step - loss: 0.4431 - accuracy: 0.8910 - recall: 0.8997 - precision: 0.9684 - specificity_at_sensitivity: 0.8547 - sensitivity_at_specificity: 0.9117\n"
     ]
    },
    {
     "data": {
      "text/plain": [
       "[0.44305935502052307,\n",
       " 0.8909995555877686,\n",
       " 0.8997378349304199,\n",
       " 0.9684176445007324,\n",
       " 0.8547297120094299,\n",
       " 0.9116697907447815]"
      ]
     },
     "execution_count": 58,
     "metadata": {},
     "output_type": "execute_result"
    }
   ],
   "source": [
    "model_new.evaluate(xtrain_us, ytrain_us, batch_size = 64)"
   ]
  },
  {
   "cell_type": "code",
   "execution_count": 126,
   "id": "64d66251-39fe-47bd-9465-6b7780378c0f",
   "metadata": {},
   "outputs": [
    {
     "name": "stdout",
     "output_type": "stream",
     "text": [
      "0.9084984281724081\n"
     ]
    }
   ],
   "source": [
    "print(0.8492*0.9767*2/(0.8492+0.9767))"
   ]
  },
  {
   "cell_type": "code",
   "execution_count": 127,
   "id": "8228e649-ba27-4d85-abfe-d906bae6e465",
   "metadata": {},
   "outputs": [
    {
     "name": "stderr",
     "output_type": "stream",
     "text": [
      "/tmp/ipykernel_30041/534129661.py:7: FutureWarning: The frame.append method is deprecated and will be removed from pandas in a future version. Use pandas.concat instead.\n",
      "  us_metric = us_metric.append(us_metric_rf, ignore_index = True)\n"
     ]
    }
   ],
   "source": [
    "us_metric = pd.DataFrame({\"metric\": ['Specificity','Sensitivity','Precision','Balanced Accuracy','Accuracy','F1'],\n",
    "                         \"value\":[0.93,0.85,0.98, 0.83,0.91, 0.88]})\n",
    "us_metric_rf = pd.DataFrame({\"metric\": ['Specificity','Sensitivity','Precision','Balanced Accuracy','Accuracy','F1'],\n",
    "                         \"value\":[0.89,0.93,0.97, 0.86,0.86,0.90]})\n",
    "us_metric['method'] = 'RF'\n",
    "us_metric_rf['method'] = 'DL'\n",
    "us_metric = us_metric.append(us_metric_rf, ignore_index = True)"
   ]
  },
  {
   "cell_type": "code",
   "execution_count": 128,
   "id": "3010d2a4-8256-44ba-b284-9abe95f455a0",
   "metadata": {},
   "outputs": [
    {
     "data": {
      "image/png": "[encoded data removed]",
      "text/plain": [
       "<Figure size 1000x350 with 1 Axes>"
      ]
     },
     "metadata": {},
     "output_type": "display_data"
    }
   ],
   "source": [
    "sns.set_style(\"ticks\")\n",
    "\n",
    "plt.figure(figsize=(10, 3.5))\n",
    "ax = sns.barplot(data=us_metric, x='metric', y='value', hue='method')\n",
    "\n",
    "\n",
    "\n",
    "plt.xlabel(\"\")\n",
    "plt.ylabel(\"Value\",fontsize=16)\n",
    "plt.xticks(fontsize=12)\n",
    "plt.yticks(fontsize=12)\n",
    "plt.grid()\n",
    "ax.legend(bbox_to_anchor=(1.05, 1), loc=2, borderaxespad=0.)\n",
    "plt.tight_layout()\n",
    "plt.savefig(\"metric_comparsion_rf_dl_updated.png\")"
   ]
  },
  {
   "cell_type": "code",
   "execution_count": 74,
   "id": "c88b73b2-5370-473a-809f-839adfd8934d",
   "metadata": {},
   "outputs": [],
   "source": [
    "def json_unifier(file_path, is_bot = None):\n",
    "    with open(file_path) as f:\n",
    "        file = json.loads(f.read())\n",
    "        key_to_extract = list(file[0].keys())[1]\n",
    "        user_dict_list = [i[key_to_extract] for i in file]\n",
    "    df = pd.DataFrame(user_dict_list)\n",
    "\n",
    "    with open(file_path) as f:\n",
    "        file = json.loads(f.read())\n",
    "        key_to_extract_new = list(file[0].keys())[5]\n",
    "        is_bot = [int(i[key_to_extract_new]) for i in file]\n",
    "    df['is_bot'] = is_bot\n",
    "    return df"
   ]
  },
  {
   "cell_type": "code",
   "execution_count": 75,
   "id": "3c7da71e-b0fb-4020-8357-c4db485d4ad0",
   "metadata": {},
   "outputs": [],
   "source": [
    "testing_df = json_unifier(\"./training_set/Twibot-20/test.json\")"
   ]
  },
  {
   "cell_type": "code",
   "execution_count": 76,
   "id": "fd6e3975-d5a0-4b7c-bf1a-1864bef4fab0",
   "metadata": {},
   "outputs": [],
   "source": [
    "xtrain_twi, xtest_twi, ytrain_twi, ytest_twi = get_train_test(midterm_df,test_size = 0.01)"
   ]
  },
  {
   "cell_type": "code",
   "execution_count": 77,
   "id": "ef512dff-4525-4880-8d38-a388a2640a3d",
   "metadata": {},
   "outputs": [
    {
     "name": "stdout",
     "output_type": "stream",
     "text": [
      "              precision    recall  f1-score   support\n",
      "\n",
      "         0.0       0.76      0.69      0.72      8018\n",
      "         1.0       0.94      0.96      0.95     42014\n",
      "\n",
      "    accuracy                           0.92     50032\n",
      "   macro avg       0.85      0.83      0.84     50032\n",
      "weighted avg       0.91      0.92      0.91     50032\n",
      "\n"
     ]
    }
   ],
   "source": [
    "forest_result_twi = list(forest.predict(xtrain_twi))\n",
    "print(sklearn.metrics.classification_report(ytrain_twi, forest_result_twi))"
   ]
  },
  {
   "cell_type": "code",
   "execution_count": 83,
   "id": "42c4ada3-5927-4872-ac5b-3c98c4a5fccd",
   "metadata": {},
   "outputs": [
    {
     "name": "stdout",
     "output_type": "stream",
     "text": [
      "391/391 [==============================] - 1s 1ms/step - loss: 0.3789 - accuracy: 0.8930 - precision: 0.9790 - recall: 0.8917 - specificity_at_sensitivity_6: 0.9017 - sensitivity_at_specificity_6: 0.8983\n"
     ]
    },
    {
     "data": {
      "text/plain": [
       "[0.37885841727256775,\n",
       " 0.892968475818634,\n",
       " 0.9789646863937378,\n",
       " 0.8917027711868286,\n",
       " 0.9017211198806763,\n",
       " 0.8982719779014587]"
      ]
     },
     "execution_count": 83,
     "metadata": {},
     "output_type": "execute_result"
    }
   ],
   "source": [
    "model.evaluate(xtrain_twi, ytrain_twi, batch_size = 128)"
   ]
  }
 ],
 "metadata": {
  "kernelspec": {
   "display_name": "Python 3",
   "language": "python",
   "name": "python3"
  },
  "language_info": {
   "codemirror_mode": {
    "name": "ipython",
    "version": 3
   },
   "file_extension": ".py",
   "mimetype": "text/x-python",
   "name": "python",
   "nbconvert_exporter": "python",
   "pygments_lexer": "ipython3",
   "version": "3.9.13"
  }
 },
 "nbformat": 4,
 "nbformat_minor": 5
}
