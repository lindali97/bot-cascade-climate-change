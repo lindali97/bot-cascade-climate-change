{
 "cells": [
  {
   "cell_type": "code",
   "execution_count": null,
   "id": "ed8caca9-95d2-4bac-8ba5-70e825511262",
   "metadata": {},
   "outputs": [],
   "source": [
    "import pandas as pd\n",
    "from sys import argv\n",
    "#import sqlalchemy\n",
    "import numpy as np\n",
    "\n",
    "#from sklearn import *\n",
    "from sklearn.ensemble import RandomForestClassifier\n",
    "import joblib\n",
    "\n",
    "\n",
    "#import tensorflow as tf\n",
    "#from keras.models import Sequential\n",
    "#from keras.layers import Dense\n",
    "#from keras.layers import Dropout\n",
    "#from keras.layers import Flatten\n",
    "\n",
    "#import keras\n",
    "\n",
    "import os\n",
    "\n",
    "import matplotlib.pyplot as plt\n",
    "\n",
    "from datetime import datetime"
   ]
  },
  {
   "cell_type": "code",
   "execution_count": null,
   "id": "8bea6fdf-da47-42bf-a81a-8b91d79ddb71",
   "metadata": {},
   "outputs": [],
   "source": [
    "from sklearn.inspection import permutation_importance\n",
    "import rfpimp"
   ]
  },
  {
   "cell_type": "code",
   "execution_count": null,
   "id": "c45f0581-0537-4e28-9b52-bebc663547e0",
   "metadata": {},
   "outputs": [],
   "source": [
    "def sql_query_to_data_frame(query):\n",
    "    connection = engine.connect()\n",
    "    df = pd.read_sql_query(sqlalchemy.text(query), connection)\n",
    "    connection.close()\n",
    "    return df"
   ]
  },
  {
   "cell_type": "code",
   "execution_count": null,
   "id": "3a7fa79b-d634-4066-af33-7a90a9e7a736",
   "metadata": {},
   "outputs": [],
   "source": [
    "#os.chdir(\"/home/lindali/Documents/DPhil studies/thesis_work/\")"
   ]
  },
  {
   "cell_type": "code",
   "execution_count": null,
   "id": "51f61ccf-8193-4254-8dd4-0dfabb740676",
   "metadata": {},
   "outputs": [],
   "source": [
    "def generate_features(all_df, create_param = 'created_at'):\n",
    "    created_at_dt = pd.to_datetime(all_df[create_param], format = \"%a %b %d %H:%M:%S +0000 %Y \", errors = 'coerce')\n",
    "    created_at_dt_new = pd.to_datetime(all_df[create_param], format = \"%a %b %d %H:%M:%S +0000 %Y\", errors = 'coerce')\n",
    "    created_at_dt = [created_at_dt_new[i] if pd.isnull(created_at_dt[i]) else created_at_dt[i] for i in range(len(created_at_dt))]\n",
    "    all_df['created_at_dt'] = created_at_dt\n",
    "    all_df['user_age'] = [datetime.now() - i for i in all_df['created_at_dt']]\n",
    "    all_df['user_age'] = [i.total_seconds()//3600 for i in all_df['user_age']]\n",
    "    main_traits = ['statuses_count', 'followers_count', 'friends_count', 'favourites_count', 'listed_count']\n",
    "    derived_traits = ['tweet_freq','followers_growth','friends_growth', 'favourites_growth', 'listed_growth']\n",
    "\n",
    "    for i in range(5):\n",
    "        all_df[main_traits[i]] = [int(k) for k in all_df[main_traits[i]]]\n",
    "        all_df[derived_traits[i]] = all_df[main_traits[i]]/all_df['user_age']\n",
    "\n",
    "    all_df['follower_friend_ratio'] = all_df['followers_count']/(all_df['friends_count'] + 1)\n",
    "    all_df['screen_name_length'] = [len(i) for i in all_df['screen_name']]\n",
    "    all_df['digits_in_screen_name'] = [sum(c.isdigit() for c in i) for i in all_df['screen_name']]\n",
    "    all_df['name_length'] = [len(i) if pd.notnull(i) else 0 for i in all_df['name']]\n",
    "    all_df['digits_in_name'] = [sum(c.isdigit() for c in i) if pd.notnull(i) else 0 for i in all_df['name']]\n",
    "    all_df['description_length'] = [len(i) if pd.notnull(i) else 0 for i in all_df['description']]\n",
    "    return all_df"
   ]
  },
  {
   "cell_type": "code",
   "execution_count": null,
   "id": "3c2be508-e943-42c2-8ca4-76b75cf90201",
   "metadata": {},
   "outputs": [],
   "source": [
    "user_table_df = pd.read_csv(\"/Users/vorsi/Dropbox/bot and agenda-setting/codes and data/raw data/xr_users_classified_0326_wprob.csv\")\n",
    "user_table_df = generate_features(user_table_df)\n",
    "user_table_copy = user_table_df.copy()\n",
    "\n",
    "trait_cols = ['statuses_count', 'followers_count', \"friends_count\", \"favourites_count\",\"listed_count\",\"default_profile\",\"geo_enabled\",\"profile_use_background_image\",\"protected\", \"verified\"]\n",
    "dl_trait_cols = ['statuses_count', 'followers_count', \"friends_count\", \"favourites_count\",\"listed_count\",\"default_profile\",\n",
    "               \"geo_enabled\",\"profile_use_background_image\",\n",
    "                \"protected\", \n",
    "                \"verified\", \n",
    "               'tweet_freq','followers_growth','friends_growth', 'favourites_growth', 'listed_growth',\n",
    "               'follower_friend_ratio', 'screen_name_length','digits_in_screen_name', \n",
    "               'name_length','digits_in_name', 'description_length']\n",
    "\n",
    "non_trait_cols = [i for i in list(user_table_df) if i not in trait_cols]\n",
    "non_trait_cols_dl = [i for i in list(user_table_df) if i not in dl_trait_cols]\n",
    "boolean_features = [\"default_profile\",\"geo_enabled\",\"profile_use_background_image\",\"protected\", \"verified\"]\n",
    "boolean_rf = [\"protected\", \"verified\"]\n",
    "user_table_df_new = user_table_df[trait_cols]\n",
    "user_table_df_dl = user_table_df[dl_trait_cols]\n",
    "\n",
    "\n"
   ]
  },
  {
   "cell_type": "code",
   "execution_count": null,
   "id": "e23d3df9",
   "metadata": {},
   "outputs": [],
   "source": [
    "#user_table_df[['is_bot_dl_rough', 'is_bot_dl_prob', 'is_bot_rf_prob', 'is_bot_rf']]"
   ]
  },
  {
   "cell_type": "code",
   "execution_count": null,
   "id": "1abb180c-372a-453a-9497-11c467616b27",
   "metadata": {},
   "outputs": [],
   "source": [
    "x_df_rf = user_table_df_new.fillna(0.0)\n",
    "x_df_rf[boolean_features] = x_df_rf[boolean_features].replace(\"True \",1.0)\n",
    "x_df_rf[boolean_features] = x_df_rf[boolean_features].replace(\"False \",0.0)\n",
    "#x_df_rf[boolean_rf] = x_df_rf[boolean_rf].replace(\"True \",1.0)\n",
    "#x_df_rf[boolean_rf] = x_df_rf[boolean_rf].replace(\"False \",0.0)\n",
    "x_df_rf = x_df_rf.apply(lambda x: np.asarray(x).astype(np.float32))"
   ]
  },
  {
   "cell_type": "code",
   "execution_count": null,
   "id": "a94d8215-eecd-496f-9c4e-e3cbcec31da5",
   "metadata": {},
   "outputs": [],
   "source": [
    "x_df_rf"
   ]
  },
  {
   "cell_type": "code",
   "execution_count": null,
   "id": "655fd033-ad7d-4b68-86d3-a77b189533fb",
   "metadata": {},
   "outputs": [],
   "source": [
    "x_df = user_table_df_dl.fillna(0.0)\n",
    "x_df[boolean_features] = x_df[boolean_features].replace(\"True \",1.0)\n",
    "x_df[boolean_features] = x_df[boolean_features].replace(\"False \",0.0)\n",
    "x_df = x_df.apply(lambda x: np.asarray(x).astype(np.float32))"
   ]
  },
  {
   "cell_type": "code",
   "execution_count": null,
   "id": "95ab5751",
   "metadata": {},
   "outputs": [],
   "source": [
    "import joblib"
   ]
  },
  {
   "cell_type": "code",
   "execution_count": null,
   "id": "43a772c5-c4d0-4866-9f8e-de66474d2c5a",
   "metadata": {},
   "outputs": [],
   "source": [
    "bot_rf = joblib.load(\"random_forest_model_20trait.joblib\")"
   ]
  },
  {
   "cell_type": "code",
   "execution_count": null,
   "id": "7f7aae0f-3da4-43dc-b760-2f1088689c40",
   "metadata": {},
   "outputs": [],
   "source": [
    "#bot_model_dl = keras.models.load_model(\"./bot_identification/DL_model_010423\")\n",
    "\n",
    "bot_rf10 = joblib.load(\"/Users/vorsi/Dropbox/bot and agenda-setting/codes and data/bot_identification_code_and_data/random_forest_model_10trait.joblib\")"
   ]
  },
  {
   "cell_type": "code",
   "execution_count": null,
   "id": "33e7dd57-4694-423c-9e51-33d374ef135b",
   "metadata": {},
   "outputs": [],
   "source": [
    "bot_or_not_rf = bot_rf10.predict(x_df_rf)\n",
    "bot_or_not_rf20 = bot_rf.predict(x_df)"
   ]
  },
  {
   "cell_type": "code",
   "execution_count": null,
   "id": "0b5fa366-3881-41ec-89b9-0b8e9d7e2cb7",
   "metadata": {},
   "outputs": [],
   "source": [
    "bot_or_not_rf20_prob = bot_rf.predict_proba(x_df)"
   ]
  },
  {
   "cell_type": "code",
   "execution_count": null,
   "id": "1b1cb06a-67b2-4b85-b1fa-be2f1fea036d",
   "metadata": {},
   "outputs": [],
   "source": [
    "bot_or_not = bot_model_dl.predict(x_df)"
   ]
  },
  {
   "cell_type": "code",
   "execution_count": null,
   "id": "0ddf00a3-cfd3-4398-8191-f6ff606dc21e",
   "metadata": {},
   "outputs": [],
   "source": [
    "bot_or_not_ls = bot_or_not.tolist()"
   ]
  },
  {
   "cell_type": "code",
   "execution_count": null,
   "id": "571ee1a1-56df-47b2-95e5-1aadd81de748",
   "metadata": {},
   "outputs": [],
   "source": [
    "bot_or_not_ls = [i[0] for i in bot_or_not_ls]"
   ]
  },
  {
   "cell_type": "code",
   "execution_count": null,
   "id": "6d48c51b-9233-46e4-80cc-e2c3a797f862",
   "metadata": {},
   "outputs": [],
   "source": [
    "plt.hist(bot_or_not_ls)"
   ]
  },
  {
   "cell_type": "code",
   "execution_count": null,
   "id": "b2d27fb3-a429-467b-8c56-00267d993b12",
   "metadata": {},
   "outputs": [],
   "source": [
    "bot_or_not_binary = [1 if i >=0.5 else 0 for i in bot_or_not_ls]"
   ]
  },
  {
   "cell_type": "code",
   "execution_count": null,
   "id": "ea0f0e8c-4522-4bb6-9276-3e5847578713",
   "metadata": {},
   "outputs": [],
   "source": []
  },
  {
   "cell_type": "code",
   "execution_count": null,
   "id": "d5174a3a-5ada-4d34-bba8-fa04bb47b2be",
   "metadata": {},
   "outputs": [],
   "source": [
    "user_table_df_new['is_bot_dl_rough'] = bot_or_not_binary\n",
    "user_table_df_new['is_bot_dl_prob'] = bot_or_not_ls\n",
    "\n",
    "#user_table_df_new.to_sql(table_name, if_exists = 'replace', index = False)"
   ]
  },
  {
   "cell_type": "code",
   "execution_count": null,
   "id": "033995d0-19ab-4ec9-9ce0-973c97ab67d0",
   "metadata": {},
   "outputs": [],
   "source": [
    "bot_or_not_rf = bot_rf.predict(x_df_rf)"
   ]
  },
  {
   "cell_type": "code",
   "execution_count": null,
   "id": "dc1cf66a-8344-4790-ac9a-bbfd077c1ec9",
   "metadata": {},
   "outputs": [],
   "source": [
    "len([i for i in bot_or_not_rf20 if i==1])"
   ]
  },
  {
   "cell_type": "code",
   "execution_count": null,
   "id": "b35d90e2-11eb-4d60-b412-aa78d379b94a",
   "metadata": {},
   "outputs": [],
   "source": [
    "bot_or_not_rf20_prob = [i[1] for i in bot_or_not_rf20_prob] \n",
    "#Returned a result in the format of [human_prob, bot_prob], we used the bot prob"
   ]
  },
  {
   "cell_type": "code",
   "execution_count": null,
   "id": "9d4d1b77-314f-4995-a3ac-585b514131dd",
   "metadata": {},
   "outputs": [],
   "source": [
    "user_table_df_new['is_bot_rf20'] = bot_or_not_rf20\n",
    "user_table_df_new['is_bot_rf20_prob'] = bot_or_not_rf20_prob\n",
    "user_table_df_new['is_bot_rf10'] = bot_or_not_rf"
   ]
  },
  {
   "cell_type": "code",
   "execution_count": null,
   "id": "f99a25ef-cc18-4ff2-b5c8-bf0de8989360",
   "metadata": {},
   "outputs": [],
   "source": [
    "\n",
    "user_table_df_new = user_table_df_new.applymap(lambda x: x.replace(',', '') if isinstance(x, str) else x)\n",
    "user_table_df_new = user_table_df_new.applymap(lambda x: x.replace('\\n', '') if isinstance(x, str) else x)\n",
    "user_table_df_new = user_table_df_new.applymap(lambda x: x.replace('\\t', '') if isinstance(x, str) else x)\n",
    "user_table_df_new = user_table_df_new.applymap(lambda x: x.replace('\\s', '') if isinstance(x, str) else x)"
   ]
  },
  {
   "cell_type": "code",
   "execution_count": null,
   "id": "109937da-36be-4d5e-8cfa-f8cbd5eb30d8",
   "metadata": {},
   "outputs": [],
   "source": [
    "user_table_df_new = user_table_df_new.applymap(lambda x: x.replace('\\r', '') if isinstance(x, str) else x)"
   ]
  },
  {
   "cell_type": "code",
   "execution_count": null,
   "id": "28ab3803-f68c-4240-8bab-23cfff1b6892",
   "metadata": {},
   "outputs": [],
   "source": [
    "user_table_df_new.to_csv(\"xr_users_classified_0422_wprob.csv\", index = False, sep = \",\")"
   ]
  },
  {
   "cell_type": "code",
   "execution_count": null,
   "id": "062f0dda-3846-4933-9a39-4e1034d8be42",
   "metadata": {},
   "outputs": [],
   "source": [
    "user_table_df_new[non_trait_cols] = user_table_df[non_trait_cols]"
   ]
  },
  {
   "cell_type": "code",
   "execution_count": null,
   "id": "3697fed6-8909-47b4-88ca-3338985c0a3c",
   "metadata": {},
   "outputs": [],
   "source": [
    "user_table_df_new[user_table_df_new.is_bot_rf20==1].shape[0]"
   ]
  },
  {
   "cell_type": "markdown",
   "id": "dc591c28-c668-4e74-8d5e-269aef512715",
   "metadata": {},
   "source": [
    "### Comparing"
   ]
  },
  {
   "cell_type": "code",
   "execution_count": null,
   "id": "cba3ff9f-a4de-4cd3-ac7f-181c12f8303a",
   "metadata": {},
   "outputs": [],
   "source": [
    "corr = user_table_df_new.groupby(['is_bot_rf10','is_bot_rf20']).size().reset_index()"
   ]
  },
  {
   "cell_type": "code",
   "execution_count": null,
   "id": "e3fb5327-f68c-4410-9bc0-d979b328f66d",
   "metadata": {},
   "outputs": [],
   "source": [
    "corr"
   ]
  },
  {
   "cell_type": "code",
   "execution_count": null,
   "id": "0d1b890c-c1bc-4561-9e91-ace0ead110f1",
   "metadata": {},
   "outputs": [],
   "source": [
    "user_table_df_new.groupby(['is_bot_dl_rough','is_bot_rf20']).size().reset_index()"
   ]
  },
  {
   "cell_type": "code",
   "execution_count": null,
   "id": "82b452a3-b41e-4be9-9d0d-a1f769f3ece8",
   "metadata": {},
   "outputs": [],
   "source": []
  }
 ],
 "metadata": {
  "kernelspec": {
   "display_name": "Python 3",
   "language": "python",
   "name": "python3"
  },
  "language_info": {
   "codemirror_mode": {
    "name": "ipython",
    "version": 3
   },
   "file_extension": ".py",
   "mimetype": "text/x-python",
   "name": "python",
   "nbconvert_exporter": "python",
   "pygments_lexer": "ipython3",
   "version": "3.9.13"
  }
 },
 "nbformat": 4,
 "nbformat_minor": 5
}
