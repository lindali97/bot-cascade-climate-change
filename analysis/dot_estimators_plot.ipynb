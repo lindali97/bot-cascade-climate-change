{
 "cells": [
  {
   "cell_type": "code",
   "execution_count": 1,
   "id": "08d97959",
   "metadata": {},
   "outputs": [],
   "source": [
    "import matplotlib.pyplot as plt\n",
    "import seaborn as sns\n",
    "import pandas as pd\n",
    "import numpy as np\n",
    "#from wordcloud import WordCloud\n",
    "import datetime as datetime\n",
    "import os"
   ]
  },
  {
   "cell_type": "code",
   "execution_count": 2,
   "id": "95b3bb8e",
   "metadata": {},
   "outputs": [],
   "source": [
    "p_in=\"../data/for_pred_vis\"\n",
    "preds=sorted(os.listdir(p_in))"
   ]
  },
  {
   "cell_type": "code",
   "execution_count": 3,
   "id": "2191d977",
   "metadata": {},
   "outputs": [
    {
     "data": {
      "text/plain": [
       "'../data/preds_vis'"
      ]
     },
     "execution_count": 3,
     "metadata": {},
     "output_type": "execute_result"
    }
   ],
   "source": [
    "p_in"
   ]
  },
  {
   "cell_type": "code",
   "execution_count": 422,
   "id": "a4aedb15",
   "metadata": {},
   "outputs": [],
   "source": [
    "#preds"
   ]
  },
  {
   "cell_type": "code",
   "execution_count": 629,
   "id": "f82fd864",
   "metadata": {},
   "outputs": [],
   "source": [
    "dfs=[]\n",
    "for p in preds[1:]:\n",
    "    df=pd.read_csv(p_in+p)\n",
    "    if 'all_bot' in p:\n",
    "        df['bot_cat']='not astroturfs'\n",
    "    else:\n",
    "        df['bot_cat']='astrotufs'\n",
    "    if p.split(\"_\")[1]=='a':\n",
    "        df['type']='amount'\n",
    "    else:\n",
    "         df['type']='sentiment'\n",
    "    if '65' in p:\n",
    "        df['cutoff']=\"65\"\n",
    "    elif \"70\" in p:\n",
    "        df['cutoff']=\"70\"\n",
    "    elif \"75\" in p:\n",
    "        df['cutoff']=\"75\"\n",
    "    elif \"80\" in p:\n",
    "        df['cutoff']=\"80\"\n",
    "    dfs.append(df)\n",
    "all_pred=pd.concat(dfs).drop_duplicates()"
   ]
  },
  {
   "cell_type": "code",
   "execution_count": 630,
   "id": "b7838134",
   "metadata": {},
   "outputs": [
    {
     "data": {
      "text/html": [
       "<div>\n",
       "<style scoped>\n",
       "    .dataframe tbody tr th:only-of-type {\n",
       "        vertical-align: middle;\n",
       "    }\n",
       "\n",
       "    .dataframe tbody tr th {\n",
       "        vertical-align: top;\n",
       "    }\n",
       "\n",
       "    .dataframe thead th {\n",
       "        text-align: right;\n",
       "    }\n",
       "</style>\n",
       "<table border=\"1\" class=\"dataframe\">\n",
       "  <thead>\n",
       "    <tr style=\"text-align: right;\">\n",
       "      <th></th>\n",
       "      <th>bot_interaction</th>\n",
       "      <th>after</th>\n",
       "      <th>interaction_senti</th>\n",
       "      <th>retweet_count_original</th>\n",
       "      <th>like_count_interaction</th>\n",
       "      <th>burstiness</th>\n",
       "      <th>topic</th>\n",
       "      <th>ols_pred</th>\n",
       "      <th>ols_low</th>\n",
       "      <th>ols_up</th>\n",
       "      <th>bot_cat</th>\n",
       "      <th>type</th>\n",
       "      <th>cutoff</th>\n",
       "    </tr>\n",
       "  </thead>\n",
       "  <tbody>\n",
       "    <tr>\n",
       "      <th>0</th>\n",
       "      <td>0</td>\n",
       "      <td>0</td>\n",
       "      <td>0.003185</td>\n",
       "      <td>30.481013</td>\n",
       "      <td>1.791139</td>\n",
       "      <td>-0.002093</td>\n",
       "      <td>1</td>\n",
       "      <td>-0.014724</td>\n",
       "      <td>-0.255258</td>\n",
       "      <td>0.225810</td>\n",
       "      <td>astrotufs</td>\n",
       "      <td>amount</td>\n",
       "      <td>65</td>\n",
       "    </tr>\n",
       "    <tr>\n",
       "      <th>1</th>\n",
       "      <td>1</td>\n",
       "      <td>0</td>\n",
       "      <td>0.003185</td>\n",
       "      <td>30.481013</td>\n",
       "      <td>1.791139</td>\n",
       "      <td>-0.002093</td>\n",
       "      <td>1</td>\n",
       "      <td>-0.631905</td>\n",
       "      <td>-0.839694</td>\n",
       "      <td>-0.424116</td>\n",
       "      <td>astrotufs</td>\n",
       "      <td>amount</td>\n",
       "      <td>65</td>\n",
       "    </tr>\n",
       "    <tr>\n",
       "      <th>2</th>\n",
       "      <td>0</td>\n",
       "      <td>1</td>\n",
       "      <td>0.003185</td>\n",
       "      <td>30.481013</td>\n",
       "      <td>1.791139</td>\n",
       "      <td>-0.002093</td>\n",
       "      <td>1</td>\n",
       "      <td>-0.248981</td>\n",
       "      <td>-0.491857</td>\n",
       "      <td>-0.006106</td>\n",
       "      <td>astrotufs</td>\n",
       "      <td>amount</td>\n",
       "      <td>65</td>\n",
       "    </tr>\n",
       "    <tr>\n",
       "      <th>3</th>\n",
       "      <td>1</td>\n",
       "      <td>1</td>\n",
       "      <td>0.003185</td>\n",
       "      <td>30.481013</td>\n",
       "      <td>1.791139</td>\n",
       "      <td>-0.002093</td>\n",
       "      <td>1</td>\n",
       "      <td>-0.410891</td>\n",
       "      <td>-0.617107</td>\n",
       "      <td>-0.204675</td>\n",
       "      <td>astrotufs</td>\n",
       "      <td>amount</td>\n",
       "      <td>65</td>\n",
       "    </tr>\n",
       "    <tr>\n",
       "      <th>0</th>\n",
       "      <td>0</td>\n",
       "      <td>0</td>\n",
       "      <td>0.108011</td>\n",
       "      <td>14.483283</td>\n",
       "      <td>2.866261</td>\n",
       "      <td>0.002801</td>\n",
       "      <td>1</td>\n",
       "      <td>-0.661679</td>\n",
       "      <td>-0.861245</td>\n",
       "      <td>-0.462112</td>\n",
       "      <td>not astroturfs</td>\n",
       "      <td>amount</td>\n",
       "      <td>65</td>\n",
       "    </tr>\n",
       "    <tr>\n",
       "      <th>...</th>\n",
       "      <td>...</td>\n",
       "      <td>...</td>\n",
       "      <td>...</td>\n",
       "      <td>...</td>\n",
       "      <td>...</td>\n",
       "      <td>...</td>\n",
       "      <td>...</td>\n",
       "      <td>...</td>\n",
       "      <td>...</td>\n",
       "      <td>...</td>\n",
       "      <td>...</td>\n",
       "      <td>...</td>\n",
       "      <td>...</td>\n",
       "    </tr>\n",
       "    <tr>\n",
       "      <th>3</th>\n",
       "      <td>1</td>\n",
       "      <td>1</td>\n",
       "      <td>0.003185</td>\n",
       "      <td>30.481013</td>\n",
       "      <td>1.791139</td>\n",
       "      <td>-0.002093</td>\n",
       "      <td>2</td>\n",
       "      <td>-0.360102</td>\n",
       "      <td>-0.471648</td>\n",
       "      <td>-0.248556</td>\n",
       "      <td>astrotufs</td>\n",
       "      <td>sentiment</td>\n",
       "      <td>80</td>\n",
       "    </tr>\n",
       "    <tr>\n",
       "      <th>0</th>\n",
       "      <td>0</td>\n",
       "      <td>0</td>\n",
       "      <td>0.108011</td>\n",
       "      <td>14.483283</td>\n",
       "      <td>2.866261</td>\n",
       "      <td>0.002801</td>\n",
       "      <td>2</td>\n",
       "      <td>-0.610264</td>\n",
       "      <td>-0.875211</td>\n",
       "      <td>-0.345317</td>\n",
       "      <td>not astroturfs</td>\n",
       "      <td>sentiment</td>\n",
       "      <td>80</td>\n",
       "    </tr>\n",
       "    <tr>\n",
       "      <th>1</th>\n",
       "      <td>1</td>\n",
       "      <td>0</td>\n",
       "      <td>0.108011</td>\n",
       "      <td>14.483283</td>\n",
       "      <td>2.866261</td>\n",
       "      <td>0.002801</td>\n",
       "      <td>2</td>\n",
       "      <td>-0.801663</td>\n",
       "      <td>-1.135619</td>\n",
       "      <td>-0.467706</td>\n",
       "      <td>not astroturfs</td>\n",
       "      <td>sentiment</td>\n",
       "      <td>80</td>\n",
       "    </tr>\n",
       "    <tr>\n",
       "      <th>2</th>\n",
       "      <td>0</td>\n",
       "      <td>1</td>\n",
       "      <td>0.108011</td>\n",
       "      <td>14.483283</td>\n",
       "      <td>2.866261</td>\n",
       "      <td>0.002801</td>\n",
       "      <td>2</td>\n",
       "      <td>-0.491706</td>\n",
       "      <td>-0.756653</td>\n",
       "      <td>-0.226759</td>\n",
       "      <td>not astroturfs</td>\n",
       "      <td>sentiment</td>\n",
       "      <td>80</td>\n",
       "    </tr>\n",
       "    <tr>\n",
       "      <th>3</th>\n",
       "      <td>1</td>\n",
       "      <td>1</td>\n",
       "      <td>0.108011</td>\n",
       "      <td>14.483283</td>\n",
       "      <td>2.866261</td>\n",
       "      <td>0.002801</td>\n",
       "      <td>2</td>\n",
       "      <td>-1.057106</td>\n",
       "      <td>-1.391063</td>\n",
       "      <td>-0.723149</td>\n",
       "      <td>not astroturfs</td>\n",
       "      <td>sentiment</td>\n",
       "      <td>80</td>\n",
       "    </tr>\n",
       "  </tbody>\n",
       "</table>\n",
       "<p>64 rows × 13 columns</p>\n",
       "</div>"
      ],
      "text/plain": [
       "    bot_interaction  after  interaction_senti  retweet_count_original  \\\n",
       "0                 0      0           0.003185               30.481013   \n",
       "1                 1      0           0.003185               30.481013   \n",
       "2                 0      1           0.003185               30.481013   \n",
       "3                 1      1           0.003185               30.481013   \n",
       "0                 0      0           0.108011               14.483283   \n",
       "..              ...    ...                ...                     ...   \n",
       "3                 1      1           0.003185               30.481013   \n",
       "0                 0      0           0.108011               14.483283   \n",
       "1                 1      0           0.108011               14.483283   \n",
       "2                 0      1           0.108011               14.483283   \n",
       "3                 1      1           0.108011               14.483283   \n",
       "\n",
       "    like_count_interaction  burstiness  topic  ols_pred   ols_low    ols_up  \\\n",
       "0                 1.791139   -0.002093      1 -0.014724 -0.255258  0.225810   \n",
       "1                 1.791139   -0.002093      1 -0.631905 -0.839694 -0.424116   \n",
       "2                 1.791139   -0.002093      1 -0.248981 -0.491857 -0.006106   \n",
       "3                 1.791139   -0.002093      1 -0.410891 -0.617107 -0.204675   \n",
       "0                 2.866261    0.002801      1 -0.661679 -0.861245 -0.462112   \n",
       "..                     ...         ...    ...       ...       ...       ...   \n",
       "3                 1.791139   -0.002093      2 -0.360102 -0.471648 -0.248556   \n",
       "0                 2.866261    0.002801      2 -0.610264 -0.875211 -0.345317   \n",
       "1                 2.866261    0.002801      2 -0.801663 -1.135619 -0.467706   \n",
       "2                 2.866261    0.002801      2 -0.491706 -0.756653 -0.226759   \n",
       "3                 2.866261    0.002801      2 -1.057106 -1.391063 -0.723149   \n",
       "\n",
       "           bot_cat       type cutoff  \n",
       "0        astrotufs     amount     65  \n",
       "1        astrotufs     amount     65  \n",
       "2        astrotufs     amount     65  \n",
       "3        astrotufs     amount     65  \n",
       "0   not astroturfs     amount     65  \n",
       "..             ...        ...    ...  \n",
       "3        astrotufs  sentiment     80  \n",
       "0   not astroturfs  sentiment     80  \n",
       "1   not astroturfs  sentiment     80  \n",
       "2   not astroturfs  sentiment     80  \n",
       "3   not astroturfs  sentiment     80  \n",
       "\n",
       "[64 rows x 13 columns]"
      ]
     },
     "execution_count": 630,
     "metadata": {},
     "output_type": "execute_result"
    }
   ],
   "source": [
    "all_pred"
   ]
  },
  {
   "cell_type": "code",
   "execution_count": 620,
   "id": "3df533c4",
   "metadata": {},
   "outputs": [],
   "source": [
    "#df1_after_bot"
   ]
  },
  {
   "cell_type": "code",
   "execution_count": 631,
   "id": "9b31dfb2",
   "metadata": {},
   "outputs": [],
   "source": [
    "all_pred2=all_pred"
   ]
  },
  {
   "cell_type": "code",
   "execution_count": 632,
   "id": "4152ab6a",
   "metadata": {},
   "outputs": [
    {
     "data": {
      "text/plain": [
       "<matplotlib.legend.Legend at 0x7fe2e6ac6f10>"
      ]
     },
     "execution_count": 632,
     "metadata": {},
     "output_type": "execute_result"
    },
    {
     "data": {
      "image/png": "[encoded data removed]",
      "text/plain": [
       "<Figure size 1008x648 with 4 Axes>"
      ]
     },
     "metadata": {
      "needs_background": "light"
     },
     "output_type": "display_data"
    }
   ],
   "source": [
    "fig, axs = plt.subplots(2, 2, figsize=(14, 9), gridspec_kw={\"hspace\":0.1, \"wspace\":0.1}, sharex=True)\n",
    "\n",
    "all_pred=all_pred2[all_pred2['bot_cat']=='not astroturfs']\n",
    "\n",
    "bot_color = \"#0C2C84\"\n",
    "human_color = \"#E31A1C\"\n",
    "\n",
    "df1_before_human=all_pred[(all_pred[\"type\"]=='amount') & (all_pred[\"after\"]==0) & \n",
    "                          (all_pred[\"bot_interaction\"]==0)]\n",
    "ax1=axs[0][0]\n",
    "ax1.scatter(x=list(df1_before_human['cutoff']), y=list(df1_before_human['ols_pred']), s=60, color=human_color, label='matched users')\n",
    "\n",
    "ax1.vlines(x=list(df1_before_human['cutoff']), \n",
    "           ymin=list(df1_before_human['ols_low']),\n",
    "               ymax=list(df1_before_human['ols_up']), linewidth=2, color=human_color,alpha=1)\n",
    "\n",
    "\n",
    "df1_before_bot=all_pred[(all_pred[\"type\"]=='amount') & (all_pred[\"after\"]==0) \n",
    "                        & (all_pred[\"bot_interaction\"]==1)]\n",
    "ax1=axs[0][0]\n",
    "ax1.scatter(x=list(df1_before_bot['cutoff']), y=list(df1_before_bot['ols_pred']), s=60, color=bot_color, label='bot exposed')\n",
    "\n",
    "ax1.vlines(x=list(df1_before_bot['cutoff']), ymin=list(df1_before_bot['ols_low']),\n",
    "               ymax=list(df1_before_bot['ols_up']), linewidth=2, color=bot_color,alpha=1)\n",
    "\n",
    "ax1.grid()\n",
    "ax1.set_title(\"Before\")\n",
    "\n",
    "\n",
    "df1_after_human=all_pred[(all_pred[\"type\"]=='amount') & (all_pred[\"after\"]==1) \n",
    "                         & (all_pred[\"bot_interaction\"]==0)]\n",
    "ax2=axs[0][1]\n",
    "ax2.scatter(x=list(df1_after_human['cutoff']), y=list(df1_after_human['ols_pred']), s=60, color=human_color, label='matched users')\n",
    "\n",
    "ax2.vlines(x=list(df1_after_human['cutoff']), \n",
    "           ymin=list(df1_after_human['ols_low']),\n",
    "               ymax=list(df1_after_human['ols_up']), \n",
    "           linewidth=2, color=human_color,alpha=1)\n",
    "\n",
    "\n",
    "df1_after_bot=all_pred[(all_pred[\"type\"]=='amount') & (all_pred[\"after\"]==1) & (all_pred[\"bot_interaction\"]==1)]\n",
    "ax2.scatter(x=list(df1_after_bot['cutoff']), \n",
    "            y=list(df1_after_bot['ols_pred']), s=60, color=bot_color, label='bot exposed')\n",
    "\n",
    "ax2.vlines(x=list(df1_after_bot['cutoff']), \n",
    "           ymin=list(df1_after_bot['ols_low']),\n",
    "               ymax=list(df1_after_bot['ols_up']), linewidth=2, color=bot_color,alpha=1)\n",
    "\n",
    "ax2.grid()\n",
    "ax2.set_title(\"After\")\n",
    "ax1.set_ylabel(\"Predicted Average Amount of Tweets\")\n",
    "\n",
    "\n",
    "#SENTIMENT\n",
    "df2_before_human=all_pred[(all_pred[\"type\"]=='sentiment') & (all_pred[\"after\"]==0) & (all_pred[\"bot_interaction\"]==0)]\n",
    "ax3=axs[1][0]\n",
    "ax3.scatter(x=list(df2_before_human['cutoff']), y=list(df2_before_human['ols_pred']), s=60, color=human_color, label='matched users')\n",
    "\n",
    "ax3.vlines(x=list(df2_before_human['cutoff']), ymin=list(df2_before_human['ols_low']),\n",
    "               ymax=list(df2_before_human['ols_up']), linewidth=2, color=human_color,alpha=1)\n",
    "\n",
    "\n",
    "df2_before_bot=all_pred[(all_pred[\"type\"]=='sentiment') & (all_pred[\"after\"]==0) & (all_pred[\"bot_interaction\"]==1)]\n",
    "ax3.scatter(x=list(df2_before_bot['cutoff']), y=list(df2_before_bot['ols_pred']), s=60, color=bot_color, label='bot exposed')\n",
    "\n",
    "ax3.vlines(x=list(df2_before_bot['cutoff']), ymin=list(df2_before_bot['ols_low']),\n",
    "               ymax=list(df2_before_bot['ols_up']), linewidth=2, color=bot_color,alpha=1)\n",
    "\n",
    "ax3.grid()\n",
    "#ax1.set_title(\"Before\")\n",
    "\n",
    "\n",
    "df2_after_human=all_pred[(all_pred[\"type\"]=='sentiment') & (all_pred[\"after\"]==1) \n",
    "                         & (all_pred[\"bot_interaction\"]==0)]\n",
    "ax4=axs[1][1]\n",
    "ax4.scatter(x=list(df2_after_human['cutoff']), y=list(df2_after_human['ols_pred']), s=60, color=human_color, label='matched users')\n",
    "\n",
    "ax4.vlines(x=list(df2_after_human['cutoff']), ymin=list(df2_after_human['ols_low']),\n",
    "               ymax=list(df2_after_human['ols_up']), linewidth=2, color=human_color,alpha=1)\n",
    "\n",
    "\n",
    "df2_after_bot=all_pred[(all_pred[\"type\"]=='sentiment') & (all_pred[\"after\"]==1) \n",
    "                       & (all_pred[\"bot_interaction\"]==1)]\n",
    "ax4.scatter(x=list(df2_after_bot['cutoff']), y=list(df2_after_bot['ols_pred']), s=60, color=bot_color, label='bot exposed')\n",
    "\n",
    "ax4.vlines(x=list(df2_after_bot['cutoff']), ymin=list(df2_after_bot['ols_low']),\n",
    "               ymax=list(df2_after_bot['ols_up']), linewidth=2, color=bot_color,alpha=1)\n",
    "\n",
    "ax4.grid()\n",
    "#ax2.set_title(\"After\")\n",
    "ax3.set_ylabel(\"Predicted Average Sentiment of Tweets\")\n",
    "\n",
    "ax1.legend()"
   ]
  },
  {
   "cell_type": "code",
   "execution_count": 633,
   "id": "cfeb0e8f",
   "metadata": {},
   "outputs": [],
   "source": [
    "#se_amount=[0.120, 0.128, 0.148,0.348]\n",
    "#se_senti=[0.018,0.019,0.023,0.048]\n",
    "\n",
    "bot_human_senti_before_diff=df2_before_bot['ols_pred'].reset_index()-df2_before_human['ols_pred'].reset_index()\n",
    "bot_human_senti_after_diff=df2_after_bot['ols_pred'].reset_index()-df2_after_human['ols_pred'].reset_index()\n",
    "human_senti_diff=df2_before_human.set_index('cutoff')[['ols_pred']]-df2_after_human.set_index('cutoff')[['ols_pred']]\n",
    "bot_senti_diff=df2_before_bot.set_index('cutoff')[['ols_pred']]-df2_after_bot.set_index('cutoff')[['ols_pred']]\n",
    "S_rel_diff=human_senti_diff-bot_senti_diff\n",
    "human_amount_diff=df1_before_human.set_index('cutoff')[['ols_pred']]-df1_after_human.set_index('cutoff')[['ols_pred']]\n",
    "bot_amount_diff=df1_before_bot.set_index('cutoff')[['ols_pred']]-df1_after_bot.set_index('cutoff')[['ols_pred',]]\n",
    "A_rel_diff=human_amount_diff-bot_amount_diff\n",
    "S_rel_diff=human_senti_diff-bot_senti_diff\n",
    "\n",
    "\n",
    "se_amount_na=[0.148, 0.162,0.200,93.966]\n",
    "se_senti_na=[0.023,0.026,0.029,0.104]\n",
    " \n",
    "\n",
    "A_rel_diff['SE']=se_amount_na\n",
    "S_rel_diff['SE']=se_senti_na\n",
    "\n",
    "A_rel_diff['min']=A_rel_diff['ols_pred']-1.96*A_rel_diff['SE']\n",
    "A_rel_diff['max']=A_rel_diff['ols_pred']+1.96*A_rel_diff['SE']\n",
    "S_rel_diff['min']=S_rel_diff['ols_pred']-1.96*S_rel_diff['SE']\n",
    "S_rel_diff['max']=S_rel_diff['ols_pred']+1.96*S_rel_diff['SE']\n",
    "\n",
    "S_rel_diff2=S_rel_diff[:-1]\n",
    "A_rel_diff2=A_rel_diff[:-1]"
   ]
  },
  {
   "cell_type": "code",
   "execution_count": 634,
   "id": "03dffa6f",
   "metadata": {},
   "outputs": [
    {
     "data": {
      "text/plain": [
       "<matplotlib.legend.Legend at 0x7fe354dd0dc0>"
      ]
     },
     "execution_count": 634,
     "metadata": {},
     "output_type": "execute_result"
    },
    {
     "data": {
      "image/png": "[encoded data removed]",
      "text/plain": [
       "<Figure size 1008x648 with 4 Axes>"
      ]
     },
     "metadata": {
      "needs_background": "light"
     },
     "output_type": "display_data"
    }
   ],
   "source": [
    "fig, axs = plt.subplots(2, 2, figsize=(14, 9), gridspec_kw={\"hspace\":0.1, \"wspace\":0.1}, sharex=True)\n",
    "\n",
    "all_pred=all_pred2[all_pred2['bot_cat']=='not astroturfs']\n",
    "\n",
    "bot_color = \"#0C2C84\"\n",
    "human_color = \"#E31A1C\"\n",
    "\n",
    "df1_before_human=all_pred[(all_pred[\"type\"]=='amount') & (all_pred[\"after\"]==0) & \n",
    "                          (all_pred[\"bot_interaction\"]==0)]\n",
    "ax1=axs[0][0]\n",
    "ax1.scatter(x=list(df1_before_human['cutoff']), y=list(df1_before_human['ols_pred']), s=60, color=human_color, label='matched users')\n",
    "\n",
    "ax1.vlines(x=list(df1_before_human['cutoff']), \n",
    "           ymin=list(df1_before_human['ols_low']),\n",
    "               ymax=list(df1_before_human['ols_up']), linewidth=2, color=human_color,alpha=1)\n",
    "\n",
    "\n",
    "df1_before_bot=all_pred[(all_pred[\"type\"]=='amount') & (all_pred[\"after\"]==0) \n",
    "                        & (all_pred[\"bot_interaction\"]==1)]\n",
    "ax1=axs[0][0]\n",
    "ax1.scatter(x=list(df1_before_bot['cutoff']), y=list(df1_before_bot['ols_pred']), s=60, color=bot_color, label='bot exposed')\n",
    "\n",
    "ax1.vlines(x=list(df1_before_bot['cutoff']), ymin=list(df1_before_bot['ols_low']),\n",
    "               ymax=list(df1_before_bot['ols_up']), linewidth=2, color=bot_color,alpha=1)\n",
    "\n",
    "ax1.grid()\n",
    "ax1.set_title(\"Before\")\n",
    "\n",
    "\n",
    "df1_after_human=all_pred[(all_pred[\"type\"]=='amount') & (all_pred[\"after\"]==1) \n",
    "                         & (all_pred[\"bot_interaction\"]==0)]\n",
    "ax2=axs[0][1]\n",
    "ax2.scatter(x=list(df1_after_human['cutoff']), y=list(df1_after_human['ols_pred']), s=60, color=human_color, label='matched users')\n",
    "\n",
    "ax2.vlines(x=list(df1_after_human['cutoff']), \n",
    "           ymin=list(df1_after_human['ols_low']),\n",
    "               ymax=list(df1_after_human['ols_up']), \n",
    "           linewidth=2, color=human_color,alpha=1)\n",
    "\n",
    "\n",
    "df1_after_bot=all_pred[(all_pred[\"type\"]=='amount') & (all_pred[\"after\"]==1) & (all_pred[\"bot_interaction\"]==1)]\n",
    "ax2.scatter(x=list(df1_after_bot['cutoff']), \n",
    "            y=list(df1_after_bot['ols_pred']), s=60, color=bot_color, label='bot exposed')\n",
    "\n",
    "ax2.vlines(x=list(df1_after_bot['cutoff']), \n",
    "           ymin=list(df1_after_bot['ols_low']),\n",
    "               ymax=list(df1_after_bot['ols_up']), linewidth=2, color=bot_color,alpha=1)\n",
    "\n",
    "ax2.grid()\n",
    "ax2.set_title(\"After\")\n",
    "ax1.set_ylabel(\"Predicted Average Amount of Tweets\")\n",
    "\n",
    "\n",
    "#SENTIMENT\n",
    "df2_before_human=all_pred[(all_pred[\"type\"]=='sentiment') & (all_pred[\"after\"]==0) & (all_pred[\"bot_interaction\"]==0)]\n",
    "ax3=axs[1][0]\n",
    "ax3.scatter(x=list(df2_before_human['cutoff']), y=list(df2_before_human['ols_pred']), s=60, color=human_color, label='matched users')\n",
    "\n",
    "ax3.vlines(x=list(df2_before_human['cutoff']), ymin=list(df2_before_human['ols_low']),\n",
    "               ymax=list(df2_before_human['ols_up']), linewidth=2, color=human_color,alpha=1)\n",
    "\n",
    "\n",
    "df2_before_bot=all_pred[(all_pred[\"type\"]=='sentiment') & (all_pred[\"after\"]==0) & (all_pred[\"bot_interaction\"]==1)]\n",
    "ax3.scatter(x=list(df2_before_bot['cutoff']), y=list(df2_before_bot['ols_pred']), s=60, color=bot_color, label='bot exposed')\n",
    "\n",
    "ax3.vlines(x=list(df2_before_bot['cutoff']), ymin=list(df2_before_bot['ols_low']),\n",
    "               ymax=list(df2_before_bot['ols_up']), linewidth=2, color=bot_color,alpha=1)\n",
    "\n",
    "ax3.grid()\n",
    "#ax1.set_title(\"Before\")\n",
    "\n",
    "\n",
    "df2_after_human=all_pred[(all_pred[\"type\"]=='sentiment') & (all_pred[\"after\"]==1) \n",
    "                         & (all_pred[\"bot_interaction\"]==0)]\n",
    "ax4=axs[1][1]\n",
    "ax4.scatter(x=list(df2_after_human['cutoff']), y=list(df2_after_human['ols_pred']), s=60, color=human_color, label='matched users')\n",
    "\n",
    "ax4.vlines(x=list(df2_after_human['cutoff']), ymin=list(df2_after_human['ols_low']),\n",
    "               ymax=list(df2_after_human['ols_up']), linewidth=2, color=human_color,alpha=1)\n",
    "\n",
    "\n",
    "df2_after_bot=all_pred[(all_pred[\"type\"]=='sentiment') & (all_pred[\"after\"]==1) \n",
    "                       & (all_pred[\"bot_interaction\"]==1)]\n",
    "ax4.scatter(x=list(df2_after_bot['cutoff']), y=list(df2_after_bot['ols_pred']), s=60, color=bot_color, label='bot exposed')\n",
    "\n",
    "ax4.vlines(x=list(df2_after_bot['cutoff']), ymin=list(df2_after_bot['ols_low']),\n",
    "               ymax=list(df2_after_bot['ols_up']), linewidth=2, color=bot_color,alpha=1)\n",
    "\n",
    "ax4.grid()\n",
    "#ax2.set_title(\"After\")\n",
    "ax3.set_ylabel(\"Predicted Average Sentiment of Tweets\")\n",
    "\n",
    "ax1.legend()"
   ]
  },
  {
   "cell_type": "code",
   "execution_count": 635,
   "id": "6e3b6076",
   "metadata": {},
   "outputs": [
    {
     "data": {
      "image/png": "[encoded data removed]",
      "text/plain": [
       "<Figure size 432x180 with 2 Axes>"
      ]
     },
     "metadata": {
      "needs_background": "light"
     },
     "output_type": "display_data"
    }
   ],
   "source": [
    "fig, axs = plt.subplots(1, 2, figsize=(6, 2.5\n",
    "                                      ), sharey=True)\n",
    "\n",
    "\n",
    "\n",
    "ax1=axs[0]\n",
    "ax1.scatter(y=list(A_rel_diff2.index), x=list(A_rel_diff2['ols_pred']), s=60, color=bot_color, label='bot exposed')\n",
    "\n",
    "ax1.hlines(y=list(A_rel_diff2.index), xmin=list(A_rel_diff2['min']),\n",
    "               xmax=list(A_rel_diff2['max']), linewidth=2, color=bot_color,alpha=1)\n",
    "ax1.grid()\n",
    "ax1.set_title(\"Avg. Amount of Tweets\")\n",
    "\n",
    "ax2=axs[1]\n",
    "ax2.scatter(y=list(S_rel_diff2.index), x=list(S_rel_diff2['ols_pred']), s=60, color=bot_color, label='bot exposed')\n",
    "\n",
    "ax2.hlines(y=list(S_rel_diff2.index), xmin=list(S_rel_diff2['min']),\n",
    "               xmax=list(S_rel_diff2['max']), linewidth=2, color=bot_color,alpha=1)\n",
    "ax2.grid()\n",
    "ax2.set_title(\"Avg. Sentiment of Tweets\")\n",
    "ax1.vlines(x=0, ymin=-0.01, ymax=2.01,ls='dashed', lw=2,color=\"grey\", alpha=0.6)\n",
    "ax2.vlines(x=0, ymin=-0.01, ymax=2.01,ls='dashed', lw=2,color=\"grey\", alpha=0.6)\n",
    "#ax1.set_xlim(-.85,0.8)\n",
    "#ax2.set_xlim(-.9,0.1)\n",
    "ax1.set_ylabel(\"Botometer AUC Porbability\")\n",
    "fig.text(0.5, -0.05, \"Predicted Change Difference between mathced and bot-exposed\", ha='center')\n",
    "plt.savefig(\"Predicted_change_diff_allcutoff.pdf\")"
   ]
  },
  {
   "cell_type": "code",
   "execution_count": 636,
   "id": "77ad03af",
   "metadata": {},
   "outputs": [
    {
     "data": {
      "text/html": [
       "<div>\n",
       "<style scoped>\n",
       "    .dataframe tbody tr th:only-of-type {\n",
       "        vertical-align: middle;\n",
       "    }\n",
       "\n",
       "    .dataframe tbody tr th {\n",
       "        vertical-align: top;\n",
       "    }\n",
       "\n",
       "    .dataframe thead th {\n",
       "        text-align: right;\n",
       "    }\n",
       "</style>\n",
       "<table border=\"1\" class=\"dataframe\">\n",
       "  <thead>\n",
       "    <tr style=\"text-align: right;\">\n",
       "      <th></th>\n",
       "      <th>bot_interaction</th>\n",
       "      <th>after</th>\n",
       "      <th>interaction_senti</th>\n",
       "      <th>retweet_count_original</th>\n",
       "      <th>like_count_interaction</th>\n",
       "      <th>burstiness</th>\n",
       "      <th>topic</th>\n",
       "      <th>ols_pred</th>\n",
       "      <th>ols_low</th>\n",
       "      <th>ols_up</th>\n",
       "      <th>bot_cat</th>\n",
       "      <th>type</th>\n",
       "      <th>cutoff</th>\n",
       "    </tr>\n",
       "  </thead>\n",
       "  <tbody>\n",
       "    <tr>\n",
       "      <th>0</th>\n",
       "      <td>0</td>\n",
       "      <td>0</td>\n",
       "      <td>0.003185</td>\n",
       "      <td>30.481013</td>\n",
       "      <td>1.791139</td>\n",
       "      <td>-0.002093</td>\n",
       "      <td>1</td>\n",
       "      <td>-0.014724</td>\n",
       "      <td>-0.255258</td>\n",
       "      <td>0.225810</td>\n",
       "      <td>astrotufs</td>\n",
       "      <td>amount</td>\n",
       "      <td>65</td>\n",
       "    </tr>\n",
       "    <tr>\n",
       "      <th>1</th>\n",
       "      <td>1</td>\n",
       "      <td>0</td>\n",
       "      <td>0.003185</td>\n",
       "      <td>30.481013</td>\n",
       "      <td>1.791139</td>\n",
       "      <td>-0.002093</td>\n",
       "      <td>1</td>\n",
       "      <td>-0.631905</td>\n",
       "      <td>-0.839694</td>\n",
       "      <td>-0.424116</td>\n",
       "      <td>astrotufs</td>\n",
       "      <td>amount</td>\n",
       "      <td>65</td>\n",
       "    </tr>\n",
       "    <tr>\n",
       "      <th>2</th>\n",
       "      <td>0</td>\n",
       "      <td>1</td>\n",
       "      <td>0.003185</td>\n",
       "      <td>30.481013</td>\n",
       "      <td>1.791139</td>\n",
       "      <td>-0.002093</td>\n",
       "      <td>1</td>\n",
       "      <td>-0.248981</td>\n",
       "      <td>-0.491857</td>\n",
       "      <td>-0.006106</td>\n",
       "      <td>astrotufs</td>\n",
       "      <td>amount</td>\n",
       "      <td>65</td>\n",
       "    </tr>\n",
       "    <tr>\n",
       "      <th>3</th>\n",
       "      <td>1</td>\n",
       "      <td>1</td>\n",
       "      <td>0.003185</td>\n",
       "      <td>30.481013</td>\n",
       "      <td>1.791139</td>\n",
       "      <td>-0.002093</td>\n",
       "      <td>1</td>\n",
       "      <td>-0.410891</td>\n",
       "      <td>-0.617107</td>\n",
       "      <td>-0.204675</td>\n",
       "      <td>astrotufs</td>\n",
       "      <td>amount</td>\n",
       "      <td>65</td>\n",
       "    </tr>\n",
       "    <tr>\n",
       "      <th>0</th>\n",
       "      <td>0</td>\n",
       "      <td>0</td>\n",
       "      <td>0.108011</td>\n",
       "      <td>14.483283</td>\n",
       "      <td>2.866261</td>\n",
       "      <td>0.002801</td>\n",
       "      <td>1</td>\n",
       "      <td>-0.661679</td>\n",
       "      <td>-0.861245</td>\n",
       "      <td>-0.462112</td>\n",
       "      <td>not astroturfs</td>\n",
       "      <td>amount</td>\n",
       "      <td>65</td>\n",
       "    </tr>\n",
       "    <tr>\n",
       "      <th>...</th>\n",
       "      <td>...</td>\n",
       "      <td>...</td>\n",
       "      <td>...</td>\n",
       "      <td>...</td>\n",
       "      <td>...</td>\n",
       "      <td>...</td>\n",
       "      <td>...</td>\n",
       "      <td>...</td>\n",
       "      <td>...</td>\n",
       "      <td>...</td>\n",
       "      <td>...</td>\n",
       "      <td>...</td>\n",
       "      <td>...</td>\n",
       "    </tr>\n",
       "    <tr>\n",
       "      <th>3</th>\n",
       "      <td>1</td>\n",
       "      <td>1</td>\n",
       "      <td>0.003185</td>\n",
       "      <td>30.481013</td>\n",
       "      <td>1.791139</td>\n",
       "      <td>-0.002093</td>\n",
       "      <td>2</td>\n",
       "      <td>-0.360102</td>\n",
       "      <td>-0.471648</td>\n",
       "      <td>-0.248556</td>\n",
       "      <td>astrotufs</td>\n",
       "      <td>sentiment</td>\n",
       "      <td>80</td>\n",
       "    </tr>\n",
       "    <tr>\n",
       "      <th>0</th>\n",
       "      <td>0</td>\n",
       "      <td>0</td>\n",
       "      <td>0.108011</td>\n",
       "      <td>14.483283</td>\n",
       "      <td>2.866261</td>\n",
       "      <td>0.002801</td>\n",
       "      <td>2</td>\n",
       "      <td>-0.610264</td>\n",
       "      <td>-0.875211</td>\n",
       "      <td>-0.345317</td>\n",
       "      <td>not astroturfs</td>\n",
       "      <td>sentiment</td>\n",
       "      <td>80</td>\n",
       "    </tr>\n",
       "    <tr>\n",
       "      <th>1</th>\n",
       "      <td>1</td>\n",
       "      <td>0</td>\n",
       "      <td>0.108011</td>\n",
       "      <td>14.483283</td>\n",
       "      <td>2.866261</td>\n",
       "      <td>0.002801</td>\n",
       "      <td>2</td>\n",
       "      <td>-0.801663</td>\n",
       "      <td>-1.135619</td>\n",
       "      <td>-0.467706</td>\n",
       "      <td>not astroturfs</td>\n",
       "      <td>sentiment</td>\n",
       "      <td>80</td>\n",
       "    </tr>\n",
       "    <tr>\n",
       "      <th>2</th>\n",
       "      <td>0</td>\n",
       "      <td>1</td>\n",
       "      <td>0.108011</td>\n",
       "      <td>14.483283</td>\n",
       "      <td>2.866261</td>\n",
       "      <td>0.002801</td>\n",
       "      <td>2</td>\n",
       "      <td>-0.491706</td>\n",
       "      <td>-0.756653</td>\n",
       "      <td>-0.226759</td>\n",
       "      <td>not astroturfs</td>\n",
       "      <td>sentiment</td>\n",
       "      <td>80</td>\n",
       "    </tr>\n",
       "    <tr>\n",
       "      <th>3</th>\n",
       "      <td>1</td>\n",
       "      <td>1</td>\n",
       "      <td>0.108011</td>\n",
       "      <td>14.483283</td>\n",
       "      <td>2.866261</td>\n",
       "      <td>0.002801</td>\n",
       "      <td>2</td>\n",
       "      <td>-1.057106</td>\n",
       "      <td>-1.391063</td>\n",
       "      <td>-0.723149</td>\n",
       "      <td>not astroturfs</td>\n",
       "      <td>sentiment</td>\n",
       "      <td>80</td>\n",
       "    </tr>\n",
       "  </tbody>\n",
       "</table>\n",
       "<p>64 rows × 13 columns</p>\n",
       "</div>"
      ],
      "text/plain": [
       "    bot_interaction  after  interaction_senti  retweet_count_original  \\\n",
       "0                 0      0           0.003185               30.481013   \n",
       "1                 1      0           0.003185               30.481013   \n",
       "2                 0      1           0.003185               30.481013   \n",
       "3                 1      1           0.003185               30.481013   \n",
       "0                 0      0           0.108011               14.483283   \n",
       "..              ...    ...                ...                     ...   \n",
       "3                 1      1           0.003185               30.481013   \n",
       "0                 0      0           0.108011               14.483283   \n",
       "1                 1      0           0.108011               14.483283   \n",
       "2                 0      1           0.108011               14.483283   \n",
       "3                 1      1           0.108011               14.483283   \n",
       "\n",
       "    like_count_interaction  burstiness  topic  ols_pred   ols_low    ols_up  \\\n",
       "0                 1.791139   -0.002093      1 -0.014724 -0.255258  0.225810   \n",
       "1                 1.791139   -0.002093      1 -0.631905 -0.839694 -0.424116   \n",
       "2                 1.791139   -0.002093      1 -0.248981 -0.491857 -0.006106   \n",
       "3                 1.791139   -0.002093      1 -0.410891 -0.617107 -0.204675   \n",
       "0                 2.866261    0.002801      1 -0.661679 -0.861245 -0.462112   \n",
       "..                     ...         ...    ...       ...       ...       ...   \n",
       "3                 1.791139   -0.002093      2 -0.360102 -0.471648 -0.248556   \n",
       "0                 2.866261    0.002801      2 -0.610264 -0.875211 -0.345317   \n",
       "1                 2.866261    0.002801      2 -0.801663 -1.135619 -0.467706   \n",
       "2                 2.866261    0.002801      2 -0.491706 -0.756653 -0.226759   \n",
       "3                 2.866261    0.002801      2 -1.057106 -1.391063 -0.723149   \n",
       "\n",
       "           bot_cat       type cutoff  \n",
       "0        astrotufs     amount     65  \n",
       "1        astrotufs     amount     65  \n",
       "2        astrotufs     amount     65  \n",
       "3        astrotufs     amount     65  \n",
       "0   not astroturfs     amount     65  \n",
       "..             ...        ...    ...  \n",
       "3        astrotufs  sentiment     80  \n",
       "0   not astroturfs  sentiment     80  \n",
       "1   not astroturfs  sentiment     80  \n",
       "2   not astroturfs  sentiment     80  \n",
       "3   not astroturfs  sentiment     80  \n",
       "\n",
       "[64 rows x 13 columns]"
      ]
     },
     "execution_count": 636,
     "metadata": {},
     "output_type": "execute_result"
    }
   ],
   "source": [
    "all_pred2"
   ]
  },
  {
   "cell_type": "code",
   "execution_count": 637,
   "id": "95a9f032",
   "metadata": {},
   "outputs": [
    {
     "data": {
      "text/plain": [
       "<matplotlib.legend.Legend at 0x7fe2e6ac6310>"
      ]
     },
     "execution_count": 637,
     "metadata": {},
     "output_type": "execute_result"
    },
    {
     "data": {
      "image/png": "[encoded data removed]",
      "text/plain": [
       "<Figure size 1008x648 with 4 Axes>"
      ]
     },
     "metadata": {
      "needs_background": "light"
     },
     "output_type": "display_data"
    }
   ],
   "source": [
    "fig, axs = plt.subplots(2, 2, figsize=(14, 9), gridspec_kw={\"hspace\":0.1, \"wspace\":0.1}, sharex=True)\n",
    "\n",
    "all_pred=all_pred2[all_pred2['bot_cat']=='astrotufs']\n",
    "\n",
    "bot_color = \"#0C2C84\"\n",
    "human_color = \"#E31A1C\"\n",
    "\n",
    "df1_before_human=all_pred[(all_pred[\"type\"]=='amount') & (all_pred[\"after\"]==0) & \n",
    "                          (all_pred[\"bot_interaction\"]==0)]\n",
    "ax1=axs[0][0]\n",
    "ax1.scatter(x=list(df1_before_human['cutoff']), y=list(df1_before_human['ols_pred']), s=60, color=human_color, label='matched users')\n",
    "\n",
    "ax1.vlines(x=list(df1_before_human['cutoff']), \n",
    "           ymin=list(df1_before_human['ols_low']),\n",
    "               ymax=list(df1_before_human['ols_up']), linewidth=2, color=human_color,alpha=1)\n",
    "\n",
    "\n",
    "df1_before_bot=all_pred[(all_pred[\"type\"]=='amount') & (all_pred[\"after\"]==0) \n",
    "                        & (all_pred[\"bot_interaction\"]==1)]\n",
    "ax1=axs[0][0]\n",
    "ax1.scatter(x=list(df1_before_bot['cutoff']), y=list(df1_before_bot['ols_pred']), s=60, color=bot_color, label='bot exposed')\n",
    "\n",
    "ax1.vlines(x=list(df1_before_bot['cutoff']), ymin=list(df1_before_bot['ols_low']),\n",
    "               ymax=list(df1_before_bot['ols_up']), linewidth=2, color=bot_color,alpha=1)\n",
    "\n",
    "ax1.grid()\n",
    "ax1.set_title(\"Before\")\n",
    "\n",
    "\n",
    "df1_after_human=all_pred[(all_pred[\"type\"]=='amount') & (all_pred[\"after\"]==1) \n",
    "                         & (all_pred[\"bot_interaction\"]==0)]\n",
    "ax2=axs[0][1]\n",
    "ax2.scatter(x=list(df1_after_human['cutoff']), y=list(df1_after_human['ols_pred']), s=60, color=human_color, label='matched users')\n",
    "\n",
    "ax2.vlines(x=list(df1_after_human['cutoff']), \n",
    "           ymin=list(df1_after_human['ols_low']),\n",
    "               ymax=list(df1_after_human['ols_up']), \n",
    "           linewidth=2, color=human_color,alpha=1)\n",
    "\n",
    "\n",
    "df1_after_bot=all_pred[(all_pred[\"type\"]=='amount') & (all_pred[\"after\"]==1) & (all_pred[\"bot_interaction\"]==1)]\n",
    "ax2.scatter(x=list(df1_after_bot['cutoff']), \n",
    "            y=list(df1_after_bot['ols_pred']), s=60, color=bot_color, label='bot exposed')\n",
    "\n",
    "ax2.vlines(x=list(df1_after_bot['cutoff']), \n",
    "           ymin=list(df1_after_bot['ols_low']),\n",
    "               ymax=list(df1_after_bot['ols_up']), linewidth=2, color=bot_color,alpha=1)\n",
    "\n",
    "ax2.grid()\n",
    "ax2.set_title(\"After\")\n",
    "ax1.set_ylabel(\"Predicted Average Amount of Tweets\")\n",
    "\n",
    "\n",
    "#SENTIMENT\n",
    "df2_before_human=all_pred[(all_pred[\"type\"]=='sentiment') & (all_pred[\"after\"]==0) & (all_pred[\"bot_interaction\"]==0)]\n",
    "ax3=axs[1][0]\n",
    "ax3.scatter(x=list(df2_before_human['cutoff']), y=list(df2_before_human['ols_pred']), s=60, color=human_color, label='matched users')\n",
    "\n",
    "ax3.vlines(x=list(df2_before_human['cutoff']), ymin=list(df2_before_human['ols_low']),\n",
    "               ymax=list(df2_before_human['ols_up']), linewidth=2, color=human_color,alpha=1)\n",
    "\n",
    "\n",
    "df2_before_bot=all_pred[(all_pred[\"type\"]=='sentiment') & (all_pred[\"after\"]==0) & (all_pred[\"bot_interaction\"]==1)]\n",
    "ax3.scatter(x=list(df2_before_bot['cutoff']), y=list(df2_before_bot['ols_pred']), s=60, color=bot_color, label='bot exposed')\n",
    "\n",
    "ax3.vlines(x=list(df2_before_bot['cutoff']), ymin=list(df2_before_bot['ols_low']),\n",
    "               ymax=list(df2_before_bot['ols_up']), linewidth=2, color=bot_color,alpha=1)\n",
    "\n",
    "ax3.grid()\n",
    "#ax1.set_title(\"Before\")\n",
    "\n",
    "\n",
    "df2_after_human=all_pred[(all_pred[\"type\"]=='sentiment') & (all_pred[\"after\"]==1) \n",
    "                         & (all_pred[\"bot_interaction\"]==0)]\n",
    "ax4=axs[1][1]\n",
    "ax4.scatter(x=list(df2_after_human['cutoff']), y=list(df2_after_human['ols_pred']), s=60, color=human_color, label='matched users')\n",
    "\n",
    "ax4.vlines(x=list(df2_after_human['cutoff']), ymin=list(df2_after_human['ols_low']),\n",
    "               ymax=list(df2_after_human['ols_up']), linewidth=2, color=human_color,alpha=1)\n",
    "\n",
    "\n",
    "df2_after_bot=all_pred[(all_pred[\"type\"]=='sentiment') & (all_pred[\"after\"]==1) \n",
    "                       & (all_pred[\"bot_interaction\"]==1)]\n",
    "ax4.scatter(x=list(df2_after_bot['cutoff']), y=list(df2_after_bot['ols_pred']), s=60, color=bot_color, label='bot exposed')\n",
    "\n",
    "ax4.vlines(x=list(df2_after_bot['cutoff']), ymin=list(df2_after_bot['ols_low']),\n",
    "               ymax=list(df2_after_bot['ols_up']), linewidth=2, color=bot_color,alpha=1)\n",
    "\n",
    "ax4.grid()\n",
    "#ax2.set_title(\"After\")\n",
    "ax3.set_ylabel(\"Predicted Average Sentiment of Tweets\")\n",
    "\n",
    "ax1.legend()"
   ]
  },
  {
   "cell_type": "code",
   "execution_count": 638,
   "id": "411fe390",
   "metadata": {},
   "outputs": [],
   "source": [
    "#ASTROTURFS\n",
    "\n",
    "\n",
    "bot_human_senti_before_diff=df2_before_bot['ols_pred'].reset_index()-df2_before_human['ols_pred'].reset_index()\n",
    "bot_human_senti_after_diff=df2_after_bot['ols_pred'].reset_index()-df2_after_human['ols_pred'].reset_index()\n",
    "human_senti_diff=df2_before_human.set_index('cutoff')[['ols_pred']]-df2_after_human.set_index('cutoff')[['ols_pred']]\n",
    "bot_senti_diff=df2_before_bot.set_index('cutoff')[['ols_pred']]-df2_after_bot.set_index('cutoff')[['ols_pred']]\n",
    "S_rel_diff=human_senti_diff-bot_senti_diff\n",
    "human_amount_diff=df1_before_human.set_index('cutoff')[['ols_pred']]-df1_after_human.set_index('cutoff')[['ols_pred']]\n",
    "bot_amount_diff=df1_before_bot.set_index('cutoff')[['ols_pred']]-df1_after_bot.set_index('cutoff')[['ols_pred',]]\n",
    "A_rel_diff_astro=human_amount_diff-bot_amount_diff\n",
    "S_rel_diff_astro=human_senti_diff-bot_senti_diff\n",
    "\n",
    "se_amount=[0.120, 0.128, 0.148,0.348]\n",
    "se_senti=[0.018,0.019,0.023,0.048]\n",
    "\n",
    "#(0.120)    (0.128)    (0.148)    (0.348)    (0.018)   (0.019)   (0.023)   (0.048) \n",
    "#se_amount_na=[0.148, 0.162,0.200,93.966]\n",
    "#se_senti_na=[0.023,0.026,0.029,0.104]\n",
    " \n",
    "\n",
    "A_rel_diff_astro['SE']=se_amount\n",
    "S_rel_diff_astro['SE']=se_senti\n",
    "\n",
    "A_rel_diff_astro['min']=A_rel_diff_astro['ols_pred']-1.96*A_rel_diff_astro['SE']\n",
    "A_rel_diff_astro['max']=A_rel_diff_astro['ols_pred']+1.96*A_rel_diff_astro['SE']\n",
    "S_rel_diff_astro['min']=S_rel_diff_astro['ols_pred']-1.96*S_rel_diff_astro['SE']\n",
    "S_rel_diff_astro['max']=S_rel_diff_astro['ols_pred']+1.96*S_rel_diff_astro['SE']\n",
    "\n",
    "S_rel_diff2_astro=S_rel_diff_astro[:-1]\n",
    "A_rel_diff2_astro=A_rel_diff_astro[:-1]"
   ]
  },
  {
   "cell_type": "code",
   "execution_count": 639,
   "id": "33ab69c1",
   "metadata": {},
   "outputs": [
    {
     "data": {
      "text/html": [
       "<div>\n",
       "<style scoped>\n",
       "    .dataframe tbody tr th:only-of-type {\n",
       "        vertical-align: middle;\n",
       "    }\n",
       "\n",
       "    .dataframe tbody tr th {\n",
       "        vertical-align: top;\n",
       "    }\n",
       "\n",
       "    .dataframe thead th {\n",
       "        text-align: right;\n",
       "    }\n",
       "</style>\n",
       "<table border=\"1\" class=\"dataframe\">\n",
       "  <thead>\n",
       "    <tr style=\"text-align: right;\">\n",
       "      <th></th>\n",
       "      <th>ols_pred</th>\n",
       "      <th>SE</th>\n",
       "      <th>min</th>\n",
       "      <th>max</th>\n",
       "    </tr>\n",
       "    <tr>\n",
       "      <th>cutoff</th>\n",
       "      <th></th>\n",
       "      <th></th>\n",
       "      <th></th>\n",
       "      <th></th>\n",
       "    </tr>\n",
       "  </thead>\n",
       "  <tbody>\n",
       "    <tr>\n",
       "      <th>65</th>\n",
       "      <td>-0.106994</td>\n",
       "      <td>0.018</td>\n",
       "      <td>-0.142274</td>\n",
       "      <td>-0.071714</td>\n",
       "    </tr>\n",
       "    <tr>\n",
       "      <th>70</th>\n",
       "      <td>-0.108509</td>\n",
       "      <td>0.019</td>\n",
       "      <td>-0.145749</td>\n",
       "      <td>-0.071269</td>\n",
       "    </tr>\n",
       "    <tr>\n",
       "      <th>75</th>\n",
       "      <td>-0.122102</td>\n",
       "      <td>0.023</td>\n",
       "      <td>-0.167182</td>\n",
       "      <td>-0.077022</td>\n",
       "    </tr>\n",
       "  </tbody>\n",
       "</table>\n",
       "</div>"
      ],
      "text/plain": [
       "        ols_pred     SE       min       max\n",
       "cutoff                                     \n",
       "65     -0.106994  0.018 -0.142274 -0.071714\n",
       "70     -0.108509  0.019 -0.145749 -0.071269\n",
       "75     -0.122102  0.023 -0.167182 -0.077022"
      ]
     },
     "execution_count": 639,
     "metadata": {},
     "output_type": "execute_result"
    }
   ],
   "source": [
    "S_rel_diff2_astro"
   ]
  },
  {
   "cell_type": "code",
   "execution_count": 640,
   "id": "150d76cf",
   "metadata": {},
   "outputs": [
    {
     "data": {
      "image/png": "[encoded data removed]",
      "text/plain": [
       "<Figure size 432x180 with 2 Axes>"
      ]
     },
     "metadata": {
      "needs_background": "light"
     },
     "output_type": "display_data"
    }
   ],
   "source": [
    "fig, axs = plt.subplots(1, 2, figsize=(6, 2.5\n",
    "                                      ), sharey=True)\n",
    "\n",
    "\n",
    "\n",
    "ax1=axs[0]\n",
    "ax1.scatter(y=list(A_rel_diff2_astro.index), x=list(A_rel_diff2_astro['ols_pred']), s=60, color=bot_color, label='bot exposed')\n",
    "\n",
    "ax1.hlines(y=list(A_rel_diff2_astro.index), xmin=list(A_rel_diff2_astro['min']),\n",
    "               xmax=list(A_rel_diff2_astro['max']), linewidth=2, color=bot_color,alpha=1)\n",
    "ax1.grid()\n",
    "ax1.set_title(\"Avg. Amount of Tweets\")\n",
    "\n",
    "ax2=axs[1]\n",
    "ax2.scatter(y=list(S_rel_diff2_astro.index), x=list(S_rel_diff2_astro['ols_pred']), s=60, color=bot_color, label='bot exposed')\n",
    "\n",
    "ax2.hlines(y=list(S_rel_diff2_astro.index), xmin=list(S_rel_diff2_astro['min']),\n",
    "               xmax=list(S_rel_diff2_astro['max']), linewidth=2, color=bot_color,alpha=1)\n",
    "ax2.grid()\n",
    "ax2.set_title(\"Avg. Sentiment of Tweets\")\n",
    "ax1.vlines(x=0, ymin=-0.01, ymax=2.01,ls='dashed', lw=2,color=\"grey\", alpha=0.6)\n",
    "ax2.vlines(x=0, ymin=-0.01, ymax=2.01,ls='dashed', lw=2,color=\"grey\", alpha=0.6)\n",
    "#ax1.set_xlim(-.85,0.8)\n",
    "#ax2.set_xlim(-.9,0.1)\n",
    "ax1.set_ylabel(\"Botometer AUC Porbability\")\n",
    "fig.text(0.5, -0.05, \"Predicted Change Difference between mathced and bot-exposed\", ha='center')\n",
    "plt.savefig(\"Predicted_change_diff_allcutoff.pdf\")"
   ]
  },
  {
   "cell_type": "code",
   "execution_count": 468,
   "id": "3ac85493",
   "metadata": {},
   "outputs": [],
   "source": [
    "#A_rel_diff[:1]"
   ]
  },
  {
   "cell_type": "code",
   "execution_count": 643,
   "id": "744ed481",
   "metadata": {},
   "outputs": [
    {
     "data": {
      "text/html": [
       "<div>\n",
       "<style scoped>\n",
       "    .dataframe tbody tr th:only-of-type {\n",
       "        vertical-align: middle;\n",
       "    }\n",
       "\n",
       "    .dataframe tbody tr th {\n",
       "        vertical-align: top;\n",
       "    }\n",
       "\n",
       "    .dataframe thead th {\n",
       "        text-align: right;\n",
       "    }\n",
       "</style>\n",
       "<table border=\"1\" class=\"dataframe\">\n",
       "  <thead>\n",
       "    <tr style=\"text-align: right;\">\n",
       "      <th></th>\n",
       "      <th>ols_pred</th>\n",
       "      <th>SE</th>\n",
       "      <th>min</th>\n",
       "      <th>max</th>\n",
       "    </tr>\n",
       "    <tr>\n",
       "      <th>cutoff</th>\n",
       "      <th></th>\n",
       "      <th></th>\n",
       "      <th></th>\n",
       "      <th></th>\n",
       "    </tr>\n",
       "  </thead>\n",
       "  <tbody>\n",
       "    <tr>\n",
       "      <th>65</th>\n",
       "      <td>-0.069351</td>\n",
       "      <td>0.148</td>\n",
       "      <td>-0.359431</td>\n",
       "      <td>0.220729</td>\n",
       "    </tr>\n",
       "    <tr>\n",
       "      <th>70</th>\n",
       "      <td>-0.278072</td>\n",
       "      <td>0.162</td>\n",
       "      <td>-0.595592</td>\n",
       "      <td>0.039448</td>\n",
       "    </tr>\n",
       "    <tr>\n",
       "      <th>75</th>\n",
       "      <td>-0.078131</td>\n",
       "      <td>0.200</td>\n",
       "      <td>-0.470131</td>\n",
       "      <td>0.313869</td>\n",
       "    </tr>\n",
       "  </tbody>\n",
       "</table>\n",
       "</div>"
      ],
      "text/plain": [
       "        ols_pred     SE       min       max\n",
       "cutoff                                     \n",
       "65     -0.069351  0.148 -0.359431  0.220729\n",
       "70     -0.278072  0.162 -0.595592  0.039448\n",
       "75     -0.078131  0.200 -0.470131  0.313869"
      ]
     },
     "execution_count": 643,
     "metadata": {},
     "output_type": "execute_result"
    }
   ],
   "source": [
    "A_rel_diff2"
   ]
  },
  {
   "cell_type": "code",
   "execution_count": 1104,
   "id": "7f4893f4",
   "metadata": {
    "collapsed": true,
    "jupyter": {
     "outputs_hidden": true
    },
    "tags": []
   },
   "outputs": [
    {
     "name": "stderr",
     "output_type": "stream",
     "text": [
      "<ipython-input-1104-cffb3b1a8aa2>:4: SettingWithCopyWarning: \n",
      "A value is trying to be set on a copy of a slice from a DataFrame.\n",
      "Try using .loc[row_indexer,col_indexer] = value instead\n",
      "\n",
      "See the caveats in the documentation: https://pandas.pydata.org/pandas-docs/stable/user_guide/indexing.html#returning-a-view-versus-a-copy\n",
      "  A_rel_diff2['cutoff']=A_rel_diff2.index.astype(int)\n",
      "<ipython-input-1104-cffb3b1a8aa2>:5: SettingWithCopyWarning: \n",
      "A value is trying to be set on a copy of a slice from a DataFrame.\n",
      "Try using .loc[row_indexer,col_indexer] = value instead\n",
      "\n",
      "See the caveats in the documentation: https://pandas.pydata.org/pandas-docs/stable/user_guide/indexing.html#returning-a-view-versus-a-copy\n",
      "  A_rel_diff2['new_y']=[i-t for i in A_rel_diff2['cutoff']]\n",
      "<ipython-input-1104-cffb3b1a8aa2>:13: SettingWithCopyWarning: \n",
      "A value is trying to be set on a copy of a slice from a DataFrame.\n",
      "Try using .loc[row_indexer,col_indexer] = value instead\n",
      "\n",
      "See the caveats in the documentation: https://pandas.pydata.org/pandas-docs/stable/user_guide/indexing.html#returning-a-view-versus-a-copy\n",
      "  A_rel_diff2_astro['cutoff']=A_rel_diff2_astro.index.astype(int)\n",
      "<ipython-input-1104-cffb3b1a8aa2>:14: SettingWithCopyWarning: \n",
      "A value is trying to be set on a copy of a slice from a DataFrame.\n",
      "Try using .loc[row_indexer,col_indexer] = value instead\n",
      "\n",
      "See the caveats in the documentation: https://pandas.pydata.org/pandas-docs/stable/user_guide/indexing.html#returning-a-view-versus-a-copy\n",
      "  A_rel_diff2_astro['new_y']=[i+t for i in A_rel_diff2_astro['cutoff']]\n",
      "<ipython-input-1104-cffb3b1a8aa2>:17: SettingWithCopyWarning: \n",
      "A value is trying to be set on a copy of a slice from a DataFrame.\n",
      "Try using .loc[row_indexer,col_indexer] = value instead\n",
      "\n",
      "See the caveats in the documentation: https://pandas.pydata.org/pandas-docs/stable/user_guide/indexing.html#returning-a-view-versus-a-copy\n",
      "  S_rel_diff2_astro['cutoff']=S_rel_diff2_astro.index.astype(int)\n",
      "<ipython-input-1104-cffb3b1a8aa2>:18: SettingWithCopyWarning: \n",
      "A value is trying to be set on a copy of a slice from a DataFrame.\n",
      "Try using .loc[row_indexer,col_indexer] = value instead\n",
      "\n",
      "See the caveats in the documentation: https://pandas.pydata.org/pandas-docs/stable/user_guide/indexing.html#returning-a-view-versus-a-copy\n",
      "  S_rel_diff2_astro['new_y']=[i+t for i in S_rel_diff2_astro['cutoff']]\n"
     ]
    }
   ],
   "source": [
    "t=0.475\n",
    "\n",
    "#A_rel_diff2=A_rel_diff2.reset_index()\n",
    "A_rel_diff2['cutoff']=A_rel_diff2.index.astype(int)\n",
    "A_rel_diff2['new_y']=[i-t for i in A_rel_diff2['cutoff']]\n",
    "\n",
    "#S_rel_diff2=S_rel_diff2.reset_index()\n",
    "S_rel_diff2['cutoff']=S_rel_diff2.index.astype(int)\n",
    "S_rel_diff2['new_y']=[i-t for i in S_rel_diff2['cutoff']]\n",
    "\n",
    "\n",
    "#A_rel_diff2_astro=A_rel_diff2_astro.reset_index()\n",
    "A_rel_diff2_astro['cutoff']=A_rel_diff2_astro.index.astype(int)\n",
    "A_rel_diff2_astro['new_y']=[i+t for i in A_rel_diff2_astro['cutoff']]\n",
    "\n",
    "#S_rel_diff2_astro=S_rel_diff2_astro.reset_index()\n",
    "S_rel_diff2_astro['cutoff']=S_rel_diff2_astro.index.astype(int)\n",
    "S_rel_diff2_astro['new_y']=[i+t for i in S_rel_diff2_astro['cutoff']]"
   ]
  },
  {
   "cell_type": "code",
   "execution_count": 1101,
   "id": "00a559b7",
   "metadata": {},
   "outputs": [],
   "source": [
    "import matplotlib.pyplot as plt\n",
    "from matplotlib.ticker import FuncFormatter"
   ]
  },
  {
   "cell_type": "code",
   "execution_count": 1102,
   "id": "46293b08",
   "metadata": {},
   "outputs": [
    {
     "name": "stderr",
     "output_type": "stream",
     "text": [
      "<ipython-input-1102-753b84755595>:60: UserWarning: FixedFormatter should only be used together with FixedLocator\n",
      "  ax1.set_yticklabels([\"\",\"65\",\"70\",\"75\",\"\"])\n"
     ]
    },
    {
     "data": {
      "image/png": "[encoded data removed]",
      "text/plain": [
       "<Figure size 504x180 with 2 Axes>"
      ]
     },
     "metadata": {
      "needs_background": "light"
     },
     "output_type": "display_data"
    }
   ],
   "source": [
    "# TWO CATEGORIES TOGETHER\n",
    "\n",
    "fig, axs = plt.subplots(1, 2, figsize=(7, 2.5), \n",
    "                        gridspec_kw={\"hspace\":0.1, \"wspace\":0.1},\n",
    "                        sharey=True)\n",
    "\n",
    "astro_color=\"#5C7CD4\"\n",
    "def remove_leading_zero(x, pos):\n",
    "    if x == 0:\n",
    "        return '.00'\n",
    "    elif x > 0:\n",
    "        return '{:.2f}'.format(x).lstrip('0')\n",
    "    else:\n",
    "        return '-{:.2f}'.format(abs(x)).lstrip('0-')\n",
    "\n",
    "# Apply custom formatter to x-axes\n",
    "\n",
    "ax1=axs[0]\n",
    "ax1.scatter(y=list(A_rel_diff2.new_y), x=list(A_rel_diff2['ols_pred']), s=60, color=bot_color, \n",
    "            label='astroturfs',alpha=1)\n",
    "\n",
    "ax1.hlines(y=list(A_rel_diff2.new_y), xmin=list(A_rel_diff2['min']),\n",
    "               xmax=list(A_rel_diff2['max']), linewidth=2, color=bot_color,alpha=1)\n",
    "\n",
    "ax1.set_title(\"Amount\", fontsize=14)\n",
    "\n",
    "ax2=axs[1]\n",
    "#ax.xaxis.set_major_formatter(FuncFormatter(ax2))\n",
    "\n",
    "ax2.scatter(y=list(S_rel_diff2.new_y), x=list(S_rel_diff2['ols_pred']), s=60, color=bot_color, \n",
    "           alpha=1)\n",
    "\n",
    "ax2.hlines(y=list(S_rel_diff2.new_y), xmin=list(S_rel_diff2['min']),\n",
    "               xmax=list(S_rel_diff2['max']), linewidth=2, color=bot_color,alpha=1)\n",
    "\n",
    "\n",
    "\n",
    "ax1.scatter(y=list(A_rel_diff2_astro.new_y), x=list(A_rel_diff2_astro['ols_pred']), s=60, color=astro_color, label='other bots')\n",
    "\n",
    "ax1.hlines(y=list(A_rel_diff2_astro.new_y), xmin=list(A_rel_diff2_astro['min']),\n",
    "               xmax=list(A_rel_diff2_astro['max']), linewidth=2, color=astro_color,alpha=1)\n",
    "\n",
    "\n",
    "ax2.scatter(y=list(S_rel_diff2_astro.new_y), x=list(S_rel_diff2_astro['ols_pred']), s=60, color=astro_color, label='other bots')\n",
    "\n",
    "ax2.hlines(y=list(S_rel_diff2_astro.new_y), xmin=list(S_rel_diff2_astro['min']),\n",
    "               xmax=list(S_rel_diff2_astro['max']), linewidth=2, color=astro_color,alpha=1)\n",
    "\n",
    "ax2.grid(linewidth=.5)\n",
    "ax1.grid(linewidth=.5)\n",
    "ax2.set_title(\"Sentiment\", fontsize=14)\n",
    "ax1.vlines(x=0, ymin=62, ymax=78,ls='dashed', lw=2,color=\"grey\", alpha=1)\n",
    "ax2.vlines(x=0, ymin=62, ymax=78,ls='dashed', lw=2,color=\"grey\", alpha=1)\n",
    "#ax1.set_xlim(-.85,0.8)\n",
    "ax1.set_ylim(62,78)\n",
    "ax2.set_ylim(62,78)\n",
    "ax2.set_xlim(-.2,.05)\n",
    "ax1.set_xlim(-.95,0.7)\n",
    "ax1.set_ylabel(\"Bot Probability\", fontsize=14)\n",
    "ax1.set_yticklabels([\"\",\"65\",\"70\",\"75\",\"\"])\n",
    "\n",
    "#ax1.text(x=-.75,y=75.5,s='other',fontsize=12, color=bot_color)\n",
    "#ax1.text(x=-.89,y=73.9,s='astroturf',fontsize=12, color=astro_color)\n",
    "\n",
    "\n",
    "ax1.text(x=-.75,y=73.9,s='other',fontsize=12, color=bot_color)\n",
    "ax1.text(x=-.89,y=75.5,s='astroturf',fontsize=12, color=astro_color)\n",
    "\n",
    "ax1.set_title(\"A\", weight='bold', fontsize=14, position=(0.02, 1.),\n",
    "                     horizontalalignment='left', verticalalignment='bottom')\n",
    "ax2.set_title(\"B\", weight='bold', fontsize=14, position=(0.02, 1.),    \n",
    "              horizontalalignment='left', verticalalignment='bottom')\n",
    "\n",
    "ax1.set_xlabel(\"Predicted Amount Change\", fontsize=12)\n",
    "ax2.set_xlabel(\"Predicted Sentiment Change\", fontsize=12)\n",
    "\n",
    "\n",
    "ax1.xaxis.set_major_formatter(FuncFormatter(remove_leading_zero))\n",
    "ax2.xaxis.set_major_formatter(FuncFormatter(remove_leading_zero))\n",
    "\n",
    "#fig.text(0.5, -0.05, \"Predicted Change Difference between mathced and bot-exposed\", fontsize=12,\n",
    "#         ha='center')\n",
    "#ax2.legend(loc='upper center', bbox_to_anchor=(1.3, 1))\n",
    "plt.savefig(\"/Users/vorsi/Downloads/Predicted_change_diff_allcutoff_A_B.pdf\", bbox_inches='tight')"
   ]
  },
  {
   "cell_type": "code",
   "execution_count": 648,
   "id": "38f9886c",
   "metadata": {},
   "outputs": [
    {
     "data": {
      "text/plain": [
       "'/Users/vorsi/Dropbox/bot and agenda-setting/codes and data/github_despoit/bot_cascade_paper/analysis'"
      ]
     },
     "execution_count": 648,
     "metadata": {},
     "output_type": "execute_result"
    }
   ],
   "source": [
    "pwd"
   ]
  },
  {
   "cell_type": "code",
   "execution_count": 647,
   "id": "55056a19",
   "metadata": {},
   "outputs": [
    {
     "name": "stderr",
     "output_type": "stream",
     "text": [
      "<ipython-input-647-541ddba057d6>:60: UserWarning: FixedFormatter should only be used together with FixedLocator\n",
      "  ax1.set_yticklabels([\"\",\"65\",\"70\",\"75\",\"\"])\n"
     ]
    },
    {
     "data": {
      "image/png": "[encoded data removed]",
      "text/plain": [
       "<Figure size 504x180 with 2 Axes>"
      ]
     },
     "metadata": {
      "needs_background": "light"
     },
     "output_type": "display_data"
    }
   ],
   "source": [
    "# TWO CATEGORIES TOGETHER\n",
    "\n",
    "fig, axs = plt.subplots(1, 2, figsize=(7, 2.5), \n",
    "                        gridspec_kw={\"hspace\":0.1, \"wspace\":0.1},\n",
    "                        sharey=True)\n",
    "\n",
    "astro_color=\"#5C7CD4\"\n",
    "def remove_leading_zero(x, pos):\n",
    "    if x == 0:\n",
    "        return '.00'\n",
    "    elif x > 0:\n",
    "        return '{:.2f}'.format(x).lstrip('0')\n",
    "    else:\n",
    "        return '-{:.2f}'.format(abs(x)).lstrip('0-')\n",
    "\n",
    "# Apply custom formatter to x-axes\n",
    "\n",
    "ax1=axs[0]\n",
    "ax1.scatter(y=list(A_rel_diff2.new_y), x=list(A_rel_diff2['ols_pred']), s=60, color=bot_color, \n",
    "            label='astroturfs',alpha=1)\n",
    "\n",
    "ax1.hlines(y=list(A_rel_diff2.new_y), xmin=list(A_rel_diff2['min']),\n",
    "               xmax=list(A_rel_diff2['max']), linewidth=2, color=bot_color,alpha=1)\n",
    "\n",
    "ax1.set_title(\"Amount\", fontsize=14)\n",
    "\n",
    "ax2=axs[1]\n",
    "#ax.xaxis.set_major_formatter(FuncFormatter(ax2))\n",
    "\n",
    "ax2.scatter(y=list(S_rel_diff2.new_y), x=list(S_rel_diff2['ols_pred']), s=60, color=bot_color, \n",
    "           alpha=1)\n",
    "\n",
    "ax2.hlines(y=list(S_rel_diff2.new_y), xmin=list(S_rel_diff2['min']),\n",
    "               xmax=list(S_rel_diff2['max']), linewidth=2, color=bot_color,alpha=1)\n",
    "\n",
    "\n",
    "\n",
    "#ax1.scatter(y=list(A_rel_diff2_astro.new_y), x=list(A_rel_diff2_astro['ols_pred']), s=60, color=astro_color, label='other bots')#\n",
    "\n",
    "#ax1.hlines(y=list(A_rel_diff2_astro.new_y), xmin=list(A_rel_diff2_astro['min']),\n",
    "#               xmax=list(A_rel_diff2_astro['max']), linewidth=2, color=astro_color,alpha=1)\n",
    "\n",
    "\n",
    "#ax2.scatter(y=list(S_rel_diff2_astro.new_y), x=list(S_rel_diff2_astro['ols_pred']), s=60, color=astro_color, label='other bots')\n",
    "\n",
    "#ax2.hlines(y=list(S_rel_diff2_astro.new_y), xmin=list(S_rel_diff2_astro['min']),\n",
    "#               xmax=list(S_rel_diff2_astro['max']), linewidth=2, color=astro_color,alpha=1)\n",
    "\n",
    "ax2.grid(linewidth=.5)\n",
    "ax1.grid(linewidth=.5)\n",
    "ax2.set_title(\"Sentiment\", fontsize=14)\n",
    "ax1.vlines(x=0, ymin=62, ymax=78,ls='dashed', lw=2,color=\"grey\", alpha=1)\n",
    "ax2.vlines(x=0, ymin=62, ymax=78,ls='dashed', lw=2,color=\"grey\", alpha=1)\n",
    "#ax1.set_xlim(-.85,0.8)\n",
    "ax1.set_ylim(62,78)\n",
    "ax2.set_ylim(62,78)\n",
    "ax2.set_xlim(-.2,.05)\n",
    "ax1.set_xlim(-.95,0.7)\n",
    "ax1.set_ylabel(\"Bot Probability\", fontsize=14)\n",
    "ax1.set_yticklabels([\"\",\"65\",\"70\",\"75\",\"\"])\n",
    "\n",
    "#ax1.text(x=-.75,y=75.5,s='other',fontsize=12, color=bot_color)\n",
    "#ax1.text(x=-.89,y=73.9,s='astroturf',fontsize=12, color=astro_color)\n",
    "\n",
    "\n",
    "#ax1.text(x=-.75,y=73.9,s='other',fontsize=12, color=bot_color)\n",
    "#ax1.text(x=-.89,y=75.5,s='astroturf',fontsize=12, color=astro_color)\n",
    "\n",
    "ax1.set_title(\"A\", weight='bold', fontsize=14, position=(0.02, 1.),\n",
    "                     horizontalalignment='left', verticalalignment='bottom')\n",
    "ax2.set_title(\"B\", weight='bold', fontsize=14, position=(0.02, 1.),    \n",
    "              horizontalalignment='left', verticalalignment='bottom')\n",
    "\n",
    "ax1.set_xlabel(\"Predicted Amount Change\", fontsize=12)\n",
    "ax2.set_xlabel(\"Predicted Sentiment Change\", fontsize=12)\n",
    "\n",
    "\n",
    "ax1.xaxis.set_major_formatter(FuncFormatter(remove_leading_zero))\n",
    "ax2.xaxis.set_major_formatter(FuncFormatter(remove_leading_zero))\n",
    "\n",
    "#fig.text(0.5, -0.05, \"Predicted Change Difference between mathced and bot-exposed\", fontsize=12,\n",
    "#         ha='center')\n",
    "#ax2.legend(loc='upper center', bbox_to_anchor=(1.3, 1))\n",
    "plt.savefig(\"/Users/vorsi/Downloads/Predicted_change_diff_allcutoff_A_B_NO_ASTRO.pdf\", bbox_inches='tight')"
   ]
  },
  {
   "cell_type": "code",
   "execution_count": 624,
   "id": "36c523d4",
   "metadata": {},
   "outputs": [
    {
     "data": {
      "text/plain": [
       "'/Users/vorsi/Dropbox/bot and agenda-setting/codes and data/github_despoit/bot_cascade_paper/analysis'"
      ]
     },
     "execution_count": 624,
     "metadata": {},
     "output_type": "execute_result"
    }
   ],
   "source": [
    "pwd"
   ]
  },
  {
   "cell_type": "markdown",
   "id": "1f7b8855",
   "metadata": {},
   "source": [
    "# OPINION PREDICTIONS"
   ]
  },
  {
   "cell_type": "code",
   "execution_count": 785,
   "id": "cebb9e31",
   "metadata": {},
   "outputs": [],
   "source": [
    "p_in=\"/Users/vorsi/Dropbox/bot and agenda-setting/codes and data/orsi/PREDS/\"\n",
    "preds=sorted([i for i in os.listdir(p_in) if 'opinion' in i])"
   ]
  },
  {
   "cell_type": "code",
   "execution_count": 786,
   "id": "2b593433",
   "metadata": {},
   "outputs": [
    {
     "data": {
      "text/plain": [
       "['PRED_amount_65_all_opinion_con.csv',\n",
       " 'PRED_amount_65_all_opinion_neutral.csv',\n",
       " 'PRED_amount_65_all_opinion_pro.csv',\n",
       " 'PRED_amount_70_all_opinion_con.csv',\n",
       " 'PRED_amount_70_all_opinion_neutral.csv',\n",
       " 'PRED_amount_70_all_opinion_pro.csv',\n",
       " 'PRED_amount_75_all_opinion_con.csv',\n",
       " 'PRED_amount_75_all_opinion_neutral.csv',\n",
       " 'PRED_amount_75_all_opinion_pro.csv',\n",
       " 'PRED_senti_65_all_opinion_con.csv',\n",
       " 'PRED_senti_65_all_opinion_neutral.csv',\n",
       " 'PRED_senti_65_all_opinion_pro.csv',\n",
       " 'PRED_senti_70_all_opinion_con.csv',\n",
       " 'PRED_senti_70_all_opinion_neutral.csv',\n",
       " 'PRED_senti_70_all_opinion_pro.csv',\n",
       " 'PRED_senti_75_all_opinion_con.csv',\n",
       " 'PRED_senti_75_all_opinion_neutral.csv',\n",
       " 'PRED_senti_75_all_opinion_pro.csv']"
      ]
     },
     "execution_count": 786,
     "metadata": {},
     "output_type": "execute_result"
    }
   ],
   "source": [
    "preds"
   ]
  },
  {
   "cell_type": "code",
   "execution_count": 787,
   "id": "fe9da8c6",
   "metadata": {},
   "outputs": [],
   "source": [
    "dfs_opinion=[]\n",
    "for p in preds:\n",
    "    df=pd.read_csv(p_in+p)\n",
    "    if 'con' in p:\n",
    "        df['bot_cat']='con'\n",
    "    elif 'neutral' in p:\n",
    "        df['bot_cat']='neutral'\n",
    "    elif 'pro' in p:\n",
    "        df['bot_cat']='pro' \n",
    "    if \"amount\" in p:\n",
    "        df['type']='amount'\n",
    "    elif \"senti\" in p:\n",
    "         df['type']='senti'\n",
    "    if '65' in p:\n",
    "        df['cutoff']=\"65\"\n",
    "    elif \"70\" in p:\n",
    "        df['cutoff']=\"70\"\n",
    "    elif \"75\" in p:\n",
    "        df['cutoff']=\"75\"\n",
    "    dfs_opinion.append(df)\n",
    "all_pred_opinion=pd.concat(dfs_opinion).drop_duplicates()"
   ]
  },
  {
   "cell_type": "code",
   "execution_count": 788,
   "id": "7d280deb",
   "metadata": {},
   "outputs": [
    {
     "data": {
      "text/html": [
       "<div>\n",
       "<style scoped>\n",
       "    .dataframe tbody tr th:only-of-type {\n",
       "        vertical-align: middle;\n",
       "    }\n",
       "\n",
       "    .dataframe tbody tr th {\n",
       "        vertical-align: top;\n",
       "    }\n",
       "\n",
       "    .dataframe thead th {\n",
       "        text-align: right;\n",
       "    }\n",
       "</style>\n",
       "<table border=\"1\" class=\"dataframe\">\n",
       "  <thead>\n",
       "    <tr style=\"text-align: right;\">\n",
       "      <th></th>\n",
       "      <th>bot_interaction</th>\n",
       "      <th>after</th>\n",
       "      <th>interaction_senti</th>\n",
       "      <th>user_interaction_opinion</th>\n",
       "      <th>retweet_count_original</th>\n",
       "      <th>like_count_interaction</th>\n",
       "      <th>astroturf_score_bot</th>\n",
       "      <th>burstiness</th>\n",
       "      <th>topic</th>\n",
       "      <th>ols_pred</th>\n",
       "      <th>ols_low</th>\n",
       "      <th>ols_up</th>\n",
       "      <th>bot_cat</th>\n",
       "      <th>type</th>\n",
       "      <th>cutoff</th>\n",
       "    </tr>\n",
       "  </thead>\n",
       "  <tbody>\n",
       "    <tr>\n",
       "      <th>0</th>\n",
       "      <td>0</td>\n",
       "      <td>0</td>\n",
       "      <td>-0.010299</td>\n",
       "      <td>-0.33449</td>\n",
       "      <td>24.921569</td>\n",
       "      <td>1.72549</td>\n",
       "      <td>2.137255</td>\n",
       "      <td>0.151381</td>\n",
       "      <td>1</td>\n",
       "      <td>-1.252071</td>\n",
       "      <td>-1.616042</td>\n",
       "      <td>-0.888100</td>\n",
       "      <td>con</td>\n",
       "      <td>amount</td>\n",
       "      <td>65</td>\n",
       "    </tr>\n",
       "    <tr>\n",
       "      <th>1</th>\n",
       "      <td>1</td>\n",
       "      <td>0</td>\n",
       "      <td>-0.010299</td>\n",
       "      <td>-0.33449</td>\n",
       "      <td>24.921569</td>\n",
       "      <td>1.72549</td>\n",
       "      <td>2.137255</td>\n",
       "      <td>0.151381</td>\n",
       "      <td>1</td>\n",
       "      <td>0.654839</td>\n",
       "      <td>0.430924</td>\n",
       "      <td>0.878753</td>\n",
       "      <td>con</td>\n",
       "      <td>amount</td>\n",
       "      <td>65</td>\n",
       "    </tr>\n",
       "    <tr>\n",
       "      <th>2</th>\n",
       "      <td>0</td>\n",
       "      <td>1</td>\n",
       "      <td>-0.010299</td>\n",
       "      <td>-0.33449</td>\n",
       "      <td>24.921569</td>\n",
       "      <td>1.72549</td>\n",
       "      <td>2.137255</td>\n",
       "      <td>0.151381</td>\n",
       "      <td>1</td>\n",
       "      <td>-1.704178</td>\n",
       "      <td>-2.100744</td>\n",
       "      <td>-1.307612</td>\n",
       "      <td>con</td>\n",
       "      <td>amount</td>\n",
       "      <td>65</td>\n",
       "    </tr>\n",
       "    <tr>\n",
       "      <th>3</th>\n",
       "      <td>1</td>\n",
       "      <td>1</td>\n",
       "      <td>-0.010299</td>\n",
       "      <td>-0.33449</td>\n",
       "      <td>24.921569</td>\n",
       "      <td>1.72549</td>\n",
       "      <td>2.137255</td>\n",
       "      <td>0.151381</td>\n",
       "      <td>1</td>\n",
       "      <td>0.370629</td>\n",
       "      <td>0.144838</td>\n",
       "      <td>0.596420</td>\n",
       "      <td>con</td>\n",
       "      <td>amount</td>\n",
       "      <td>65</td>\n",
       "    </tr>\n",
       "    <tr>\n",
       "      <th>0</th>\n",
       "      <td>0</td>\n",
       "      <td>0</td>\n",
       "      <td>-0.010299</td>\n",
       "      <td>-0.33449</td>\n",
       "      <td>24.921569</td>\n",
       "      <td>1.72549</td>\n",
       "      <td>2.137255</td>\n",
       "      <td>0.151381</td>\n",
       "      <td>1</td>\n",
       "      <td>-0.845429</td>\n",
       "      <td>-1.232209</td>\n",
       "      <td>-0.458650</td>\n",
       "      <td>con</td>\n",
       "      <td>amount</td>\n",
       "      <td>70</td>\n",
       "    </tr>\n",
       "    <tr>\n",
       "      <th>1</th>\n",
       "      <td>1</td>\n",
       "      <td>0</td>\n",
       "      <td>-0.010299</td>\n",
       "      <td>-0.33449</td>\n",
       "      <td>24.921569</td>\n",
       "      <td>1.72549</td>\n",
       "      <td>2.137255</td>\n",
       "      <td>0.151381</td>\n",
       "      <td>1</td>\n",
       "      <td>0.480696</td>\n",
       "      <td>0.260057</td>\n",
       "      <td>0.701335</td>\n",
       "      <td>con</td>\n",
       "      <td>amount</td>\n",
       "      <td>70</td>\n",
       "    </tr>\n",
       "    <tr>\n",
       "      <th>2</th>\n",
       "      <td>0</td>\n",
       "      <td>1</td>\n",
       "      <td>-0.010299</td>\n",
       "      <td>-0.33449</td>\n",
       "      <td>24.921569</td>\n",
       "      <td>1.72549</td>\n",
       "      <td>2.137255</td>\n",
       "      <td>0.151381</td>\n",
       "      <td>1</td>\n",
       "      <td>-1.252174</td>\n",
       "      <td>-1.672583</td>\n",
       "      <td>-0.831765</td>\n",
       "      <td>con</td>\n",
       "      <td>amount</td>\n",
       "      <td>70</td>\n",
       "    </tr>\n",
       "    <tr>\n",
       "      <th>3</th>\n",
       "      <td>1</td>\n",
       "      <td>1</td>\n",
       "      <td>-0.010299</td>\n",
       "      <td>-0.33449</td>\n",
       "      <td>24.921569</td>\n",
       "      <td>1.72549</td>\n",
       "      <td>2.137255</td>\n",
       "      <td>0.151381</td>\n",
       "      <td>1</td>\n",
       "      <td>0.229653</td>\n",
       "      <td>0.006535</td>\n",
       "      <td>0.452771</td>\n",
       "      <td>con</td>\n",
       "      <td>amount</td>\n",
       "      <td>70</td>\n",
       "    </tr>\n",
       "    <tr>\n",
       "      <th>0</th>\n",
       "      <td>0</td>\n",
       "      <td>0</td>\n",
       "      <td>-0.010299</td>\n",
       "      <td>-0.33449</td>\n",
       "      <td>24.921569</td>\n",
       "      <td>1.72549</td>\n",
       "      <td>2.137255</td>\n",
       "      <td>0.151381</td>\n",
       "      <td>1</td>\n",
       "      <td>-1.345375</td>\n",
       "      <td>-1.876542</td>\n",
       "      <td>-0.814208</td>\n",
       "      <td>con</td>\n",
       "      <td>amount</td>\n",
       "      <td>75</td>\n",
       "    </tr>\n",
       "    <tr>\n",
       "      <th>1</th>\n",
       "      <td>1</td>\n",
       "      <td>0</td>\n",
       "      <td>-0.010299</td>\n",
       "      <td>-0.33449</td>\n",
       "      <td>24.921569</td>\n",
       "      <td>1.72549</td>\n",
       "      <td>2.137255</td>\n",
       "      <td>0.151381</td>\n",
       "      <td>1</td>\n",
       "      <td>-0.089092</td>\n",
       "      <td>-0.354659</td>\n",
       "      <td>0.176475</td>\n",
       "      <td>con</td>\n",
       "      <td>amount</td>\n",
       "      <td>75</td>\n",
       "    </tr>\n",
       "    <tr>\n",
       "      <th>2</th>\n",
       "      <td>0</td>\n",
       "      <td>1</td>\n",
       "      <td>-0.010299</td>\n",
       "      <td>-0.33449</td>\n",
       "      <td>24.921569</td>\n",
       "      <td>1.72549</td>\n",
       "      <td>2.137255</td>\n",
       "      <td>0.151381</td>\n",
       "      <td>1</td>\n",
       "      <td>-1.498405</td>\n",
       "      <td>-2.048382</td>\n",
       "      <td>-0.948429</td>\n",
       "      <td>con</td>\n",
       "      <td>amount</td>\n",
       "      <td>75</td>\n",
       "    </tr>\n",
       "    <tr>\n",
       "      <th>3</th>\n",
       "      <td>1</td>\n",
       "      <td>1</td>\n",
       "      <td>-0.010299</td>\n",
       "      <td>-0.33449</td>\n",
       "      <td>24.921569</td>\n",
       "      <td>1.72549</td>\n",
       "      <td>2.137255</td>\n",
       "      <td>0.151381</td>\n",
       "      <td>1</td>\n",
       "      <td>-0.262125</td>\n",
       "      <td>-0.530829</td>\n",
       "      <td>0.006578</td>\n",
       "      <td>con</td>\n",
       "      <td>amount</td>\n",
       "      <td>75</td>\n",
       "    </tr>\n",
       "    <tr>\n",
       "      <th>0</th>\n",
       "      <td>0</td>\n",
       "      <td>0</td>\n",
       "      <td>-0.010299</td>\n",
       "      <td>-0.33449</td>\n",
       "      <td>24.921569</td>\n",
       "      <td>1.72549</td>\n",
       "      <td>2.137255</td>\n",
       "      <td>0.151381</td>\n",
       "      <td>1</td>\n",
       "      <td>-0.017709</td>\n",
       "      <td>-0.068810</td>\n",
       "      <td>0.033393</td>\n",
       "      <td>con</td>\n",
       "      <td>senti</td>\n",
       "      <td>65</td>\n",
       "    </tr>\n",
       "    <tr>\n",
       "      <th>1</th>\n",
       "      <td>1</td>\n",
       "      <td>0</td>\n",
       "      <td>-0.010299</td>\n",
       "      <td>-0.33449</td>\n",
       "      <td>24.921569</td>\n",
       "      <td>1.72549</td>\n",
       "      <td>2.137255</td>\n",
       "      <td>0.151381</td>\n",
       "      <td>1</td>\n",
       "      <td>0.032927</td>\n",
       "      <td>-0.005395</td>\n",
       "      <td>0.071248</td>\n",
       "      <td>con</td>\n",
       "      <td>senti</td>\n",
       "      <td>65</td>\n",
       "    </tr>\n",
       "    <tr>\n",
       "      <th>2</th>\n",
       "      <td>0</td>\n",
       "      <td>1</td>\n",
       "      <td>-0.010299</td>\n",
       "      <td>-0.33449</td>\n",
       "      <td>24.921569</td>\n",
       "      <td>1.72549</td>\n",
       "      <td>2.137255</td>\n",
       "      <td>0.151381</td>\n",
       "      <td>1</td>\n",
       "      <td>-0.071839</td>\n",
       "      <td>-0.122941</td>\n",
       "      <td>-0.020738</td>\n",
       "      <td>con</td>\n",
       "      <td>senti</td>\n",
       "      <td>65</td>\n",
       "    </tr>\n",
       "    <tr>\n",
       "      <th>3</th>\n",
       "      <td>1</td>\n",
       "      <td>1</td>\n",
       "      <td>-0.010299</td>\n",
       "      <td>-0.33449</td>\n",
       "      <td>24.921569</td>\n",
       "      <td>1.72549</td>\n",
       "      <td>2.137255</td>\n",
       "      <td>0.151381</td>\n",
       "      <td>1</td>\n",
       "      <td>0.014743</td>\n",
       "      <td>-0.023578</td>\n",
       "      <td>0.053065</td>\n",
       "      <td>con</td>\n",
       "      <td>senti</td>\n",
       "      <td>65</td>\n",
       "    </tr>\n",
       "    <tr>\n",
       "      <th>0</th>\n",
       "      <td>0</td>\n",
       "      <td>0</td>\n",
       "      <td>-0.010299</td>\n",
       "      <td>-0.33449</td>\n",
       "      <td>24.921569</td>\n",
       "      <td>1.72549</td>\n",
       "      <td>2.137255</td>\n",
       "      <td>0.151381</td>\n",
       "      <td>1</td>\n",
       "      <td>-0.048904</td>\n",
       "      <td>-0.105623</td>\n",
       "      <td>0.007815</td>\n",
       "      <td>con</td>\n",
       "      <td>senti</td>\n",
       "      <td>70</td>\n",
       "    </tr>\n",
       "    <tr>\n",
       "      <th>1</th>\n",
       "      <td>1</td>\n",
       "      <td>0</td>\n",
       "      <td>-0.010299</td>\n",
       "      <td>-0.33449</td>\n",
       "      <td>24.921569</td>\n",
       "      <td>1.72549</td>\n",
       "      <td>2.137255</td>\n",
       "      <td>0.151381</td>\n",
       "      <td>1</td>\n",
       "      <td>-0.005308</td>\n",
       "      <td>-0.046008</td>\n",
       "      <td>0.035391</td>\n",
       "      <td>con</td>\n",
       "      <td>senti</td>\n",
       "      <td>70</td>\n",
       "    </tr>\n",
       "    <tr>\n",
       "      <th>2</th>\n",
       "      <td>0</td>\n",
       "      <td>1</td>\n",
       "      <td>-0.010299</td>\n",
       "      <td>-0.33449</td>\n",
       "      <td>24.921569</td>\n",
       "      <td>1.72549</td>\n",
       "      <td>2.137255</td>\n",
       "      <td>0.151381</td>\n",
       "      <td>1</td>\n",
       "      <td>-0.080238</td>\n",
       "      <td>-0.136957</td>\n",
       "      <td>-0.023519</td>\n",
       "      <td>con</td>\n",
       "      <td>senti</td>\n",
       "      <td>70</td>\n",
       "    </tr>\n",
       "    <tr>\n",
       "      <th>3</th>\n",
       "      <td>1</td>\n",
       "      <td>1</td>\n",
       "      <td>-0.010299</td>\n",
       "      <td>-0.33449</td>\n",
       "      <td>24.921569</td>\n",
       "      <td>1.72549</td>\n",
       "      <td>2.137255</td>\n",
       "      <td>0.151381</td>\n",
       "      <td>1</td>\n",
       "      <td>-0.016785</td>\n",
       "      <td>-0.057485</td>\n",
       "      <td>0.023914</td>\n",
       "      <td>con</td>\n",
       "      <td>senti</td>\n",
       "      <td>70</td>\n",
       "    </tr>\n",
       "    <tr>\n",
       "      <th>0</th>\n",
       "      <td>0</td>\n",
       "      <td>0</td>\n",
       "      <td>-0.010299</td>\n",
       "      <td>-0.33449</td>\n",
       "      <td>24.921569</td>\n",
       "      <td>1.72549</td>\n",
       "      <td>2.137255</td>\n",
       "      <td>0.151381</td>\n",
       "      <td>1</td>\n",
       "      <td>-0.097038</td>\n",
       "      <td>-0.171213</td>\n",
       "      <td>-0.022864</td>\n",
       "      <td>con</td>\n",
       "      <td>senti</td>\n",
       "      <td>75</td>\n",
       "    </tr>\n",
       "    <tr>\n",
       "      <th>1</th>\n",
       "      <td>1</td>\n",
       "      <td>0</td>\n",
       "      <td>-0.010299</td>\n",
       "      <td>-0.33449</td>\n",
       "      <td>24.921569</td>\n",
       "      <td>1.72549</td>\n",
       "      <td>2.137255</td>\n",
       "      <td>0.151381</td>\n",
       "      <td>1</td>\n",
       "      <td>-0.034362</td>\n",
       "      <td>-0.087504</td>\n",
       "      <td>0.018779</td>\n",
       "      <td>con</td>\n",
       "      <td>senti</td>\n",
       "      <td>75</td>\n",
       "    </tr>\n",
       "    <tr>\n",
       "      <th>2</th>\n",
       "      <td>0</td>\n",
       "      <td>1</td>\n",
       "      <td>-0.010299</td>\n",
       "      <td>-0.33449</td>\n",
       "      <td>24.921569</td>\n",
       "      <td>1.72549</td>\n",
       "      <td>2.137255</td>\n",
       "      <td>0.151381</td>\n",
       "      <td>1</td>\n",
       "      <td>0.002310</td>\n",
       "      <td>-0.071864</td>\n",
       "      <td>0.076485</td>\n",
       "      <td>con</td>\n",
       "      <td>senti</td>\n",
       "      <td>75</td>\n",
       "    </tr>\n",
       "    <tr>\n",
       "      <th>3</th>\n",
       "      <td>1</td>\n",
       "      <td>1</td>\n",
       "      <td>-0.010299</td>\n",
       "      <td>-0.33449</td>\n",
       "      <td>24.921569</td>\n",
       "      <td>1.72549</td>\n",
       "      <td>2.137255</td>\n",
       "      <td>0.151381</td>\n",
       "      <td>1</td>\n",
       "      <td>-0.033812</td>\n",
       "      <td>-0.086953</td>\n",
       "      <td>0.019330</td>\n",
       "      <td>con</td>\n",
       "      <td>senti</td>\n",
       "      <td>75</td>\n",
       "    </tr>\n",
       "  </tbody>\n",
       "</table>\n",
       "</div>"
      ],
      "text/plain": [
       "   bot_interaction  after  interaction_senti  user_interaction_opinion  \\\n",
       "0                0      0          -0.010299                  -0.33449   \n",
       "1                1      0          -0.010299                  -0.33449   \n",
       "2                0      1          -0.010299                  -0.33449   \n",
       "3                1      1          -0.010299                  -0.33449   \n",
       "0                0      0          -0.010299                  -0.33449   \n",
       "1                1      0          -0.010299                  -0.33449   \n",
       "2                0      1          -0.010299                  -0.33449   \n",
       "3                1      1          -0.010299                  -0.33449   \n",
       "0                0      0          -0.010299                  -0.33449   \n",
       "1                1      0          -0.010299                  -0.33449   \n",
       "2                0      1          -0.010299                  -0.33449   \n",
       "3                1      1          -0.010299                  -0.33449   \n",
       "0                0      0          -0.010299                  -0.33449   \n",
       "1                1      0          -0.010299                  -0.33449   \n",
       "2                0      1          -0.010299                  -0.33449   \n",
       "3                1      1          -0.010299                  -0.33449   \n",
       "0                0      0          -0.010299                  -0.33449   \n",
       "1                1      0          -0.010299                  -0.33449   \n",
       "2                0      1          -0.010299                  -0.33449   \n",
       "3                1      1          -0.010299                  -0.33449   \n",
       "0                0      0          -0.010299                  -0.33449   \n",
       "1                1      0          -0.010299                  -0.33449   \n",
       "2                0      1          -0.010299                  -0.33449   \n",
       "3                1      1          -0.010299                  -0.33449   \n",
       "\n",
       "   retweet_count_original  like_count_interaction  astroturf_score_bot  \\\n",
       "0               24.921569                 1.72549             2.137255   \n",
       "1               24.921569                 1.72549             2.137255   \n",
       "2               24.921569                 1.72549             2.137255   \n",
       "3               24.921569                 1.72549             2.137255   \n",
       "0               24.921569                 1.72549             2.137255   \n",
       "1               24.921569                 1.72549             2.137255   \n",
       "2               24.921569                 1.72549             2.137255   \n",
       "3               24.921569                 1.72549             2.137255   \n",
       "0               24.921569                 1.72549             2.137255   \n",
       "1               24.921569                 1.72549             2.137255   \n",
       "2               24.921569                 1.72549             2.137255   \n",
       "3               24.921569                 1.72549             2.137255   \n",
       "0               24.921569                 1.72549             2.137255   \n",
       "1               24.921569                 1.72549             2.137255   \n",
       "2               24.921569                 1.72549             2.137255   \n",
       "3               24.921569                 1.72549             2.137255   \n",
       "0               24.921569                 1.72549             2.137255   \n",
       "1               24.921569                 1.72549             2.137255   \n",
       "2               24.921569                 1.72549             2.137255   \n",
       "3               24.921569                 1.72549             2.137255   \n",
       "0               24.921569                 1.72549             2.137255   \n",
       "1               24.921569                 1.72549             2.137255   \n",
       "2               24.921569                 1.72549             2.137255   \n",
       "3               24.921569                 1.72549             2.137255   \n",
       "\n",
       "   burstiness  topic  ols_pred   ols_low    ols_up bot_cat    type cutoff  \n",
       "0    0.151381      1 -1.252071 -1.616042 -0.888100     con  amount     65  \n",
       "1    0.151381      1  0.654839  0.430924  0.878753     con  amount     65  \n",
       "2    0.151381      1 -1.704178 -2.100744 -1.307612     con  amount     65  \n",
       "3    0.151381      1  0.370629  0.144838  0.596420     con  amount     65  \n",
       "0    0.151381      1 -0.845429 -1.232209 -0.458650     con  amount     70  \n",
       "1    0.151381      1  0.480696  0.260057  0.701335     con  amount     70  \n",
       "2    0.151381      1 -1.252174 -1.672583 -0.831765     con  amount     70  \n",
       "3    0.151381      1  0.229653  0.006535  0.452771     con  amount     70  \n",
       "0    0.151381      1 -1.345375 -1.876542 -0.814208     con  amount     75  \n",
       "1    0.151381      1 -0.089092 -0.354659  0.176475     con  amount     75  \n",
       "2    0.151381      1 -1.498405 -2.048382 -0.948429     con  amount     75  \n",
       "3    0.151381      1 -0.262125 -0.530829  0.006578     con  amount     75  \n",
       "0    0.151381      1 -0.017709 -0.068810  0.033393     con   senti     65  \n",
       "1    0.151381      1  0.032927 -0.005395  0.071248     con   senti     65  \n",
       "2    0.151381      1 -0.071839 -0.122941 -0.020738     con   senti     65  \n",
       "3    0.151381      1  0.014743 -0.023578  0.053065     con   senti     65  \n",
       "0    0.151381      1 -0.048904 -0.105623  0.007815     con   senti     70  \n",
       "1    0.151381      1 -0.005308 -0.046008  0.035391     con   senti     70  \n",
       "2    0.151381      1 -0.080238 -0.136957 -0.023519     con   senti     70  \n",
       "3    0.151381      1 -0.016785 -0.057485  0.023914     con   senti     70  \n",
       "0    0.151381      1 -0.097038 -0.171213 -0.022864     con   senti     75  \n",
       "1    0.151381      1 -0.034362 -0.087504  0.018779     con   senti     75  \n",
       "2    0.151381      1  0.002310 -0.071864  0.076485     con   senti     75  \n",
       "3    0.151381      1 -0.033812 -0.086953  0.019330     con   senti     75  "
      ]
     },
     "execution_count": 788,
     "metadata": {},
     "output_type": "execute_result"
    }
   ],
   "source": [
    "all_pred_opinion[all_pred_opinion['bot_cat']=='con']"
   ]
  },
  {
   "cell_type": "code",
   "execution_count": 789,
   "id": "e8c23271",
   "metadata": {},
   "outputs": [],
   "source": [
    "#PRO\n",
    "all_pred=all_pred_opinion\n",
    "pro_before_human_amount=all_pred[(all_pred[\"type\"]=='amount') & \n",
    "                          (all_pred[\"after\"]==0) & \n",
    "                          (all_pred[\"bot_interaction\"]==0) & \n",
    "                         (all_pred['bot_cat']=='pro')]\n",
    "\n",
    "pro_after_human_amount=all_pred[(all_pred[\"type\"]=='amount') & \n",
    "                          (all_pred[\"after\"]==1) & \n",
    "                          (all_pred[\"bot_interaction\"]==0) & \n",
    "                         (all_pred['bot_cat']=='pro')]\n",
    "\n",
    "\n",
    "pro_before_bot_amount=all_pred[(all_pred[\"type\"]=='amount') & \n",
    "                          (all_pred[\"after\"]==0) & \n",
    "                          (all_pred[\"bot_interaction\"]==1) & \n",
    "                         (all_pred['bot_cat']=='pro')]\n",
    "\n",
    "\n",
    "pro_after_bot_amount=all_pred[(all_pred[\"type\"]=='amount') & \n",
    "                          (all_pred[\"after\"]==1) & \n",
    "                          (all_pred[\"bot_interaction\"]==1) & \n",
    "                         (all_pred['bot_cat']=='pro')]\n",
    "\n",
    "#CON\n",
    "con_before_human_amount=all_pred[(all_pred[\"type\"]=='amount') & \n",
    "                          (all_pred[\"after\"]==0) & \n",
    "                          (all_pred[\"bot_interaction\"]==0) & \n",
    "                         (all_pred['bot_cat']=='con')]\n",
    "\n",
    "con_after_human_amount=all_pred[(all_pred[\"type\"]=='amount') & \n",
    "                          (all_pred[\"after\"]==1) & \n",
    "                          (all_pred[\"bot_interaction\"]==0) & \n",
    "                         (all_pred['bot_cat']=='con')]\n",
    "\n",
    "\n",
    "con_before_bot_amount=all_pred[(all_pred[\"type\"]=='amount') & \n",
    "                          (all_pred[\"after\"]==0) & \n",
    "                          (all_pred[\"bot_interaction\"]==1) & \n",
    "                         (all_pred['bot_cat']=='con')]\n",
    "\n",
    "\n",
    "con_after_bot_amount=all_pred[(all_pred[\"type\"]=='amount') & \n",
    "                          (all_pred[\"after\"]==1) & \n",
    "                          (all_pred[\"bot_interaction\"]==1) & \n",
    "                         (all_pred['bot_cat']=='con')]\n",
    "\n",
    "\n",
    "#neutral\n",
    "neutral_before_human_amount=all_pred[(all_pred[\"type\"]=='amount') & \n",
    "                          (all_pred[\"after\"]==0) & \n",
    "                          (all_pred[\"bot_interaction\"]==0) & \n",
    "                         (all_pred['bot_cat']=='neutral')]\n",
    "\n",
    "neutral_after_human_amount=all_pred[(all_pred[\"type\"]=='amount') & \n",
    "                          (all_pred[\"after\"]==1) & \n",
    "                          (all_pred[\"bot_interaction\"]==0) & \n",
    "                         (all_pred['bot_cat']=='neutral')]\n",
    "\n",
    "\n",
    "neutral_before_bot_amount=all_pred[(all_pred[\"type\"]=='amount') & \n",
    "                          (all_pred[\"after\"]==0) & \n",
    "                          (all_pred[\"bot_interaction\"]==1) & \n",
    "                         (all_pred['bot_cat']=='neutral')]\n",
    "\n",
    "\n",
    "neutral_after_bot_amount=all_pred[(all_pred[\"type\"]=='amount') & \n",
    "                          (all_pred[\"after\"]==1) & \n",
    "                          (all_pred[\"bot_interaction\"]==1) & \n",
    "                         (all_pred['bot_cat']=='neutral')]"
   ]
  },
  {
   "cell_type": "code",
   "execution_count": 790,
   "id": "5e77fb5f",
   "metadata": {},
   "outputs": [],
   "source": [
    "#PRO\n",
    "pro_before_human_senti=all_pred[(all_pred[\"type\"]=='senti') & \n",
    "                          (all_pred[\"after\"]==0) & \n",
    "                          (all_pred[\"bot_interaction\"]==0) & \n",
    "                         (all_pred['bot_cat']=='pro')]\n",
    "\n",
    "pro_after_human_senti=all_pred[(all_pred[\"type\"]=='senti') & \n",
    "                          (all_pred[\"after\"]==1) & \n",
    "                          (all_pred[\"bot_interaction\"]==0) & \n",
    "                         (all_pred['bot_cat']=='pro')]\n",
    "\n",
    "\n",
    "pro_before_bot_senti=all_pred[(all_pred[\"type\"]=='senti') & \n",
    "                          (all_pred[\"after\"]==0) & \n",
    "                          (all_pred[\"bot_interaction\"]==1) & \n",
    "                         (all_pred['bot_cat']=='pro')]\n",
    "\n",
    "\n",
    "pro_after_bot_senti=all_pred[(all_pred[\"type\"]=='senti') & \n",
    "                          (all_pred[\"after\"]==1) & \n",
    "                          (all_pred[\"bot_interaction\"]==1) & \n",
    "                         (all_pred['bot_cat']=='pro')]\n",
    "\n",
    "#CON\n",
    "con_before_human_senti=all_pred[(all_pred[\"type\"]=='senti') & \n",
    "                          (all_pred[\"after\"]==0) & \n",
    "                          (all_pred[\"bot_interaction\"]==0) & \n",
    "                         (all_pred['bot_cat']=='con')]\n",
    "\n",
    "con_after_human_senti=all_pred[(all_pred[\"type\"]=='senti') & \n",
    "                          (all_pred[\"after\"]==1) & \n",
    "                          (all_pred[\"bot_interaction\"]==0) & \n",
    "                         (all_pred['bot_cat']=='con')]\n",
    "\n",
    "\n",
    "con_before_bot_senti=all_pred[(all_pred[\"type\"]=='senti') & \n",
    "                          (all_pred[\"after\"]==0) & \n",
    "                          (all_pred[\"bot_interaction\"]==1) & \n",
    "                         (all_pred['bot_cat']=='con')]\n",
    "\n",
    "\n",
    "con_after_bot_senti=all_pred[(all_pred[\"type\"]=='senti') & \n",
    "                          (all_pred[\"after\"]==1) & \n",
    "                          (all_pred[\"bot_interaction\"]==1) & \n",
    "                         (all_pred['bot_cat']=='con')]\n",
    "\n",
    "\n",
    "#neutral\n",
    "neutral_before_human_senti=all_pred[(all_pred[\"type\"]=='senti') & \n",
    "                          (all_pred[\"after\"]==0) & \n",
    "                          (all_pred[\"bot_interaction\"]==0) & \n",
    "                         (all_pred['bot_cat']=='neutral')]\n",
    "\n",
    "neutral_after_human_senti=all_pred[(all_pred[\"type\"]=='senti') & \n",
    "                          (all_pred[\"after\"]==1) & \n",
    "                          (all_pred[\"bot_interaction\"]==0) & \n",
    "                         (all_pred['bot_cat']=='neutral')]\n",
    "\n",
    "\n",
    "neutral_before_bot_senti=all_pred[(all_pred[\"type\"]=='senti') & \n",
    "                          (all_pred[\"after\"]==0) & \n",
    "                          (all_pred[\"bot_interaction\"]==1) & \n",
    "                         (all_pred['bot_cat']=='neutral')]\n",
    "\n",
    "\n",
    "neutral_after_bot_senti=all_pred[(all_pred[\"type\"]=='senti') & \n",
    "                          (all_pred[\"after\"]==1) & \n",
    "                          (all_pred[\"bot_interaction\"]==1) & \n",
    "                         (all_pred['bot_cat']=='neutral')]"
   ]
  },
  {
   "cell_type": "code",
   "execution_count": 791,
   "id": "e6ed0354",
   "metadata": {},
   "outputs": [],
   "source": [
    "#bot_human_amount_before_diff_pro=pro_before_bot_amount['ols_pred'].reset_index()-pro_before_human_amount['ols_pred'].reset_index()\n",
    "#bot_human_amount_after_diff_pro=pro_after_bot_amount['ols_pred'].reset_index()-pro_after_human_amount['ols_pred'].reset_index()\n",
    "human_amount_diff_pro=pro_before_human_amount.set_index('cutoff')[['ols_pred']]-pro_after_human_amount.set_index('cutoff')[['ols_pred']]\n",
    "bot_amount_diff_pro=pro_before_bot_amount.set_index('cutoff')[['ols_pred']]-pro_after_bot_amount.set_index('cutoff')[['ols_pred']]\n",
    "A_rel_diff_pro=human_amount_diff_pro-bot_amount_diff_pro\n",
    "\n",
    "\n",
    "human_senti_diff_pro=pro_before_human_senti.set_index('cutoff')[['ols_pred']]-pro_after_human_senti.set_index('cutoff')[['ols_pred']]\n",
    "bot_senti_diff_pro=pro_before_bot_senti.set_index('cutoff')[['ols_pred']]-pro_after_bot_senti.set_index('cutoff')[['ols_pred']]\n",
    "S_rel_diff_pro=human_senti_diff_pro-bot_senti_diff_pro\n"
   ]
  },
  {
   "cell_type": "code",
   "execution_count": 792,
   "id": "9d95e477",
   "metadata": {},
   "outputs": [],
   "source": [
    "human_amount_diff_con=con_before_human_amount.set_index('cutoff')[['ols_pred']]-con_after_human_amount.set_index('cutoff')[['ols_pred']]\n",
    "bot_amount_diff_con=con_before_bot_amount.set_index('cutoff')[['ols_pred']]-con_after_bot_amount.set_index('cutoff')[['ols_pred']]\n",
    "A_rel_diff_con=human_amount_diff_con-bot_amount_diff_con\n",
    "\n",
    "\n",
    "human_senti_diff_con=con_before_human_senti.set_index('cutoff')[['ols_pred']]-con_after_human_senti.set_index('cutoff')[['ols_pred']]\n",
    "bot_senti_diff_con=con_before_bot_senti.set_index('cutoff')[['ols_pred']]-con_after_bot_senti.set_index('cutoff')[['ols_pred']]\n",
    "S_rel_diff_con=human_senti_diff_con-bot_senti_diff_con\n"
   ]
  },
  {
   "cell_type": "code",
   "execution_count": 793,
   "id": "dfdad221",
   "metadata": {},
   "outputs": [
    {
     "data": {
      "text/html": [
       "<div>\n",
       "<style scoped>\n",
       "    .dataframe tbody tr th:only-of-type {\n",
       "        vertical-align: middle;\n",
       "    }\n",
       "\n",
       "    .dataframe tbody tr th {\n",
       "        vertical-align: top;\n",
       "    }\n",
       "\n",
       "    .dataframe thead th {\n",
       "        text-align: right;\n",
       "    }\n",
       "</style>\n",
       "<table border=\"1\" class=\"dataframe\">\n",
       "  <thead>\n",
       "    <tr style=\"text-align: right;\">\n",
       "      <th></th>\n",
       "      <th>bot_interaction</th>\n",
       "      <th>after</th>\n",
       "      <th>interaction_senti</th>\n",
       "      <th>user_interaction_opinion</th>\n",
       "      <th>retweet_count_original</th>\n",
       "      <th>like_count_interaction</th>\n",
       "      <th>astroturf_score_bot</th>\n",
       "      <th>burstiness</th>\n",
       "      <th>topic</th>\n",
       "      <th>ols_pred</th>\n",
       "      <th>ols_low</th>\n",
       "      <th>ols_up</th>\n",
       "      <th>bot_cat</th>\n",
       "      <th>type</th>\n",
       "      <th>cutoff</th>\n",
       "    </tr>\n",
       "  </thead>\n",
       "  <tbody>\n",
       "    <tr>\n",
       "      <th>0</th>\n",
       "      <td>0</td>\n",
       "      <td>0</td>\n",
       "      <td>-0.010299</td>\n",
       "      <td>-0.33449</td>\n",
       "      <td>24.921569</td>\n",
       "      <td>1.72549</td>\n",
       "      <td>2.137255</td>\n",
       "      <td>0.151381</td>\n",
       "      <td>1</td>\n",
       "      <td>-1.252071</td>\n",
       "      <td>-1.616042</td>\n",
       "      <td>-0.888100</td>\n",
       "      <td>con</td>\n",
       "      <td>amount</td>\n",
       "      <td>65</td>\n",
       "    </tr>\n",
       "    <tr>\n",
       "      <th>0</th>\n",
       "      <td>0</td>\n",
       "      <td>0</td>\n",
       "      <td>-0.010299</td>\n",
       "      <td>-0.33449</td>\n",
       "      <td>24.921569</td>\n",
       "      <td>1.72549</td>\n",
       "      <td>2.137255</td>\n",
       "      <td>0.151381</td>\n",
       "      <td>1</td>\n",
       "      <td>-0.845429</td>\n",
       "      <td>-1.232209</td>\n",
       "      <td>-0.458650</td>\n",
       "      <td>con</td>\n",
       "      <td>amount</td>\n",
       "      <td>70</td>\n",
       "    </tr>\n",
       "    <tr>\n",
       "      <th>0</th>\n",
       "      <td>0</td>\n",
       "      <td>0</td>\n",
       "      <td>-0.010299</td>\n",
       "      <td>-0.33449</td>\n",
       "      <td>24.921569</td>\n",
       "      <td>1.72549</td>\n",
       "      <td>2.137255</td>\n",
       "      <td>0.151381</td>\n",
       "      <td>1</td>\n",
       "      <td>-1.345375</td>\n",
       "      <td>-1.876542</td>\n",
       "      <td>-0.814208</td>\n",
       "      <td>con</td>\n",
       "      <td>amount</td>\n",
       "      <td>75</td>\n",
       "    </tr>\n",
       "  </tbody>\n",
       "</table>\n",
       "</div>"
      ],
      "text/plain": [
       "   bot_interaction  after  interaction_senti  user_interaction_opinion  \\\n",
       "0                0      0          -0.010299                  -0.33449   \n",
       "0                0      0          -0.010299                  -0.33449   \n",
       "0                0      0          -0.010299                  -0.33449   \n",
       "\n",
       "   retweet_count_original  like_count_interaction  astroturf_score_bot  \\\n",
       "0               24.921569                 1.72549             2.137255   \n",
       "0               24.921569                 1.72549             2.137255   \n",
       "0               24.921569                 1.72549             2.137255   \n",
       "\n",
       "   burstiness  topic  ols_pred   ols_low    ols_up bot_cat    type cutoff  \n",
       "0    0.151381      1 -1.252071 -1.616042 -0.888100     con  amount     65  \n",
       "0    0.151381      1 -0.845429 -1.232209 -0.458650     con  amount     70  \n",
       "0    0.151381      1 -1.345375 -1.876542 -0.814208     con  amount     75  "
      ]
     },
     "execution_count": 793,
     "metadata": {},
     "output_type": "execute_result"
    }
   ],
   "source": [
    "con_before_human_amount"
   ]
  },
  {
   "cell_type": "code",
   "execution_count": 794,
   "id": "a0be9e22",
   "metadata": {},
   "outputs": [],
   "source": [
    "human_amount_diff_neutral=neutral_before_human_amount.set_index('cutoff')[['ols_pred']]-neutral_after_human_amount.set_index('cutoff')[['ols_pred']]\n",
    "bot_amount_diff_neutral=neutral_before_bot_amount.set_index('cutoff')[['ols_pred']]-neutral_after_bot_amount.set_index('cutoff')[['ols_pred']]\n",
    "A_rel_diff_neutral=human_amount_diff_neutral-bot_amount_diff_neutral\n",
    "\n",
    "\n",
    "human_senti_diff_neutral=neutral_before_human_senti.set_index('cutoff')[['ols_pred']]-neutral_after_human_senti.set_index('cutoff')[['ols_pred']]\n",
    "bot_senti_diff_neutral=neutral_before_bot_senti.set_index('cutoff')[['ols_pred']]-neutral_after_bot_senti.set_index('cutoff')[['ols_pred']]\n",
    "S_rel_diff_neutral=human_senti_diff_neutral-bot_senti_diff_neutral\n"
   ]
  },
  {
   "cell_type": "code",
   "execution_count": 798,
   "id": "3dc53a7b",
   "metadata": {},
   "outputs": [],
   "source": [
    "se_amount_pro= [0.111,0.120,0.139]    \n",
    "se_senti_pro=[0.018,0.019,0.023]\n",
    "A_rel_diff_pro['SE']=se_amount_pro\n",
    "S_rel_diff_pro['SE']=se_senti_pro\n",
    "A_rel_diff_pro['min']=A_rel_diff_pro['ols_pred']-1.96*A_rel_diff_pro['SE']\n",
    "A_rel_diff_pro['max']=A_rel_diff_pro['ols_pred']+1.96*A_rel_diff_pro['SE']\n",
    "S_rel_diff_pro['min']=S_rel_diff_pro['ols_pred']-1.96*S_rel_diff_pro['SE']\n",
    "S_rel_diff_pro['max']=S_rel_diff_pro['ols_pred']+1.96*S_rel_diff_pro['SE']\n",
    "\n",
    "\n",
    "se_amount_con=[0.234,0.252,0.311]    \n",
    "se_senti_con=[0.030,0.034,0.043]\n",
    "A_rel_diff_con['SE']=se_amount_con\n",
    "S_rel_diff_con['SE']=se_senti_con\n",
    "A_rel_diff_con['min']=A_rel_diff_con['ols_pred']-1.96*A_rel_diff_con['SE']\n",
    "A_rel_diff_con['max']=A_rel_diff_con['ols_pred']+1.96*A_rel_diff_con['SE']\n",
    "S_rel_diff_con['min']=S_rel_diff_con['ols_pred']-1.96*S_rel_diff_con['SE']\n",
    "S_rel_diff_con['max']=S_rel_diff_con['ols_pred']+1.96*S_rel_diff_con['SE']\n",
    "\n",
    "\n",
    "se_amount_neutral=[0.310,0.309,0.427]   \n",
    "se_senti_neutral=[0.033,0.036,0.041]\n",
    "A_rel_diff_neutral['SE']=se_amount_neutral\n",
    "S_rel_diff_neutral['SE']=se_senti_neutral\n",
    "A_rel_diff_neutral['min']=A_rel_diff_neutral['ols_pred']-1.96*A_rel_diff_neutral['SE']\n",
    "A_rel_diff_neutral['max']=A_rel_diff_neutral['ols_pred']+1.96*A_rel_diff_neutral['SE']\n",
    "S_rel_diff_neutral['min']=S_rel_diff_neutral['ols_pred']-1.96*S_rel_diff_neutral['SE']\n",
    "S_rel_diff_neutral['max']=S_rel_diff_neutral['ols_pred']+1.96*S_rel_diff_neutral['SE']"
   ]
  },
  {
   "cell_type": "code",
   "execution_count": 1092,
   "id": "1286f3c7",
   "metadata": {},
   "outputs": [],
   "source": [
    "t=0.7\n",
    "\n",
    "#A_rel_diff2=A_rel_diff2.reset_index()\n",
    "A_rel_diff_pro['cutoff']=A_rel_diff_pro.index.astype(int)\n",
    "A_rel_diff_pro['new_y']=[i+t*1.3 for i in A_rel_diff_pro['cutoff']]\n",
    "\n",
    "#S_rel_diff2=S_rel_diff2.reset_index()\n",
    "S_rel_diff_pro['cutoff']=S_rel_diff_pro.index.astype(int)\n",
    "S_rel_diff_pro['new_y']=[i+t*1.3 for i in S_rel_diff_pro['cutoff']]\n",
    "\n",
    "\n",
    "#A_rel_diff2_astro=A_rel_diff2_astro.reset_index()\n",
    "A_rel_diff_neutral['cutoff']=A_rel_diff_neutral.index.astype(int)\n",
    "A_rel_diff_neutral['new_y']=[i for i in A_rel_diff_neutral['cutoff']]\n",
    "#S_rel_diff2_astro=S_rel_diff2_astro.reset_index()\n",
    "S_rel_diff_neutral['cutoff']=S_rel_diff_neutral.index.astype(int)\n",
    "S_rel_diff_neutral['new_y']=[i for i in S_rel_diff_neutral['cutoff']]\n",
    "\n",
    "A_rel_diff_con['cutoff']=A_rel_diff_con.index.astype(int)\n",
    "A_rel_diff_con['new_y']=[i-t*1.3 for i in A_rel_diff_con['cutoff']]\n",
    "S_rel_diff_con['cutoff']=S_rel_diff_neutral.index.astype(int)\n",
    "S_rel_diff_con['new_y']=[i-t*1.3 for i in S_rel_diff_con['cutoff']]"
   ]
  },
  {
   "cell_type": "code",
   "execution_count": 1093,
   "id": "9f5e740f",
   "metadata": {},
   "outputs": [
    {
     "name": "stderr",
     "output_type": "stream",
     "text": [
      "<ipython-input-1093-57007054c0e3>:88: UserWarning: FixedFormatter should only be used together with FixedLocator\n",
      "  ax1.set_yticklabels([\"\",\"65\",\"70\",\"75\",\"\"])\n"
     ]
    },
    {
     "data": {
      "image/png": "[encoded data removed]",
      "text/plain": [
       "<Figure size 504x180 with 2 Axes>"
      ]
     },
     "metadata": {
      "needs_background": "light"
     },
     "output_type": "display_data"
    }
   ],
   "source": [
    "# TWO CATEGORIES TOGETHER\n",
    "\n",
    "fig, axs = plt.subplots(1, 2, figsize=(7, 2.5), \n",
    "                        gridspec_kw={\"hspace\":0.1, \"wspace\":0.1},\n",
    "                        sharey=True)\n",
    "\n",
    "pro=\"darkgreen\"\n",
    "con=\"darkorange\"\n",
    "neutral='grey'\n",
    "\n",
    "def remove_leading_zero(x, pos):\n",
    "    if x == 0:\n",
    "        return '.00'\n",
    "    elif x > 0:\n",
    "        return '{:.2f}'.format(x).lstrip('0')\n",
    "    else:\n",
    "        return '-{:.2f}'.format(abs(x)).lstrip('0-')\n",
    "\n",
    "# Apply custom formatter to x-axes\n",
    "\n",
    "ax1=axs[0]\n",
    "ax1.vlines(x=0, ymin=63.5, ymax=77.5,ls='dashed', lw=2,color=\"grey\", alpha=.7)\n",
    "ax1.scatter(y=list(A_rel_diff_pro.new_y), x=list(A_rel_diff_pro['ols_pred']), s=60, color=pro, \n",
    "            label='pro',alpha=1)\n",
    "\n",
    "ax1.hlines(y=list(A_rel_diff_pro.new_y), xmin=list(A_rel_diff_pro['min']),\n",
    "               xmax=list(A_rel_diff_pro['max']), linewidth=2, color=pro,alpha=1)\n",
    "\n",
    "ax1.set_title(\"Amount\", fontsize=14)\n",
    "\n",
    "ax2=axs[1]\n",
    "ax2.vlines(x=0, ymin=63.5, ymax=77.5,ls='dashed', lw=2,color=\"grey\", alpha=.7)\n",
    "\n",
    "#ax.xaxis.set_major_formatter(FuncFormatter(ax2))\n",
    "\n",
    "ax2.scatter(y=list(S_rel_diff_pro.new_y), x=list(S_rel_diff_pro['ols_pred']), s=60, color=pro, \n",
    "           alpha=1)\n",
    "\n",
    "ax2.hlines(y=list(S_rel_diff_pro.new_y), xmin=list(S_rel_diff_pro['min']),\n",
    "               xmax=list(S_rel_diff_pro['max']), linewidth=2, color=pro,alpha=1)\n",
    "\n",
    "\n",
    "\n",
    "ax1.scatter(y=list(A_rel_diff_neutral.new_y), x=list(A_rel_diff_neutral['ols_pred']), s=60, color=neutral, \n",
    "            label='neutral')\n",
    "\n",
    "ax1.hlines(y=list(A_rel_diff_neutral.new_y), xmin=list(A_rel_diff_neutral['min']),\n",
    "               xmax=list(A_rel_diff_neutral['max']), linewidth=2, color=neutral,alpha=1)\n",
    "\n",
    "\n",
    "\n",
    "ax2.scatter(y=list(S_rel_diff_neutral.new_y), x=list(S_rel_diff_neutral['ols_pred']), s=60, \n",
    "            color=neutral, label='neutral')\n",
    "\n",
    "ax2.hlines(y=list(S_rel_diff_neutral.new_y), xmin=list(S_rel_diff_neutral['min']),\n",
    "               xmax=list(S_rel_diff_neutral['max']), linewidth=2, color=neutral,alpha=1)\n",
    "\n",
    "\n",
    "#NEUTRAL\n",
    "ax1.scatter(y=list(A_rel_diff_con.new_y), x=list(A_rel_diff_con['ols_pred']), \n",
    "            s=60, color=con, \n",
    "            label='con')\n",
    "\n",
    "ax1.hlines(y=list(A_rel_diff_con.new_y), xmin=list(A_rel_diff_con['min']),\n",
    "               xmax=list(A_rel_diff_con['max']), linewidth=2, color=con,alpha=1)\n",
    "\n",
    "\n",
    "ax2.scatter(y=list(S_rel_diff_con.new_y), x=list(S_rel_diff_con['ols_pred']), s=60, \n",
    "            color=con, label='other bots')\n",
    "\n",
    "ax2.hlines(y=list(S_rel_diff_con.new_y), xmin=list(S_rel_diff_con['min']),\n",
    "               xmax=list(S_rel_diff_con['max']), linewidth=2, color=con,alpha=1)\n",
    "\n",
    "\n",
    "\n",
    "\n",
    "\n",
    "ax2.grid(linewidth=.5)\n",
    "ax1.grid(linewidth=.5)\n",
    "ax2.set_title(\"Sentiment\", fontsize=14)\n",
    "\n",
    "#ax1.set_xlim(-.85,0.8)\n",
    "#ax1.set_ylim(62,78)\n",
    "#ax2.set_ylim(62,78)\n",
    "#ax2.set_xlim(-.2,.05)\n",
    "#ax1.set_xlim(-.95,0.7)\n",
    "ax1.set_ylabel(\"Bot Probability\", fontsize=14)\n",
    "ax1.set_yticklabels([\"\",\"65\",\"70\",\"75\",\"\"])\n",
    "\n",
    "#ax1.text(x=-.75,y=75.5,s='other',fontsize=12, color=bot_color)\n",
    "#ax1.text(x=-.89,y=73.9,s='astroturf',fontsize=12, color=astro_color)\n",
    "\n",
    "\n",
    "ax1.text(x=.3,y=77.,s='pro',fontsize=12, color=pro)\n",
    "ax1.text(x=.645,y=74.1,s='con',fontsize=12, color=con)\n",
    "ax1.text(x=.4,y=75.7,s='neutral',fontsize=12, color=neutral)\n",
    "\n",
    "ax1.set_title(\"A\", weight='bold', fontsize=14, position=(0.02, 1.),\n",
    "                     horizontalalignment='left', verticalalignment='bottom')\n",
    "ax2.set_title(\"B\", weight='bold', fontsize=14, position=(0.02, 1.),    \n",
    "              horizontalalignment='left', verticalalignment='bottom')\n",
    "\n",
    "ax1.set_xlabel(\"Predicted Amount Change\", fontsize=12)\n",
    "ax2.set_xlabel(\"Predicted Sentiment Change\", fontsize=12)\n",
    "\n",
    "\n",
    "ax1.xaxis.set_major_formatter(FuncFormatter(remove_leading_zero))\n",
    "ax2.xaxis.set_major_formatter(FuncFormatter(remove_leading_zero))\n",
    "\n",
    "#fig.text(0.5, -0.05, \"Predicted Change Difference between mathced and bot-exposed\", fontsize=12,\n",
    "#         ha='center')\n",
    "#ax2.legend(loc='upper center', bbox_to_anchor=(1.3, 1))\n",
    "plt.savefig(\"/Users/vorsi/Downloads/Predicted_change_diff__pro_con_neutral_allcutoff_A_B.pdf\", bbox_inches='tight')"
   ]
  },
  {
   "cell_type": "markdown",
   "id": "94661f94",
   "metadata": {},
   "source": [
    "# JOINED PLOT"
   ]
  },
  {
   "cell_type": "code",
   "execution_count": 1107,
   "id": "39805461",
   "metadata": {},
   "outputs": [
    {
     "data": {
      "image/png": "[encoded data removed]",
      "text/plain": [
       "<Figure size 504x504 with 4 Axes>"
      ]
     },
     "metadata": {
      "needs_background": "light"
     },
     "output_type": "display_data"
    }
   ],
   "source": [
    "# TWO CATEGORIES TOGETHER\n",
    "\n",
    "fig, ((ax1,ax2),(ax3,ax4)) = plt.subplots(2, 2, figsize=(7, 7), \n",
    "                        gridspec_kw={\"hspace\":0.3, \"wspace\":.1},\n",
    "                        sharey=True)\n",
    "\n",
    "astro_color=\"#5C7CD4\"\n",
    "def remove_leading_zero(x, pos):\n",
    "    if x == 0:\n",
    "        return '.00'\n",
    "    elif x > 0:\n",
    "        return '{:.2f}'.format(x).lstrip('0')\n",
    "    else:\n",
    "        return '-{:.2f}'.format(abs(x)).lstrip('0-')\n",
    "\n",
    "# Apply custom formatter to x-axes\n",
    "\n",
    "#ax1=axs[0]\n",
    "\n",
    "ax1.vlines(x=0, ymin=62, ymax=78,ls='dashed', lw=2,color=\"grey\", alpha=1)\n",
    "ax2.vlines(x=0, ymin=62, ymax=78,ls='dashed', lw=2,color=\"grey\", alpha=1)\n",
    "ax3.vlines(x=0, ymin=62, ymax=78,ls='dashed', lw=2,color=\"grey\", alpha=1)\n",
    "ax4.vlines(x=0, ymin=62, ymax=78,ls='dashed', lw=2,color=\"grey\", alpha=1)\n",
    "\n",
    "ax1.scatter(y=list(A_rel_diff2.new_y), x=list(A_rel_diff2['ols_pred']), s=60, color=bot_color, \n",
    "            label='astroturfs',alpha=1)\n",
    "\n",
    "ax1.hlines(y=list(A_rel_diff2.new_y), xmin=list(A_rel_diff2['min']),\n",
    "               xmax=list(A_rel_diff2['max']), linewidth=2, color=bot_color,alpha=1)\n",
    "\n",
    "#ax1.set_title(\"Amount\", fontsize=14)\n",
    "\n",
    "#ax2=axs[1]\n",
    "#ax.xaxis.set_major_formatter(FuncFormatter(ax2))\n",
    "\n",
    "ax2.scatter(y=list(S_rel_diff2.new_y), x=list(S_rel_diff2['ols_pred']), s=60, color=bot_color, \n",
    "           alpha=1)\n",
    "\n",
    "ax2.hlines(y=list(S_rel_diff2.new_y), xmin=list(S_rel_diff2['min']),\n",
    "               xmax=list(S_rel_diff2['max']), linewidth=2, color=bot_color,alpha=1)\n",
    "\n",
    "\n",
    "\n",
    "ax1.scatter(y=list(A_rel_diff2_astro.new_y), x=list(A_rel_diff2_astro['ols_pred']), s=60, color=astro_color, label='other bots')\n",
    "\n",
    "ax1.hlines(y=list(A_rel_diff2_astro.new_y), xmin=list(A_rel_diff2_astro['min']),\n",
    "               xmax=list(A_rel_diff2_astro['max']), linewidth=2, color=astro_color,alpha=1)\n",
    "\n",
    "\n",
    "ax2.scatter(y=list(S_rel_diff2_astro.new_y), x=list(S_rel_diff2_astro['ols_pred']), s=60, color=astro_color, label='other bots')\n",
    "\n",
    "ax2.hlines(y=list(S_rel_diff2_astro.new_y), xmin=list(S_rel_diff2_astro['min']),\n",
    "               xmax=list(S_rel_diff2_astro['max']), linewidth=2, color=astro_color,alpha=1)\n",
    "\n",
    "#ax2.grid(linewidth=.5)\n",
    "#ax1.grid(linewidth=.5)\n",
    "ax2.set_title(\"Sentiment\", fontsize=14)\n",
    "#ax1.vlines(x=0, ymin=62, ymax=78,ls='dashed', lw=2,color=\"grey\", alpha=1)\n",
    "#ax2.vlines(x=0, ymin=62, ymax=78,ls='dashed', lw=2,color=\"grey\", alpha=1)\n",
    "#ax1.set_xlim(-.85,0.8)\n",
    "ax1.set_ylim(62,78)\n",
    "ax2.set_ylim(62,78)\n",
    "ax2.set_xlim(-.2,.05)\n",
    "ax1.set_xlim(-.95,0.72)\n",
    "ax1.set_ylabel(\"Bot Probability\", fontsize=14)\n",
    "#ax1.set_yticklabels(['','65','','','70','','','75',''],fontsize=14)\n",
    "\n",
    "#ax1.text(x=-.75,y=75.5,s='other',fontsize=12, color=bot_color)\n",
    "#ax1.text(x=-.89,y=73.9,s='astroturf',fontsize=12, color=astro_color)\n",
    "\n",
    "\n",
    "ax1.text(x=.35,y=74.15,s='other',fontsize=12, color=bot_color)\n",
    "ax1.text(x=.18,y=75.5,s='astroturf',fontsize=12, color=astro_color)\n",
    "\n",
    "ax1.set_title(\"A\", weight='bold', fontsize=14, position=(0.02, 1.),\n",
    "                     horizontalalignment='left', verticalalignment='bottom')\n",
    "ax2.set_title(\"B\", weight='bold', fontsize=14, position=(0.02, 1.),    \n",
    "              horizontalalignment='left', verticalalignment='bottom')\n",
    "\n",
    "#ax1.set_xlabel(\"Predicted Amount Change\", fontsize=12)\n",
    "#ax2.set_xlabel(\"Predicted Sentiment Change\", fontsize=12)\n",
    "\n",
    "\n",
    "ax1.xaxis.set_major_formatter(FuncFormatter(remove_leading_zero))\n",
    "ax2.xaxis.set_major_formatter(FuncFormatter(remove_leading_zero))\n",
    "\n",
    "# TWO CATEGORIES TOGETHER\n",
    "\n",
    "#fig, axs = plt.subplots(1, 2, figsize=(7, 2.5), \n",
    "#                        gridspec_kw={\"hspace\":0.1, \"wspace\":0.1},\n",
    "#                        sharey=True)\n",
    "\n",
    "pro=\"cadetblue\"\n",
    "neutral=\"steelblue\"\n",
    "con='darkslateblue'\n",
    "\n",
    "\n",
    "# Apply custom formatter to x-axes\n",
    "\n",
    "\n",
    "#ax3.vlines(x=0, ymin=63.5, ymax=77.5,ls='dashed', lw=2,color=\"grey\", alpha=.7)\n",
    "ax3.scatter(y=list(A_rel_diff_pro.new_y), x=list(A_rel_diff_pro['ols_pred']), s=60, color=pro, \n",
    "            label='pro',alpha=1)\n",
    "\n",
    "ax3.hlines(y=list(A_rel_diff_pro.new_y), xmin=list(A_rel_diff_pro['min']),\n",
    "               xmax=list(A_rel_diff_pro['max']), linewidth=2, color=pro,alpha=1)\n",
    "\n",
    "#ax1.set_title(\"Amount\", fontsize=14)\n",
    "\n",
    "#ax2=axs[1]\n",
    "#ax4.vlines(x=0, ymin=63.5, ymax=77.5,ls='dashed', lw=2,color=\"grey\", alpha=.7)\n",
    "\n",
    "#ax.xaxis.set_major_formatter(FuncFormatter(ax2))\n",
    "\n",
    "ax4.scatter(y=list(S_rel_diff_pro.new_y), x=list(S_rel_diff_pro['ols_pred']), s=60, color=pro, \n",
    "           alpha=1)\n",
    "\n",
    "ax4.hlines(y=list(S_rel_diff_pro.new_y), xmin=list(S_rel_diff_pro['min']),\n",
    "               xmax=list(S_rel_diff_pro['max']), linewidth=2, color=pro,alpha=1)\n",
    "\n",
    "\n",
    "\n",
    "ax3.scatter(y=list(A_rel_diff_neutral.new_y), x=list(A_rel_diff_neutral['ols_pred']), s=60, color=neutral, \n",
    "            label='neutral')\n",
    "\n",
    "ax3.hlines(y=list(A_rel_diff_neutral.new_y), xmin=list(A_rel_diff_neutral['min']),\n",
    "               xmax=list(A_rel_diff_neutral['max']), linewidth=2, color=neutral,alpha=1)\n",
    "\n",
    "\n",
    "\n",
    "ax4.scatter(y=list(S_rel_diff_neutral.new_y), x=list(S_rel_diff_neutral['ols_pred']), s=60, \n",
    "            color=neutral, label='neutral')\n",
    "\n",
    "ax4.hlines(y=list(S_rel_diff_neutral.new_y), xmin=list(S_rel_diff_neutral['min']),\n",
    "               xmax=list(S_rel_diff_neutral['max']), linewidth=2, color=neutral,alpha=1)\n",
    "\n",
    "\n",
    "#NEUTRAL\n",
    "ax3.scatter(y=list(A_rel_diff_con.new_y), x=list(A_rel_diff_con['ols_pred']), \n",
    "            s=60, color=con, \n",
    "            label='con')\n",
    "\n",
    "ax3.hlines(y=list(A_rel_diff_con.new_y), xmin=list(A_rel_diff_con['min']),\n",
    "               xmax=list(A_rel_diff_con['max']), linewidth=2, color=con,alpha=1)\n",
    "\n",
    "\n",
    "ax4.scatter(y=list(S_rel_diff_con.new_y), x=list(S_rel_diff_con['ols_pred']), s=60, \n",
    "            color=con, label='other bots')\n",
    "\n",
    "ax4.hlines(y=list(S_rel_diff_con.new_y), xmin=list(S_rel_diff_con['min']),\n",
    "               xmax=list(S_rel_diff_con['max']), linewidth=2, color=con,alpha=1)\n",
    "\n",
    "\n",
    "\n",
    "\n",
    "ax3.xaxis.grid(linewidth=.3)\n",
    "ax4.xaxis.grid(linewidth=.3)\n",
    "ax1.xaxis.grid(linewidth=.3)\n",
    "ax2.xaxis.grid(linewidth=.3)\n",
    "#ax3.grid(linewidth=.5)\n",
    "#ax4.grid(linewidth=.5)\n",
    "#ax3.set_title(\"Sentiment\", fontsize=14)\n",
    "\n",
    "#ax1.set_xlim(-.85,0.8)\n",
    "#ax1.set_ylim(62,78)\n",
    "#ax2.set_ylim(62,78)\n",
    "#ax2.set_xlim(-.2,.05)\n",
    "#ax1.set_xlim(-.95,0.7)\n",
    "ax3.set_ylabel(\"Bot Probability\", fontsize=14)\n",
    "\n",
    "ax1.set_yticks( ticks=[65,70,75],           labels=[\"65\",\"70\",\"75\"], fontsize=14)\n",
    "ax3.set_yticks( ticks=[65,70,75],           labels=[\"65\",\"70\",\"75\"], fontsize=14)\n",
    "\n",
    "#axPres.yaxis.set_label_coords(-0.1, 1.02)\n",
    "\n",
    "#ax3.set_yticklabels(['','65','','','70','','','75','',\"\"],fontsize=14)\n",
    "\n",
    "#ax1.text(x=-.75,y=75.5,s='other',fontsize=12, color=bot_color)\n",
    "#ax1.text(x=-.89,y=73.9,s='astroturf',fontsize=12, color=astro_color)\n",
    "\n",
    "\n",
    "ax3.text(x=.3,y=75.8,s='pro',fontsize=12, color=pro)\n",
    "ax3.text(x=.645,y=73.8,s='con',fontsize=12, color=con)\n",
    "ax3.text(x=.4,y=74.8,s='neutral',fontsize=12, color=neutral)\n",
    "\n",
    "ax3.set_title(\"C\", weight='bold', fontsize=14, position=(0.02, 1.),\n",
    "                     horizontalalignment='left', verticalalignment='bottom')\n",
    "ax4.set_title(\"D\", weight='bold', fontsize=14, position=(0.02, 1.),    \n",
    "              horizontalalignment='left', verticalalignment='bottom')\n",
    "\n",
    "ax3.set_xlabel(\"Predicted Amount Change\", fontsize=14)\n",
    "ax4.set_xlabel(\"Predicted Sentiment Change\", fontsize=14)\n",
    "\n",
    "\n",
    "ax3.xaxis.set_major_formatter(FuncFormatter(remove_leading_zero))\n",
    "ax4.xaxis.set_major_formatter(FuncFormatter(remove_leading_zero))\n",
    "\n",
    "#fig.text(0.5, -0.05, \"Predicted Change Difference between mathced and bot-exposed\", fontsize=12,\n",
    "#         ha='center')\n",
    "#ax2.legend(loc='upper center', bbox_to_anchor=(1.3, 1))\n",
    "plt.savefig(\"/Users/vorsi/Downloads/Predicted_change_diff_astro_and_pro_con_neutral_allcutoff_square.pdf\", bbox_inches='tight')"
   ]
  },
  {
   "cell_type": "code",
   "execution_count": 1082,
   "id": "3cc18a36",
   "metadata": {},
   "outputs": [
    {
     "data": {
      "text/plain": [
       "'#5C7CD4'"
      ]
     },
     "execution_count": 1082,
     "metadata": {},
     "output_type": "execute_result"
    }
   ],
   "source": [
    "astro_color"
   ]
  },
  {
   "cell_type": "code",
   "execution_count": 1031,
   "id": "b62a313e",
   "metadata": {},
   "outputs": [
    {
     "data": {
      "text/plain": [
       "'#0C2C84'"
      ]
     },
     "execution_count": 1031,
     "metadata": {},
     "output_type": "execute_result"
    }
   ],
   "source": [
    "bot_color"
   ]
  },
  {
   "cell_type": "markdown",
   "id": "d0efeff5",
   "metadata": {},
   "source": [
    "# OPINION DATA"
   ]
  },
  {
   "cell_type": "code",
   "execution_count": 859,
   "id": "f3dd6a60",
   "metadata": {},
   "outputs": [],
   "source": [
    "p_in2='/Users/vorsi/Dropbox/bot and agenda-setting/orsi/bot_text/'"
   ]
  },
  {
   "cell_type": "code",
   "execution_count": 892,
   "id": "19a5b46a",
   "metadata": {},
   "outputs": [],
   "source": [
    "#! cd /Users/vorsi/Dropbox/bot and agenda-setting/orsi/bot_text/"
   ]
  },
  {
   "cell_type": "code",
   "execution_count": 860,
   "id": "ff33c58f",
   "metadata": {},
   "outputs": [],
   "source": [
    "matched=pd.read_csv(p_in2+\"grouped_matched_with_opinion.csv\")\n",
    "bot_exposed=pd.read_csv(p_in2+\"grouped_sample_with_opinion.csv\")"
   ]
  },
  {
   "cell_type": "code",
   "execution_count": 861,
   "id": "6b847eb0",
   "metadata": {},
   "outputs": [],
   "source": [
    "bot_days_data_filled=pd.read_csv(p_in2+\"bot_days_data_with_opinion_filled_0306.csv\")"
   ]
  },
  {
   "cell_type": "code",
   "execution_count": 862,
   "id": "dc519cda",
   "metadata": {},
   "outputs": [],
   "source": [
    "def create_cat_user_interaction(row):\n",
    "    if row['user_interaction_opinion']<0:\n",
    "        return 'negative'\n",
    "    elif row['user_interaction_opinion']>0:\n",
    "        return 'positive'\n",
    "    else:\n",
    "        return 'neutral'"
   ]
  },
  {
   "cell_type": "code",
   "execution_count": 863,
   "id": "a22e57d8",
   "metadata": {},
   "outputs": [],
   "source": [
    "bot_days_data_filled['user_interaction_opinion_cat']=bot_days_data_filled.apply(create_cat_user_interaction,1)"
   ]
  },
  {
   "cell_type": "code",
   "execution_count": 1151,
   "id": "a593f491",
   "metadata": {},
   "outputs": [],
   "source": [
    "def create_cat_before_opinion(row):\n",
    "    if row['before_opinion']<0:\n",
    "        return 'negative'\n",
    "    elif row['before_opinion']>0:\n",
    "        return 'positive'\n",
    "    elif row['before_opinion']==0:\n",
    "        return 'neutral'\n",
    "bot_days_data_filled['before_opinion_cat']=bot_days_data_filled.apply(create_cat_before_opinion,1)"
   ]
  },
  {
   "cell_type": "code",
   "execution_count": 1154,
   "id": "757d4c2e",
   "metadata": {},
   "outputs": [],
   "source": [
    "def create_cat_after_opinion(row):\n",
    "    if row['after_opinion']<0:\n",
    "        return 'negative'\n",
    "    elif row['after_opinion']>0:\n",
    "        return 'positive'\n",
    "    elif row['after_opinion']==0:\n",
    "        return 'neutral'\n",
    "bot_days_data_filled['after_opinion_cat']=bot_days_data_filled.apply(create_cat_after_opinion,1)"
   ]
  },
  {
   "cell_type": "code",
   "execution_count": 1155,
   "id": "31da2b47",
   "metadata": {},
   "outputs": [
    {
     "data": {
      "text/html": [
       "<div>\n",
       "<style scoped>\n",
       "    .dataframe tbody tr th:only-of-type {\n",
       "        vertical-align: middle;\n",
       "    }\n",
       "\n",
       "    .dataframe tbody tr th {\n",
       "        vertical-align: top;\n",
       "    }\n",
       "\n",
       "    .dataframe thead th {\n",
       "        text-align: right;\n",
       "    }\n",
       "</style>\n",
       "<table border=\"1\" class=\"dataframe\">\n",
       "  <thead>\n",
       "    <tr style=\"text-align: right;\">\n",
       "      <th></th>\n",
       "      <th>before_opinion</th>\n",
       "      <th>after_opinion</th>\n",
       "    </tr>\n",
       "  </thead>\n",
       "  <tbody>\n",
       "    <tr>\n",
       "      <th>before_opinion</th>\n",
       "      <td>1.0000</td>\n",
       "      <td>0.6828</td>\n",
       "    </tr>\n",
       "    <tr>\n",
       "      <th>after_opinion</th>\n",
       "      <td>0.6828</td>\n",
       "      <td>1.0000</td>\n",
       "    </tr>\n",
       "  </tbody>\n",
       "</table>\n",
       "</div>"
      ],
      "text/plain": [
       "                before_opinion  after_opinion\n",
       "before_opinion          1.0000         0.6828\n",
       "after_opinion           0.6828         1.0000"
      ]
     },
     "execution_count": 1155,
     "metadata": {},
     "output_type": "execute_result"
    }
   ],
   "source": [
    "bot_days_data_filled[(bot_days_data_filled['bot_interaction']==1)][['before_opinion','after_opinion']].corr()"
   ]
  },
  {
   "cell_type": "code",
   "execution_count": 1156,
   "id": "f9ad5722",
   "metadata": {},
   "outputs": [
    {
     "data": {
      "text/html": [
       "<div>\n",
       "<style scoped>\n",
       "    .dataframe tbody tr th:only-of-type {\n",
       "        vertical-align: middle;\n",
       "    }\n",
       "\n",
       "    .dataframe tbody tr th {\n",
       "        vertical-align: top;\n",
       "    }\n",
       "\n",
       "    .dataframe thead th {\n",
       "        text-align: right;\n",
       "    }\n",
       "</style>\n",
       "<table border=\"1\" class=\"dataframe\">\n",
       "  <thead>\n",
       "    <tr style=\"text-align: right;\">\n",
       "      <th></th>\n",
       "      <th>before_opinion</th>\n",
       "      <th>after_opinion</th>\n",
       "    </tr>\n",
       "  </thead>\n",
       "  <tbody>\n",
       "    <tr>\n",
       "      <th>before_opinion</th>\n",
       "      <td>1.000000</td>\n",
       "      <td>0.607555</td>\n",
       "    </tr>\n",
       "    <tr>\n",
       "      <th>after_opinion</th>\n",
       "      <td>0.607555</td>\n",
       "      <td>1.000000</td>\n",
       "    </tr>\n",
       "  </tbody>\n",
       "</table>\n",
       "</div>"
      ],
      "text/plain": [
       "                before_opinion  after_opinion\n",
       "before_opinion        1.000000       0.607555\n",
       "after_opinion         0.607555       1.000000"
      ]
     },
     "execution_count": 1156,
     "metadata": {},
     "output_type": "execute_result"
    }
   ],
   "source": [
    "bot_days_data_filled[(bot_days_data_filled['bot_interaction']!=1)][['before_opinion','after_opinion']].corr()"
   ]
  },
  {
   "cell_type": "code",
   "execution_count": 1157,
   "id": "4e105092",
   "metadata": {},
   "outputs": [
    {
     "data": {
      "text/plain": [
       "62"
      ]
     },
     "execution_count": 1157,
     "metadata": {},
     "output_type": "execute_result"
    }
   ],
   "source": [
    "len(set(bot_days_data_filled[(bot_days_data_filled['before_opinion_cat']!=bot_days_data_filled['after_opinion_cat']) &\n",
    "                            (bot_days_data_filled['bot_interaction']==1)]['author_id_']))"
   ]
  },
  {
   "cell_type": "code",
   "execution_count": 1170,
   "id": "1778dc2e",
   "metadata": {},
   "outputs": [
    {
     "data": {
      "text/plain": [
       "before_opinion_cat\n",
       "positive    0.518672\n",
       "neutral     0.269710\n",
       "negative    0.211618\n",
       "Name: proportion, dtype: float64"
      ]
     },
     "execution_count": 1170,
     "metadata": {},
     "output_type": "execute_result"
    }
   ],
   "source": [
    "bot_days_data_filled.drop_duplicates('author_id_')['before_opinion_cat'].value_counts(normalize=True)"
   ]
  },
  {
   "cell_type": "code",
   "execution_count": 1159,
   "id": "6066b6ba",
   "metadata": {},
   "outputs": [],
   "source": [
    "bot_exp=bot_days_data_filled[bot_days_data_filled['bot_interaction']==1].drop_duplicates('author_id_')\n",
    "matched=bot_days_data_filled[bot_days_data_filled['bot_interaction']!=1].drop_duplicates('author_id_')"
   ]
  },
  {
   "cell_type": "code",
   "execution_count": 1165,
   "id": "e4302d23",
   "metadata": {},
   "outputs": [
    {
     "data": {
      "text/plain": [
       "before_opinion_cat\n",
       "positive    0.445545\n",
       "neutral     0.297030\n",
       "negative    0.257426\n",
       "Name: proportion, dtype: float64"
      ]
     },
     "execution_count": 1165,
     "metadata": {},
     "output_type": "execute_result"
    }
   ],
   "source": [
    "bot_exp['before_opinion_cat'].value_counts(normalize=True)"
   ]
  },
  {
   "cell_type": "code",
   "execution_count": 1167,
   "id": "4e52d043",
   "metadata": {},
   "outputs": [
    {
     "data": {
      "text/plain": [
       "before_opinion_cat\n",
       "positive    0.641304\n",
       "neutral     0.228261\n",
       "negative    0.130435\n",
       "Name: proportion, dtype: float64"
      ]
     },
     "execution_count": 1167,
     "metadata": {},
     "output_type": "execute_result"
    }
   ],
   "source": [
    "matched['before_opinion_cat'].value_counts(normalize=True)"
   ]
  },
  {
   "cell_type": "code",
   "execution_count": 1168,
   "id": "e765b693",
   "metadata": {},
   "outputs": [
    {
     "data": {
      "text/plain": [
       "after_opinion_cat\n",
       "positive    0.565217\n",
       "neutral     0.304348\n",
       "negative    0.130435\n",
       "Name: proportion, dtype: float64"
      ]
     },
     "execution_count": 1168,
     "metadata": {},
     "output_type": "execute_result"
    }
   ],
   "source": [
    "matched['after_opinion_cat'].value_counts(normalize=True)"
   ]
  },
  {
   "cell_type": "code",
   "execution_count": 1166,
   "id": "4cc153d6",
   "metadata": {},
   "outputs": [
    {
     "data": {
      "text/plain": [
       "after_opinion_cat\n",
       "positive    0.419142\n",
       "neutral     0.343234\n",
       "negative    0.237624\n",
       "Name: proportion, dtype: float64"
      ]
     },
     "execution_count": 1166,
     "metadata": {},
     "output_type": "execute_result"
    }
   ],
   "source": [
    "bot_exp['after_opinion_cat'].value_counts(normalize=True)"
   ]
  },
  {
   "cell_type": "code",
   "execution_count": 1163,
   "id": "94399096",
   "metadata": {},
   "outputs": [
    {
     "data": {
      "text/html": [
       "<div>\n",
       "<style scoped>\n",
       "    .dataframe tbody tr th:only-of-type {\n",
       "        vertical-align: middle;\n",
       "    }\n",
       "\n",
       "    .dataframe tbody tr th {\n",
       "        vertical-align: top;\n",
       "    }\n",
       "\n",
       "    .dataframe thead th {\n",
       "        text-align: right;\n",
       "    }\n",
       "</style>\n",
       "<table border=\"1\" class=\"dataframe\">\n",
       "  <thead>\n",
       "    <tr style=\"text-align: right;\">\n",
       "      <th>after_opinion_cat</th>\n",
       "      <th>negative</th>\n",
       "      <th>neutral</th>\n",
       "      <th>positive</th>\n",
       "      <th>All</th>\n",
       "    </tr>\n",
       "    <tr>\n",
       "      <th>before_opinion_cat</th>\n",
       "      <th></th>\n",
       "      <th></th>\n",
       "      <th></th>\n",
       "      <th></th>\n",
       "    </tr>\n",
       "  </thead>\n",
       "  <tbody>\n",
       "    <tr>\n",
       "      <th>negative</th>\n",
       "      <td>0.188119</td>\n",
       "      <td>0.036304</td>\n",
       "      <td>0.033003</td>\n",
       "      <td>0.257426</td>\n",
       "    </tr>\n",
       "    <tr>\n",
       "      <th>neutral</th>\n",
       "      <td>0.009901</td>\n",
       "      <td>0.254125</td>\n",
       "      <td>0.033003</td>\n",
       "      <td>0.297030</td>\n",
       "    </tr>\n",
       "    <tr>\n",
       "      <th>positive</th>\n",
       "      <td>0.039604</td>\n",
       "      <td>0.052805</td>\n",
       "      <td>0.353135</td>\n",
       "      <td>0.445545</td>\n",
       "    </tr>\n",
       "    <tr>\n",
       "      <th>All</th>\n",
       "      <td>0.237624</td>\n",
       "      <td>0.343234</td>\n",
       "      <td>0.419142</td>\n",
       "      <td>1.000000</td>\n",
       "    </tr>\n",
       "  </tbody>\n",
       "</table>\n",
       "</div>"
      ],
      "text/plain": [
       "after_opinion_cat   negative   neutral  positive       All\n",
       "before_opinion_cat                                        \n",
       "negative            0.188119  0.036304  0.033003  0.257426\n",
       "neutral             0.009901  0.254125  0.033003  0.297030\n",
       "positive            0.039604  0.052805  0.353135  0.445545\n",
       "All                 0.237624  0.343234  0.419142  1.000000"
      ]
     },
     "execution_count": 1163,
     "metadata": {},
     "output_type": "execute_result"
    }
   ],
   "source": [
    "pd.crosstab(bot_exp['before_opinion_cat'],bot_exp['after_opinion_cat'], normalize=True, margins=True)"
   ]
  },
  {
   "cell_type": "code",
   "execution_count": 1130,
   "id": "23ba8c40",
   "metadata": {},
   "outputs": [
    {
     "data": {
      "text/plain": [
       "184"
      ]
     },
     "execution_count": 1130,
     "metadata": {},
     "output_type": "execute_result"
    }
   ],
   "source": [
    "len(set(bot_days_data_filled[bot_days_data_filled['bot_interaction']!=1]['author_id_']))"
   ]
  },
  {
   "cell_type": "code",
   "execution_count": 1128,
   "id": "603b7747",
   "metadata": {},
   "outputs": [
    {
     "data": {
      "text/plain": [
       "0.20462046204620463"
      ]
     },
     "execution_count": 1128,
     "metadata": {},
     "output_type": "execute_result"
    }
   ],
   "source": [
    "62/303"
   ]
  },
  {
   "cell_type": "code",
   "execution_count": 1131,
   "id": "96f5eb55",
   "metadata": {},
   "outputs": [
    {
     "data": {
      "text/plain": [
       "0.20108695652173914"
      ]
     },
     "execution_count": 1131,
     "metadata": {},
     "output_type": "execute_result"
    }
   ],
   "source": [
    "37/184"
   ]
  },
  {
   "cell_type": "code",
   "execution_count": 1129,
   "id": "ab1dba6b",
   "metadata": {},
   "outputs": [
    {
     "data": {
      "text/plain": [
       "37"
      ]
     },
     "execution_count": 1129,
     "metadata": {},
     "output_type": "execute_result"
    }
   ],
   "source": [
    "len(set(bot_days_data_filled[(bot_days_data_filled['before_opinion_cat']!=bot_days_data_filled['after_opinion_cat']) &\n",
    "                            (bot_days_data_filled['bot_interaction']==0)]['author_id_']))"
   ]
  },
  {
   "cell_type": "code",
   "execution_count": null,
   "id": "e3ccc9c6",
   "metadata": {},
   "outputs": [],
   "source": [
    "len(set(bot_days_data_filled[(bot_days_data_filled['before_opinion_cat']!=bot_days_data_filled['after_opinion_cat']) &\n",
    "                            (bot_days_data_filled['bot_interaction']==0)]['author_id_']))"
   ]
  },
  {
   "cell_type": "code",
   "execution_count": 1120,
   "id": "2c9cbfc6",
   "metadata": {},
   "outputs": [
    {
     "data": {
      "text/plain": [
       "0        1.0\n",
       "61       0.0\n",
       "122      0.5\n",
       "183      1.0\n",
       "244     -0.5\n",
       "        ... \n",
       "18178   -1.0\n",
       "18239    0.0\n",
       "18300   -0.5\n",
       "18361   -0.5\n",
       "18422    0.5\n",
       "Name: before_opinion, Length: 303, dtype: float64"
      ]
     },
     "execution_count": 1120,
     "metadata": {},
     "output_type": "execute_result"
    }
   ],
   "source": [
    "bot_days_data_filled[bot_days_data_filled['bot_interaction']==1].drop_duplicates(subset=['author_id_'])['before_opinion']"
   ]
  },
  {
   "cell_type": "code",
   "execution_count": 1124,
   "id": "39a5a19d",
   "metadata": {},
   "outputs": [
    {
     "name": "stdout",
     "output_type": "stream",
     "text": [
      "Statistics=45536.00, p=0.86\n",
      "Do not Reject Null Hypothesis (No significant difference between two samples)\n"
     ]
    }
   ],
   "source": [
    "from scipy.stats import mannwhitneyu \n",
    "\n",
    "before_bot=list(bot_days_data_filled[bot_days_data_filled['bot_interaction']==1].drop_duplicates(subset=['author_id_'])['before_opinion'])\n",
    "after_bot=list(bot_days_data_filled[bot_days_data_filled['bot_interaction']==1].drop_duplicates(subset=['author_id_'])['after_opinion'])\n",
    "  \n",
    "# perform mann whitney test \n",
    "stat, p_value = mannwhitneyu(before_bot, after_bot) \n",
    "print('Statistics=%.2f, p=%.2f' % (stat, p_value)) \n",
    "# Level of significance \n",
    "alpha = 0.05\n",
    "# conclusion \n",
    "if p_value < alpha: \n",
    "    print('Reject Null Hypothesis (Significant difference between two samples)') \n",
    "else: \n",
    "    print('Do not Reject Null Hypothesis (No significant difference between two samples)')"
   ]
  },
  {
   "cell_type": "code",
   "execution_count": 1125,
   "id": "bd2195d3",
   "metadata": {},
   "outputs": [
    {
     "name": "stdout",
     "output_type": "stream",
     "text": [
      "Statistics=17961.50, p=0.29\n",
      "Do not Reject Null Hypothesis (No significant difference between two samples)\n"
     ]
    }
   ],
   "source": [
    "before_bot=list(bot_days_data_filled[bot_days_data_filled['bot_interaction']==0].drop_duplicates(subset=['author_id_'])['before_opinion'])\n",
    "after_bot=list(bot_days_data_filled[bot_days_data_filled['bot_interaction']==0].drop_duplicates(subset=['author_id_'])['after_opinion'])\n",
    "  \n",
    "# perform mann whitney test \n",
    "stat, p_value = mannwhitneyu(before_bot, after_bot) \n",
    "print('Statistics=%.2f, p=%.2f' % (stat, p_value)) \n",
    "# Level of significance \n",
    "alpha = 0.05\n",
    "# conclusion \n",
    "if p_value < alpha: \n",
    "    print('Reject Null Hypothesis (Significant difference between two samples)') \n",
    "else: \n",
    "    print('Do not Reject Null Hypothesis (No significant difference between two samples)')"
   ]
  },
  {
   "cell_type": "code",
   "execution_count": 867,
   "id": "0269a557",
   "metadata": {
    "scrolled": true
   },
   "outputs": [
    {
     "data": {
      "text/plain": [
       "0.44554455445544555"
      ]
     },
     "execution_count": 867,
     "metadata": {},
     "output_type": "execute_result"
    }
   ],
   "source": [
    "135/(135+78+90)"
   ]
  },
  {
   "cell_type": "code",
   "execution_count": 742,
   "id": "c952747e",
   "metadata": {},
   "outputs": [
    {
     "data": {
      "text/plain": [
       "0.25742574257425743"
      ]
     },
     "execution_count": 742,
     "metadata": {},
     "output_type": "execute_result"
    }
   ],
   "source": [
    "78/(135+78+90)"
   ]
  },
  {
   "cell_type": "code",
   "execution_count": 743,
   "id": "a3a7a50a",
   "metadata": {},
   "outputs": [
    {
     "data": {
      "text/plain": [
       "0.297029702970297"
      ]
     },
     "execution_count": 743,
     "metadata": {},
     "output_type": "execute_result"
    }
   ],
   "source": [
    "90/(135+78+90)"
   ]
  },
  {
   "cell_type": "code",
   "execution_count": 868,
   "id": "5fe182ba",
   "metadata": {},
   "outputs": [],
   "source": [
    "bot_days_data_filled['opinion_difference']=bot_days_data_filled['before_opinion']-bot_days_data_filled['after_opinion']"
   ]
  },
  {
   "cell_type": "code",
   "execution_count": 1149,
   "id": "93696d43",
   "metadata": {},
   "outputs": [
    {
     "data": {
      "text/plain": [
       "before_opinion_cat\n",
       "positive    15433\n",
       "neutral      8052\n",
       "negative     6222\n",
       "Name: count, dtype: int64"
      ]
     },
     "execution_count": 1149,
     "metadata": {},
     "output_type": "execute_result"
    }
   ],
   "source": [
    "bot_days_data_filled['before_opinion_cat'].value_counts()"
   ]
  },
  {
   "cell_type": "code",
   "execution_count": 870,
   "id": "5718e811",
   "metadata": {},
   "outputs": [
    {
     "data": {
      "text/html": [
       "<div>\n",
       "<style scoped>\n",
       "    .dataframe tbody tr th:only-of-type {\n",
       "        vertical-align: middle;\n",
       "    }\n",
       "\n",
       "    .dataframe tbody tr th {\n",
       "        vertical-align: top;\n",
       "    }\n",
       "\n",
       "    .dataframe thead th {\n",
       "        text-align: right;\n",
       "    }\n",
       "</style>\n",
       "<table border=\"1\" class=\"dataframe\">\n",
       "  <thead>\n",
       "    <tr style=\"text-align: right;\">\n",
       "      <th></th>\n",
       "      <th>user_interaction_opinion</th>\n",
       "      <th>interaction_senti</th>\n",
       "    </tr>\n",
       "  </thead>\n",
       "  <tbody>\n",
       "    <tr>\n",
       "      <th>user_interaction_opinion</th>\n",
       "      <td>1.000000</td>\n",
       "      <td>0.203919</td>\n",
       "    </tr>\n",
       "    <tr>\n",
       "      <th>interaction_senti</th>\n",
       "      <td>0.203919</td>\n",
       "      <td>1.000000</td>\n",
       "    </tr>\n",
       "  </tbody>\n",
       "</table>\n",
       "</div>"
      ],
      "text/plain": [
       "                          user_interaction_opinion  interaction_senti\n",
       "user_interaction_opinion                  1.000000           0.203919\n",
       "interaction_senti                         0.203919           1.000000"
      ]
     },
     "execution_count": 870,
     "metadata": {},
     "output_type": "execute_result"
    }
   ],
   "source": [
    "bot_days_data_filled[['user_interaction_opinion', 'interaction_senti']].corr()"
   ]
  },
  {
   "cell_type": "code",
   "execution_count": 1144,
   "id": "95fe4ec6",
   "metadata": {},
   "outputs": [],
   "source": [
    "def opinion_flip_(row):\n",
    "    if row['before_opinion']<0 and row['after_opinion']>0:\n",
    "        return 1\n",
    "    elif row['before_opinion']>0 and row['after_opinion']<0:\n",
    "        return 1\n",
    "    else:\n",
    "        return 0\n",
    "\n",
    "bot_days_data_filled['opinion_flip']=bot_days_data_filled.apply(opinion_flip_,1)"
   ]
  },
  {
   "cell_type": "code",
   "execution_count": 1145,
   "id": "2a3641d8",
   "metadata": {},
   "outputs": [],
   "source": [
    "def opinion_norm_(row):\n",
    "    if row['before_opinion']<0 and row['after_opinion']==0:\n",
    "        return 1\n",
    "    elif row['before_opinion']>0 and row['after_opinion']==0:\n",
    "        return 1\n",
    "    else:\n",
    "        return 0\n",
    "\n",
    "bot_days_data_filled['opinion_neutralization']=bot_days_data_filled.apply(opinion_norm_,1)"
   ]
  },
  {
   "cell_type": "code",
   "execution_count": 1146,
   "id": "f000e3c4",
   "metadata": {},
   "outputs": [
    {
     "data": {
      "text/plain": [
       "27"
      ]
     },
     "execution_count": 1146,
     "metadata": {},
     "output_type": "execute_result"
    }
   ],
   "source": [
    "len(set(bot_days_data_filled[(bot_days_data_filled['bot_interaction']==1) &\n",
    "    (bot_days_data_filled['opinion_neutralization']==1)]['author_id_']))"
   ]
  },
  {
   "cell_type": "code",
   "execution_count": 1147,
   "id": "1365207b",
   "metadata": {},
   "outputs": [
    {
     "data": {
      "text/plain": [
       "(0.0891089108910891, 0.10869565217391304)"
      ]
     },
     "execution_count": 1147,
     "metadata": {},
     "output_type": "execute_result"
    }
   ],
   "source": [
    "27/303, 20/184"
   ]
  },
  {
   "cell_type": "code",
   "execution_count": 1148,
   "id": "b16d9ddf",
   "metadata": {},
   "outputs": [
    {
     "data": {
      "text/plain": [
       "20"
      ]
     },
     "execution_count": 1148,
     "metadata": {},
     "output_type": "execute_result"
    }
   ],
   "source": [
    "len(set(bot_days_data_filled[(bot_days_data_filled['bot_interaction']!=1) &\n",
    "    (bot_days_data_filled['opinion_neutralization']==1)]['author_id_']))"
   ]
  },
  {
   "cell_type": "code",
   "execution_count": 1141,
   "id": "fa45f368",
   "metadata": {},
   "outputs": [
    {
     "data": {
      "text/plain": [
       "22"
      ]
     },
     "execution_count": 1141,
     "metadata": {},
     "output_type": "execute_result"
    }
   ],
   "source": [
    "len(set(bot_days_data_filled[(bot_days_data_filled['bot_interaction']==1) &\n",
    "                             (bot_days_data_filled['opinion_flip']==1)]['author_id_']))"
   ]
  },
  {
   "cell_type": "code",
   "execution_count": 1142,
   "id": "a4465c1a",
   "metadata": {},
   "outputs": [
    {
     "data": {
      "text/plain": [
       "11"
      ]
     },
     "execution_count": 1142,
     "metadata": {},
     "output_type": "execute_result"
    }
   ],
   "source": [
    "len(set(bot_days_data_filled[(bot_days_data_filled['bot_interaction']!=1) &\n",
    "                             (bot_days_data_filled['opinion_flip']==1)]['author_id_']))"
   ]
  },
  {
   "cell_type": "code",
   "execution_count": 1143,
   "id": "9082b2a7",
   "metadata": {},
   "outputs": [
    {
     "data": {
      "text/plain": [
       "(0.07260726072607261, 0.059782608695652176)"
      ]
     },
     "execution_count": 1143,
     "metadata": {},
     "output_type": "execute_result"
    }
   ],
   "source": [
    "22/303, 11/184"
   ]
  },
  {
   "cell_type": "code",
   "execution_count": null,
   "id": "c4313363",
   "metadata": {},
   "outputs": [],
   "source": [
    "#bot_days_data_filled[(bot_days_data_filled['bot_interaction']==1) &\n",
    "#                             (bot_days_data_filled['opinion_flip']==1)]"
   ]
  },
  {
   "cell_type": "code",
   "execution_count": null,
   "id": "aef213a8",
   "metadata": {},
   "outputs": [],
   "source": [
    "len(set(bot_days_data_filled[(bot_days_data_filled['bot_interaction']!=1) &\n",
    "                             (bot_days_data_filled['opinion_flip']==1)]['author_id_']))"
   ]
  },
  {
   "cell_type": "code",
   "execution_count": 968,
   "id": "f97c4db1",
   "metadata": {},
   "outputs": [],
   "source": [
    "bot_days_data_filled.to_csv(p_in2+'bot_days_data_with_opinion_filled_0308.csv')"
   ]
  },
  {
   "cell_type": "code",
   "execution_count": 876,
   "id": "b78ac0d2",
   "metadata": {},
   "outputs": [],
   "source": [
    "#p_in2+'bot_days_data_with_opinion_filled_0307.csv'"
   ]
  },
  {
   "cell_type": "code",
   "execution_count": 877,
   "id": "d5a09a5e",
   "metadata": {},
   "outputs": [
    {
     "data": {
      "text/plain": [
       "opinion_flip\n",
       "0    Axes(0.125,0.125;0.775x0.755)\n",
       "1    Axes(0.125,0.125;0.775x0.755)\n",
       "Name: opinion_difference, dtype: object"
      ]
     },
     "execution_count": 877,
     "metadata": {},
     "output_type": "execute_result"
    },
    {
     "data": {
      "image/png": "[encoded data removed]",
      "text/plain": [
       "<Figure size 432x288 with 1 Axes>"
      ]
     },
     "metadata": {
      "needs_background": "light"
     },
     "output_type": "display_data"
    }
   ],
   "source": [
    "bot_days_data_filled.groupby(\"opinion_flip\")['opinion_difference'].hist()"
   ]
  },
  {
   "cell_type": "code",
   "execution_count": 878,
   "id": "7d9b5050",
   "metadata": {},
   "outputs": [
    {
     "data": {
      "text/plain": [
       "<Axes: >"
      ]
     },
     "execution_count": 878,
     "metadata": {},
     "output_type": "execute_result"
    },
    {
     "data": {
      "image/png": "[encoded data removed]",
      "text/plain": [
       "<Figure size 432x288 with 1 Axes>"
      ]
     },
     "metadata": {
      "needs_background": "light"
     },
     "output_type": "display_data"
    }
   ],
   "source": [
    "bot_days_data_filled['opinion_difference'].hist(bins=100)"
   ]
  },
  {
   "cell_type": "code",
   "execution_count": 840,
   "id": "12d381cc",
   "metadata": {},
   "outputs": [
    {
     "data": {
      "text/plain": [
       "opinion_difference\n",
       "-2.0       61\n",
       "-1.5      366\n",
       "-1.3       61\n",
       "-1.0     1098\n",
       "-0.8      366\n",
       "-0.5     2501\n",
       "-0.3      427\n",
       "-0.2      122\n",
       " 0.0    19459\n",
       " 0.2       61\n",
       " 0.3      488\n",
       " 0.5     2379\n",
       " 0.6       61\n",
       " 0.7      122\n",
       " 0.8      122\n",
       " 1.0     1647\n",
       " 1.3       61\n",
       " 1.5      305\n",
       "Name: count, dtype: int64"
      ]
     },
     "execution_count": 840,
     "metadata": {},
     "output_type": "execute_result"
    }
   ],
   "source": [
    "bot_days_data_filled['opinion_difference'].value_counts().sort_index()"
   ]
  },
  {
   "cell_type": "code",
   "execution_count": 688,
   "id": "01c5935d",
   "metadata": {},
   "outputs": [],
   "source": [
    "bot_days_data=pd.read_csv(p_in2+\"bot_days_data_with_opinion_0306.csv\")"
   ]
  },
  {
   "cell_type": "code",
   "execution_count": 882,
   "id": "99671f94",
   "metadata": {},
   "outputs": [
    {
     "data": {
      "text/plain": [
       "after\n",
       "0    0.412121\n",
       "1    0.346104\n",
       "Name: climate_change_opinion, dtype: float64"
      ]
     },
     "execution_count": 882,
     "metadata": {},
     "output_type": "execute_result"
    }
   ],
   "source": [
    "matched.groupby('after')['climate_change_opinion'].mean()"
   ]
  },
  {
   "cell_type": "code",
   "execution_count": 886,
   "id": "9bce8fba",
   "metadata": {},
   "outputs": [
    {
     "data": {
      "text/plain": [
       "<matplotlib.legend.Legend at 0x7fe3558c4fd0>"
      ]
     },
     "execution_count": 886,
     "metadata": {},
     "output_type": "execute_result"
    },
    {
     "data": {
      "image/png": "[encoded data removed]",
      "text/plain": [
       "<Figure size 432x288 with 1 Axes>"
      ]
     },
     "metadata": {
      "needs_background": "light"
     },
     "output_type": "display_data"
    }
   ],
   "source": [
    "ax=matched[matched['after']==0]['climate_change_opinion'].hist(label='before', alpha=.8)\n",
    "matched[matched['after']==1]['climate_change_opinion'].hist(label='after',ax=ax, alpha=.8)\n",
    "ax.legend()"
   ]
  },
  {
   "cell_type": "code",
   "execution_count": 902,
   "id": "52c3c9bf",
   "metadata": {},
   "outputs": [
    {
     "data": {
      "text/plain": [
       "<matplotlib.legend.Legend at 0x7fe342a0d970>"
      ]
     },
     "execution_count": 902,
     "metadata": {},
     "output_type": "execute_result"
    },
    {
     "data": {
      "image/png": "[encoded data removed]",
      "text/plain": [
       "<Figure size 432x288 with 1 Axes>"
      ]
     },
     "metadata": {
      "needs_background": "light"
     },
     "output_type": "display_data"
    }
   ],
   "source": [
    "ax=bot_exposed[bot_exposed['after']==0]['climate_change_opinion'].hist(label='before', alpha=.8)\n",
    "bot_exposed[bot_exposed['after']==1]['climate_change_opinion'].hist(label='after',ax=ax, alpha=.8)\n",
    "ax.legend()"
   ]
  },
  {
   "cell_type": "code",
   "execution_count": 906,
   "id": "631f5366",
   "metadata": {},
   "outputs": [],
   "source": [
    "def bot_same_as_user(row):\n",
    "    if row[\"user_interaction_opinion_cat\"]==row['before_opinion_cat']:\n",
    "        return 1\n",
    "    else:\n",
    "        return 0\n",
    "    "
   ]
  },
  {
   "cell_type": "code",
   "execution_count": 907,
   "id": "58d0c8c3",
   "metadata": {},
   "outputs": [],
   "source": [
    "bot_days_data_filled['same_bot_user_opinion']=bot_days_data_filled.apply(bot_same_as_user,1)"
   ]
  },
  {
   "cell_type": "code",
   "execution_count": 909,
   "id": "dc08e067",
   "metadata": {},
   "outputs": [],
   "source": [
    "def bot_increased_support(row):\n",
    "    if row['opinion_difference']>0:\n",
    "        return 1\n",
    "    else:\n",
    "        return 0\n",
    "bot_days_data_filled['increased_support']=bot_days_data_filled.apply(bot_increased_support,1)\n",
    "\n",
    "\n",
    "def bot_decreased_support(row):\n",
    "    if row['opinion_difference']<0:\n",
    "        return 1\n",
    "    else:\n",
    "        return 0\n",
    "bot_days_data_filled['decreased_support']=bot_days_data_filled.apply(bot_decreased_support,1)"
   ]
  },
  {
   "cell_type": "code",
   "execution_count": null,
   "id": "9f5f0852",
   "metadata": {},
   "outputs": [],
   "source": []
  },
  {
   "cell_type": "code",
   "execution_count": 941,
   "id": "f1541fb7",
   "metadata": {},
   "outputs": [
    {
     "data": {
      "text/plain": [
       "Chi2ContingencyResult(statistic=3620.467550822602, pvalue=0.0, dof=4, expected_freq=array([[ 774.07920792,  806.        ,  837.92079208],\n",
       "       [ 893.16831683,  930.        ,  966.83168317],\n",
       "       [1339.75247525, 1395.        , 1450.24752475]]))"
      ]
     },
     "execution_count": 941,
     "metadata": {},
     "output_type": "execute_result"
    }
   ],
   "source": [
    "bd=bot_days_data_filled[(bot_days_data_filled['bot_interaction']==1) &\n",
    "                       (bot_days_data_filled['after']==1)]\n",
    "chi2_contingency(pd.crosstab(bd['before_opinion_cat'],bd['user_interaction_opinion_cat']))"
   ]
  },
  {
   "cell_type": "code",
   "execution_count": 944,
   "id": "851c19b0",
   "metadata": {},
   "outputs": [
    {
     "data": {
      "text/html": [
       "<div>\n",
       "<style scoped>\n",
       "    .dataframe tbody tr th:only-of-type {\n",
       "        vertical-align: middle;\n",
       "    }\n",
       "\n",
       "    .dataframe tbody tr th {\n",
       "        vertical-align: top;\n",
       "    }\n",
       "\n",
       "    .dataframe thead th {\n",
       "        text-align: right;\n",
       "    }\n",
       "</style>\n",
       "<table border=\"1\" class=\"dataframe\">\n",
       "  <thead>\n",
       "    <tr style=\"text-align: right;\">\n",
       "      <th>user_interaction_opinion_cat</th>\n",
       "      <th>negative</th>\n",
       "      <th>neutral</th>\n",
       "      <th>positive</th>\n",
       "    </tr>\n",
       "    <tr>\n",
       "      <th>before_opinion_cat</th>\n",
       "      <th></th>\n",
       "      <th></th>\n",
       "      <th></th>\n",
       "    </tr>\n",
       "  </thead>\n",
       "  <tbody>\n",
       "    <tr>\n",
       "      <th>negative</th>\n",
       "      <td>0.692308</td>\n",
       "      <td>0.205128</td>\n",
       "      <td>0.102564</td>\n",
       "    </tr>\n",
       "    <tr>\n",
       "      <th>neutral</th>\n",
       "      <td>0.166667</td>\n",
       "      <td>0.622222</td>\n",
       "      <td>0.211111</td>\n",
       "    </tr>\n",
       "    <tr>\n",
       "      <th>positive</th>\n",
       "      <td>0.207407</td>\n",
       "      <td>0.214815</td>\n",
       "      <td>0.577778</td>\n",
       "    </tr>\n",
       "  </tbody>\n",
       "</table>\n",
       "</div>"
      ],
      "text/plain": [
       "user_interaction_opinion_cat  negative   neutral  positive\n",
       "before_opinion_cat                                        \n",
       "negative                      0.692308  0.205128  0.102564\n",
       "neutral                       0.166667  0.622222  0.211111\n",
       "positive                      0.207407  0.214815  0.577778"
      ]
     },
     "execution_count": 944,
     "metadata": {},
     "output_type": "execute_result"
    }
   ],
   "source": [
    "pd.crosstab(bd['before_opinion_cat'],bd['user_interaction_opinion_cat'], normalize='index')"
   ]
  },
  {
   "cell_type": "code",
   "execution_count": 945,
   "id": "fe420c58",
   "metadata": {},
   "outputs": [
    {
     "name": "stdout",
     "output_type": "stream",
     "text": [
      "Chi2ContingencyResult(statistic=1308.8128087468106, pvalue=6.236051002595694e-285, dof=2, expected_freq=array([[ 513.52173913,  230.47826087],\n",
      "       [ 898.66304348,  403.33695652],\n",
      "       [2524.81521739, 1133.18478261]]))\n"
     ]
    },
    {
     "data": {
      "text/html": [
       "<div>\n",
       "<style scoped>\n",
       "    .dataframe tbody tr th:only-of-type {\n",
       "        vertical-align: middle;\n",
       "    }\n",
       "\n",
       "    .dataframe tbody tr th {\n",
       "        vertical-align: top;\n",
       "    }\n",
       "\n",
       "    .dataframe thead th {\n",
       "        text-align: right;\n",
       "    }\n",
       "</style>\n",
       "<table border=\"1\" class=\"dataframe\">\n",
       "  <thead>\n",
       "    <tr style=\"text-align: right;\">\n",
       "      <th>user_interaction_opinion_cat</th>\n",
       "      <th>negative</th>\n",
       "      <th>neutral</th>\n",
       "      <th>positive</th>\n",
       "    </tr>\n",
       "    <tr>\n",
       "      <th>before_opinion_cat</th>\n",
       "      <th></th>\n",
       "      <th></th>\n",
       "      <th></th>\n",
       "    </tr>\n",
       "  </thead>\n",
       "  <tbody>\n",
       "    <tr>\n",
       "      <th>negative</th>\n",
       "      <td>0.125000</td>\n",
       "      <td>0.750000</td>\n",
       "      <td>0.125000</td>\n",
       "    </tr>\n",
       "    <tr>\n",
       "      <th>neutral</th>\n",
       "      <td>0.095238</td>\n",
       "      <td>0.714286</td>\n",
       "      <td>0.190476</td>\n",
       "    </tr>\n",
       "    <tr>\n",
       "      <th>positive</th>\n",
       "      <td>0.135593</td>\n",
       "      <td>0.661017</td>\n",
       "      <td>0.203390</td>\n",
       "    </tr>\n",
       "  </tbody>\n",
       "</table>\n",
       "</div>"
      ],
      "text/plain": [
       "user_interaction_opinion_cat  negative   neutral  positive\n",
       "before_opinion_cat                                        \n",
       "negative                      0.125000  0.750000  0.125000\n",
       "neutral                       0.095238  0.714286  0.190476\n",
       "positive                      0.135593  0.661017  0.203390"
      ]
     },
     "execution_count": 945,
     "metadata": {},
     "output_type": "execute_result"
    }
   ],
   "source": [
    "md=bot_days_data_filled[(bot_days_data_filled['bot_interaction']==0) &\n",
    "                       (bot_days_data_filled['after']==1)]\n",
    "print(chi2_contingency(pd.crosstab(md['before_opinion_cat'],md['same_bot_user_opinion'])))\n",
    "pd.crosstab(md['before_opinion_cat'],md['user_interaction_opinion_cat'], normalize='index')"
   ]
  },
  {
   "cell_type": "code",
   "execution_count": 952,
   "id": "71310325",
   "metadata": {},
   "outputs": [],
   "source": [
    "pd.crosstab?"
   ]
  },
  {
   "cell_type": "code",
   "execution_count": 962,
   "id": "502d4bc0",
   "metadata": {},
   "outputs": [],
   "source": [
    "od_bot=pd.crosstab(index=bd['before_opinion_cat'],columns=bd['same_bot_user_opinion'],\n",
    "            values=bd['opinion_difference'], aggfunc='mean')"
   ]
  },
  {
   "cell_type": "code",
   "execution_count": 963,
   "id": "e73e83b2",
   "metadata": {},
   "outputs": [],
   "source": [
    "od_match=pd.crosstab(index=md['before_opinion_cat'],columns=md['same_bot_user_opinion'],\n",
    "            values=md['opinion_difference'], aggfunc='mean')"
   ]
  },
  {
   "cell_type": "code",
   "execution_count": null,
   "id": "913f2d56",
   "metadata": {},
   "outputs": [],
   "source": []
  },
  {
   "cell_type": "code",
   "execution_count": 948,
   "id": "3bfafcef",
   "metadata": {},
   "outputs": [
    {
     "data": {
      "text/html": [
       "<div>\n",
       "<style scoped>\n",
       "    .dataframe tbody tr th:only-of-type {\n",
       "        vertical-align: middle;\n",
       "    }\n",
       "\n",
       "    .dataframe tbody tr th {\n",
       "        vertical-align: top;\n",
       "    }\n",
       "\n",
       "    .dataframe thead th {\n",
       "        text-align: right;\n",
       "    }\n",
       "</style>\n",
       "<table border=\"1\" class=\"dataframe\">\n",
       "  <thead>\n",
       "    <tr style=\"text-align: right;\">\n",
       "      <th>increased_support</th>\n",
       "      <th>0</th>\n",
       "      <th>1</th>\n",
       "    </tr>\n",
       "    <tr>\n",
       "      <th>same_bot_user_opinion</th>\n",
       "      <th></th>\n",
       "      <th></th>\n",
       "    </tr>\n",
       "  </thead>\n",
       "  <tbody>\n",
       "    <tr>\n",
       "      <th>0</th>\n",
       "      <td>2821</td>\n",
       "      <td>744</td>\n",
       "    </tr>\n",
       "    <tr>\n",
       "      <th>1</th>\n",
       "      <td>5053</td>\n",
       "      <td>775</td>\n",
       "    </tr>\n",
       "  </tbody>\n",
       "</table>\n",
       "</div>"
      ],
      "text/plain": [
       "increased_support         0    1\n",
       "same_bot_user_opinion           \n",
       "0                      2821  744\n",
       "1                      5053  775"
      ]
     },
     "execution_count": 948,
     "metadata": {},
     "output_type": "execute_result"
    }
   ],
   "source": [
    "pd.crosstab(bd['same_bot_user_opinion'],bd['increased_support'])"
   ]
  },
  {
   "cell_type": "code",
   "execution_count": 950,
   "id": "52c82e60",
   "metadata": {},
   "outputs": [],
   "source": [
    "pd.crosstab?"
   ]
  },
  {
   "cell_type": "code",
   "execution_count": 947,
   "id": "32d2adf5",
   "metadata": {},
   "outputs": [
    {
     "data": {
      "text/html": [
       "<div>\n",
       "<style scoped>\n",
       "    .dataframe tbody tr th:only-of-type {\n",
       "        vertical-align: middle;\n",
       "    }\n",
       "\n",
       "    .dataframe tbody tr th {\n",
       "        vertical-align: top;\n",
       "    }\n",
       "\n",
       "    .dataframe thead th {\n",
       "        text-align: right;\n",
       "    }\n",
       "</style>\n",
       "<table border=\"1\" class=\"dataframe\">\n",
       "  <thead>\n",
       "    <tr style=\"text-align: right;\">\n",
       "      <th>increased_support</th>\n",
       "      <th>0</th>\n",
       "      <th>1</th>\n",
       "    </tr>\n",
       "    <tr>\n",
       "      <th>before_opinion_cat</th>\n",
       "      <th></th>\n",
       "      <th></th>\n",
       "    </tr>\n",
       "  </thead>\n",
       "  <tbody>\n",
       "    <tr>\n",
       "      <th>negative</th>\n",
       "      <td>713</td>\n",
       "      <td>31</td>\n",
       "    </tr>\n",
       "    <tr>\n",
       "      <th>neutral</th>\n",
       "      <td>1240</td>\n",
       "      <td>62</td>\n",
       "    </tr>\n",
       "    <tr>\n",
       "      <th>positive</th>\n",
       "      <td>2604</td>\n",
       "      <td>1054</td>\n",
       "    </tr>\n",
       "  </tbody>\n",
       "</table>\n",
       "</div>"
      ],
      "text/plain": [
       "increased_support      0     1\n",
       "before_opinion_cat            \n",
       "negative             713    31\n",
       "neutral             1240    62\n",
       "positive            2604  1054"
      ]
     },
     "execution_count": 947,
     "metadata": {},
     "output_type": "execute_result"
    }
   ],
   "source": [
    "pd.crosstab(md['before_opinion_cat'],md['increased_support'])"
   ]
  },
  {
   "cell_type": "code",
   "execution_count": 936,
   "id": "b3b6d39c",
   "metadata": {},
   "outputs": [
    {
     "data": {
      "text/html": [
       "<div>\n",
       "<style scoped>\n",
       "    .dataframe tbody tr th:only-of-type {\n",
       "        vertical-align: middle;\n",
       "    }\n",
       "\n",
       "    .dataframe tbody tr th {\n",
       "        vertical-align: top;\n",
       "    }\n",
       "\n",
       "    .dataframe thead th {\n",
       "        text-align: right;\n",
       "    }\n",
       "</style>\n",
       "<table border=\"1\" class=\"dataframe\">\n",
       "  <thead>\n",
       "    <tr style=\"text-align: right;\">\n",
       "      <th>decreased_support</th>\n",
       "      <th>0</th>\n",
       "      <th>1</th>\n",
       "    </tr>\n",
       "    <tr>\n",
       "      <th>before_opinion_cat</th>\n",
       "      <th></th>\n",
       "      <th></th>\n",
       "    </tr>\n",
       "  </thead>\n",
       "  <tbody>\n",
       "    <tr>\n",
       "      <th>negative</th>\n",
       "      <td>2684</td>\n",
       "      <td>2074</td>\n",
       "    </tr>\n",
       "    <tr>\n",
       "      <th>neutral</th>\n",
       "      <td>4880</td>\n",
       "      <td>610</td>\n",
       "    </tr>\n",
       "    <tr>\n",
       "      <th>positive</th>\n",
       "      <td>7381</td>\n",
       "      <td>854</td>\n",
       "    </tr>\n",
       "  </tbody>\n",
       "</table>\n",
       "</div>"
      ],
      "text/plain": [
       "decreased_support      0     1\n",
       "before_opinion_cat            \n",
       "negative            2684  2074\n",
       "neutral             4880   610\n",
       "positive            7381   854"
      ]
     },
     "execution_count": 936,
     "metadata": {},
     "output_type": "execute_result"
    }
   ],
   "source": [
    "pd.crosstab(bd['before_opinion_cat'],bd['decreased_support'])"
   ]
  },
  {
   "cell_type": "code",
   "execution_count": 938,
   "id": "e22914f0",
   "metadata": {},
   "outputs": [
    {
     "data": {
      "text/html": [
       "<div>\n",
       "<style scoped>\n",
       "    .dataframe tbody tr th:only-of-type {\n",
       "        vertical-align: middle;\n",
       "    }\n",
       "\n",
       "    .dataframe tbody tr th {\n",
       "        vertical-align: top;\n",
       "    }\n",
       "\n",
       "    .dataframe thead th {\n",
       "        text-align: right;\n",
       "    }\n",
       "</style>\n",
       "<table border=\"1\" class=\"dataframe\">\n",
       "  <thead>\n",
       "    <tr style=\"text-align: right;\">\n",
       "      <th>decreased_support</th>\n",
       "      <th>0</th>\n",
       "      <th>1</th>\n",
       "    </tr>\n",
       "    <tr>\n",
       "      <th>before_opinion_cat</th>\n",
       "      <th></th>\n",
       "      <th></th>\n",
       "    </tr>\n",
       "  </thead>\n",
       "  <tbody>\n",
       "    <tr>\n",
       "      <th>negative</th>\n",
       "      <td>854</td>\n",
       "      <td>610</td>\n",
       "    </tr>\n",
       "    <tr>\n",
       "      <th>neutral</th>\n",
       "      <td>2318</td>\n",
       "      <td>244</td>\n",
       "    </tr>\n",
       "    <tr>\n",
       "      <th>positive</th>\n",
       "      <td>6588</td>\n",
       "      <td>610</td>\n",
       "    </tr>\n",
       "  </tbody>\n",
       "</table>\n",
       "</div>"
      ],
      "text/plain": [
       "decreased_support      0    1\n",
       "before_opinion_cat           \n",
       "negative             854  610\n",
       "neutral             2318  244\n",
       "positive            6588  610"
      ]
     },
     "execution_count": 938,
     "metadata": {},
     "output_type": "execute_result"
    }
   ],
   "source": [
    "pd.crosstab(md['before_opinion_cat'],md['decreased_support'])"
   ]
  },
  {
   "cell_type": "code",
   "execution_count": 939,
   "id": "0fe094df",
   "metadata": {},
   "outputs": [
    {
     "data": {
      "text/html": [
       "<div>\n",
       "<style scoped>\n",
       "    .dataframe tbody tr th:only-of-type {\n",
       "        vertical-align: middle;\n",
       "    }\n",
       "\n",
       "    .dataframe tbody tr th {\n",
       "        vertical-align: top;\n",
       "    }\n",
       "\n",
       "    .dataframe thead th {\n",
       "        text-align: right;\n",
       "    }\n",
       "</style>\n",
       "<table border=\"1\" class=\"dataframe\">\n",
       "  <thead>\n",
       "    <tr style=\"text-align: right;\">\n",
       "      <th>decreased_support</th>\n",
       "      <th>0</th>\n",
       "      <th>1</th>\n",
       "    </tr>\n",
       "    <tr>\n",
       "      <th>same_bot_user_opinion</th>\n",
       "      <th></th>\n",
       "      <th></th>\n",
       "    </tr>\n",
       "  </thead>\n",
       "  <tbody>\n",
       "    <tr>\n",
       "      <th>0</th>\n",
       "      <td>6710</td>\n",
       "      <td>1037</td>\n",
       "    </tr>\n",
       "    <tr>\n",
       "      <th>1</th>\n",
       "      <td>3050</td>\n",
       "      <td>427</td>\n",
       "    </tr>\n",
       "  </tbody>\n",
       "</table>\n",
       "</div>"
      ],
      "text/plain": [
       "decreased_support         0     1\n",
       "same_bot_user_opinion            \n",
       "0                      6710  1037\n",
       "1                      3050   427"
      ]
     },
     "execution_count": 939,
     "metadata": {},
     "output_type": "execute_result"
    }
   ],
   "source": [
    "pd.crosstab(md['same_bot_user_opinion'],md['decreased_support'])"
   ]
  },
  {
   "cell_type": "code",
   "execution_count": 940,
   "id": "4ad1555c",
   "metadata": {},
   "outputs": [
    {
     "data": {
      "text/html": [
       "<div>\n",
       "<style scoped>\n",
       "    .dataframe tbody tr th:only-of-type {\n",
       "        vertical-align: middle;\n",
       "    }\n",
       "\n",
       "    .dataframe tbody tr th {\n",
       "        vertical-align: top;\n",
       "    }\n",
       "\n",
       "    .dataframe thead th {\n",
       "        text-align: right;\n",
       "    }\n",
       "</style>\n",
       "<table border=\"1\" class=\"dataframe\">\n",
       "  <thead>\n",
       "    <tr style=\"text-align: right;\">\n",
       "      <th>decreased_support</th>\n",
       "      <th>0</th>\n",
       "      <th>1</th>\n",
       "    </tr>\n",
       "    <tr>\n",
       "      <th>same_bot_user_opinion</th>\n",
       "      <th></th>\n",
       "      <th></th>\n",
       "    </tr>\n",
       "  </thead>\n",
       "  <tbody>\n",
       "    <tr>\n",
       "      <th>0</th>\n",
       "      <td>5978</td>\n",
       "      <td>1037</td>\n",
       "    </tr>\n",
       "    <tr>\n",
       "      <th>1</th>\n",
       "      <td>8967</td>\n",
       "      <td>2501</td>\n",
       "    </tr>\n",
       "  </tbody>\n",
       "</table>\n",
       "</div>"
      ],
      "text/plain": [
       "decreased_support         0     1\n",
       "same_bot_user_opinion            \n",
       "0                      5978  1037\n",
       "1                      8967  2501"
      ]
     },
     "execution_count": 940,
     "metadata": {},
     "output_type": "execute_result"
    }
   ],
   "source": [
    "pd.crosstab(bd['same_bot_user_opinion'],bd['decreased_support'])"
   ]
  },
  {
   "cell_type": "code",
   "execution_count": 917,
   "id": "38ed4280",
   "metadata": {},
   "outputs": [
    {
     "data": {
      "text/html": [
       "<div>\n",
       "<style scoped>\n",
       "    .dataframe tbody tr th:only-of-type {\n",
       "        vertical-align: middle;\n",
       "    }\n",
       "\n",
       "    .dataframe tbody tr th {\n",
       "        vertical-align: top;\n",
       "    }\n",
       "\n",
       "    .dataframe thead th {\n",
       "        text-align: right;\n",
       "    }\n",
       "</style>\n",
       "<table border=\"1\" class=\"dataframe\">\n",
       "  <thead>\n",
       "    <tr style=\"text-align: right;\">\n",
       "      <th></th>\n",
       "      <th></th>\n",
       "      <th></th>\n",
       "      <th>opinion_difference</th>\n",
       "    </tr>\n",
       "    <tr>\n",
       "      <th>bot_interaction</th>\n",
       "      <th>before_opinion_cat</th>\n",
       "      <th>same_bot_user_opinion</th>\n",
       "      <th></th>\n",
       "    </tr>\n",
       "  </thead>\n",
       "  <tbody>\n",
       "    <tr>\n",
       "      <th rowspan=\"6\" valign=\"top\">0</th>\n",
       "      <th rowspan=\"2\" valign=\"top\">negative</th>\n",
       "      <th>0</th>\n",
       "      <td>-0.347619</td>\n",
       "    </tr>\n",
       "    <tr>\n",
       "      <th>1</th>\n",
       "      <td>-0.666667</td>\n",
       "    </tr>\n",
       "    <tr>\n",
       "      <th rowspan=\"2\" valign=\"top\">neutral</th>\n",
       "      <th>0</th>\n",
       "      <td>-0.166667</td>\n",
       "    </tr>\n",
       "    <tr>\n",
       "      <th>1</th>\n",
       "      <td>0.033333</td>\n",
       "    </tr>\n",
       "    <tr>\n",
       "      <th rowspan=\"2\" valign=\"top\">positive</th>\n",
       "      <th>0</th>\n",
       "      <td>0.178723</td>\n",
       "    </tr>\n",
       "    <tr>\n",
       "      <th>1</th>\n",
       "      <td>0.137500</td>\n",
       "    </tr>\n",
       "    <tr>\n",
       "      <th rowspan=\"6\" valign=\"top\">1</th>\n",
       "      <th rowspan=\"2\" valign=\"top\">negative</th>\n",
       "      <th>0</th>\n",
       "      <td>-0.233333</td>\n",
       "    </tr>\n",
       "    <tr>\n",
       "      <th>1</th>\n",
       "      <td>-0.359259</td>\n",
       "    </tr>\n",
       "    <tr>\n",
       "      <th rowspan=\"2\" valign=\"top\">neutral</th>\n",
       "      <th>0</th>\n",
       "      <td>-0.097059</td>\n",
       "    </tr>\n",
       "    <tr>\n",
       "      <th>1</th>\n",
       "      <td>-0.044643</td>\n",
       "    </tr>\n",
       "    <tr>\n",
       "      <th rowspan=\"2\" valign=\"top\">positive</th>\n",
       "      <th>0</th>\n",
       "      <td>0.192982</td>\n",
       "    </tr>\n",
       "    <tr>\n",
       "      <th>1</th>\n",
       "      <td>0.171795</td>\n",
       "    </tr>\n",
       "  </tbody>\n",
       "</table>\n",
       "</div>"
      ],
      "text/plain": [
       "                                                          opinion_difference\n",
       "bot_interaction before_opinion_cat same_bot_user_opinion                    \n",
       "0               negative           0                               -0.347619\n",
       "                                   1                               -0.666667\n",
       "                neutral            0                               -0.166667\n",
       "                                   1                                0.033333\n",
       "                positive           0                                0.178723\n",
       "                                   1                                0.137500\n",
       "1               negative           0                               -0.233333\n",
       "                                   1                               -0.359259\n",
       "                neutral            0                               -0.097059\n",
       "                                   1                               -0.044643\n",
       "                positive           0                                0.192982\n",
       "                                   1                                0.171795"
      ]
     },
     "execution_count": 917,
     "metadata": {},
     "output_type": "execute_result"
    }
   ],
   "source": [
    "pd.DataFrame(bot_days_data_filled.groupby([\"bot_interaction\",'before_opinion_cat',\n",
    "                                           'same_bot_user_opinion'])['opinion_difference'].mean())"
   ]
  },
  {
   "cell_type": "code",
   "execution_count": 660,
   "id": "cc8b3255",
   "metadata": {},
   "outputs": [
    {
     "data": {
      "text/plain": [
       "after\n",
       "0    0.144758\n",
       "1    0.181364\n",
       "Name: climate_change_opinion, dtype: float64"
      ]
     },
     "execution_count": 660,
     "metadata": {},
     "output_type": "execute_result"
    }
   ],
   "source": [
    "bot_exposed.groupby('after')['climate_change_opinion'].mean()"
   ]
  },
  {
   "cell_type": "code",
   "execution_count": 855,
   "id": "2d453093",
   "metadata": {},
   "outputs": [
    {
     "data": {
      "text/html": [
       "<div>\n",
       "<style scoped>\n",
       "    .dataframe tbody tr th:only-of-type {\n",
       "        vertical-align: middle;\n",
       "    }\n",
       "\n",
       "    .dataframe tbody tr th {\n",
       "        vertical-align: top;\n",
       "    }\n",
       "\n",
       "    .dataframe thead th {\n",
       "        text-align: right;\n",
       "    }\n",
       "</style>\n",
       "<table border=\"1\" class=\"dataframe\">\n",
       "  <thead>\n",
       "    <tr style=\"text-align: right;\">\n",
       "      <th>after</th>\n",
       "      <th>0</th>\n",
       "      <th>1</th>\n",
       "    </tr>\n",
       "    <tr>\n",
       "      <th>climate_cat</th>\n",
       "      <th></th>\n",
       "      <th></th>\n",
       "    </tr>\n",
       "  </thead>\n",
       "  <tbody>\n",
       "    <tr>\n",
       "      <th>negative</th>\n",
       "      <td>0.278226</td>\n",
       "      <td>0.304545</td>\n",
       "    </tr>\n",
       "    <tr>\n",
       "      <th>neutral</th>\n",
       "      <td>0.205645</td>\n",
       "      <td>0.150000</td>\n",
       "    </tr>\n",
       "    <tr>\n",
       "      <th>positive</th>\n",
       "      <td>0.516129</td>\n",
       "      <td>0.545455</td>\n",
       "    </tr>\n",
       "  </tbody>\n",
       "</table>\n",
       "</div>"
      ],
      "text/plain": [
       "after               0         1\n",
       "climate_cat                    \n",
       "negative     0.278226  0.304545\n",
       "neutral      0.205645  0.150000\n",
       "positive     0.516129  0.545455"
      ]
     },
     "execution_count": 855,
     "metadata": {},
     "output_type": "execute_result"
    }
   ],
   "source": [
    "bot_exposed.T/bot_exposed.T.sum()"
   ]
  },
  {
   "cell_type": "code",
   "execution_count": 856,
   "id": "e6678ced",
   "metadata": {},
   "outputs": [
    {
     "data": {
      "text/html": [
       "<div>\n",
       "<style scoped>\n",
       "    .dataframe tbody tr th:only-of-type {\n",
       "        vertical-align: middle;\n",
       "    }\n",
       "\n",
       "    .dataframe tbody tr th {\n",
       "        vertical-align: top;\n",
       "    }\n",
       "\n",
       "    .dataframe thead th {\n",
       "        text-align: right;\n",
       "    }\n",
       "</style>\n",
       "<table border=\"1\" class=\"dataframe\">\n",
       "  <thead>\n",
       "    <tr style=\"text-align: right;\">\n",
       "      <th>after</th>\n",
       "      <th>0</th>\n",
       "      <th>1</th>\n",
       "    </tr>\n",
       "    <tr>\n",
       "      <th>climate_cat</th>\n",
       "      <th></th>\n",
       "      <th></th>\n",
       "    </tr>\n",
       "  </thead>\n",
       "  <tbody>\n",
       "    <tr>\n",
       "      <th>negative</th>\n",
       "      <td>0.121212</td>\n",
       "      <td>0.149351</td>\n",
       "    </tr>\n",
       "    <tr>\n",
       "      <th>neutral</th>\n",
       "      <td>0.181818</td>\n",
       "      <td>0.214286</td>\n",
       "    </tr>\n",
       "    <tr>\n",
       "      <th>positive</th>\n",
       "      <td>0.696970</td>\n",
       "      <td>0.636364</td>\n",
       "    </tr>\n",
       "  </tbody>\n",
       "</table>\n",
       "</div>"
      ],
      "text/plain": [
       "after               0         1\n",
       "climate_cat                    \n",
       "negative     0.121212  0.149351\n",
       "neutral      0.181818  0.214286\n",
       "positive     0.696970  0.636364"
      ]
     },
     "execution_count": 856,
     "metadata": {},
     "output_type": "execute_result"
    }
   ],
   "source": [
    "matched.T/matched.T.sum()"
   ]
  },
  {
   "cell_type": "code",
   "execution_count": 663,
   "id": "74bcd2b8",
   "metadata": {},
   "outputs": [],
   "source": [
    "def create_cat(row):\n",
    "    if row['climate_change_opinion']<0:\n",
    "        return 'negative'\n",
    "    elif row['climate_change_opinion']>0:\n",
    "        return 'positive'\n",
    "    else:\n",
    "        return 'neutral'"
   ]
  },
  {
   "cell_type": "code",
   "execution_count": 664,
   "id": "7f22889d",
   "metadata": {},
   "outputs": [],
   "source": [
    "bot_exposed['climate_cat']=bot_exposed.apply(create_cat,1)"
   ]
  },
  {
   "cell_type": "code",
   "execution_count": 665,
   "id": "2e994f1c",
   "metadata": {},
   "outputs": [],
   "source": [
    "matched['climate_cat']=matched.apply(create_cat,1)"
   ]
  },
  {
   "cell_type": "code",
   "execution_count": 844,
   "id": "991b5412",
   "metadata": {},
   "outputs": [
    {
     "ename": "KeyError",
     "evalue": "'after'",
     "output_type": "error",
     "traceback": [
      "\u001b[0;31m---------------------------------------------------------------------------\u001b[0m",
      "\u001b[0;31mKeyError\u001b[0m                                  Traceback (most recent call last)",
      "\u001b[0;32m~/opt/anaconda3/lib/python3.8/site-packages/pandas/core/indexes/base.py\u001b[0m in \u001b[0;36mget_loc\u001b[0;34m(self, key)\u001b[0m\n\u001b[1;32m   3652\u001b[0m         \u001b[0;32mtry\u001b[0m\u001b[0;34m:\u001b[0m\u001b[0;34m\u001b[0m\u001b[0;34m\u001b[0m\u001b[0m\n\u001b[0;32m-> 3653\u001b[0;31m             \u001b[0;32mreturn\u001b[0m \u001b[0mself\u001b[0m\u001b[0;34m.\u001b[0m\u001b[0m_engine\u001b[0m\u001b[0;34m.\u001b[0m\u001b[0mget_loc\u001b[0m\u001b[0;34m(\u001b[0m\u001b[0mcasted_key\u001b[0m\u001b[0;34m)\u001b[0m\u001b[0;34m\u001b[0m\u001b[0;34m\u001b[0m\u001b[0m\n\u001b[0m\u001b[1;32m   3654\u001b[0m         \u001b[0;32mexcept\u001b[0m \u001b[0mKeyError\u001b[0m \u001b[0;32mas\u001b[0m \u001b[0merr\u001b[0m\u001b[0;34m:\u001b[0m\u001b[0;34m\u001b[0m\u001b[0;34m\u001b[0m\u001b[0m\n",
      "\u001b[0;32m~/opt/anaconda3/lib/python3.8/site-packages/pandas/_libs/index.pyx\u001b[0m in \u001b[0;36mpandas._libs.index.IndexEngine.get_loc\u001b[0;34m()\u001b[0m\n",
      "\u001b[0;32m~/opt/anaconda3/lib/python3.8/site-packages/pandas/_libs/index.pyx\u001b[0m in \u001b[0;36mpandas._libs.index.IndexEngine.get_loc\u001b[0;34m()\u001b[0m\n",
      "\u001b[0;32mpandas/_libs/hashtable_class_helper.pxi\u001b[0m in \u001b[0;36mpandas._libs.hashtable.PyObjectHashTable.get_item\u001b[0;34m()\u001b[0m\n",
      "\u001b[0;32mpandas/_libs/hashtable_class_helper.pxi\u001b[0m in \u001b[0;36mpandas._libs.hashtable.PyObjectHashTable.get_item\u001b[0;34m()\u001b[0m\n",
      "\u001b[0;31mKeyError\u001b[0m: 'after'",
      "\nThe above exception was the direct cause of the following exception:\n",
      "\u001b[0;31mKeyError\u001b[0m                                  Traceback (most recent call last)",
      "\u001b[0;32m<ipython-input-844-fbf4842aa834>\u001b[0m in \u001b[0;36m<module>\u001b[0;34m\u001b[0m\n\u001b[0;32m----> 1\u001b[0;31m \u001b[0mbot_exposed\u001b[0m\u001b[0;34m=\u001b[0m\u001b[0mpd\u001b[0m\u001b[0;34m.\u001b[0m\u001b[0mcrosstab\u001b[0m\u001b[0;34m(\u001b[0m\u001b[0mbot_exposed\u001b[0m\u001b[0;34m[\u001b[0m\u001b[0;34m'after'\u001b[0m\u001b[0;34m]\u001b[0m\u001b[0;34m,\u001b[0m\u001b[0mbot_exposed\u001b[0m\u001b[0;34m[\u001b[0m\u001b[0;34m'climate_cat'\u001b[0m\u001b[0;34m]\u001b[0m\u001b[0;34m)\u001b[0m\u001b[0;34m\u001b[0m\u001b[0;34m\u001b[0m\u001b[0m\n\u001b[0m",
      "\u001b[0;32m~/opt/anaconda3/lib/python3.8/site-packages/pandas/core/frame.py\u001b[0m in \u001b[0;36m__getitem__\u001b[0;34m(self, key)\u001b[0m\n\u001b[1;32m   3759\u001b[0m             \u001b[0;32mif\u001b[0m \u001b[0mself\u001b[0m\u001b[0;34m.\u001b[0m\u001b[0mcolumns\u001b[0m\u001b[0;34m.\u001b[0m\u001b[0mnlevels\u001b[0m \u001b[0;34m>\u001b[0m \u001b[0;36m1\u001b[0m\u001b[0;34m:\u001b[0m\u001b[0;34m\u001b[0m\u001b[0;34m\u001b[0m\u001b[0m\n\u001b[1;32m   3760\u001b[0m                 \u001b[0;32mreturn\u001b[0m \u001b[0mself\u001b[0m\u001b[0;34m.\u001b[0m\u001b[0m_getitem_multilevel\u001b[0m\u001b[0;34m(\u001b[0m\u001b[0mkey\u001b[0m\u001b[0;34m)\u001b[0m\u001b[0;34m\u001b[0m\u001b[0;34m\u001b[0m\u001b[0m\n\u001b[0;32m-> 3761\u001b[0;31m             \u001b[0mindexer\u001b[0m \u001b[0;34m=\u001b[0m \u001b[0mself\u001b[0m\u001b[0;34m.\u001b[0m\u001b[0mcolumns\u001b[0m\u001b[0;34m.\u001b[0m\u001b[0mget_loc\u001b[0m\u001b[0;34m(\u001b[0m\u001b[0mkey\u001b[0m\u001b[0;34m)\u001b[0m\u001b[0;34m\u001b[0m\u001b[0;34m\u001b[0m\u001b[0m\n\u001b[0m\u001b[1;32m   3762\u001b[0m             \u001b[0;32mif\u001b[0m \u001b[0mis_integer\u001b[0m\u001b[0;34m(\u001b[0m\u001b[0mindexer\u001b[0m\u001b[0;34m)\u001b[0m\u001b[0;34m:\u001b[0m\u001b[0;34m\u001b[0m\u001b[0;34m\u001b[0m\u001b[0m\n\u001b[1;32m   3763\u001b[0m                 \u001b[0mindexer\u001b[0m \u001b[0;34m=\u001b[0m \u001b[0;34m[\u001b[0m\u001b[0mindexer\u001b[0m\u001b[0;34m]\u001b[0m\u001b[0;34m\u001b[0m\u001b[0;34m\u001b[0m\u001b[0m\n",
      "\u001b[0;32m~/opt/anaconda3/lib/python3.8/site-packages/pandas/core/indexes/base.py\u001b[0m in \u001b[0;36mget_loc\u001b[0;34m(self, key)\u001b[0m\n\u001b[1;32m   3653\u001b[0m             \u001b[0;32mreturn\u001b[0m \u001b[0mself\u001b[0m\u001b[0;34m.\u001b[0m\u001b[0m_engine\u001b[0m\u001b[0;34m.\u001b[0m\u001b[0mget_loc\u001b[0m\u001b[0;34m(\u001b[0m\u001b[0mcasted_key\u001b[0m\u001b[0;34m)\u001b[0m\u001b[0;34m\u001b[0m\u001b[0;34m\u001b[0m\u001b[0m\n\u001b[1;32m   3654\u001b[0m         \u001b[0;32mexcept\u001b[0m \u001b[0mKeyError\u001b[0m \u001b[0;32mas\u001b[0m \u001b[0merr\u001b[0m\u001b[0;34m:\u001b[0m\u001b[0;34m\u001b[0m\u001b[0;34m\u001b[0m\u001b[0m\n\u001b[0;32m-> 3655\u001b[0;31m             \u001b[0;32mraise\u001b[0m \u001b[0mKeyError\u001b[0m\u001b[0;34m(\u001b[0m\u001b[0mkey\u001b[0m\u001b[0;34m)\u001b[0m \u001b[0;32mfrom\u001b[0m \u001b[0merr\u001b[0m\u001b[0;34m\u001b[0m\u001b[0;34m\u001b[0m\u001b[0m\n\u001b[0m\u001b[1;32m   3656\u001b[0m         \u001b[0;32mexcept\u001b[0m \u001b[0mTypeError\u001b[0m\u001b[0;34m:\u001b[0m\u001b[0;34m\u001b[0m\u001b[0;34m\u001b[0m\u001b[0m\n\u001b[1;32m   3657\u001b[0m             \u001b[0;31m# If we have a listlike key, _check_indexing_error will raise\u001b[0m\u001b[0;34m\u001b[0m\u001b[0;34m\u001b[0m\u001b[0;34m\u001b[0m\u001b[0m\n",
      "\u001b[0;31mKeyError\u001b[0m: 'after'"
     ]
    }
   ],
   "source": [
    "bot_exposed=pd.crosstab(bot_exposed['after'],bot_exposed['climate_cat'])"
   ]
  },
  {
   "cell_type": "code",
   "execution_count": 845,
   "id": "56fd67bb",
   "metadata": {},
   "outputs": [
    {
     "ename": "KeyError",
     "evalue": "'after'",
     "output_type": "error",
     "traceback": [
      "\u001b[0;31m---------------------------------------------------------------------------\u001b[0m",
      "\u001b[0;31mKeyError\u001b[0m                                  Traceback (most recent call last)",
      "\u001b[0;32m~/opt/anaconda3/lib/python3.8/site-packages/pandas/core/indexes/base.py\u001b[0m in \u001b[0;36mget_loc\u001b[0;34m(self, key)\u001b[0m\n\u001b[1;32m   3652\u001b[0m         \u001b[0;32mtry\u001b[0m\u001b[0;34m:\u001b[0m\u001b[0;34m\u001b[0m\u001b[0;34m\u001b[0m\u001b[0m\n\u001b[0;32m-> 3653\u001b[0;31m             \u001b[0;32mreturn\u001b[0m \u001b[0mself\u001b[0m\u001b[0;34m.\u001b[0m\u001b[0m_engine\u001b[0m\u001b[0;34m.\u001b[0m\u001b[0mget_loc\u001b[0m\u001b[0;34m(\u001b[0m\u001b[0mcasted_key\u001b[0m\u001b[0;34m)\u001b[0m\u001b[0;34m\u001b[0m\u001b[0;34m\u001b[0m\u001b[0m\n\u001b[0m\u001b[1;32m   3654\u001b[0m         \u001b[0;32mexcept\u001b[0m \u001b[0mKeyError\u001b[0m \u001b[0;32mas\u001b[0m \u001b[0merr\u001b[0m\u001b[0;34m:\u001b[0m\u001b[0;34m\u001b[0m\u001b[0;34m\u001b[0m\u001b[0m\n",
      "\u001b[0;32m~/opt/anaconda3/lib/python3.8/site-packages/pandas/_libs/index.pyx\u001b[0m in \u001b[0;36mpandas._libs.index.IndexEngine.get_loc\u001b[0;34m()\u001b[0m\n",
      "\u001b[0;32m~/opt/anaconda3/lib/python3.8/site-packages/pandas/_libs/index.pyx\u001b[0m in \u001b[0;36mpandas._libs.index.IndexEngine.get_loc\u001b[0;34m()\u001b[0m\n",
      "\u001b[0;32mpandas/_libs/hashtable_class_helper.pxi\u001b[0m in \u001b[0;36mpandas._libs.hashtable.PyObjectHashTable.get_item\u001b[0;34m()\u001b[0m\n",
      "\u001b[0;32mpandas/_libs/hashtable_class_helper.pxi\u001b[0m in \u001b[0;36mpandas._libs.hashtable.PyObjectHashTable.get_item\u001b[0;34m()\u001b[0m\n",
      "\u001b[0;31mKeyError\u001b[0m: 'after'",
      "\nThe above exception was the direct cause of the following exception:\n",
      "\u001b[0;31mKeyError\u001b[0m                                  Traceback (most recent call last)",
      "\u001b[0;32m<ipython-input-845-c2a75d60f056>\u001b[0m in \u001b[0;36m<module>\u001b[0;34m\u001b[0m\n\u001b[0;32m----> 1\u001b[0;31m \u001b[0mmatched\u001b[0m\u001b[0;34m=\u001b[0m\u001b[0mpd\u001b[0m\u001b[0;34m.\u001b[0m\u001b[0mcrosstab\u001b[0m\u001b[0;34m(\u001b[0m\u001b[0mmatched\u001b[0m\u001b[0;34m[\u001b[0m\u001b[0;34m'after'\u001b[0m\u001b[0;34m]\u001b[0m\u001b[0;34m,\u001b[0m\u001b[0mmatched\u001b[0m\u001b[0;34m[\u001b[0m\u001b[0;34m'climate_cat'\u001b[0m\u001b[0;34m]\u001b[0m\u001b[0;34m)\u001b[0m\u001b[0;34m\u001b[0m\u001b[0;34m\u001b[0m\u001b[0m\n\u001b[0m",
      "\u001b[0;32m~/opt/anaconda3/lib/python3.8/site-packages/pandas/core/frame.py\u001b[0m in \u001b[0;36m__getitem__\u001b[0;34m(self, key)\u001b[0m\n\u001b[1;32m   3759\u001b[0m             \u001b[0;32mif\u001b[0m \u001b[0mself\u001b[0m\u001b[0;34m.\u001b[0m\u001b[0mcolumns\u001b[0m\u001b[0;34m.\u001b[0m\u001b[0mnlevels\u001b[0m \u001b[0;34m>\u001b[0m \u001b[0;36m1\u001b[0m\u001b[0;34m:\u001b[0m\u001b[0;34m\u001b[0m\u001b[0;34m\u001b[0m\u001b[0m\n\u001b[1;32m   3760\u001b[0m                 \u001b[0;32mreturn\u001b[0m \u001b[0mself\u001b[0m\u001b[0;34m.\u001b[0m\u001b[0m_getitem_multilevel\u001b[0m\u001b[0;34m(\u001b[0m\u001b[0mkey\u001b[0m\u001b[0;34m)\u001b[0m\u001b[0;34m\u001b[0m\u001b[0;34m\u001b[0m\u001b[0m\n\u001b[0;32m-> 3761\u001b[0;31m             \u001b[0mindexer\u001b[0m \u001b[0;34m=\u001b[0m \u001b[0mself\u001b[0m\u001b[0;34m.\u001b[0m\u001b[0mcolumns\u001b[0m\u001b[0;34m.\u001b[0m\u001b[0mget_loc\u001b[0m\u001b[0;34m(\u001b[0m\u001b[0mkey\u001b[0m\u001b[0;34m)\u001b[0m\u001b[0;34m\u001b[0m\u001b[0;34m\u001b[0m\u001b[0m\n\u001b[0m\u001b[1;32m   3762\u001b[0m             \u001b[0;32mif\u001b[0m \u001b[0mis_integer\u001b[0m\u001b[0;34m(\u001b[0m\u001b[0mindexer\u001b[0m\u001b[0;34m)\u001b[0m\u001b[0;34m:\u001b[0m\u001b[0;34m\u001b[0m\u001b[0;34m\u001b[0m\u001b[0m\n\u001b[1;32m   3763\u001b[0m                 \u001b[0mindexer\u001b[0m \u001b[0;34m=\u001b[0m \u001b[0;34m[\u001b[0m\u001b[0mindexer\u001b[0m\u001b[0;34m]\u001b[0m\u001b[0;34m\u001b[0m\u001b[0;34m\u001b[0m\u001b[0m\n",
      "\u001b[0;32m~/opt/anaconda3/lib/python3.8/site-packages/pandas/core/indexes/base.py\u001b[0m in \u001b[0;36mget_loc\u001b[0;34m(self, key)\u001b[0m\n\u001b[1;32m   3653\u001b[0m             \u001b[0;32mreturn\u001b[0m \u001b[0mself\u001b[0m\u001b[0;34m.\u001b[0m\u001b[0m_engine\u001b[0m\u001b[0;34m.\u001b[0m\u001b[0mget_loc\u001b[0m\u001b[0;34m(\u001b[0m\u001b[0mcasted_key\u001b[0m\u001b[0;34m)\u001b[0m\u001b[0;34m\u001b[0m\u001b[0;34m\u001b[0m\u001b[0m\n\u001b[1;32m   3654\u001b[0m         \u001b[0;32mexcept\u001b[0m \u001b[0mKeyError\u001b[0m \u001b[0;32mas\u001b[0m \u001b[0merr\u001b[0m\u001b[0;34m:\u001b[0m\u001b[0;34m\u001b[0m\u001b[0;34m\u001b[0m\u001b[0m\n\u001b[0;32m-> 3655\u001b[0;31m             \u001b[0;32mraise\u001b[0m \u001b[0mKeyError\u001b[0m\u001b[0;34m(\u001b[0m\u001b[0mkey\u001b[0m\u001b[0;34m)\u001b[0m \u001b[0;32mfrom\u001b[0m \u001b[0merr\u001b[0m\u001b[0;34m\u001b[0m\u001b[0;34m\u001b[0m\u001b[0m\n\u001b[0m\u001b[1;32m   3656\u001b[0m         \u001b[0;32mexcept\u001b[0m \u001b[0mTypeError\u001b[0m\u001b[0;34m:\u001b[0m\u001b[0;34m\u001b[0m\u001b[0;34m\u001b[0m\u001b[0m\n\u001b[1;32m   3657\u001b[0m             \u001b[0;31m# If we have a listlike key, _check_indexing_error will raise\u001b[0m\u001b[0;34m\u001b[0m\u001b[0;34m\u001b[0m\u001b[0;34m\u001b[0m\u001b[0m\n",
      "\u001b[0;31mKeyError\u001b[0m: 'after'"
     ]
    }
   ],
   "source": [
    "matched=pd.crosstab(matched['after'],matched['climate_cat'])"
   ]
  },
  {
   "cell_type": "code",
   "execution_count": 684,
   "id": "b7974d1e",
   "metadata": {},
   "outputs": [
    {
     "name": "stdout",
     "output_type": "stream",
     "text": [
      "Chi2ContingencyResult(statistic=2.4782764941186017, pvalue=0.28963370312170716, dof=2, expected_freq=array([[ 72.06837607,  44.51282051, 131.41880342],\n",
      "       [ 63.93162393,  39.48717949, 116.58119658]]))\n",
      "Chi2ContingencyResult(statistic=1.3312395599139324, pvalue=0.5139548900345824, dof=2, expected_freq=array([[ 22.24137931,  32.5862069 , 110.17241379],\n",
      "       [ 20.75862069,  30.4137931 , 102.82758621]]))\n"
     ]
    }
   ],
   "source": [
    "from scipy.stats import chi2_contingency\n",
    "print(chi2_contingency(bot_exposed))\n",
    "print(chi2_contingency(matched))"
   ]
  },
  {
   "cell_type": "code",
   "execution_count": 679,
   "id": "a91c7982",
   "metadata": {},
   "outputs": [],
   "source": [
    "#crosstab, test_results =chisquare(bot_exposed)"
   ]
  },
  {
   "cell_type": "code",
   "execution_count": 681,
   "id": "a35c7519",
   "metadata": {},
   "outputs": [],
   "source": [
    "#import researchpy as rp"
   ]
  },
  {
   "cell_type": "code",
   "execution_count": 685,
   "id": "6a7e4905",
   "metadata": {},
   "outputs": [],
   "source": [
    "#test_results[0]"
   ]
  },
  {
   "cell_type": "code",
   "execution_count": null,
   "id": "53307cf1",
   "metadata": {},
   "outputs": [],
   "source": []
  }
 ],
 "metadata": {
  "kernelspec": {
   "display_name": "Python 3",
   "language": "python",
   "name": "python3"
  },
  "language_info": {
   "codemirror_mode": {
    "name": "ipython",
    "version": 3
   },
   "file_extension": ".py",
   "mimetype": "text/x-python",
   "name": "python",
   "nbconvert_exporter": "python",
   "pygments_lexer": "ipython3",
   "version": "3.9.13"
  }
 },
 "nbformat": 4,
 "nbformat_minor": 5
}
