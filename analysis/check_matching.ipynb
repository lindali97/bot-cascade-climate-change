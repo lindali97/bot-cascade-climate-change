{
 "cells": [
  {
   "cell_type": "code",
   "execution_count": 1,
   "id": "75f6260b-91b8-4210-bf68-e2f869108d62",
   "metadata": {},
   "outputs": [],
   "source": [
    "util_libraries <- c(\"foreign\", \"reshape2\", \"stargazer\", \"arm\", \"plyr\", \"tidyverse\", \"stringr\", \"qdapRegex\", \"GGally\", \"progress\", \"pracma\", \"lubridate\", \"DescTools\", \"irr\", \"psych\", 'gtools', \"Hmisc\", \"colorspace\")\n",
    "vis_libraries  <- c(\"ggplot2\", \"ggrepel\", \"grid\", \"gridExtra\", \"RColorBrewer\", \"scales\", \"corrplot\", \"ggeffects\", \"cowplot\", \"plot.matrix\", \"corrgram\", \"ggnetwork\", \"vioplot\", \"dotwhisker\", \"sjPlot\", \"sjlabelled\", \"sjmisc\", \"plot3D\", \"ggpubr\", \"ggExtra\", \"ggraph\")\n",
    "stat_libraries <- c(\"network\", \"sna\", \"igraph\", \"moments\", \"nortest\", \"MASS\", \"randomForest\", \"sandwich\", \"lmtest\", \"gmodels\", \"margins\", \"sampleSelection\", \"pROC\", \"pscl\",  \"pwr\", \"relaimpo\", \"lme4\", \"plm\", \"caret\", \"ResourceSelection\", \"rvest\", \"cluster\", \"factoextra\", \"outliers\", \"acss\", 'asbio','akima', 'plotly', 'factoextra', 'interactions', 'robustbase', \"sandwich\", \"modelr\", \"broom\", \"mgcv\", \"stringdist\", \"sem\", \"lavaan\", \"corrr\", \"pglm\")\n"
   ]
  },
  {
   "cell_type": "code",
   "execution_count": null,
   "id": "42776f9c-6fb7-4877-8deb-4c5b1dcfba02",
   "metadata": {},
   "outputs": [],
   "source": [
    "for (l in 1:length(util_libraries)){ library(util_libraries[l], character.only = TRUE)}\n",
    "for (l in 1:length(vis_libraries)){ library(vis_libraries[l], character.only = TRUE)}\n",
    "for (l in 1:length(stat_libraries)){ library(stat_libraries[l], character.only = TRUE)}"
   ]
  },
  {
   "cell_type": "code",
   "execution_count": 3,
   "id": "3bfdb226-3b82-449f-aca5-99faae11b2e3",
   "metadata": {},
   "outputs": [],
   "source": [
    "setwd(\"../data/regression_data\")"
   ]
  },
  {
   "cell_type": "code",
   "execution_count": null,
   "id": "aa74e5bf-bb9c-4eb0-b28c-08351a6c7979",
   "metadata": {},
   "outputs": [],
   "source": [
    "bot_days_data<-read_csv('./bot_daily_data_to_model.csv')\n",
    "bot_days_data2<-read_csv('./bot_days_data_02_23_2024.csv')\n",
    "bot_days_data_opinion<-read.csv(\"./bot_days_data_with_opinion_filled_0308.csv\")"
   ]
  },
  {
   "cell_type": "code",
   "execution_count": 5,
   "id": "bfe05f3f-e130-42f5-992c-b534eb7a2738",
   "metadata": {},
   "outputs": [],
   "source": [
    "bot_days_data_pre <- bot_days_data %>% mutate(time_dummy = ifelse(after_timegap_2 >-15, 1, 0),\n",
    "                                         interact_dummy = bot_interaction*time_dummy) %>%\n",
    "                                    filter(after_timegap_2<0)"
   ]
  },
  {
   "cell_type": "markdown",
   "id": "98cc65b8-75ab-4c02-9f76-e9244ce02d27",
   "metadata": {
    "jp-MarkdownHeadingCollapsed": true,
    "tags": []
   },
   "source": [
    "## Parallel trend"
   ]
  },
  {
   "cell_type": "code",
   "execution_count": 24,
   "id": "5583d7f3-4555-496a-8d93-e1d61170a712",
   "metadata": {},
   "outputs": [],
   "source": [
    "s_2way <-  lm(\n",
    "    senti_mean ~\n",
    "      \n",
    "      bot_interaction +\n",
    "      time_dummy +\n",
    "      bot_interaction:time_dummy+\n",
    "       senti_mean_t2+\n",
    "      #cascade+\n",
    "      burstiness\n",
    "    ,\n",
    "    #data = df[df$senti_size<100 & (df$after_timegap_2<0 | (df$after_timegap_2>=-30 & df$after_timegap_2<=30)),]\n",
    "    data = bot_days_data_pre,\n",
    "    na.action=na.exclude\n",
    "  )\n"
   ]
  },
  {
   "cell_type": "code",
   "execution_count": 25,
   "id": "7c2e0289-e125-4b12-8781-8311d9ce9d8e",
   "metadata": {},
   "outputs": [
    {
     "data": {
      "text/plain": [
       "\n",
       "Call:\n",
       "lm(formula = senti_mean ~ bot_interaction + time_dummy + bot_interaction:time_dummy + \n",
       "    senti_mean_t2 + burstiness, data = bot_days_data_pre, na.action = na.exclude)\n",
       "\n",
       "Residuals:\n",
       "     Min       1Q   Median       3Q      Max \n",
       "-1.59720 -0.05831  0.00200  0.06174  1.64549 \n",
       "\n",
       "Coefficients:\n",
       "                            Estimate Std. Error t value Pr(>|t|)    \n",
       "(Intercept)                -0.023911   0.004756  -5.027 5.04e-07 ***\n",
       "bot_interaction             0.022608   0.006017   3.757 0.000172 ***\n",
       "time_dummy                  0.012827   0.006926   1.852 0.064056 .  \n",
       "senti_mean_t2               0.862471   0.005048 170.859  < 2e-16 ***\n",
       "burstiness                  0.001273   0.002210   0.576 0.564516    \n",
       "bot_interaction:time_dummy -0.016852   0.008784  -1.919 0.055064 .  \n",
       "---\n",
       "Signif. codes:  0 ‘***’ 0.001 ‘**’ 0.01 ‘*’ 0.05 ‘.’ 0.1 ‘ ’ 1\n",
       "\n",
       "Residual standard error: 0.2438 on 13164 degrees of freedom\n",
       "  (1440 observations deleted due to missingness)\n",
       "Multiple R-squared:  0.6919,\tAdjusted R-squared:  0.6918 \n",
       "F-statistic:  5913 on 5 and 13164 DF,  p-value: < 2.2e-16\n"
      ]
     },
     "metadata": {},
     "output_type": "display_data"
    }
   ],
   "source": [
    "summary(s_2way)"
   ]
  },
  {
   "cell_type": "code",
   "execution_count": 26,
   "id": "19baa88a-aa18-4074-a772-86b686c88a2b",
   "metadata": {},
   "outputs": [],
   "source": [
    "a_2way <-  glm.nb(\n",
    "    senti_size ~\n",
    "      \n",
    "     bot_interaction +\n",
    "      time_dummy +\n",
    "      bot_interaction:time_dummy\n",
    "    ,\n",
    "    #data = df[df$senti_size<100 & (df$after_timegap_2<0 | (df$after_timegap_2>=-30 & df$after_timegap_2<=30)),]\n",
    "    data = bot_days_data_pre,\n",
    "    na.action=na.exclude\n",
    "  )"
   ]
  },
  {
   "cell_type": "code",
   "execution_count": 27,
   "id": "4ac413e5-d0a0-411c-9731-4556e4ef8d95",
   "metadata": {},
   "outputs": [
    {
     "data": {
      "text/plain": [
       "\n",
       "Call:\n",
       "glm.nb(formula = senti_size ~ bot_interaction + time_dummy + \n",
       "    bot_interaction:time_dummy, data = bot_days_data_pre, na.action = na.exclude, \n",
       "    init.theta = 0.1153440021, link = log)\n",
       "\n",
       "Deviance Residuals: \n",
       "    Min       1Q   Median       3Q      Max  \n",
       "-0.6825  -0.6789  -0.6380  -0.6370   6.5790  \n",
       "\n",
       "Coefficients:\n",
       "                           Estimate Std. Error z value Pr(>|z|)    \n",
       "(Intercept)                -0.30735    0.05837  -5.266  1.4e-07 ***\n",
       "bot_interaction            -0.27575    0.07460  -3.697 0.000219 ***\n",
       "time_dummy                  0.02431    0.08537   0.285 0.775781    \n",
       "bot_interaction:time_dummy -0.03099    0.10915  -0.284 0.776487    \n",
       "---\n",
       "Signif. codes:  0 ‘***’ 0.001 ‘**’ 0.01 ‘*’ 0.05 ‘.’ 0.1 ‘ ’ 1\n",
       "\n",
       "(Dispersion parameter for Negative Binomial(0.1153) family taken to be 1)\n",
       "\n",
       "    Null deviance: 6805.4  on 14609  degrees of freedom\n",
       "Residual deviance: 6776.5  on 14606  degrees of freedom\n",
       "AIC: 25114\n",
       "\n",
       "Number of Fisher Scoring iterations: 1\n",
       "\n",
       "\n",
       "              Theta:  0.11534 \n",
       "          Std. Err.:  0.00304 \n",
       "\n",
       " 2 x log-likelihood:  -25104.34500 "
      ]
     },
     "metadata": {},
     "output_type": "display_data"
    }
   ],
   "source": [
    "summary(a_2way)"
   ]
  },
  {
   "cell_type": "markdown",
   "id": "b794d592-2710-4a66-a880-41c8c98039f2",
   "metadata": {
    "jp-MarkdownHeadingCollapsed": true,
    "tags": []
   },
   "source": [
    "library(cobalt)\n",
    "## Propsenity score"
   ]
  },
  {
   "cell_type": "code",
   "execution_count": 7,
   "id": "2b72fa5b-b8b7-4ed4-9d2d-8488eda31888",
   "metadata": {},
   "outputs": [
    {
     "name": "stderr",
     "output_type": "stream",
     "text": [
      "\n",
      "How to use CEM? Type vignette(\"cem\")\n",
      "\n",
      "\n"
     ]
    }
   ],
   "source": [
    "library(cem)\n",
    "library(MatchIt)"
   ]
  },
  {
   "cell_type": "code",
   "execution_count": null,
   "id": "3beb7139-e08b-4ded-9ae4-4a4822599322",
   "metadata": {},
   "outputs": [],
   "source": [
    "if (!requireNamespace(\"cobalt\", quietly = TRUE)) {\n",
    "  install.packages(\"cobalt\")\n",
    "}\n",
    "library(cobalt)\n"
   ]
  },
  {
   "cell_type": "code",
   "execution_count": 9,
   "id": "deda3833-442d-49d0-a347-c517b7887249",
   "metadata": {},
   "outputs": [],
   "source": [
    "sample_and_matching <- bot_days_data %>%\n",
    "  distinct(author_id_,.keep_all = TRUE) %>%\n",
    "  select(author_id_, bot_interaction)# %>%\n",
    "#mutate(category = ifelse(bot_interaction==1, \"sample\", \"matching\"),\n",
    "#      weights = ifelse(bot_interaction==1, 1, 0))"
   ]
  },
  {
   "cell_type": "code",
   "execution_count": 10,
   "id": "f58f0396-d68a-4c5a-8a22-f1a8de75006f",
   "metadata": {},
   "outputs": [],
   "source": [
    "all_usr = read.csv(\"/home/lindali/Documents/DPhil studies/thesis_work/paper 1/xr2019_users_classified_0117_wprob.csv\")"
   ]
  },
  {
   "cell_type": "code",
   "execution_count": 11,
   "id": "6f2ba96b-0658-4068-b743-15de35f4858c",
   "metadata": {},
   "outputs": [],
   "source": [
    "all_usr <- all_usr %>% select('id', 'statuses_count', 'followers_count', 'friends_count',\n",
    "       'favourites_count', 'listed_count', 'followers_growth', 'friends_growth', 'favourites_growth',\n",
    "       'listed_growth', 'follower_friend_ratio')"
   ]
  },
  {
   "cell_type": "code",
   "execution_count": 12,
   "id": "ed60aa84-f0a7-41cb-b152-9d2a855bd91e",
   "metadata": {},
   "outputs": [],
   "source": [
    "sample_and_matching <- merge(sample_and_matching, all_usr, by.x = \"author_id_\", by.y = \"id\", all.x = TRUE)"
   ]
  },
  {
   "cell_type": "code",
   "execution_count": 40,
   "id": "41e8192b-b0e5-4713-91e5-43238bbcc8a1",
   "metadata": {},
   "outputs": [],
   "source": [
    "all_eculid_availables <- read.csv(\"/home/lindali/Documents/DPhil studies/thesis_work/paper 1/botometer/xr2019_user_matched_fifths_botometer_available.csv\")"
   ]
  },
  {
   "cell_type": "code",
   "execution_count": 41,
   "id": "e5f43887-4f67-497a-a26a-5d44f69db6b1",
   "metadata": {},
   "outputs": [],
   "source": [
    "long_df <- all_eculid_availables %>%\n",
    "  pivot_longer(cols = c(\"user\", \"matched_user\"), names_to = \"type\", values_to = \"user_ids\") %>%\n",
    "  mutate(bot_interaction = ifelse(type == \"user\", 1, 0)) %>%\n",
    "  select(user_ids, bot_interaction)\n",
    "long_df <- unique(long_df)"
   ]
  },
  {
   "cell_type": "code",
   "execution_count": 13,
   "id": "19b94afa-c7ad-405d-8d74-45f2121ec60f",
   "metadata": {},
   "outputs": [],
   "source": [
    "#df <- long_df\n",
    "df <- sample_and_matching "
   ]
  },
  {
   "cell_type": "code",
   "execution_count": 43,
   "id": "88ddb71a-2417-4639-9563-4ab9c49ecf45",
   "metadata": {},
   "outputs": [
    {
     "ename": "ERROR",
     "evalue": "Error in fix.by(by.x, x): 'by' must specify a uniquely valid column\n",
     "output_type": "error",
     "traceback": [
      "Error in fix.by(by.x, x): 'by' must specify a uniquely valid column\nTraceback:\n",
      "1. merge(df, all_usr, by.x = \"user_ids\", by.y = \"id\", all.x = TRUE)",
      "2. merge.data.frame(df, all_usr, by.x = \"user_ids\", by.y = \"id\", \n .     all.x = TRUE)",
      "3. fix.by(by.x, x)",
      "4. stop(ngettext(sum(bad), \"'by' must specify a uniquely valid column\", \n .     \"'by' must specify uniquely valid columns\"), domain = NA)"
     ]
    }
   ],
   "source": [
    "#df <- merge(df, all_usr, by.x = \"user_ids\", by.y = \"id\", all.x = TRUE)"
   ]
  },
  {
   "cell_type": "code",
   "execution_count": 14,
   "id": "64363b67-1d41-49cc-8bb5-c63482603d93",
   "metadata": {},
   "outputs": [],
   "source": [
    "columns_to_convert <- c(\"statuses_count\", \"followers_count\", \"friends_count\", \"favourites_count\", \n",
    "                        \"listed_count\", \"followers_growth\", \"friends_growth\", \"favourites_growth\", \n",
    "                        \"listed_growth\", \"follower_friend_ratio\")\n",
    "\n",
    "# Convert specified columns to numeric (float)\n",
    "df <- df %>% mutate_at(vars(one_of(columns_to_convert)), as.numeric)"
   ]
  },
  {
   "cell_type": "code",
   "execution_count": null,
   "id": "6654aed2-a637-4129-9f41-050979585d33",
   "metadata": {},
   "outputs": [],
   "source": []
  },
  {
   "cell_type": "code",
   "execution_count": 20,
   "id": "bc7b0b51-2305-46de-857c-b076a7902d20",
   "metadata": {},
   "outputs": [
    {
     "name": "stderr",
     "output_type": "stream",
     "text": [
      "Warning message:\n",
      "“The argument 'distance' is not used with `method = \"cem\"` and will be ignored.”\n"
     ]
    },
    {
     "data": {
      "text/plain": [
       "\n",
       "Call:\n",
       "matchit(formula = bot_interaction ~ followers_count + friends_count + \n",
       "    listed_count + followers_growth + friends_growth + favourites_growth + \n",
       "    listed_growth + follower_friend_ratio, data = df, method = \"cem\", \n",
       "    distance = TRUE, ratio = 1)\n",
       "\n",
       "Summary of Balance for All Data:\n",
       "                      Means Treated Means Control Std. Mean Diff. Var. Ratio\n",
       "followers_count           1700.4224    25573.5363         -4.6584     0.0023\n",
       "friends_count             1080.6370     1724.7709         -0.5522     0.3900\n",
       "listed_count                32.3663      331.1061         -4.4665     0.0040\n",
       "followers_growth             0.0206        0.2402         -3.6241     0.0045\n",
       "friends_growth               0.0125        0.0161         -0.2629     0.7112\n",
       "favourites_growth            0.4721        0.6207         -0.1735     0.6549\n",
       "listed_growth                0.0003        0.0030         -4.1280     0.0052\n",
       "follower_friend_ratio       11.1176       57.2518         -0.2893     0.1216\n",
       "                      eCDF Mean eCDF Max\n",
       "followers_count          0.1658   0.3083\n",
       "friends_count            0.0999   0.2250\n",
       "listed_count             0.2265   0.3271\n",
       "followers_growth         0.1383   0.2824\n",
       "friends_growth           0.0695   0.1725\n",
       "favourites_growth        0.0743   0.1658\n",
       "listed_growth            0.1967   0.3322\n",
       "follower_friend_ratio    0.1194   0.2189\n",
       "\n",
       "Summary of Balance for Matched Data:\n",
       "                      Means Treated Means Control Std. Mean Diff. Var. Ratio\n",
       "followers_count           1512.8645     6168.3305         -0.9084     0.0991\n",
       "friends_count              986.6850      988.1086         -0.0012     0.8991\n",
       "listed_count                32.6154       93.9884         -0.9176     0.1314\n",
       "followers_growth             0.0155        0.0581         -0.7043     0.0974\n",
       "friends_growth               0.0104        0.0096          0.0594     1.0247\n",
       "favourites_growth            0.3161        0.2946          0.0251     0.8217\n",
       "listed_growth                0.0003        0.0008         -0.7800     0.1759\n",
       "follower_friend_ratio        1.9625        5.2336         -0.0205     0.1790\n",
       "                      eCDF Mean eCDF Max Std. Pair Dist.\n",
       "followers_count          0.0999   0.1856          0.4849\n",
       "friends_count            0.0404   0.1618          0.2145\n",
       "listed_count             0.1040   0.2049          0.5808\n",
       "followers_growth         0.0849   0.1786          0.4313\n",
       "friends_growth           0.0348   0.1304          0.1940\n",
       "favourites_growth        0.0953   0.2597          0.2086\n",
       "listed_growth            0.0911   0.1918          0.5548\n",
       "follower_friend_ratio    0.0768   0.1764          0.0309\n",
       "\n",
       "Sample Sizes:\n",
       "              Control Treated\n",
       "All            179.       303\n",
       "Matched (ESS)  100.89     273\n",
       "Matched        137.       273\n",
       "Unmatched       42.        30\n",
       "Discarded        0.         0\n"
      ]
     },
     "metadata": {},
     "output_type": "display_data"
    }
   ],
   "source": [
    "m.out = matchit(bot_interaction ~ followers_count + friends_count +\n",
    "                   listed_count + followers_growth + friends_growth + favourites_growth + listed_growth + follower_friend_ratio,\n",
    "        data = df, \n",
    "        ratio = 1,\n",
    "        method = \"cem\", distance = TRUE)\n",
    "summary(m.out)\n"
   ]
  },
  {
   "cell_type": "code",
   "execution_count": 21,
   "id": "e69610c2-2f3d-4db2-9941-8600ed7093f8",
   "metadata": {},
   "outputs": [
    {
     "data": {
      "image/png": "[encoded data removed]",
      "text/plain": [
       "plot without title"
      ]
     },
     "metadata": {
      "image/png": {
       "height": 420,
       "width": 420
      }
     },
     "output_type": "display_data"
    },
    {
     "data": {
      "image/png": "[encoded data removed]",
      "text/plain": [
       "plot without title"
      ]
     },
     "metadata": {
      "image/png": {
       "height": 420,
       "width": 420
      }
     },
     "output_type": "display_data"
    },
    {
     "data": {
      "image/png": "[encoded data removed]",
      "text/plain": [
       "plot without title"
      ]
     },
     "metadata": {
      "image/png": {
       "height": 420,
       "width": 420
      }
     },
     "output_type": "display_data"
    }
   ],
   "source": [
    "#plot(m.out, type = \"jitter\")\n",
    "plot(m.out, type = \"density\")"
   ]
  },
  {
   "cell_type": "code",
   "execution_count": 207,
   "id": "4cfb4565-9af0-40de-a603-f499a271ce7b",
   "metadata": {},
   "outputs": [],
   "source": [
    "matched_data <- match.data(m.out)"
   ]
  },
  {
   "cell_type": "code",
   "execution_count": 208,
   "id": "5fe927b4-e5d3-4726-a3ad-784428496d73",
   "metadata": {},
   "outputs": [],
   "source": [
    "ps_matched <- matched_data %>% filter(bot_interaction==0) %>%\n",
    "                               select(author_id_)"
   ]
  },
  {
   "cell_type": "code",
   "execution_count": 209,
   "id": "8cda150d-c591-4216-b24d-8e208aaac4c1",
   "metadata": {},
   "outputs": [],
   "source": [
    "common_elements <- intersect(matched_data$author_id_, sample_and_matching[sample_and_matching$bot_interaction==0,]$author_id_)"
   ]
  },
  {
   "cell_type": "code",
   "execution_count": 210,
   "id": "863d5b19-869f-4262-a054-08791312679d",
   "metadata": {},
   "outputs": [],
   "source": [
    "matched_uid <- matched_data$author_id"
   ]
  },
  {
   "cell_type": "code",
   "execution_count": 211,
   "id": "502b64d0-6f3b-44bc-ae11-c6d85b6dac5f",
   "metadata": {},
   "outputs": [],
   "source": [
    "#length(common_elements)"
   ]
  },
  {
   "cell_type": "code",
   "execution_count": 212,
   "id": "d8a062ef-e30a-4bac-90e6-918043ce8911",
   "metadata": {},
   "outputs": [],
   "source": [
    "#filtered_sample_and_matching <- all_eculid_availables %>%\n",
    "#  filter(matched_user %in% common_elements)"
   ]
  },
  {
   "cell_type": "code",
   "execution_count": 213,
   "id": "6745e49d-3efc-452c-b27f-88d4eae1b620",
   "metadata": {},
   "outputs": [],
   "source": [
    "#nrow(filtered_sample_and_matching)"
   ]
  },
  {
   "cell_type": "code",
   "execution_count": 214,
   "id": "86622103-d89d-478f-b46c-0220a08c5347",
   "metadata": {},
   "outputs": [],
   "source": [
    "#ps_available = c(filtered_sample_and_matching$uid, filtered_sample_and_matching$matched_uid)"
   ]
  },
  {
   "cell_type": "code",
   "execution_count": null,
   "id": "c06ad8d8-cec8-4bba-a544-b192aaffe774",
   "metadata": {},
   "outputs": [],
   "source": []
  },
  {
   "cell_type": "code",
   "execution_count": 215,
   "id": "f01989aa-d8fd-4809-a299-b48da114058f",
   "metadata": {},
   "outputs": [],
   "source": [
    "filtered_bot_days_data <- bot_days_data %>%\n",
    "  filter(author_id_ %in% matched_uid)"
   ]
  },
  {
   "cell_type": "code",
   "execution_count": 216,
   "id": "d790ece6-cd9c-4ed8-874f-5c548d849495",
   "metadata": {},
   "outputs": [],
   "source": [
    "filtered_bot_days_data_full_sample <- bot_days_data %>%\n",
    "  filter(bot_interaction == 1 | (bot_interaction == 0 & author_id_ %in% common_elements))"
   ]
  },
  {
   "cell_type": "code",
   "execution_count": 217,
   "id": "af147ba5-776f-4f2f-b54f-7e27b0aadc76",
   "metadata": {},
   "outputs": [],
   "source": [
    "filtered_bot_days_data_opinion <- bot_days_data_opinion %>%\n",
    "  filter(author_id_ %in% matched_uid)"
   ]
  },
  {
   "cell_type": "code",
   "execution_count": 218,
   "id": "9fb49f30-9b9d-4d16-ba0f-0e1eecb0847a",
   "metadata": {},
   "outputs": [],
   "source": [
    "filtered_bot_days_data_opinion_full_sample <- bot_days_data_opinion %>%\n",
    "  filter(bot_interaction == 1 | (bot_interaction == 0 & author_id_ %in% common_elements))"
   ]
  },
  {
   "cell_type": "code",
   "execution_count": 219,
   "id": "a15020d4-3441-415f-ac65-ad20a1c05824",
   "metadata": {},
   "outputs": [],
   "source": [
    "filtered_bot_days_data2 <- bot_days_data2 %>%\n",
    "  filter(author_id_ %in% matched_uid)\n",
    "\n",
    "filtered_bot_days_data2_full_sample <- bot_days_data2 %>%\n",
    "  filter(bot_interaction == 1 | (bot_interaction == 0 & author_id_ %in% common_elements))"
   ]
  },
  {
   "cell_type": "code",
   "execution_count": 220,
   "id": "13ee9a25-3044-434e-b529-4d7718be24ef",
   "metadata": {},
   "outputs": [],
   "source": [
    "write.csv(filtered_bot_days_data, \"./SR_REVISION/propensity_filtered_for_reg_BOTH_FILTERED.csv\", row.names = FALSE)\n",
    "write.csv(filtered_bot_days_data_full_sample,  \"./SR_REVISION/propensity_filtered_for_reg_MATCHED_ONLY.csv\", row.names = FALSE)"
   ]
  },
  {
   "cell_type": "code",
   "execution_count": 221,
   "id": "ec16f0c7-0518-45bb-a57e-d7e1b9c3beb4",
   "metadata": {},
   "outputs": [],
   "source": [
    "write.csv(filtered_bot_days_data_opinion, \"./SR_REVISION/propensity_filtered_for_reg_opinion_BOTH_FILTERED.csv\", row.names = FALSE)\n",
    "write.csv(filtered_bot_days_data_opinion_full_sample,  \"./SR_REVISION/propensity_filtered_for_reg_opinion_MATCHED_ONLY.csv\", row.names = FALSE)"
   ]
  },
  {
   "cell_type": "code",
   "execution_count": 222,
   "id": "335312fd-a968-49b5-9b93-7c0cd515e5ce",
   "metadata": {},
   "outputs": [],
   "source": [
    "write.csv(filtered_bot_days_data_opinion, \"./SR_REVISION/propensity_filtered_for_reg2_BOTH_FILTERED.csv\", row.names = FALSE)\n",
    "write.csv(filtered_bot_days_data_opinion_full_sample,  \"./SR_REVISION/propensity_filtered_for_reg2_MATCHED_ONLY.csv\", row.names = FALSE)"
   ]
  },
  {
   "cell_type": "markdown",
   "id": "e063ae01-98a0-4663-af0a-7184e2b97eb2",
   "metadata": {
    "tags": []
   },
   "source": [
    "## CEM"
   ]
  },
  {
   "cell_type": "code",
   "execution_count": null,
   "id": "5ab9bd8f-f06f-4414-b939-c47c168ee600",
   "metadata": {},
   "outputs": [],
   "source": [
    "install.packages(\"Matching\")\n"
   ]
  },
  {
   "cell_type": "code",
   "execution_count": 111,
   "id": "2a2d9bcc-d625-4dd5-86bd-b9657b0aead8",
   "metadata": {},
   "outputs": [],
   "source": [
    "library(Matching)"
   ]
  },
  {
   "cell_type": "code",
   "execution_count": 15,
   "id": "8aa1b497-2d1a-4242-a653-e6e682d990aa",
   "metadata": {},
   "outputs": [],
   "source": [
    "covariates <- sample_and_matching %>% select('statuses_count', 'followers_count', 'friends_count',\n",
    "       'favourites_count', 'listed_count', 'followers_growth', 'friends_growth', 'favourites_growth',\n",
    "       'listed_growth', 'follower_friend_ratio')"
   ]
  },
  {
   "cell_type": "code",
   "execution_count": 18,
   "id": "75ac564e-3f4a-416f-9f15-e9d1714e6afb",
   "metadata": {},
   "outputs": [
    {
     "name": "stdout",
     "output_type": "stream",
     "text": [
      "\n",
      "Using 'bot_interaction'='1' as baseline group\n"
     ]
    },
    {
     "ename": "ERROR",
     "evalue": "Error in is.factor(object): argument \"object\" is missing, with no default\n",
     "output_type": "error",
     "traceback": [
      "Error in is.factor(object): argument \"object\" is missing, with no default\nTraceback:\n",
      "1. summary()",
      "2. summary()",
      "3. summary.default()",
      "4. is.factor(object)"
     ]
    }
   ],
   "source": [
    "covariates <- c('statuses_count', 'followers_count', 'friends_count',\n",
    "       'favourites_count', 'listed_count', 'followers_growth', 'friends_growth', 'favourites_growth',\n",
    "       'listed_growth', 'follower_friend_ratio')\n",
    "\n",
    "# Perform Coarsened Exact Matching\n",
    "cem_match <- cem(treatment = \"bot_interaction\", data = df, keep.all=TRUE)\n",
    "\n",
    "# Summary of the matching\n",
    "summary()"
   ]
  },
  {
   "cell_type": "code",
   "execution_count": 19,
   "id": "12836337-b9cb-4a4a-af8d-76519da91952",
   "metadata": {},
   "outputs": [
    {
     "name": "stdout",
     "output_type": "stream",
     "text": [
      "Executing 57 different relaxations\n",
      "  |                                                                      |   0%\n",
      "matching on variables:author_id_ statuses_count followers_count friends_count favourites_count listed_count followers_growth friends_growth favourites_growth listed_growth follower_friend_ratio\n",
      "\n",
      "CEM Subclasses: 0\n",
      "\n",
      "Sample sizes:\n",
      "           G0  G1\n",
      "All       179 303\n",
      "Matched   130 258\n",
      "Unmatched  49  45\n",
      "author_id_(1)\n",
      "\n",
      "matching on variables:author_id_ statuses_count followers_count friends_count favourites_count listed_count followers_growth friends_growth favourites_growth listed_growth follower_friend_ratio\n",
      "\n",
      "CEM Subclasses: 0\n",
      "\n",
      "Sample sizes:\n",
      "           G0  G1\n",
      "All       179 303\n",
      "Matched   130 246\n",
      "Unmatched  49  57\n",
      "author_id_(2)\n",
      "\n",
      "matching on variables:author_id_ statuses_count followers_count friends_count favourites_count listed_count followers_growth friends_growth favourites_growth listed_growth follower_friend_ratio\n",
      "\n",
      "CEM Subclasses: 0\n",
      "\n",
      "Sample sizes:\n",
      "           G0  G1\n",
      "All       179 303\n",
      "Matched   130 244\n",
      "Unmatched  49  59\n",
      "author_id_(3)\n",
      "\n",
      "matching on variables:author_id_ statuses_count followers_count friends_count favourites_count listed_count followers_growth friends_growth favourites_growth listed_growth follower_friend_ratio\n",
      "\n",
      "CEM Subclasses: 0\n",
      "\n",
      "Sample sizes:\n",
      "           G0  G1\n",
      "All       179 303\n",
      "Matched   129 244\n",
      "Unmatched  50  59\n",
      "author_id_(4)\n",
      "  |=======                                                               |  10%\n",
      "matching on variables:author_id_ statuses_count followers_count friends_count favourites_count listed_count followers_growth friends_growth favourites_growth listed_growth follower_friend_ratio\n",
      "\n",
      "CEM Subclasses: 0\n",
      "\n",
      "Sample sizes:\n",
      "           G0  G1\n",
      "All       179 303\n",
      "Matched   129 242\n",
      "Unmatched  50  61\n",
      "statuses_count(1)\n",
      "\n",
      "matching on variables:author_id_ statuses_count followers_count friends_count favourites_count listed_count followers_growth friends_growth favourites_growth listed_growth follower_friend_ratio\n",
      "\n",
      "CEM Subclasses: 0\n",
      "\n",
      "Sample sizes:\n",
      "           G0  G1\n",
      "All       179 303\n",
      "Matched   129 242\n",
      "Unmatched  50  61\n",
      "statuses_count(2)\n",
      "  |==============                                                        |  20%\n",
      "matching on variables:author_id_ statuses_count followers_count friends_count favourites_count listed_count followers_growth friends_growth favourites_growth listed_growth follower_friend_ratio\n",
      "\n",
      "CEM Subclasses: 0\n",
      "\n",
      "Sample sizes:\n",
      "           G0  G1\n",
      "All       179 303\n",
      "Matched   129 242\n",
      "Unmatched  50  61\n",
      "followers_count(1)\n",
      "\n",
      "matching on variables:author_id_ statuses_count followers_count friends_count favourites_count listed_count followers_growth friends_growth favourites_growth listed_growth follower_friend_ratio\n",
      "\n",
      "CEM Subclasses: 0\n",
      "\n",
      "Sample sizes:\n",
      "           G0  G1\n",
      "All       179 303\n",
      "Matched   129 242\n",
      "Unmatched  50  61\n",
      "followers_count(2)\n",
      "\n",
      "matching on variables:author_id_ statuses_count followers_count friends_count favourites_count listed_count followers_growth friends_growth favourites_growth listed_growth follower_friend_ratio\n",
      "\n",
      "CEM Subclasses: 0\n",
      "\n",
      "Sample sizes:\n",
      "           G0  G1\n",
      "All       179 303\n",
      "Matched   129 242\n",
      "Unmatched  50  61\n",
      "followers_count(3)\n",
      "  |=====================                                                 |  30%\n",
      "matching on variables:author_id_ statuses_count followers_count friends_count favourites_count listed_count followers_growth friends_growth favourites_growth listed_growth follower_friend_ratio\n",
      "\n",
      "CEM Subclasses: 0\n",
      "\n",
      "Sample sizes:\n",
      "           G0  G1\n",
      "All       179 303\n",
      "Matched   138 251\n",
      "Unmatched  41  52\n",
      "friends_count(1)\n",
      "\n",
      "matching on variables:author_id_ statuses_count followers_count friends_count favourites_count listed_count followers_growth friends_growth favourites_growth listed_growth follower_friend_ratio\n",
      "\n",
      "CEM Subclasses: 0\n",
      "\n",
      "Sample sizes:\n",
      "           G0  G1\n",
      "All       179 303\n",
      "Matched   137 251\n",
      "Unmatched  42  52\n",
      "friends_count(2)\n",
      "\n",
      "matching on variables:author_id_ statuses_count followers_count friends_count favourites_count listed_count followers_growth friends_growth favourites_growth listed_growth follower_friend_ratio\n",
      "\n",
      "CEM Subclasses: 0\n",
      "\n",
      "Sample sizes:\n",
      "           G0  G1\n",
      "All       179 303\n",
      "Matched   135 248\n",
      "Unmatched  44  55\n",
      "friends_count(3)\n",
      "\n",
      "matching on variables:author_id_ statuses_count followers_count friends_count favourites_count listed_count followers_growth friends_growth favourites_growth listed_growth follower_friend_ratio\n",
      "\n",
      "CEM Subclasses: 0\n",
      "\n",
      "Sample sizes:\n",
      "           G0  G1\n",
      "All       179 303\n",
      "Matched   135 248\n",
      "Unmatched  44  55\n",
      "friends_count(4)\n",
      "\n",
      "matching on variables:author_id_ statuses_count followers_count friends_count favourites_count listed_count followers_growth friends_growth favourites_growth listed_growth follower_friend_ratio\n",
      "\n",
      "CEM Subclasses: 0\n",
      "\n",
      "Sample sizes:\n",
      "           G0  G1\n",
      "All       179 303\n",
      "Matched   136 251\n",
      "Unmatched  43  52\n",
      "friends_count(5)\n",
      "\n",
      "matching on variables:author_id_ statuses_count followers_count friends_count favourites_count listed_count followers_growth friends_growth favourites_growth listed_growth follower_friend_ratio\n",
      "\n",
      "CEM Subclasses: 0\n",
      "\n",
      "Sample sizes:\n",
      "           G0  G1\n",
      "All       179 303\n",
      "Matched   130 244\n",
      "Unmatched  49  59\n",
      "friends_count(6)\n",
      "\n",
      "matching on variables:author_id_ statuses_count followers_count friends_count favourites_count listed_count followers_growth friends_growth favourites_growth listed_growth follower_friend_ratio\n",
      "\n",
      "CEM Subclasses: 0\n",
      "\n",
      "Sample sizes:\n",
      "           G0  G1\n",
      "All       179 303\n",
      "Matched   130 244\n",
      "Unmatched  49  59\n",
      "friends_count(7)\n",
      "\n",
      "matching on variables:author_id_ statuses_count followers_count friends_count favourites_count listed_count followers_growth friends_growth favourites_growth listed_growth follower_friend_ratio\n",
      "\n",
      "CEM Subclasses: 0\n",
      "\n",
      "Sample sizes:\n",
      "           G0  G1\n",
      "All       179 303\n",
      "Matched   129 243\n",
      "Unmatched  50  60\n",
      "friends_count(8)\n",
      "  |============================                                          |  40%\n",
      "matching on variables:author_id_ statuses_count followers_count friends_count favourites_count listed_count followers_growth friends_growth favourites_growth listed_growth follower_friend_ratio\n",
      "\n",
      "CEM Subclasses: 0\n",
      "\n",
      "Sample sizes:\n",
      "           G0  G1\n",
      "All       179 303\n",
      "Matched   135 246\n",
      "Unmatched  44  57\n",
      "favourites_count(1)\n",
      "\n",
      "matching on variables:author_id_ statuses_count followers_count friends_count favourites_count listed_count followers_growth friends_growth favourites_growth listed_growth follower_friend_ratio\n",
      "\n",
      "CEM Subclasses: 0\n",
      "\n",
      "Sample sizes:\n",
      "           G0  G1\n",
      "All       179 303\n",
      "Matched   135 246\n",
      "Unmatched  44  57\n",
      "favourites_count(2)\n",
      "\n",
      "matching on variables:author_id_ statuses_count followers_count friends_count favourites_count listed_count followers_growth friends_growth favourites_growth listed_growth follower_friend_ratio\n",
      "\n",
      "CEM Subclasses: 0\n",
      "\n",
      "Sample sizes:\n",
      "           G0  G1\n",
      "All       179 303\n",
      "Matched   131 244\n",
      "Unmatched  48  59\n",
      "favourites_count(3)\n",
      "\n",
      "matching on variables:author_id_ statuses_count followers_count friends_count favourites_count listed_count followers_growth friends_growth favourites_growth listed_growth follower_friend_ratio\n",
      "\n",
      "CEM Subclasses: 0\n",
      "\n",
      "Sample sizes:\n",
      "           G0  G1\n",
      "All       179 303\n",
      "Matched   131 244\n",
      "Unmatched  48  59\n",
      "favourites_count(4)\n",
      "\n",
      "matching on variables:author_id_ statuses_count followers_count friends_count favourites_count listed_count followers_growth friends_growth favourites_growth listed_growth follower_friend_ratio\n",
      "\n",
      "CEM Subclasses: 0\n",
      "\n",
      "Sample sizes:\n",
      "           G0  G1\n",
      "All       179 303\n",
      "Matched   134 243\n",
      "Unmatched  45  60\n",
      "favourites_count(5)\n",
      "\n",
      "matching on variables:author_id_ statuses_count followers_count friends_count favourites_count listed_count followers_growth friends_growth favourites_growth listed_growth follower_friend_ratio\n",
      "\n",
      "CEM Subclasses: 0\n",
      "\n",
      "Sample sizes:\n",
      "           G0  G1\n",
      "All       179 303\n",
      "Matched   131 242\n",
      "Unmatched  48  61\n",
      "favourites_count(6)\n",
      "\n",
      "matching on variables:author_id_ statuses_count followers_count friends_count favourites_count listed_count followers_growth friends_growth favourites_growth listed_growth follower_friend_ratio\n",
      "\n",
      "CEM Subclasses: 0\n",
      "\n",
      "Sample sizes:\n",
      "           G0  G1\n",
      "All       179 303\n",
      "Matched   131 242\n",
      "Unmatched  48  61\n",
      "favourites_count(7)\n",
      "  |===================================                                   |  50%\n",
      "matching on variables:author_id_ statuses_count followers_count friends_count favourites_count listed_count followers_growth friends_growth favourites_growth listed_growth follower_friend_ratio\n",
      "\n",
      "CEM Subclasses: 0\n",
      "\n",
      "Sample sizes:\n",
      "           G0  G1\n",
      "All       179 303\n",
      "Matched   129 242\n",
      "Unmatched  50  61\n",
      "listed_count(1)\n",
      "\n",
      "matching on variables:author_id_ statuses_count followers_count friends_count favourites_count listed_count followers_growth friends_growth favourites_growth listed_growth follower_friend_ratio\n",
      "\n",
      "CEM Subclasses: 0\n",
      "\n",
      "Sample sizes:\n",
      "           G0  G1\n",
      "All       179 303\n",
      "Matched   129 242\n",
      "Unmatched  50  61\n",
      "listed_count(2)\n",
      "\n",
      "matching on variables:author_id_ statuses_count followers_count friends_count favourites_count listed_count followers_growth friends_growth favourites_growth listed_growth follower_friend_ratio\n",
      "\n",
      "CEM Subclasses: 0\n",
      "\n",
      "Sample sizes:\n",
      "           G0  G1\n",
      "All       179 303\n",
      "Matched   129 242\n",
      "Unmatched  50  61\n",
      "listed_count(3)\n",
      "\n",
      "matching on variables:author_id_ statuses_count followers_count friends_count favourites_count listed_count followers_growth friends_growth favourites_growth listed_growth follower_friend_ratio\n",
      "\n",
      "CEM Subclasses: 0\n",
      "\n",
      "Sample sizes:\n",
      "           G0  G1\n",
      "All       179 303\n",
      "Matched   129 242\n",
      "Unmatched  50  61\n",
      "listed_count(4)\n",
      "\n",
      "matching on variables:author_id_ statuses_count followers_count friends_count favourites_count listed_count followers_growth friends_growth favourites_growth listed_growth follower_friend_ratio\n",
      "\n",
      "CEM Subclasses: 0\n",
      "\n",
      "Sample sizes:\n",
      "           G0  G1\n",
      "All       179 303\n",
      "Matched   129 242\n",
      "Unmatched  50  61\n",
      "listed_count(5)\n",
      "  |==========================================                            |  60%\n",
      "matching on variables:author_id_ statuses_count followers_count friends_count favourites_count listed_count followers_growth friends_growth favourites_growth listed_growth follower_friend_ratio\n",
      "\n",
      "CEM Subclasses: 0\n",
      "\n",
      "Sample sizes:\n",
      "           G0  G1\n",
      "All       179 303\n",
      "Matched   129 242\n",
      "Unmatched  50  61\n",
      "followers_growth(1)\n",
      "\n",
      "matching on variables:author_id_ statuses_count followers_count friends_count favourites_count listed_count followers_growth friends_growth favourites_growth listed_growth follower_friend_ratio\n",
      "\n",
      "CEM Subclasses: 0\n",
      "\n",
      "Sample sizes:\n",
      "           G0  G1\n",
      "All       179 303\n",
      "Matched   129 242\n",
      "Unmatched  50  61\n",
      "followers_growth(2)\n",
      "\n",
      "matching on variables:author_id_ statuses_count followers_count friends_count favourites_count listed_count followers_growth friends_growth favourites_growth listed_growth follower_friend_ratio\n",
      "\n",
      "CEM Subclasses: 0\n",
      "\n",
      "Sample sizes:\n",
      "           G0  G1\n",
      "All       179 303\n",
      "Matched   129 242\n",
      "Unmatched  50  61\n",
      "followers_growth(3)\n",
      "\n",
      "matching on variables:author_id_ statuses_count followers_count friends_count favourites_count listed_count followers_growth friends_growth favourites_growth listed_growth follower_friend_ratio\n",
      "\n",
      "CEM Subclasses: 0\n",
      "\n",
      "Sample sizes:\n",
      "           G0  G1\n",
      "All       179 303\n",
      "Matched   129 242\n",
      "Unmatched  50  61\n",
      "followers_growth(4)\n",
      "  |=================================================                     |  70%\n",
      "matching on variables:author_id_ statuses_count followers_count friends_count favourites_count listed_count followers_growth friends_growth favourites_growth listed_growth follower_friend_ratio\n",
      "\n",
      "CEM Subclasses: 0\n",
      "\n",
      "Sample sizes:\n",
      "           G0  G1\n",
      "All       179 303\n",
      "Matched   136 271\n",
      "Unmatched  43  32\n",
      "friends_growth(1)\n",
      "\n",
      "matching on variables:author_id_ statuses_count followers_count friends_count favourites_count listed_count followers_growth friends_growth favourites_growth listed_growth follower_friend_ratio\n",
      "\n",
      "CEM Subclasses: 0\n",
      "\n",
      "Sample sizes:\n",
      "           G0  G1\n",
      "All       179 303\n",
      "Matched   136 269\n",
      "Unmatched  43  34\n",
      "friends_growth(2)\n",
      "\n",
      "matching on variables:author_id_ statuses_count followers_count friends_count favourites_count listed_count followers_growth friends_growth favourites_growth listed_growth follower_friend_ratio\n",
      "\n",
      "CEM Subclasses: 0\n",
      "\n",
      "Sample sizes:\n",
      "           G0  G1\n",
      "All       179 303\n",
      "Matched   132 263\n",
      "Unmatched  47  40\n",
      "friends_growth(3)\n",
      "\n",
      "matching on variables:author_id_ statuses_count followers_count friends_count favourites_count listed_count followers_growth friends_growth favourites_growth listed_growth follower_friend_ratio\n",
      "\n",
      "CEM Subclasses: 0\n",
      "\n",
      "Sample sizes:\n",
      "           G0  G1\n",
      "All       179 303\n",
      "Matched   130 262\n",
      "Unmatched  49  41\n",
      "friends_growth(4)\n",
      "\n",
      "matching on variables:author_id_ statuses_count followers_count friends_count favourites_count listed_count followers_growth friends_growth favourites_growth listed_growth follower_friend_ratio\n",
      "\n",
      "CEM Subclasses: 0\n",
      "\n",
      "Sample sizes:\n",
      "           G0  G1\n",
      "All       179 303\n",
      "Matched   136 267\n",
      "Unmatched  43  36\n",
      "friends_growth(5)\n",
      "\n",
      "matching on variables:author_id_ statuses_count followers_count friends_count favourites_count listed_count followers_growth friends_growth favourites_growth listed_growth follower_friend_ratio\n",
      "\n",
      "CEM Subclasses: 0\n",
      "\n",
      "Sample sizes:\n",
      "           G0  G1\n",
      "All       179 303\n",
      "Matched   130 260\n",
      "Unmatched  49  43\n",
      "friends_growth(6)\n",
      "\n",
      "matching on variables:author_id_ statuses_count followers_count friends_count favourites_count listed_count followers_growth friends_growth favourites_growth listed_growth follower_friend_ratio\n",
      "\n",
      "CEM Subclasses: 0\n",
      "\n",
      "Sample sizes:\n",
      "           G0  G1\n",
      "All       179 303\n",
      "Matched   130 260\n",
      "Unmatched  49  43\n",
      "friends_growth(7)\n",
      "\n",
      "matching on variables:author_id_ statuses_count followers_count friends_count favourites_count listed_count followers_growth friends_growth favourites_growth listed_growth follower_friend_ratio\n",
      "\n",
      "CEM Subclasses: 0\n",
      "\n",
      "Sample sizes:\n",
      "           G0  G1\n",
      "All       179 303\n",
      "Matched   130 260\n",
      "Unmatched  49  43\n",
      "friends_growth(8)\n",
      "  |========================================================              |  80%\n",
      "matching on variables:author_id_ statuses_count followers_count friends_count favourites_count listed_count followers_growth friends_growth favourites_growth listed_growth follower_friend_ratio\n",
      "\n",
      "CEM Subclasses: 0\n",
      "\n",
      "Sample sizes:\n",
      "           G0  G1\n",
      "All       179 303\n",
      "Matched   131 253\n",
      "Unmatched  48  50\n",
      "favourites_growth(1)\n",
      "\n",
      "matching on variables:author_id_ statuses_count followers_count friends_count favourites_count listed_count followers_growth friends_growth favourites_growth listed_growth follower_friend_ratio\n",
      "\n",
      "CEM Subclasses: 0\n",
      "\n",
      "Sample sizes:\n",
      "           G0  G1\n",
      "All       179 303\n",
      "Matched   131 253\n",
      "Unmatched  48  50\n",
      "favourites_growth(2)\n",
      "\n",
      "matching on variables:author_id_ statuses_count followers_count friends_count favourites_count listed_count followers_growth friends_growth favourites_growth listed_growth follower_friend_ratio\n",
      "\n",
      "CEM Subclasses: 0\n",
      "\n",
      "Sample sizes:\n",
      "           G0  G1\n",
      "All       179 303\n",
      "Matched   131 253\n",
      "Unmatched  48  50\n",
      "favourites_growth(3)\n",
      "\n",
      "matching on variables:author_id_ statuses_count followers_count friends_count favourites_count listed_count followers_growth friends_growth favourites_growth listed_growth follower_friend_ratio\n",
      "\n",
      "CEM Subclasses: 0\n",
      "\n",
      "Sample sizes:\n",
      "           G0  G1\n",
      "All       179 303\n",
      "Matched   131 253\n",
      "Unmatched  48  50\n",
      "favourites_growth(4)\n",
      "\n",
      "matching on variables:author_id_ statuses_count followers_count friends_count favourites_count listed_count followers_growth friends_growth favourites_growth listed_growth follower_friend_ratio\n",
      "\n",
      "CEM Subclasses: 0\n",
      "\n",
      "Sample sizes:\n",
      "           G0  G1\n",
      "All       179 303\n",
      "Matched   131 250\n",
      "Unmatched  48  53\n",
      "favourites_growth(5)\n",
      "\n",
      "matching on variables:author_id_ statuses_count followers_count friends_count favourites_count listed_count followers_growth friends_growth favourites_growth listed_growth follower_friend_ratio\n",
      "\n",
      "CEM Subclasses: 0\n",
      "\n",
      "Sample sizes:\n",
      "           G0  G1\n",
      "All       179 303\n",
      "Matched   131 250\n",
      "Unmatched  48  53\n",
      "favourites_growth(6)\n",
      "\n",
      "matching on variables:author_id_ statuses_count followers_count friends_count favourites_count listed_count followers_growth friends_growth favourites_growth listed_growth follower_friend_ratio\n",
      "\n",
      "CEM Subclasses: 0\n",
      "\n",
      "Sample sizes:\n",
      "           G0  G1\n",
      "All       179 303\n",
      "Matched   131 250\n",
      "Unmatched  48  53\n",
      "favourites_growth(7)\n",
      "  |===============================================================       |  90%\n",
      "matching on variables:author_id_ statuses_count followers_count friends_count favourites_count listed_count followers_growth friends_growth favourites_growth listed_growth follower_friend_ratio\n",
      "\n",
      "CEM Subclasses: 0\n",
      "\n",
      "Sample sizes:\n",
      "           G0  G1\n",
      "All       179 303\n",
      "Matched   129 242\n",
      "Unmatched  50  61\n",
      "listed_growth(1)\n",
      "\n",
      "matching on variables:author_id_ statuses_count followers_count friends_count favourites_count listed_count followers_growth friends_growth favourites_growth listed_growth follower_friend_ratio\n",
      "\n",
      "CEM Subclasses: 0\n",
      "\n",
      "Sample sizes:\n",
      "           G0  G1\n",
      "All       179 303\n",
      "Matched   129 242\n",
      "Unmatched  50  61\n",
      "listed_growth(2)\n",
      "\n",
      "matching on variables:author_id_ statuses_count followers_count friends_count favourites_count listed_count followers_growth friends_growth favourites_growth listed_growth follower_friend_ratio\n",
      "\n",
      "CEM Subclasses: 0\n",
      "\n",
      "Sample sizes:\n",
      "           G0  G1\n",
      "All       179 303\n",
      "Matched   129 242\n",
      "Unmatched  50  61\n",
      "listed_growth(3)\n",
      "\n",
      "matching on variables:author_id_ statuses_count followers_count friends_count favourites_count listed_count followers_growth friends_growth favourites_growth listed_growth follower_friend_ratio\n",
      "\n",
      "CEM Subclasses: 0\n",
      "\n",
      "Sample sizes:\n",
      "           G0  G1\n",
      "All       179 303\n",
      "Matched   129 242\n",
      "Unmatched  50  61\n",
      "listed_growth(4)\n",
      "\n",
      "matching on variables:author_id_ statuses_count followers_count friends_count favourites_count listed_count followers_growth friends_growth favourites_growth listed_growth follower_friend_ratio\n",
      "\n",
      "CEM Subclasses: 0\n",
      "\n",
      "Sample sizes:\n",
      "           G0  G1\n",
      "All       179 303\n",
      "Matched   129 242\n",
      "Unmatched  50  61\n",
      "listed_growth(5)\n",
      "\n",
      "matching on variables:author_id_ statuses_count followers_count friends_count favourites_count listed_count followers_growth friends_growth favourites_growth listed_growth follower_friend_ratio\n",
      "\n",
      "CEM Subclasses: 0\n",
      "\n",
      "Sample sizes:\n",
      "           G0  G1\n",
      "All       179 303\n",
      "Matched   129 242\n",
      "Unmatched  50  61\n",
      "listed_growth(6)\n",
      "  |======================================================================| 100%\n",
      "matching on variables:author_id_ statuses_count followers_count friends_count favourites_count listed_count followers_growth friends_growth favourites_growth listed_growth follower_friend_ratio\n",
      "\n",
      "CEM Subclasses: 0\n",
      "\n",
      "Sample sizes:\n",
      "           G0  G1\n",
      "All       179 303\n",
      "Matched   129 243\n",
      "Unmatched  50  60\n",
      "follower_friend_ratio(1)\n",
      "\n",
      "matching on variables:author_id_ statuses_count followers_count friends_count favourites_count listed_count followers_growth friends_growth favourites_growth listed_growth follower_friend_ratio\n",
      "\n",
      "CEM Subclasses: 0\n",
      "\n",
      "Sample sizes:\n",
      "           G0  G1\n",
      "All       179 303\n",
      "Matched   129 243\n",
      "Unmatched  50  60\n",
      "follower_friend_ratio(2)\n",
      "\n",
      "matching on variables:author_id_ statuses_count followers_count friends_count favourites_count listed_count followers_growth friends_growth favourites_growth listed_growth follower_friend_ratio\n",
      "\n",
      "CEM Subclasses: 0\n",
      "\n",
      "Sample sizes:\n",
      "           G0  G1\n",
      "All       179 303\n",
      "Matched   129 242\n",
      "Unmatched  50  61\n",
      "follower_friend_ratio(3)\n",
      "\n"
     ]
    },
    {
     "data": {
      "image/png": "[encoded data removed]",
      "text/plain": [
       "Plot with title “Pre-relax: 242 matched (79.9 %)”"
      ]
     },
     "metadata": {
      "image/png": {
       "height": 420,
       "width": 420
      }
     },
     "output_type": "display_data"
    }
   ],
   "source": [
    "tab <- relax.cem(cem_match, df, depth=1, perc=0.3)"
   ]
  },
  {
   "cell_type": "code",
   "execution_count": null,
   "id": "c7ce0550-9a4b-4293-9b57-df66d6f6317f",
   "metadata": {},
   "outputs": [],
   "source": []
  }
 ],
 "metadata": {
  "kernelspec": {
   "display_name": "R",
   "language": "R",
   "name": "ir"
  },
  "language_info": {
   "codemirror_mode": "r",
   "file_extension": ".r",
   "mimetype": "text/x-r-source",
   "name": "R",
   "pygments_lexer": "r",
   "version": "4.3.3"
  }
 },
 "nbformat": 4,
 "nbformat_minor": 5
}
