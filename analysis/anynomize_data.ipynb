{
 "cells": [
  {
   "cell_type": "code",
   "execution_count": 1,
   "id": "c9e74381-5d45-4338-9894-19256b650b67",
   "metadata": {},
   "outputs": [],
   "source": [
    "import pandas as pd\n",
    "import numpy as np"
   ]
  },
  {
   "cell_type": "code",
   "execution_count": 2,
   "id": "1438e500-92b1-42fc-ab09-23c6b9f6a0f6",
   "metadata": {},
   "outputs": [],
   "source": [
    "import os"
   ]
  },
  {
   "cell_type": "code",
   "execution_count": 3,
   "id": "928e128d-d83d-4b84-854a-ce23a2b09511",
   "metadata": {},
   "outputs": [
    {
     "data": {
      "text/plain": [
       "'/home/lindali/Dropbox/bot and agenda-setting/GITHUB_PUBLIC_VERSION'"
      ]
     },
     "execution_count": 3,
     "metadata": {},
     "output_type": "execute_result"
    }
   ],
   "source": [
    "pwd"
   ]
  },
  {
   "cell_type": "code",
   "execution_count": 4,
   "id": "a8c93408-e1f1-48dc-874b-907c8a5bbdc2",
   "metadata": {},
   "outputs": [],
   "source": [
    "def anonymize_columns(file_name, cols_to_factorize):\n",
    "    # Load the data\n",
    "    df = pd.read_csv(file_name)\n",
    "\n",
    "    # Create a combined unique value series from all columns to factorize\n",
    "    combined_series = pd.concat([df[col] for col in cols_to_factorize if col in df.columns])\n",
    "    \n",
    "    # Create a mapping for unique values\n",
    "    unique_values = {value: idx for idx, value in enumerate(combined_series.unique())}\n",
    "\n",
    "    # Anonymize each specified column using the same mapping\n",
    "    for col in cols_to_factorize:\n",
    "        if col in df.columns:  # Check if the column exists\n",
    "            df[col] = df[col].map(unique_values)\n",
    "\n",
    "    # Save the anonymized data back to the same file\n",
    "    df.to_csv(file_name, index=False)"
   ]
  },
  {
   "cell_type": "code",
   "execution_count": 5,
   "id": "1d6f31e6-fef5-477d-8751-d6791c0420de",
   "metadata": {},
   "outputs": [],
   "source": [
    "anonymize_columns(\"../data/regression_data/bot_daily_data_to_model.csv\", [\"combined_id_vec2\", \"author_id_\"])"
   ]
  },
  {
   "cell_type": "code",
   "execution_count": 6,
   "id": "78aff909-9eb7-435d-b80b-1cf0e3f554a8",
   "metadata": {},
   "outputs": [],
   "source": [
    "anonymize_columns(\"../data/regression_data/BOTOMETER_table_for_reg_with_ctrls_0.5.csv\", [\"author_id_\"])"
   ]
  },
  {
   "cell_type": "code",
   "execution_count": 7,
   "id": "0a1fc6a0-ddb1-4846-924c-3b3476ae6a9e",
   "metadata": {},
   "outputs": [],
   "source": [
    "anonymize_columns(\"../data/regression_data/bot_days_data_with_opinion_filled_0308.csv\", [\"combined_id_vec2\", \"author_id_\"])"
   ]
  },
  {
   "cell_type": "code",
   "execution_count": 8,
   "id": "cc2bb05c-32d3-49fd-8e7f-f8ddfe83e509",
   "metadata": {},
   "outputs": [],
   "source": [
    "anonymize_columns(\"../data/regression_data/bot_days_data_02_23_2024.csv\", [\"combined_id_vec2\", \"author_id_\"])"
   ]
  },
  {
   "cell_type": "code",
   "execution_count": null,
   "id": "0539a8cb-5959-4276-8d77-a1cebc5b5395",
   "metadata": {},
   "outputs": [],
   "source": []
  },
  {
   "cell_type": "code",
   "execution_count": null,
   "id": "a7b4578a-0ab0-4eaa-904c-a5e540c496bd",
   "metadata": {},
   "outputs": [],
   "source": []
  }
 ],
 "metadata": {
  "kernelspec": {
   "display_name": "Python 3",
   "language": "python",
   "name": "python3"
  },
  "language_info": {
   "codemirror_mode": {
    "name": "ipython",
    "version": 3
   },
   "file_extension": ".py",
   "mimetype": "text/x-python",
   "name": "python",
   "nbconvert_exporter": "python",
   "pygments_lexer": "ipython3",
   "version": "3.9.13"
  }
 },
 "nbformat": 4,
 "nbformat_minor": 5
}
